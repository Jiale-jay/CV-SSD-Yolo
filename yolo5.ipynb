<!DOCTYPE html>
<!-- saved from url=(0104)https://colab.research.google.com/drive/16cmchF10eSc34juGi18cGa0pqELLU3Qd?hl=zh-cn#scrollTo=QQDl0jmjzhkH -->
<html lang="zh" theme="adaptive" editor="Default Light"><head><meta http-equiv="Content-Type" content="text/html; charset=UTF-8"><meta http-equiv="origin-trial" content="A/kargTFyk8MR5ueravczef/wIlTkbVk1qXQesp39nV+xNECPdLBVeYffxrM8TmZT6RArWGQVCJ0LRivD7glcAUAAACQeyJvcmlnaW4iOiJodHRwczovL2dvb2dsZS5jb206NDQzIiwiZmVhdHVyZSI6IkRpc2FibGVUaGlyZFBhcnR5U3RvcmFnZVBhcnRpdGlvbmluZzIiLCJleHBpcnkiOjE3NDIzNDIzOTksImlzU3ViZG9tYWluIjp0cnVlLCJpc1RoaXJkUGFydHkiOnRydWV9"><meta http-equiv="origin-trial" content="A/kargTFyk8MR5ueravczef/wIlTkbVk1qXQesp39nV+xNECPdLBVeYffxrM8TmZT6RArWGQVCJ0LRivD7glcAUAAACQeyJvcmlnaW4iOiJodHRwczovL2dvb2dsZS5jb206NDQzIiwiZmVhdHVyZSI6IkRpc2FibGVUaGlyZFBhcnR5U3RvcmFnZVBhcnRpdGlvbmluZzIiLCJleHBpcnkiOjE3NDIzNDIzOTksImlzU3ViZG9tYWluIjp0cnVlLCJpc1RoaXJkUGFydHkiOnRydWV9"><script type="text/javascript" async="" charset="utf-8" src="./yolo5.ipynb - Colab_files/recaptcha__zh_cn.js" crossorigin="anonymous" integrity="sha384-HJEjfJim2o2FcIIZrsCd8OdxrJa2Zpz/zqDYKddKzZFiXv5ONn3msH42oZnuobBq" nonce=""></script><script type="text/javascript" async="" charset="utf-8" src="./yolo5.ipynb - Colab_files/recaptcha__zh_cn(1).js" crossorigin="anonymous" integrity="sha384-411PTXEgL5/au03p8Y+yhnL4dj07G5Ss260yXdtyKKLzBQN1edVQZaYNLQCWYNFM" nonce=""></script><script src="./yolo5.ipynb - Colab_files/cb=gapi.loaded_1" nonce="" async=""></script><script src="./yolo5.ipynb - Colab_files/cb=gapi.loaded_0" nonce="" async=""></script><script type="text/javascript" async="" src="./yolo5.ipynb - Colab_files/js" nonce=""></script><script async="" src="./yolo5.ipynb - Colab_files/analytics.js"></script><script nonce="">
      document.addEventListener('keydown', (e) => {
        // Stop propagation on ESC because otherwise it will halt outbound XHRs
        // See b/131755324 for more info.
        if (e.key === 'Escape') {
          e.stopPropagation();
          e.preventDefault();
        }
      });
    </script><meta name="referrer" content="origin"><meta name="viewport" content="width=device-width, initial-scale=1"><title>yolo5.ipynb - Colab</title><link href="./yolo5.ipynb - Colab_files/css2" rel="stylesheet"><link href="./yolo5.ipynb - Colab_files/css" rel="stylesheet"><link rel="search" type="application/opensearchdescription+xml" href="https://colab.research.google.com/opensearch.xml" title="Google Colab"><style>.gb_9a:not(.gb_bd){font:13px/27px Roboto,Arial,sans-serif;z-index:986}@-webkit-keyframes gb__a{0%{opacity:0}50%{opacity:1}}@keyframes gb__a{0%{opacity:0}50%{opacity:1}}.gb_Fd{display:inline-block;padding:4px 4px 4px 4px;vertical-align:middle}.gb_Id .gb_r{bottom:-3px;right:-5px}.gb_Fd:first-child,#gbsfw:first-child+.gb_Fd{padding-left:0}.gb_f{position:relative}.gb_d{display:inline-block;outline:none;vertical-align:middle;border-radius:2px;box-sizing:border-box;height:40px;width:40px;cursor:pointer;text-decoration:none}#gb#gb a.gb_d{cursor:pointer;text-decoration:none}.gb_d,a.gb_d{color:#000}.gb_4e{border-color:transparent;border-bottom-color:#fff;border-style:dashed dashed solid;border-width:0 8.5px 8.5px;display:none;position:absolute;left:11.5px;top:33px;z-index:1;height:0;width:0;-webkit-animation:gb__a .2s;animation:gb__a .2s}.gb_5e{border-color:transparent;border-style:dashed dashed solid;border-width:0 8.5px 8.5px;display:none;position:absolute;left:11.5px;z-index:1;height:0;width:0;-webkit-animation:gb__a .2s;animation:gb__a .2s;border-bottom-color:rgba(0,0,0,.2);top:32px}x:-o-prefocus,div.gb_5e{border-bottom-color:#ccc}.gb_W{background:#fff;border:1px solid #ccc;border-color:rgba(0,0,0,.2);color:#000;-webkit-box-shadow:0 2px 10px rgba(0,0,0,.2);box-shadow:0 2px 10px rgba(0,0,0,.2);display:none;outline:none;overflow:hidden;position:absolute;right:8px;top:62px;-webkit-animation:gb__a .2s;animation:gb__a .2s;border-radius:2px;-webkit-user-select:text}.gb_Fd.gb_Ea .gb_4e,.gb_Fd.gb_Ea .gb_5e,.gb_Fd.gb_Ea .gb_W,.gb_Ea.gb_W{display:block}.gb_Fd.gb_Ea.gb_6e .gb_4e,.gb_Fd.gb_Ea.gb_6e .gb_5e{display:none}.gb_Jd{position:absolute;right:8px;top:62px;z-index:-1}.gb_0a .gb_4e,.gb_0a .gb_5e,.gb_0a .gb_W{margin-top:-10px}a.gb_ra{border:none;color:#4285f4;cursor:default;font-weight:bold;outline:none;position:relative;text-align:center;text-decoration:none;text-transform:uppercase;white-space:nowrap;-webkit-user-select:none}a.gb_ra:hover:after,a.gb_ra:focus:after{background-color:rgba(0,0,0,.12);content:"";height:100%;left:0;position:absolute;top:0;width:100%}a.gb_ra:hover,a.gb_ra:focus{text-decoration:none}a.gb_ra:active{background-color:rgba(153,153,153,.4);text-decoration:none}a.gb_sa{background-color:#4285f4;color:#fff}a.gb_sa:active{background-color:#0043b2}.gb_ta{box-shadow:0 1px 1px rgba(0,0,0,.16)}.gb_ra,.gb_sa,.gb_ua,.gb_va{display:inline-block;line-height:28px;padding:0 12px;border-radius:2px}.gb_ua{background:#f8f8f8;border:1px solid #c6c6c6}.gb_va{background:#f8f8f8}.gb_ua,#gb a.gb_ua.gb_ua,.gb_va{color:#666;cursor:default;text-decoration:none}#gb a.gb_va{cursor:default;text-decoration:none}.gb_va{border:1px solid #4285f4;font-weight:bold;outline:none;background:#4285f4;background:-webkit-gradient(linear,left top,left bottom,from(top),color-stop(#4387fd),to(#4683ea));background:-webkit-linear-gradient(top,#4387fd,#4683ea);background:linear-gradient(top,#4387fd,#4683ea);filter:progid:DXImageTransform.Microsoft.gradient(startColorstr=#4387fd,endColorstr=#4683ea,GradientType=0)}#gb a.gb_va{color:#fff}.gb_va:hover{box-shadow:0 1px 0 rgba(0,0,0,.15)}.gb_va:active{box-shadow:inset 0 2px 0 rgba(0,0,0,.15);background:#3c78dc;background:-webkit-gradient(linear,left top,left bottom,from(top),color-stop(#3c7ae4),to(#3f76d3));background:-webkit-linear-gradient(top,#3c7ae4,#3f76d3);background:linear-gradient(top,#3c7ae4,#3f76d3);filter:progid:DXImageTransform.Microsoft.gradient(startColorstr=#3c7ae4,endColorstr=#3f76d3,GradientType=0)}#gb .gb_wa{background:#fff;border:1px solid #dadce0;color:#1a73e8;display:inline-block;text-decoration:none}#gb .gb_wa:hover{background:#f8fbff;border-color:#dadce0;color:#174ea6}#gb .gb_wa:focus{background:#f4f8ff;color:#174ea6;outline:1px solid #174ea6}#gb .gb_wa:active,#gb .gb_wa:focus:active{background:#ecf3fe;color:#174ea6}#gb .gb_wa.gb_i{background:transparent;border:1px solid #5f6368;color:#8ab4f8;text-decoration:none}#gb .gb_wa.gb_i:hover{background:rgba(255,255,255,.04);color:#e8eaed}#gb .gb_wa.gb_i:focus{background:rgba(232,234,237,.12);color:#e8eaed;outline:1px solid #e8eaed}#gb .gb_wa.gb_i:active,#gb .gb_wa.gb_i:focus:active{background:rgba(232,234,237,.1);color:#e8eaed}.gb_Fd:first-child,#gbsfw:first-child+.gb_Fd{padding-left:4px}.gb_ha.gb_Kd .gb_Fd:first-child{padding-left:0}.gb_Ld{position:relative}.gb_Xc .gb_Ld,.gb_dd .gb_Ld{float:right}.gb_d{padding:8px;cursor:pointer}.gb_d:after{content:"";position:absolute;top:-4px;bottom:-4px;left:-4px;right:-4px}.gb_ha .gb_9d:not(.gb_ra):focus img{background-color:rgba(0,0,0,.2);outline:none;-webkit-border-radius:50%;border-radius:50%}.gb_Md button svg,.gb_d{-webkit-border-radius:50%;border-radius:50%}.gb_Md button:focus:not(:focus-visible) svg,.gb_Md button:hover svg,.gb_Md button:active svg,.gb_d:focus:not(:focus-visible),.gb_d:hover,.gb_d:active,.gb_d[aria-expanded=true]{outline:none}.gb_Hc .gb_Md.gb_ie button:focus-visible svg,.gb_Md button:focus-visible svg,.gb_d:focus-visible{outline:1px solid #202124}.gb_Hc .gb_Md button:focus-visible svg,.gb_Hc .gb_d:focus-visible{outline:1px solid #f1f3f4}@media (forced-colors:active){.gb_Hc .gb_Md.gb_ie button:focus-visible svg,.gb_Md button:focus-visible svg,.gb_Hc .gb_Md button:focus-visible svg{outline:1px solid currentcolor}}.gb_Hc .gb_Md.gb_ie button:focus svg,.gb_Hc .gb_Md.gb_ie button:focus:hover svg,.gb_Md button:focus svg,.gb_Md button:focus:hover svg,.gb_d:focus,.gb_d:focus:hover{background-color:rgba(60,64,67,.1)}.gb_Hc .gb_Md.gb_ie button:active svg,.gb_Md button:active svg,.gb_d:active{background-color:rgba(60,64,67,.12)}.gb_Hc .gb_Md.gb_ie button:hover svg,.gb_Md button:hover svg,.gb_d:hover{background-color:rgba(60,64,67,.08)}.gb_xa .gb_d.gb_za:hover{background-color:transparent}.gb_d[aria-expanded=true],.gb_d:hover[aria-expanded=true]{background-color:rgba(95,99,104,.24)}.gb_d[aria-expanded=true] .gb_h{fill:#5f6368;opacity:1}.gb_Hc .gb_Md button:hover svg,.gb_Hc .gb_d:hover{background-color:rgba(232,234,237,.08)}.gb_Hc .gb_Md button:focus svg,.gb_Hc .gb_Md button:focus:hover svg,.gb_Hc .gb_d:focus,.gb_Hc .gb_d:focus:hover{background-color:rgba(232,234,237,.1)}.gb_Hc .gb_Md button:active svg,.gb_Hc .gb_d:active{background-color:rgba(232,234,237,.12)}.gb_Hc .gb_d[aria-expanded=true],.gb_Hc .gb_d:hover[aria-expanded=true]{background-color:rgba(255,255,255,.12)}.gb_Hc .gb_d[aria-expanded=true] .gb_h{fill:#fff;opacity:1}.gb_Fd{padding:4px}.gb_ha.gb_Kd .gb_Fd{padding:4px 2px}.gb_ha.gb_Kd .gb_b.gb_Fd{padding-left:6px}.gb_W{z-index:991;line-height:normal}.gb_W.gb_Nd{left:0;right:auto}@media (max-width:350px){.gb_W.gb_Nd{left:0}}.gb_Od .gb_W{top:56px}.gb_m{display:none!important}.gb_Ta{visibility:hidden}.gb_k .gb_d,.gb_V .gb_k .gb_d{background-position:-64px -29px}.gb_B .gb_k .gb_d{background-position:-29px -29px;opacity:1}.gb_k .gb_d,.gb_k .gb_d:hover,.gb_k .gb_d:focus{opacity:1}.gb_n{display:none}@media screen and (max-width:319px){.gb_jd:not(.gb_pd) .gb_k{display:none;visibility:hidden}}.gb_r{display:none}.gb_6c{font-family:Google Sans,Roboto,Helvetica,Arial,sans-serif;font-size:20px;font-weight:400;letter-spacing:0.25px;line-height:48px;margin-bottom:2px;opacity:1;overflow:hidden;padding-left:16px;position:relative;text-overflow:ellipsis;vertical-align:middle;top:2px;white-space:nowrap;-webkit-flex:1 1 auto;-webkit-box-flex:1;flex:1 1 auto}.gb_6c.gb_7c{color:#3c4043}.gb_ha.gb_Ja .gb_6c{margin-bottom:0}.gb_8c.gb_9c .gb_6c{padding-left:4px}.gb_ha.gb_Ja .gb_ad{position:relative;top:-2px}.gb_ha{color:black;min-width:160px;position:relative;-webkit-transition:box-shadow 250ms;transition:box-shadow 250ms}.gb_ha.gb_Pc{min-width:120px}.gb_ha.gb_hd .gb_id{display:none}.gb_ha.gb_hd .gb_jd{height:56px}header.gb_ha{display:block}.gb_ha svg{fill:currentColor}.gb_kd{position:fixed;top:0;width:100%}.gb_ld{-webkit-box-shadow:0 4px 5px 0 rgba(0,0,0,.14),0 1px 10px 0 rgba(0,0,0,.12),0 2px 4px -1px rgba(0,0,0,.2);box-shadow:0 4px 5px 0 rgba(0,0,0,.14),0 1px 10px 0 rgba(0,0,0,.12),0 2px 4px -1px rgba(0,0,0,.2)}.gb_md{height:64px}.gb_jd{-webkit-box-sizing:border-box;box-sizing:border-box;position:relative;width:100%;display:-webkit-box;display:-webkit-flex;display:flex;-webkit-box-pack:space-between;-webkit-justify-content:space-between;justify-content:space-between;min-width:-webkit-min-content;min-width:min-content}.gb_ha:not(.gb_Ja) .gb_jd{padding:8px}.gb_ha.gb_od .gb_jd{-webkit-flex:1 0 auto;-webkit-box-flex:1;flex:1 0 auto}.gb_ha .gb_jd.gb_pd.gb_qd{min-width:0}.gb_ha.gb_Ja .gb_jd{padding:4px;padding-left:8px;min-width:0}.gb_id{height:48px;vertical-align:middle;white-space:nowrap;-webkit-box-align:center;-webkit-align-items:center;align-items:center;display:-webkit-box;display:-webkit-flex;display:flex;-webkit-user-select:none}.gb_sd>.gb_id{display:table-cell;width:100%}.gb_8c{padding-right:30px;box-sizing:border-box;-webkit-flex:1 0 auto;-webkit-box-flex:1;flex:1 0 auto}.gb_ha.gb_Ja .gb_8c{padding-right:14px}.gb_td{-webkit-flex:1 1 100%;-webkit-box-flex:1;flex:1 1 100%}.gb_td>:only-child{display:inline-block}.gb_ud.gb_Zc{padding-left:4px}.gb_ud.gb_vd,.gb_ha.gb_od .gb_ud,.gb_ha.gb_Ja:not(.gb_dd) .gb_ud{padding-left:0}.gb_ha.gb_Ja .gb_ud.gb_vd{padding-right:0}.gb_ha.gb_Ja .gb_ud.gb_vd .gb_xa{margin-left:10px}.gb_Zc{display:inline}.gb_ha.gb_Sc .gb_ud.gb_wd,.gb_ha.gb_dd .gb_ud.gb_wd{padding-left:2px}.gb_6c{display:inline-block}.gb_ud{-webkit-box-sizing:border-box;box-sizing:border-box;height:48px;line-height:normal;padding:0 4px;padding-left:30px;-webkit-flex:0 0 auto;-webkit-box-flex:0;flex:0 0 auto;-webkit-box-pack:flex-end;-webkit-justify-content:flex-end;justify-content:flex-end}.gb_dd{height:48px}.gb_ha.gb_dd{min-width:auto}.gb_dd .gb_ud{float:right;padding-left:32px}.gb_dd .gb_ud.gb_xd{padding-left:0}.gb_yd{font-size:14px;max-width:200px;overflow:hidden;padding:0 12px;text-overflow:ellipsis;white-space:nowrap;-webkit-user-select:text}.gb_cd{-webkit-transition:background-color .4s;-webkit-transition:background-color .4s;transition:background-color .4s}.gb_Dd{color:black}.gb_Hc{color:white}.gb_ha a,.gb_Mc a{color:inherit}.gb_M{color:rgba(0,0,0,.87)}.gb_ha svg,.gb_Mc svg,.gb_8c .gb_gd,.gb_Xc .gb_gd{color:#5f6368;opacity:1}.gb_Hc svg,.gb_Mc.gb_Qc svg,.gb_Hc .gb_8c .gb_gd,.gb_Hc .gb_8c .gb_Fc,.gb_Hc .gb_8c .gb_ad,.gb_Mc.gb_Qc .gb_gd{color:rgba(255,255,255,.87)}.gb_Hc .gb_8c .gb_Ec:not(.gb_Ed){opacity:.87}.gb_7c{color:inherit;opacity:1;text-rendering:optimizeLegibility;-webkit-font-smoothing:antialiased}.gb_Hc .gb_7c,.gb_Dd .gb_7c{opacity:1}.gb_zd{position:relative}.gb_o{font-family:arial,sans-serif;line-height:normal;padding-right:15px}a.gb_y,span.gb_y{color:rgba(0,0,0,.87);text-decoration:none}.gb_Hc a.gb_y,.gb_Hc span.gb_y{color:white}a.gb_y:focus{outline-offset:2px}a.gb_y:hover{text-decoration:underline}.gb_z{display:inline-block;padding-left:15px}.gb_z .gb_y{display:inline-block;line-height:24px;vertical-align:middle}.gb_ed{font-family:Google Sans,Roboto,Helvetica,Arial,sans-serif;font-weight:500;font-size:14px;letter-spacing:.25px;line-height:16px;margin-left:10px;margin-right:8px;min-width:96px;padding:9px 23px;text-align:center;vertical-align:middle;border-radius:4px;box-sizing:border-box}.gb_ha.gb_dd .gb_ed{margin-left:8px}#gb a.gb_va.gb_ed{cursor:pointer}.gb_va.gb_ed:hover{background:#1b66c9;-webkit-box-shadow:0 1px 3px 1px rgba(66,64,67,.15),0 1px 2px 0 rgba(60,64,67,.3);box-shadow:0 1px 3px 1px rgba(66,64,67,.15),0 1px 2px 0 rgba(60,64,67,.3)}.gb_va.gb_ed:focus,.gb_va.gb_ed:hover:focus{background:#1c5fba;-webkit-box-shadow:0 1px 3px 1px rgba(66,64,67,.15),0 1px 2px 0 rgba(60,64,67,.3);box-shadow:0 1px 3px 1px rgba(66,64,67,.15),0 1px 2px 0 rgba(60,64,67,.3)}.gb_va.gb_ed:active{background:#1b63c1;-webkit-box-shadow:0 1px 3px 1px rgba(66,64,67,.15),0 1px 2px 0 rgba(60,64,67,.3);box-shadow:0 1px 3px 1px rgba(66,64,67,.15),0 1px 2px 0 rgba(60,64,67,.3)}.gb_ed{background:#1a73e8;border:1px solid transparent}.gb_ha.gb_Ja .gb_ed{padding:9px 15px;min-width:80px}.gb_Ad{text-align:left}#gb .gb_Hc a.gb_ed:not(.gb_i),#gb.gb_Hc a.gb_ed{background:#fff;border-color:#dadce0;-webkit-box-shadow:none;box-shadow:none;color:#1a73e8}#gb a.gb_va.gb_i.gb_ed{background:#8ab4f8;border:1px solid transparent;-webkit-box-shadow:none;box-shadow:none;color:#202124}#gb .gb_Hc a.gb_ed:hover:not(.gb_i),#gb.gb_Hc a.gb_ed:hover{background:#f8fbff;border-color:#cce0fc}#gb a.gb_va.gb_i.gb_ed:hover{background:#93baf9;border-color:transparent;-webkit-box-shadow:0 1px 3px 1px rgba(0,0,0,.15),0 1px 2px rgba(0,0,0,.3);box-shadow:0 1px 3px 1px rgba(0,0,0,.15),0 1px 2px rgba(0,0,0,.3)}#gb .gb_Hc a.gb_ed:focus:not(.gb_i),#gb .gb_Hc a.gb_ed:focus:hover:not(.gb_i),#gb.gb_Hc a.gb_ed:focus:not(.gb_i),#gb.gb_Hc a.gb_ed:focus:hover:not(.gb_i){background:#f4f8ff;outline:1px solid #c9ddfc}#gb a.gb_va.gb_i.gb_ed:focus,#gb a.gb_va.gb_i.gb_ed:focus:hover{background:#a6c6fa;border-color:transparent;-webkit-box-shadow:none;box-shadow:none}#gb .gb_Hc a.gb_ed:active:not(.gb_i),#gb.gb_Hc a.gb_ed:active{background:#ecf3fe}#gb a.gb_va.gb_i.gb_ed:active{background:#a1c3f9;-webkit-box-shadow:0 1px 2px rgba(60,64,67,.3),0 2px 6px 2px rgba(60,64,67,.15);box-shadow:0 1px 2px rgba(60,64,67,.3),0 2px 6px 2px rgba(60,64,67,.15)}.gb_l{display:none}@media screen and (max-width:319px){.gb_jd:not(.gb_pd) .gb_k{display:none;visibility:hidden}}.gb_xa{background-color:rgba(255,255,255,.88);border:1px solid #dadce0;-webkit-box-sizing:border-box;box-sizing:border-box;cursor:pointer;display:inline-block;max-height:48px;overflow:hidden;outline:none;padding:0;vertical-align:middle;width:134px;-webkit-border-radius:8px;border-radius:8px}.gb_xa.gb_i{background-color:transparent;border:1px solid #5f6368}.gb_Da{display:inherit}.gb_xa.gb_i .gb_Da{background:#fff;-webkit-border-radius:4px;border-radius:4px;display:inline-block;left:8px;margin-right:5px;position:relative;padding:3px;top:-1px}.gb_xa:hover{border:1px solid #d2e3fc;background-color:rgba(248,250,255,.88)}.gb_xa.gb_i:hover{background-color:rgba(241,243,244,.04);border:1px solid #5f6368}.gb_xa:focus-visible,.gb_xa:focus{background-color:#fff;outline:1px solid #202124;-webkit-box-shadow:0 1px 2px 0 rgba(60,64,67,.3),0 1px 3px 1px rgba(60,64,67,.15);box-shadow:0 1px 2px 0 rgba(60,64,67,.3),0 1px 3px 1px rgba(60,64,67,.15)}.gb_xa.gb_i:focus-visible,.gb_xa.gb_i:focus{background-color:rgba(241,243,244,.12);outline:1px solid #f1f3f4;-webkit-box-shadow:0 1px 3px 1px rgba(0,0,0,.15),0 1px 2px 0 rgba(0,0,0,.3);box-shadow:0 1px 3px 1px rgba(0,0,0,.15),0 1px 2px 0 rgba(0,0,0,.3)}.gb_xa.gb_i:active,.gb_xa.gb_Ea.gb_i:focus{background-color:rgba(241,243,244,.1);border:1px solid #5f6368}.gb_Fa{display:inline-block;padding-bottom:2px;padding-left:7px;padding-top:2px;text-align:center;vertical-align:middle;line-height:32px;width:78px}.gb_xa.gb_i .gb_Fa{line-height:26px;margin-left:0;padding-bottom:0;padding-left:0;padding-top:0;width:72px}.gb_Fa.gb_Ha{background-color:#f1f3f4;-webkit-border-radius:4px;border-radius:4px;margin-left:8px;padding-left:0;line-height:30px}.gb_Fa.gb_Ha .gb_Ia{vertical-align:middle}.gb_ha:not(.gb_Ja) .gb_xa{margin-left:10px;margin-right:4px}.gb_Ka{max-height:32px;width:78px}.gb_xa.gb_i .gb_Ka{max-height:26px;width:72px}.gb_q{-webkit-background-size:32px 32px;background-size:32px 32px;border:0;-webkit-border-radius:50%;border-radius:50%;display:block;margin:0px;position:relative;height:32px;width:32px;z-index:0}.gb_Ua{background-color:#e8f0fe;border:1px solid rgba(32,33,36,.08);position:relative}.gb_Ua.gb_q{height:30px;width:30px}.gb_Ua.gb_q:hover,.gb_Ua.gb_q:active{-webkit-box-shadow:none;box-shadow:none}.gb_Va{background:#fff;border:none;-webkit-border-radius:50%;border-radius:50%;bottom:2px;-webkit-box-shadow:0px 1px 2px 0px rgba(60,64,67,.30),0px 1px 3px 1px rgba(60,64,67,.15);box-shadow:0px 1px 2px 0px rgba(60,64,67,.30),0px 1px 3px 1px rgba(60,64,67,.15);height:14px;margin:2px;position:absolute;right:0;width:14px}.gb_Wa{color:#1f71e7;font:400 22px/32px Google Sans,Roboto,Helvetica,Arial,sans-serif;text-align:center;text-transform:uppercase}@media (-webkit-min-device-pixel-ratio:1.25),(min-resolution:1.25dppx),(min-device-pixel-ratio:1.25){.gb_q::before,.gb_Xa::before{display:inline-block;-webkit-transform:scale(0.5);-webkit-transform:scale(0.5);transform:scale(0.5);-webkit-transform-origin:left 0;-webkit-transform-origin:left 0;transform-origin:left 0}.gb_D .gb_Xa::before{-webkit-transform:scale(scale(0.416666667));-webkit-transform:scale(scale(0.416666667));transform:scale(scale(0.416666667))}}.gb_q:hover,.gb_q:focus{-webkit-box-shadow:0 1px 0 rgba(0,0,0,.15);box-shadow:0 1px 0 rgba(0,0,0,.15)}.gb_q:active{-webkit-box-shadow:inset 0 2px 0 rgba(0,0,0,.15);box-shadow:inset 0 2px 0 rgba(0,0,0,.15)}.gb_q:active::after{background:rgba(0,0,0,.1);-webkit-border-radius:50%;border-radius:50%;content:"";display:block;height:100%}.gb_Za{cursor:pointer;line-height:40px;min-width:30px;opacity:.75;overflow:hidden;vertical-align:middle;text-overflow:ellipsis}.gb_d.gb_Za{width:auto}.gb_Za:hover,.gb_Za:focus{opacity:.85}.gb_0a .gb_Za,.gb_0a .gb_1a{line-height:26px}#gb#gb.gb_0a a.gb_Za,.gb_0a .gb_1a{font-size:11px;height:auto}.gb_2a{border-top:4px solid #000;border-left:4px dashed transparent;border-right:4px dashed transparent;display:inline-block;margin-left:6px;opacity:.75;vertical-align:middle}.gb_za:hover .gb_2a{opacity:.85}.gb_xa>.gb_b{padding:3px 3px 3px 4px}.gb_3a.gb_Ta{color:#fff}.gb_B .gb_Za,.gb_B .gb_2a{opacity:1}#gb#gb.gb_B.gb_B a.gb_Za,#gb#gb .gb_B.gb_B a.gb_Za{color:#fff}.gb_B.gb_B .gb_2a{border-top-color:#fff;opacity:1}.gb_V .gb_q:hover,.gb_B .gb_q:hover,.gb_V .gb_q:focus,.gb_B .gb_q:focus{-webkit-box-shadow:0 1px 0 rgba(0,0,0,.15),0 1px 2px rgba(0,0,0,.2);box-shadow:0 1px 0 rgba(0,0,0,.15),0 1px 2px rgba(0,0,0,.2)}.gb_4a .gb_b,.gb_5a .gb_b{position:absolute;right:1px}.gb_b.gb_A,.gb_6a.gb_A,.gb_za.gb_A{-webkit-flex:0 1 auto;-webkit-box-flex:0;flex:0 1 auto}.gb_7a.gb_8a .gb_Za{width:30px!important}.gb_p{height:40px;position:absolute;right:-5px;top:-5px;width:40px}.gb_9a .gb_p,.gb_ab .gb_p{right:0;top:0}.gb_b .gb_d{padding:4px}.gb_s{display:none}sentinel{}</style><script nonce="">;this.gbar_={CONFIG:[[[0,"www.gstatic.com","og.qtm.en_US.FtlVdxmDkW0.2019.O","ie","zh-CN","425",0,[4,2,"","","","657027583","0"],null,"qjCqZoTmI_vMp84Ptcal6AE",null,0,"og.qtm.tMcMC5IToAY.L.W.O","AA2YrTv-M5l6PdNQX8IlQjTJG8Ojoq_LfA","AA2YrTtu68wU8rQSEu1zLoTY_BOBQXibAg","",2,1,200,"IRL",null,null,"425","425",1,null,null,114591953,1],null,[1,0.1000000014901161,2,1],null,[1,0,0,null,"0","jialeguo690@gmail.com","","ALumJKK_9-l34uewSxrrduvXcHRo1T98oqb5dqyyIFXwHasg5A0cSD_FXgjv2g_etlsug68uskfzc9mCsgJSv6bHeZfdH7zZAg",0,0,0,""],[0,0,"",1,0,0,0,0,0,0,null,0,0,null,0,0,null,null,0,0,0,"","","","","","",null,0,0,0,0,0,null,null,null,"rgba(32,33,36,1)","rgba(255,255,255,1)",0,0,0,null,null,1,0,0,null,0],["%1$s（默认）","品牌账号",1,"%1$s（已授权）",1,null,83,"https://colab.research.google.com/?hl=zh-cn\u0026authuser=$authuser",null,null,null,1,"https://accounts.google.com/ListAccounts?listPages=0\u0026authuser=0\u0026pid=425\u0026gpsia=1\u0026source=ogb\u0026atic=1\u0026mo=1\u0026mn=1\u0026hl=zh-CN\u0026ts=250",0,"dashboard",null,null,null,null,"个人资料","",1,null,"未登录","https://accounts.google.com/AccountChooser?source=ogb\u0026continue=$continue\u0026Email=$email\u0026ec=GAhAqQM","https://accounts.google.com/RemoveLocalAccount?source=ogb","移除","登录",0,1,1,0,1,1,0,null,null,null,"会话已过期",null,null,null,"访客",null,"默认","已委托","退出所有账号",1,null,null,0,null,null,"myaccount.google.com","https",0,1,0],null,["1","gci_91f30755d6a6b787dcc2a4062e6e9824.js","googleapis.client:gapi.iframes","0","zh-CN"],null,null,null,null,["m;/_/scs/abc-static/_/js/k=gapi.gapi.en.MGCxJbnW_Xw.O/am=AAAg/d=1/rs=AHpOoo9xa4htLEVH9xe6c4ToUehtTaLWvA/m=__features__","https://apis.google.com","","","1","",null,1,"es_plusone_gc_20240708.1_p2","zh-CN",null,0],[0.009999999776482582,"ie","425",[null,"","0",null,1,5184000,null,null,"",null,null,null,null,null,0,null,0,null,1,0,0,0,null,null,0,0,null,0,0,0,0,0],null,null,null,0,null,null,["5061451","google\\.(com|ru|ca|by|kz|com\\.mx|com\\.tr)$",1]],[1,null,null,40400,425,"IRL","zh-CN","657027583.0",8,null,1,0,null,null,null,null,"3701241,3701244,3701388,3701437",null,null,null,"qjCqZoTmI_vMp84Ptcal6AE",0,0,0,null,2,5,"nn",122,0,0,0,0,1,114591953,0,0],[[null,null,null,"https://www.gstatic.com/og/_/js/k=og.qtm.en_US.FtlVdxmDkW0.2019.O/rt=j/m=qabr,qgl,q_dnp,qcwid,qbd,qapid,qads,qrcd,q_dg/exm=qaaw,qadd,qaid,qein,qhaw,qhba,qhbr,qhch,qhga,qhid,qhin/d=1/ed=1/rs=AA2YrTv-M5l6PdNQX8IlQjTJG8Ojoq_LfA"],[null,null,null,"https://www.gstatic.com/og/_/ss/k=og.qtm.tMcMC5IToAY.L.W.O/m=qcwid/excm=qaaw,qadd,qaid,qein,qhaw,qhba,qhbr,qhch,qhga,qhid,qhin/d=1/ed=1/ct=zgms/rs=AA2YrTtu68wU8rQSEu1zLoTY_BOBQXibAg"]],null,null,null,[[[null,null,[null,null,null,"https://ogs.google.com/u/0/widget/account?yac=1\u0026amb=1"],0,414,436,57,4,1,0,0,65,66,8000,"https://accounts.google.com/SignOutOptions?hl=zh-CN\u0026continue=https://colab.research.google.com/%3Fhl%3Dzh-cn\u0026ec=GBRAqQM",68,2,null,null,1,113,"出了点问题。%1$s请刷新重试或%2$s选择其他账号%3$s。",3,null,null,75,0,null,null,null,null,null,null,null,"/widget/account",["https","myaccount.google.com",0,32,83,0],0,0,1,["重要安全提醒","关于账号的重要提醒","存储空间用量提醒"],0,1,null,1,1,1,1,null,null,0,0,0,0,0,0],[null,null,[null,null,null,"https://ogs.google.com/u/0/widget/callout/sid?dc=1"],null,280,420,70,25,0,null,0,null,null,8000,null,71,4,null,null,null,null,null,null,null,null,76,null,null,null,107,108,109,"",null,null,null,null,null,null,null,null,null,null,null,null,null,null,null,null,null,null,null,null,0]],null,null,"425","425",1,0,null,"zh-CN",0,["https://colab.research.google.com/?hl=zh-cn\u0026authuser=$authuser","https://accounts.google.com/AddSession?hl=zh-CN\u0026continue=https://colab.research.google.com/%3Fhl%3Dzh-cn\u0026ec=GAlAqQM","https://accounts.google.com/Logout?hl=zh-CN\u0026continue=https://colab.research.google.com/%3Fhl%3Dzh-cn\u0026timeStmp=1722429610\u0026secTok=.AG5fkS9F2nV9vFIUA6jtbHsajtrv029J4Q\u0026ec=GAdAqQM","https://accounts.google.com/ListAccounts?listPages=0\u0026authuser=0\u0026pid=425\u0026gpsia=1\u0026source=ogb\u0026atic=1\u0026mo=1\u0026mn=1\u0026hl=zh-CN\u0026ts=250",0,0,"",0,0,null,0,0,"https://accounts.google.com/ServiceLogin?passive=true\u0026hl=zh-cn\u0026continue=https%3A%2F%2Fcolab.research.google.com%2F%3Fhl%3Dzh-cn\u0026ec=GAZAqQM",1,1,0,0],0,0,0,[null,"https://colab.research.google.com/?hl=zh-cn",null,null,null,1,null,0,0,"","","29","https://ogads-pa.clients6.google.com",0,0,0,"","",0,0,0,86400,0],0,null,null,null,0],null,[["mousedown","touchstart","touchmove","wheel","keydown"],300000],[[null,null,null,"https://accounts.google.com/RotateCookiesPage"],3,null,null,null,0,0]]],};this.gbar_=this.gbar_||{};(function(_){var window=this;
try{
_._F_toggles_initialize=function(a){(typeof globalThis!=="undefined"?globalThis:typeof self!=="undefined"?self:this)._F_toggles=a||[]};(0,_._F_toggles_initialize)([]);
/*

 Copyright The Closure Library Authors.
 SPDX-License-Identifier: Apache-2.0
*/
var fa,ha,ma,oa,pa,ya,za,Ba,Ca,Da,Ga,Wa,Va,Ya,$a,Za,ab,bb,eb,fb,jb,mb,gb,lb,kb,ib,hb,nb,ob,xb,zb,Ab,Bb,Cb;_.aa=function(a,b){if(Error.captureStackTrace)Error.captureStackTrace(this,_.aa);else{const c=Error().stack;c&&(this.stack=c)}a&&(this.message=String(a));b!==void 0&&(this.cause=b)};_.ba=function(a){_.t.setTimeout(()=>{throw a;},0)};_.ca=function(){var a=_.t.navigator;return a&&(a=a.userAgent)?a:""};fa=function(a){return da?ea?ea.brands.some(({brand:b})=>b&&b.indexOf(a)!=-1):!1:!1};
_.u=function(a){return _.ca().indexOf(a)!=-1};ha=function(){return da?!!ea&&ea.brands.length>0:!1};_.ia=function(){return ha()?!1:_.u("Opera")};_.ka=function(){return ha()?!1:_.u("Trident")||_.u("MSIE")};_.la=function(){return _.u("Firefox")||_.u("FxiOS")};_.na=function(){return _.u("Safari")&&!(ma()||(ha()?0:_.u("Coast"))||_.ia()||(ha()?0:_.u("Edge"))||(ha()?fa("Microsoft Edge"):_.u("Edg/"))||(ha()?fa("Opera"):_.u("OPR"))||_.la()||_.u("Silk")||_.u("Android"))};
ma=function(){return ha()?fa("Chromium"):(_.u("Chrome")||_.u("CriOS"))&&!(ha()?0:_.u("Edge"))||_.u("Silk")};oa=function(){return da?!!ea&&!!ea.platform:!1};pa=function(){return _.u("iPhone")&&!_.u("iPod")&&!_.u("iPad")};_.qa=function(){return pa()||_.u("iPad")||_.u("iPod")};_.ra=function(){return oa()?ea.platform==="macOS":_.u("Macintosh")};_.ta=function(a,b){return _.sa(a,b)>=0};
_.ua=function(a){let b="",c=0;const d=a.length-10240;for(;c<d;)b+=String.fromCharCode.apply(null,a.subarray(c,c+=10240));b+=String.fromCharCode.apply(null,c?a.subarray(c):a);return btoa(b)};_.va=function(a){return a!=null&&a instanceof Uint8Array};_.wa=function(a){return Array.prototype.slice.call(a)};_.xa=function(a){return!!((a[_.v]|0)&2)};ya=function(a,b){b[_.v]=(a|0)&-14591};za=function(a,b){b[_.v]=(a|34)&-14557};Ba=function(a){return!(!a||typeof a!=="object"||a.i!==Aa)};
Ca=function(a){return a!==null&&typeof a==="object"&&!Array.isArray(a)&&a.constructor===Object};Da=function(a,b,c){if(!Array.isArray(a)||a.length)return!1;const d=a[_.v]|0;if(d&1)return!0;if(!(b&&(Array.isArray(b)?b.includes(c):b.has(c))))return!1;a[_.v]=d|1;return!0};_.Ea=function(a){if(a&2)throw Error();};Ga=function(a,b){(b=_.Fa?b[_.Fa]:void 0)&&(a[_.Fa]=_.wa(b))};_.Ia=function(){const a=Error();Ha(a,"incident");_.ba(a)};_.Ja=function(a){a=Error(a);Ha(a,"warning");return a};
_.La=function(a){if(typeof a!=="boolean")throw Error("s`"+_.Ka(a)+"`"+a);return a};_.Ma=function(a){if(!Number.isFinite(a))throw _.Ja("enum");return a|0};_.Na=function(a){if(typeof a!=="number")throw _.Ja("int32");if(!Number.isFinite(a))throw _.Ja("int32");return a|0};_.Oa=function(a){if(a!=null&&typeof a!=="string")throw Error();return a};_.Pa=function(a){return a==null||typeof a==="string"?a:void 0};
_.Ra=function(a,b,c){if(a!=null&&typeof a==="object"&&a.Ed===_.Qa)return a;if(Array.isArray(a)){var d=a[_.v]|0,e=d;e===0&&(e|=c&32);e|=c&2;e!==d&&(a[_.v]=e);return new b(a)}};_.Ta=function(a,b){Sa=b;a=new a(b);Sa=void 0;return a};
_.Ua=function(a,b,c){a==null&&(a=Sa);Sa=void 0;if(a==null){var d=96;c?(a=[c],d|=512):a=[];b&&(d=d&-16760833|(b&1023)<<14)}else{if(!Array.isArray(a))throw Error("t");d=a[_.v]|0;if(d&2048)throw Error("u");if(d&64)return a;d|=64;if(c&&(d|=512,c!==a[0]))throw Error("v");a:{c=a;const e=c.length;if(e){const f=e-1;if(Ca(c[f])){d|=256;b=f-(+!!(d&512)-1);if(b>=1024)throw Error("w");d=d&-16760833|(b&1023)<<14;break a}}if(b){b=Math.max(b,e-(+!!(d&512)-1));if(b>1024)throw Error("x");d=d&-16760833|(b&1023)<<14}}}a[_.v]=
d;return a};Wa=function(a,b){return Va(b)};Va=function(a){switch(typeof a){case "number":return isFinite(a)?a:String(a);case "boolean":return a?1:0;case "object":if(a)if(Array.isArray(a)){if(Da(a,void 0,0))return}else{if(_.va(a))return _.ua(a);if("function"==typeof _.Xa&&a instanceof _.Xa)return a.j()}}return a};Ya=function(a,b,c){const d=_.wa(a);var e=d.length;const f=b&256?d[e-1]:void 0;e+=f?-1:0;for(b=b&512?1:0;b<e;b++)d[b]=c(d[b]);if(f){b=d[b]={};for(const g in f)b[g]=c(f[g])}Ga(d,a);return d};
$a=function(a,b,c,d,e){if(a!=null){if(Array.isArray(a))a=Da(a,void 0,0)?void 0:e&&(a[_.v]|0)&2?a:Za(a,b,c,d!==void 0,e);else if(Ca(a)){const f={};for(let g in a)f[g]=$a(a[g],b,c,d,e);a=f}else a=b(a,d);return a}};Za=function(a,b,c,d,e){const f=d||c?a[_.v]|0:0;d=d?!!(f&32):void 0;const g=_.wa(a);for(let h=0;h<g.length;h++)g[h]=$a(g[h],b,c,d,e);c&&(Ga(g,a),c(f,g));return g};ab=function(a){return a.Ed===_.Qa?a.toJSON():Va(a)};
bb=function(a,b,c=za){if(a!=null){if(a instanceof Uint8Array)return b?a:new Uint8Array(a);if(Array.isArray(a)){var d=a[_.v]|0;if(d&2)return a;b&&(b=d===0||!!(d&32)&&!(d&64||!(d&16)));return b?(a[_.v]=(d|34)&-12293,a):Za(a,bb,d&4?za:c,!0,!0)}a.Ed===_.Qa&&(c=a.ma,d=c[_.v],a=d&2?a:_.Ta(a.constructor,_.cb(c,d,!0)));return a}};_.cb=function(a,b,c){const d=c||b&2?za:ya,e=!!(b&32);a=Ya(a,b,f=>bb(f,e,d));a[_.v]=a[_.v]|32|(c?2:0);return a};
_.db=function(a){const b=a.ma,c=b[_.v];return c&2?_.Ta(a.constructor,_.cb(b,c,!1)):a};eb=function(a){return a};fb=function(a){return a};jb=function(a,b,c,d){return gb(a,b,c,d,hb,ib)};mb=function(a,b,c,d){return gb(a,b,c,d,kb,lb)};
gb=function(a,b,c,d,e,f){if(!c.length&&!d)return 0;var g=0;let h=0,k=0;var l=0;let m=0;for(var p=c.length-1;p>=0;p--){var r=c[p];d&&p===c.length-1&&r===d||(l++,r!=null&&k++)}if(d)for(var q in d)p=+q,isNaN(p)||(m+=nb(p),h++,p>g&&(g=p));l=e(l,k)+f(h,g,m);q=k;p=h;r=g;let y=m;for(let E=c.length-1;E>=0;E--){var D=c[E];if(D==null||d&&E===c.length-1&&D===d)continue;D=E-b;const G=e(D,q)+f(p,r,y);G<l&&(a=1+D,l=G);p++;q--;y+=nb(D);r=Math.max(r,D)}b=e(0,0)+f(p,r,y);b<l&&(a=0,l=b);if(d){p=h;r=g;y=m;q=k;for(const E in d)d=
+E,isNaN(d)||d>=1024||(p--,q++,y-=E.length,g=e(d,q)+f(p,r,y),g<l&&(a=1+d,l=g))}return a};lb=function(a,b,c){return c+a*3+(a>1?a-1:0)};kb=function(a,b){return(a>1?a-1:0)+(a-b)*4};ib=function(a,b){return a==0?0:9*Math.max(1<<32-Math.clz32(a+a/2-1),4)<=b?a==0?0:a<4?100+(a-1)*16:a<6?148+(a-4)*16:a<12?244+(a-6)*16:a<22?436+(a-12)*19:a<44?820+(a-22)*17:52+32*a:40+4*b};hb=function(a){return 40+4*a};nb=function(a){return a>=100?a>=1E4?Math.ceil(Math.log10(1+a)):a<1E3?3:4:a<10?1:2};
ob=function(a,b,c,d){b=d+(+!!(b&512)-1);if(!(b<0||b>=a.length||b>=c))return a[b]};_.qb=function(a,b,c,d,e){const f=b>>14&1023||536870912;if(c>=f||e&&!pb){let g=b;if(b&256)e=a[a.length-1];else{if(d==null)return g;e=a[f+(+!!(b&512)-1)]={};g|=256}e[c]=d;c<f&&(a[c+(+!!(b&512)-1)]=void 0);g!==b&&(a[_.v]=g);return g}a[c+(+!!(b&512)-1)]=d;b&256&&(a=a[a.length-1],c in a&&delete a[c]);return b};_.sb=function(a,b,c,d){a=a.ma;let e=a[_.v];const f=_.rb(a,e,c,d);b=_.Ra(f,b,e);b!==f&&b!=null&&_.qb(a,e,c,b,d);return b};
_.tb=function(a,b){return a!=null?a:b};
xb=function(a){var b=ub?a.ma:Za(a.ma,ab,void 0,void 0,!1);{var c=!ub;var d=vb?void 0:a.constructor.oa;var e=(c?a.ma:b)[_.v];let B=b.length;if(B){var f=b[B-1],g=Ca(f);g?B--:f=void 0;a=+!!(e&512)-1;var h=B-a,k=!!wb&&pb&&!(e&512),l;e=(l=wb)!=null?l:fb;e=k?e(h,a,b,f):h;l=(h=k&&h!==e)?Array.prototype.slice.call(b,0,B):b;if(g||h){b:{var m=l;var p=f;g={};k=!1;if(h)for(var r=Math.max(0,e+a);r<m.length;r++){var q=m[r],y=r-a;q==null||Da(q,d,y)||Ba(q)&&q.size===0||(m[r]=void 0,g[y]=q,k=!0)}if(p)for(var D in p)if(r=
+D,isNaN(r))g[D]=p[D];else if(q=p[D],Array.isArray(q)&&(Da(q,d,+D)||Ba(q)&&q.size===0)&&(q=null),q==null&&(k=!0),h&&r<e){k=!0;q=r+a;for(y=m.length;y<=q;y++)m.push(void 0);m[q]=p[r]}else q!=null&&(g[D]=q);if(k){for(var E in g){p=g;break b}p=null}}m=p==null?f!=null:p!==f}h&&(B=l.length);for(var G;B>0;B--){E=B-1;D=l[E];E-=a;if(!(D==null||Da(D,d,E)||Ba(D)&&D.size===0))break;G=!0}if(l!==b||m||G){if(!h&&!c)l=Array.prototype.slice.call(l,0,B);else if(G||m||p)l.length=B;p&&l.push(p)}b=l}}return b};
_.w=function(a,b){return a!=null?!!a:!!b};_.x=function(a,b){b==void 0&&(b="");return a!=null?a:b};_.yb=function(a){for(const b in a)return!1;return!0};zb=typeof Object.defineProperties=="function"?Object.defineProperty:function(a,b,c){if(a==Array.prototype||a==Object.prototype)return a;a[b]=c.value;return a};
Ab=function(a){a=["object"==typeof globalThis&&globalThis,a,"object"==typeof window&&window,"object"==typeof self&&self,"object"==typeof global&&global];for(var b=0;b<a.length;++b){var c=a[b];if(c&&c.Math==Math)return c}throw Error("a");};Bb=Ab(this);Cb=function(a,b){if(b)a:{var c=Bb;a=a.split(".");for(var d=0;d<a.length-1;d++){var e=a[d];if(!(e in c))break a;c=c[e]}a=a[a.length-1];d=c[a];b=b(d);b!=d&&b!=null&&zb(c,a,{configurable:!0,writable:!0,value:b})}};
Cb("Symbol.dispose",function(a){return a?a:Symbol("b")});Cb("globalThis",function(a){return a||Bb});Cb("Promise.prototype.finally",function(a){return a?a:function(b){return this.then(function(c){return Promise.resolve(b()).then(function(){return c})},function(c){return Promise.resolve(b()).then(function(){throw c;})})}});var Fb,Gb,Ib;_.Db=_.Db||{};_.t=this||self;Fb=function(a,b){var c=_.Eb("WIZ_global_data.oxN3nb");a=c&&c[a];return a!=null?a:b};Gb=_.t._F_toggles||[];_.Eb=function(a,b){a=a.split(".");b=b||_.t;for(var c=0;c<a.length;c++)if(b=b[a[c]],b==null)return null;return b};_.Ka=function(a){var b=typeof a;return b!="object"?b:a?Array.isArray(a)?"array":b:"null"};_.Hb="closure_uid_"+(Math.random()*1E9>>>0);Ib=function(a,b,c){return a.call.apply(a.bind,arguments)};
_.z=function(a,b,c){_.z=Ib;return _.z.apply(null,arguments)};_.A=function(a,b){a=a.split(".");var c=_.t;a[0]in c||typeof c.execScript=="undefined"||c.execScript("var "+a[0]);for(var d;a.length&&(d=a.shift());)a.length||b===void 0?c[d]&&c[d]!==Object.prototype[d]?c=c[d]:c=c[d]={}:c[d]=b};
_.C=function(a,b){function c(){}c.prototype=b.prototype;a.W=b.prototype;a.prototype=new c;a.prototype.constructor=a;a.dj=function(d,e,f){for(var g=Array(arguments.length-2),h=2;h<arguments.length;h++)g[h-2]=arguments[h];return b.prototype[e].apply(d,g)}};_.C(_.aa,Error);_.aa.prototype.name="CustomError";var Jb=!!(Gb[0]&4096),Kb=!!(Gb[0]&128),Lb=!!(Gb[0]&8192),Mb=!!(Gb[0]&64),Nb=!!(Gb[0]&16),Ob=!!(Gb[0]&32);var Pb,da,pb;Pb=Fb(1,!0);da=Jb?Lb:Fb(610401301,!1);pb=Jb?Kb||!Nb:Fb(645172343,Pb);_.Qb=Jb?Kb||!Ob:Fb(653718497,Pb);var vb=Jb?Kb||!Mb:Fb(188588736,!0);_.Rb=typeof TextDecoder!=="undefined";_.Sb=typeof TextEncoder!=="undefined";_.Ub=function(){return _.ca().toLowerCase().indexOf("webkit")!=-1};var ea,Vb=_.t.navigator;ea=Vb?Vb.userAgentData||null:null;_.sa=function(a,b){return Array.prototype.indexOf.call(a,b,void 0)};_.Wb=function(a,b,c){Array.prototype.forEach.call(a,b,c)};_.Xb=function(a){_.Xb[" "](a);return a};_.Xb[" "]=function(){};var jc;_.Yb=_.ia();_.Zb=_.ka();_.$b=_.u("Edge");_.ac=_.u("Gecko")&&!(_.Ub()&&!_.u("Edge"))&&!(_.u("Trident")||_.u("MSIE"))&&!_.u("Edge");_.bc=_.Ub()&&!_.u("Edge");_.cc=_.ra();_.dc=oa()?ea.platform==="Windows":_.u("Windows");_.ec=oa()?ea.platform==="Android":_.u("Android");_.fc=pa();_.gc=_.u("iPad");_.hc=_.u("iPod");_.ic=_.qa();
a:{var kc="",lc=function(){var a=_.ca();if(_.ac)return/rv:([^\);]+)(\)|;)/.exec(a);if(_.$b)return/Edge\/([\d\.]+)/.exec(a);if(_.Zb)return/\b(?:MSIE|rv)[: ]([^\);]+)(\)|;)/.exec(a);if(_.bc)return/WebKit\/(\S+)/.exec(a);if(_.Yb)return/(?:Version)[ \/]?(\S+)/.exec(a)}();lc&&(kc=lc?lc[1]:"");if(_.Zb){var mc,nc=_.t.document;mc=nc?nc.documentMode:void 0;if(mc!=null&&mc>parseFloat(kc)){jc=String(mc);break a}}jc=kc}_.oc=jc;_.pc=_.la();_.qc=pa()||_.u("iPod");_.rc=_.u("iPad");_.sc=_.u("Android")&&!(ma()||_.la()||_.ia()||_.u("Silk"));_.tc=ma();_.uc=_.na()&&!_.qa();var vc;_.v=Symbol();vc=Symbol();_.wc=Symbol();_.xc=Symbol();var Aa,zc;_.Qa={};Aa={};zc=[];zc[_.v]=55;_.yc=Object.freeze(zc);_.Ac=Object.freeze({});Object.freeze({});_.Bc=Object.freeze({});var Ha=function(a,b){a.__closure__error__context__984382||(a.__closure__error__context__984382={});a.__closure__error__context__984382.severity=b};var Cc;var Sa;_.Dc=function(a,b){a=a.ma;return _.rb(a,a[_.v],b)};_.rb=function(a,b,c,d){if(c===-1)return null;const e=b>>14&1023||536870912;if(c>=e){if(b&256)return a[a.length-1][c]}else{var f=a.length;if(d&&b&256&&(d=a[f-1][c],d!=null)){if(ob(a,b,e,c)&&vc!=null){var g;a=(g=Cc)!=null?g:Cc={};g=a[vc]||0;g>=4||(a[vc]=g+1,_.Ia())}return d}return ob(a,b,e,c)}};_.Ec=function(a,b,c){const d=a.ma;let e=d[_.v];_.Ea(e);_.qb(d,e,b,c);return a};
_.F=function(a,b,c,d=!1){b=_.sb(a,b,c,d);if(b==null)return b;a=a.ma;let e=a[_.v];if(!(e&2)){const f=_.db(b);f!==b&&(b=f,_.qb(a,e,c,b,d))}return b};_.H=function(a,b,c){c==null&&(c=void 0);return _.Ec(a,b,c)};_.I=function(a,b){a=_.Dc(a,b);return a==null||typeof a==="boolean"?a:typeof a==="number"?!!a:void 0};_.J=function(a,b){return _.Pa(_.Dc(a,b))};_.K=function(a,b,c=!1){return _.tb(_.I(a,b),c)};_.L=function(a,b){return _.tb(_.J(a,b),"")};_.M=function(a,b,c){return _.Ec(a,b,c==null?c:_.La(c))};
_.N=function(a,b,c){return _.Ec(a,b,c==null?c:_.Na(c))};_.O=function(a,b,c){return _.Ec(a,b,_.Oa(c))};_.P=function(a,b,c){return _.Ec(a,b,c==null?c:_.Ma(c))};var wb,ub;_.Q=class{constructor(a,b,c){this.ma=_.Ua(a,b,c)}toJSON(){return xb(this)}Ga(a){try{return ub=!0,a&&(wb=a===fb||a!==eb&&a!==jb&&a!==mb?fb:a),JSON.stringify(xb(this),Wa)}finally{a&&(wb=void 0),ub=!1}}uc(){return _.xa(this.ma)}};_.Q.prototype.Ed=_.Qa;_.Q.prototype.toString=function(){try{return ub=!0,xb(this).toString()}finally{ub=!1}};_.Fc=Symbol();_.Gc=Symbol();_.Hc=Symbol();_.Ic=Symbol();_.Jc=Symbol();var Kc=class extends _.Q{constructor(){super()}};_.Lc=class extends _.Q{constructor(){super()}D(a){return _.N(this,3,a)}};_.Lc.oa=[67];var Mc=class extends _.Q{constructor(a){super(a)}Lc(a){return _.O(this,24,a)}};_.Nc=class extends _.Q{constructor(a){super(a)}};_.R=function(){this.va=this.va;this.ea=this.ea};_.R.prototype.va=!1;_.R.prototype.isDisposed=function(){return this.va};_.R.prototype.dispose=function(){this.va||(this.va=!0,this.R())};_.R.prototype[Symbol.dispose]=function(){this.dispose()};_.R.prototype.R=function(){if(this.ea)for(;this.ea.length;)this.ea.shift()()};var Oc=class extends _.R{constructor(){var a=window;super();this.o=a;this.i=[];this.j={}}resolve(a){var b=this.o;a=a.split(".");for(var c=a.length,d=0;d<c;++d)if(b[a[d]])b=b[a[d]];else return null;return b instanceof Function?b:null}Cb(){for(var a=this.i.length,b=this.i,c=[],d=0;d<a;++d){var e=b[d].i(),f=this.resolve(e);if(f&&f!=this.j[e])try{b[d].Cb(f)}catch(g){}else c.push(b[d])}this.i=c.concat(b.slice(a))}};var Qc=class extends _.R{constructor(){var a=_.Pc;super();this.o=a;this.A=this.i=null;this.v=0;this.B={};this.j=!1;a=window.navigator.userAgent;a.indexOf("MSIE")>=0&&a.indexOf("Trident")>=0&&(a=/\b(?:MSIE|rv)[: ]([^\);]+)(\)|;)/.exec(a))&&a[1]&&parseFloat(a[1])<9&&(this.j=!0)}C(a,b){this.i=b;this.A=a;b.preventDefault?b.preventDefault():b.returnValue=!1}};_.Rc=class extends _.Q{constructor(a){super(a)}};var Sc=class extends _.Q{constructor(a){super(a)}};var Vc;_.Tc=function(a,b,c=98,d=new _.Lc){if(a.i){const e=new Kc;_.O(e,1,b.message);_.O(e,2,b.stack);_.N(e,3,b.lineNumber);_.P(e,5,1);_.H(d,40,e);a.i.log(c,d)}};Vc=class{constructor(){var a=Uc;this.i=null;_.K(a,4,!0)}log(a,b,c=new _.Lc){_.Tc(this,a,98,c)}};var Wc,Xc;Wc=function(a){if(a.o.length>0){var b=a.i!==void 0,c=a.j!==void 0;if(b||c){b=b?a.v:a.A;c=a.o;a.o=[];try{_.Wb(c,b,a)}catch(d){console.error(d)}}}};_.Yc=class{constructor(a){this.i=a;this.j=void 0;this.o=[]}then(a,b,c){this.o.push(new Xc(a,b,c));Wc(this)}resolve(a){if(this.i!==void 0||this.j!==void 0)throw Error("B");this.i=a;Wc(this)}reject(a){if(this.i!==void 0||this.j!==void 0)throw Error("B");this.j=a;Wc(this)}v(a){a.j&&a.j.call(a.i,this.i)}A(a){a.o&&a.o.call(a.i,this.j)}};
Xc=class{constructor(a,b,c){this.j=a;this.o=b;this.i=c}};_.Zc=a=>{var b="rc";if(a.rc&&a.hasOwnProperty(b))return a.rc;b=new a;return a.rc=b};_.$c=class{constructor(){this.v=new _.Yc;this.i=new _.Yc;this.D=new _.Yc;this.B=new _.Yc;this.C=new _.Yc;this.A=new _.Yc;this.o=new _.Yc;this.j=new _.Yc;this.F=new _.Yc}K(){return this.v}M(){return this.i}N(){return this.D}L(){return this.B}va(){return this.C}ea(){return this.A}J(){return this.o}G(){return this.j}static i(){return _.Zc(_.$c)}};var ed;_.bd=function(){return _.F(_.ad,Mc,1)};_.cd=function(){return _.F(_.ad,_.Nc,5)};ed=class extends _.Q{constructor(){super(dd)}};var dd;window.gbar_&&window.gbar_.CONFIG?dd=window.gbar_.CONFIG[0]||{}:dd=[];_.ad=new ed;var Uc=_.F(_.ad,Sc,3)||new Sc;_.bd()||new Mc;_.Pc=new Vc;_.A("gbar_._DumpException",function(a){_.Pc?_.Pc.log(a):console.error(a)});_.fd=new Qc;var hd;_.id=function(a,b){var c=_.gd.i();if(a in c.i){if(c.i[a]!=b)throw new hd;}else{c.i[a]=b;const h=c.j[a];if(h)for(let k=0,l=h.length;k<l;k++){b=h[k];var d=c.i;delete b.i[a];if(_.yb(b.i)){for(var e=b.j.length,f=Array(e),g=0;g<e;g++)f[g]=d[b.j[g]];b.o.apply(b.v,f)}}delete c.j[a]}};_.gd=class{constructor(){this.i={};this.j={}}static i(){return _.Zc(_.gd)}};_.jd=class extends _.aa{constructor(){super()}};hd=class extends _.jd{};_.A("gbar.A",_.Yc);_.Yc.prototype.aa=_.Yc.prototype.then;_.A("gbar.B",_.$c);_.$c.prototype.ba=_.$c.prototype.M;_.$c.prototype.bb=_.$c.prototype.N;_.$c.prototype.bd=_.$c.prototype.va;_.$c.prototype.bf=_.$c.prototype.K;_.$c.prototype.bg=_.$c.prototype.L;_.$c.prototype.bh=_.$c.prototype.ea;_.$c.prototype.bj=_.$c.prototype.J;_.$c.prototype.bk=_.$c.prototype.G;_.A("gbar.a",_.$c.i());window.gbar&&window.gbar.ap&&window.gbar.ap(window.gbar.a);var kd=new Oc;_.id("api",kd);
var ld=_.cd()||new _.Nc,md=window,nd=_.x(_.J(ld,8));md.__PVT=nd;_.id("eq",_.fd);
}catch(e){_._DumpException(e)}
try{
_.od=class extends _.Q{constructor(a){super(a)}};
}catch(e){_._DumpException(e)}
try{
var pd=class extends _.Q{constructor(){super()}};var qd=class extends _.R{constructor(){super();this.j=[];this.i=[]}o(a,b){this.j.push({features:a,options:b})}init(a,b,c){window.gapi={};var d=window.___jsl={};d.h=_.x(_.J(a,1));_.I(a,12)!=null&&(d.dpo=_.w(_.K(a,12)));d.ms=_.x(_.J(a,2));d.m=_.x(_.J(a,3));d.l=[];_.L(b,1)&&(a=_.J(b,3))&&this.i.push(a);_.L(c,1)&&(c=_.J(c,2))&&this.i.push(c);_.A("gapi.load",(0,_.z)(this.o,this));return this}};var rd=_.F(_.ad,_.Rc,14);if(rd){var sd=_.F(_.ad,_.od,9)||new _.od,td=new pd,ud=new qd;ud.init(rd,sd,td);_.id("gs",ud)};
}catch(e){_._DumpException(e)}
})(this.gbar_);
// Google Inc.
</script><script nonce="">try {const preferences = JSON.parse(window.localStorage.getItem("datalab_prefs_jialeguo690@gmail.com")); document.querySelector('html') .setAttribute('theme', preferences['siteTheme'] || 'default');} catch (e) {}</script><script nonce="">window.performance.mark('head_start');</script><link rel="stylesheet" href="./yolo5.ipynb - Colab_files/bundle.css"><script nonce="">var colabVersionTag = 'colab_20240729-060216_RC00_657091656'; var colabScsVersion = '8f5e77cec26fd9d62b69e2fbca35609b'; var hl = 'zh-CN'; var colabExperiments = JSON.parse('\x7b\x22add_prompt_cell\x22: false, \x22ai_unsubscribed_warning\x22: false, \x22aida_complete_code_model_id\x22: \x22\x22, \x22aida_do_conversation_model_id\x22: \x22\x22, \x22aida_generate_code_model_id\x22: \x22\x22, \x22aida_in_editor\x22: false, \x22allowed_public_url_domains\x22: \x5b\x22huggingface.co\x22, \x22dagshub.com\x22, \x22storage.googleapis.com\x22\x5d, \x22backend_version\x22: \x22next\x22, \x22backtracking_strategy\x22: \x22non-literals\x22, \x22cell_tags\x22: false, \x22chat_model_id_override\x22: \x22\x22, \x22classified_generate\x22: false, \x22classroom_iframe_parent_origin\x22: \x22\x22, \x22client_text_compose\x22: true, \x22client_trim_completion_text\x22: 400, \x22cloud_origin\x22: \x22\x22, \x22commands_in_toolbar\x22: false, \x22comment_poll_long\x22: 900000, \x22comment_poll_short\x22: 60000, \x22compose_skip_suffix_check\x22: false, \x22converse_server_side_history\x22: false, \x22converse_temp\x22: \x22\x22, \x22crawler\x22: false, \x22critique_comments\x22: false, \x22dbu\x22: \x22\x22, \x22debug_external\x22: \x22external\x22, \x22debug_prod\x22: \x22prod\x22, \x22dep_cells_commands\x22: false, \x22dep_graph\x22: false, \x22development\x22: false, \x22document_change_poll_interval\x22: 30000, \x22drive_anon_api_key\x22: \x22AIzaSyB10s2vWUTwP0pj20wZoxmpZIt3rRodYeg\x22, \x22drive_api_key\x22: \x22AIzaSyCN_sSPJMpYrAzC5AtTrltNC8oRmLtoqBk\x22, \x22drive_background_save_project_number\x22: \x22948411933973\x22, \x22drive_realtime_project_number\x22: \x22\x22, \x22embedded_connection_poll\x22: false, \x22embedded_one_pending_connect_request\x22: true, \x22embedding_app\x22: \x22\x22, \x22enable_adhoc_backends\x22: false, \x22enable_dasher_subscription_ui\x22: true, \x22enable_more_reprs\x22: true, \x22execution_status_propagation\x22: true, \x22explain_cell\x22: false, \x22explain_error\x22: true, \x22explain_error_model_id_override\x22: \x22\x22, \x22explain_error_trim_traceback\x22: true, \x22explicit_ai_backend\x22: \x22\x22, \x22external_trusted_github_org_repos_quick_add\x22: \x22GoogleChrome\/CrUX,google\/generative-ai-docs\x22, \x22file_browser_poll_interval_millis\x22: 60000, \x22file_upload_rate_limit\x22: 5, \x22filter_repetitive_suggestions\x22: false, \x22first_party_auth\x22: true, \x22fix_imports\x22: false, \x22gemini_rebrand\x22: true, \x22generate_code\x22: true, \x22generate_df\x22: true, \x22generate_prompt_reduce_blank_responses\x22: false, \x22generate_prompt_reduce_name_errors\x22: false, \x22generate_temp\x22: \x22\x22, \x22get_started\x22: false, \x22gis_auth\x22: true, \x22github_client_id\x22: \x225036cf6d81e65aaa6340\x22, \x22gpu_utilization_check_interval_ms\x22: 600000, \x22granular_browser_permissions\x22: true, \x22hats_surveys\x22: true, \x22hrc\x22: false, \x22import_data\x22: false, \x22interactive_sheet_next_steps\x22: true, \x22internal_chat\x22: false, \x22internal_schedule\x22: false, \x22is_prober\x22: false, \x22jsraw\x22: \x22compiled\x22, \x22key_promoter\x22: false, \x22kr\x22: false, \x22link_id_assignments\x22: true, \x22link_imports_to_installs\x22: true, \x22local_cloud_apis\x22: false, \x22local_service_worker\x22: false, \x22log_preferences_on_change\x22: false, \x22lsp_diagnostics_reporting\x22: false, \x22lsp_inlay_hint\x22: false, \x22lsrp\x22: 0, \x22ml_enabled\x22: true, \x22mlpp\x22: false, \x22mlpp_multiline\x22: false, \x22mlpp_on_by_default\x22: true, \x22mobile\x22: false, \x22next_steps\x22: true, \x22nl2code_missing_imports\x22: false, \x22no_fun\x22: false, \x22notebook_context_length\x22: 50000, \x22outage_notification\x22: \x22\x22, \x22outage_notification_link\x22: \x22\x22, \x22outputframe_version\x22: \x22\x22, \x22override_suf_params_for_test\x22: false, \x22prereq_cells_next_steps\x22: false, \x22recaptcha_polling_frequency_ms\x22: 300000, \x22recaptcha_v2_site_key\x22: \x226LfQttQUAAAAADuPanA_VZMaZgBAOnHZNuuqUewp\x22, \x22recaptcha_v3_site_key\x22: \x226LfQPtEUAAAAAHBpAdFng54jyuB1V5w5dofknpip\x22, \x22reconnect_max_delay_seconds\x22: 300, \x22reduce_chat_not_answering\x22: true, \x22require_ai_consent\x22: true, \x22resource_poll_interval_ms\x22: 10000, \x22rp_kxhr\x22: false, \x22rp_lsp\x22: true, \x22rp_serve_kernel_port\x22: false, \x22rp_term\x22: true, \x22rp_token_refresh_headroom_millis\x22: 300000, \x22rt\x22: false, \x22run_mode\x22: false, \x22runtime_env_overrides\x22: \x22\\n          \x5b\\n            \x5b\\\x22ENABLE_DIRECTORYPREFETCHER\\\x22, \\\x221\\\x22\x5d\\n          \x5d\\n        \x22, \x22runtime_type_for_test\x22: \x22\x22, \x22server_execution_queue\x22: true, \x22session_resume_coalesce\x22: true, \x22show_create_gemini_api_key_link\x22: false, \x22show_payments_interstitial\x22: false, \x22show_relnotes_on_open\x22: true, \x22show_signup_survey\x22: true, \x22show_subscription_renewal_time\x22: false, \x22show_switch_to_prod_link\x22: false, \x22smartpaste\x22: false, \x22smartpaste_serving_config\x22: \x22pl_700m_smart_paste_3.0.25\x22, \x22sql_cell\x22: false, \x22sql_cell_buttons\x22: false, \x22storage_partition_trial\x22: true, \x22storage_partition_trial_token\x22: \x22AmUpB2+Hlwk73pYiEMbnkef\/dprJi1I9rClec33apyFsbVOaCIRN29Rk9M4ht5Otgbp+thCc3MMD73GyCNfEWAkAAAB3eyJvcmlnaW4iOiJodHRwczovL2NvbGFiLnJlc2VhcmNoLmdvb2dsZS5jb206NDQzIiwiZmVhdHVyZSI6IkRpc2FibGVUaGlyZFBhcnR5U3RvcmFnZVBhcnRpdGlvbmluZyIsImV4cGlyeSI6MTcyNTQwNzk5OX0\x3d\x22, \x22suspicious_code_matches\x22: \x22\x22, \x22suspicious_code_regexs\x22: \x22\x22, \x22term4all\x22: false, \x22text_compose_report_changes_millis\x22: 10000, \x22text_span_comments\x22: false, \x22tpu_node_deprecation_warning\x22: true, \x22tpu_node_redirect\x22: true, \x22tpu_node_selector_grayed_out\x22: true, \x22tpu_node_selector_visible\x22: false, \x22tpu_vm\x22: true, \x22unmanaged_vm_min_label_block\x22: \x22\x22, \x22unmanaged_vm_min_label_warn\x22: \x22\x22, \x22unmanaged_vm_min_release_tag_block\x22: \x22\x22, \x22unmanaged_vm_min_release_tag_warn\x22: \x22\x22, \x22unsupported_magics_check\x22: true, \x22use_corplogin\x22: true, \x22use_dm_sql_lsp\x22: false, \x22user_visible_gpu_types\x22: \x5b\x22T4\x22, \x22A100\x22, \x22L4\x22\x5d, \x22v_100_redirect\x22: false, \x22verbose_warnings\x22: false, \x22vertex_ai_api_environment_override\x22: \x22\x22, \x22waffle\x22: false, \x22workstations\x22: false, \x22ids\x22: \x5b20730182, 20730230, 20730271, 20730159, 20730185, 20730268, 20730177, 20730265, 20730129, 20730262, 20730150\x5d, \x22flag_ids\x22: \x7b\x22add_prompt_cell\x22: 45644995, \x22ai_unsubscribed_warning\x22: 45504730, \x22aida_complete_code_model_id\x22: 45427660, \x22aida_do_conversation_model_id\x22: 45427664, \x22aida_generate_code_model_id\x22: 45427663, \x22aida_in_editor\x22: 45425507, \x22allowed_public_url_domains\x22: 45425558, \x22backend_version\x22: 45425541, \x22backtracking_strategy\x22: 45644832, \x22cell_tags\x22: 45425779, \x22chat_model_id_override\x22: 45631876, \x22classified_generate\x22: 45425499, \x22classroom_iframe_parent_origin\x22: 45425537, \x22client_text_compose\x22: 45425512, \x22client_trim_completion_text\x22: 45425628, \x22cloud_origin\x22: 45425538, \x22commands_in_toolbar\x22: 45425502, \x22comment_poll_long\x22: 45425588, \x22comment_poll_short\x22: 45425587, \x22compose_skip_suffix_check\x22: 45615470, \x22converse_server_side_history\x22: 45634472, \x22converse_temp\x22: 45425509, \x22crawler\x22: 45425491, \x22critique_comments\x22: 45612076, \x22dbu\x22: 45425545, \x22debug_external\x22: 45425470, \x22debug_prod\x22: 45425471, \x22dep_cells_commands\x22: 45622249, \x22dep_graph\x22: 45629071, \x22development\x22: 45425544, \x22document_change_poll_interval\x22: 45425589, \x22drive_anon_api_key\x22: 45425478, \x22drive_api_key\x22: 45425473, \x22drive_background_save_project_number\x22: 45425479, \x22drive_realtime_project_number\x22: 45425629, \x22embedded_connection_poll\x22: 45491618, \x22embedded_one_pending_connect_request\x22: 45640470, \x22enable_adhoc_backends\x22: 45425506, \x22enable_dasher_subscription_ui\x22: 45639531, \x22enable_more_reprs\x22: 45613354, \x22execution_status_propagation\x22: 45644828, \x22explain_cell\x22: 45425505, \x22explain_error\x22: 45425487, \x22explain_error_model_id_override\x22: 45631875, \x22explain_error_trim_traceback\x22: 45618831, \x22explicit_ai_backend\x22: 45638548, \x22external_trusted_github_org_repos_quick_add\x22: 45425555, \x22file_browser_poll_interval_millis\x22: 45643722, \x22file_upload_rate_limit\x22: 45637799, \x22filter_repetitive_suggestions\x22: 45615781, \x22first_party_auth\x22: 45425560, \x22fix_imports\x22: 45624140, \x22gemini_rebrand\x22: 45631310, \x22generate_code\x22: 45425492, \x22generate_df\x22: 45425503, \x22generate_prompt_reduce_blank_responses\x22: 45643396, \x22generate_prompt_reduce_name_errors\x22: 45634392, \x22generate_temp\x22: 45425508, \x22get_started\x22: 45430267, \x22gis_auth\x22: 45425625, \x22github_client_id\x22: 45425556, \x22gpu_utilization_check_interval_ms\x22: 45425561, \x22granular_browser_permissions\x22: 45630936, \x22hats_surveys\x22: 45425559, \x22import_data\x22: 45430411, \x22interactive_sheet_next_steps\x22: 45634324, \x22internal_chat\x22: 45622872, \x22internal_schedule\x22: 45425578, \x22is_prober\x22: 45429104, \x22jsraw\x22: 45425557, \x22key_promoter\x22: 45425570, \x22link_id_assignments\x22: 45644831, \x22link_imports_to_installs\x22: 45644830, \x22local_cloud_apis\x22: 45425630, \x22local_service_worker\x22: 45425550, \x22log_preferences_on_change\x22: 45643817, \x22lsp_diagnostics_reporting\x22: 45425604, \x22lsp_inlay_hint\x22: 45614695, \x22lsrp\x22: 45425612, \x22ml_enabled\x22: 45425493, \x22mlpp\x22: 45425608, \x22mlpp_multiline\x22: 45425623, \x22mlpp_on_by_default\x22: 45425609, \x22mobile\x22: 45425562, \x22next_steps\x22: 45428239, \x22nl2code_missing_imports\x22: 45615676, \x22no_fun\x22: 45425540, \x22notebook_context_length\x22: 45633457, \x22outage_notification\x22: 45425584, \x22outage_notification_link\x22: 45425585, \x22outputframe_version\x22: 45425591, \x22override_suf_params_for_test\x22: 45425592, \x22prereq_cells_next_steps\x22: 45640400, \x22recaptcha_polling_frequency_ms\x22: 45425582, \x22recaptcha_v2_site_key\x22: 45425581, \x22recaptcha_v3_site_key\x22: 45425580, \x22reconnect_max_delay_seconds\x22: 45425539, \x22reduce_chat_not_answering\x22: 45640977, \x22require_ai_consent\x22: 45425489, \x22resource_poll_interval_ms\x22: 45425590, \x22rp_kxhr\x22: 45491686, \x22rp_lsp\x22: 45462965, \x22rp_serve_kernel_port\x22: 45572083, \x22rp_term\x22: 45426219, \x22rp_token_refresh_headroom_millis\x22: 45517773, \x22rt\x22: 45425624, \x22run_mode\x22: 45642857, \x22runtime_env_overrides\x22: 45425583, \x22runtime_type_for_test\x22: 45425586, \x22server_execution_queue\x22: 45425600, \x22session_resume_coalesce\x22: 45425603, \x22show_create_gemini_api_key_link\x22: 45644190, \x22show_payments_interstitial\x22: 45425543, \x22show_relnotes_on_open\x22: 45428128, \x22show_signup_survey\x22: 45425620, \x22show_subscription_renewal_time\x22: 45425569, \x22show_switch_to_prod_link\x22: 45425483, \x22smartpaste\x22: 45627425, \x22smartpaste_serving_config\x22: 45630585, \x22sql_cell\x22: 45425497, \x22sql_cell_buttons\x22: 45425498, \x22suspicious_code_matches\x22: 45425615, \x22suspicious_code_regexs\x22: 45425616, \x22term4all\x22: 45425542, \x22text_compose_report_changes_millis\x22: 45425568, \x22text_span_comments\x22: 45545873, \x22tpu_node_deprecation_warning\x22: 45630619, \x22tpu_node_redirect\x22: 45634372, \x22tpu_node_selector_grayed_out\x22: 45630664, \x22tpu_node_selector_visible\x22: 45630663, \x22tpu_vm\x22: 45614812, \x22unmanaged_vm_min_label_block\x22: 45425546, \x22unmanaged_vm_min_label_warn\x22: 45425547, \x22unmanaged_vm_min_release_tag_block\x22: 45425548, \x22unmanaged_vm_min_release_tag_warn\x22: 45425549, \x22unsupported_magics_check\x22: 45644829, \x22use_corplogin\x22: 45425606, \x22use_dm_sql_lsp\x22: 45425610, \x22user_visible_gpu_types\x22: 45620529, \x22v_100_redirect\x22: 45644963, \x22verbose_warnings\x22: 45425551, \x22vertex_ai_api_environment_override\x22: 45612077, \x22waffle\x22: 45446491, \x22workstations\x22: 45425626\x7d\x7d'); var colabUserEmail = 'jialeguo690@gmail.com'; var colabRenderDataToken = 'AFWLbD2iJkd_OwRlFMLJm_1mR8hHPEc1TNcT5U8vTltJSw3KM1cWCVC7lC_MO14EuowEPwrJEFynuB-KR4RnPyZjHlWz00JwmZEDntJT'; var colabConfig = '\x5b\x5b\x22jialeguo690@gmail.com\x22,\x5b1,\x22AHXL0D2EsJxjqeuErfjxpPfCf5KKfUjolS3XXyUq9k69aWW8mARASX803RaXwMg7gp8+avOvNg6Ls73h9K+15SWRw4pXMrXnI8raZmKMJjck4pTaH8dzVrf\/NuFLG+hGw\/WD3KEZi03vaMoYZ3AASEgJ6X8FimqKBzQPZx5HEF6olE3PJjEPdiGqBLfiDd+4tIDVIq2C3KwBqGPTPStiNSmKiWiYPB8Gaz+SbsaJCkXD62rXZuCHSq7Yxp\/K+EM0VuVgBNiHT629+Z8Js64mRaSeDwjhIaWk+WDuBJfUQclrF6Nc4dylDnIrEE8GzhJGISszBzpYPNhSz+3yC8abtNICcbmB01xh+\/mXFIYzehPjRTE4pGURZ4w7MMtZuhsaE4UohtEE+zlvUAP328plCHPky+qazdFQejDh1reEf1IcKRej00yGQDX7BnJyUY\/Q\/kHGgso4MzffqaxywxSzh72WUTcp7ZWQHeGiE4HHgHCYuKinmYXNtwQPIPsqIQLQELTcsoxk3OJXULgzeX0wTVfj\/w5Ds4IHnd3mF7tns2aL9Zld6Jv1yu1KnWQzZRRBMlgIRsVsVM9Dk2S77TxJh0+MLYFCWtWawgGEhdoFyzF\/alylO8J96Mb8YMxP9519\/Qwr8JlAwhuJnRt4JbveXz9tUW8PvdHKxUZXNQ7ZRhrIT1T7j5n\/InxXIOrirsdBPeo6jrkwmhBSoQYqiD9qXz60R0CFcrHrBYolCmo89LpazNVaDvlU\/SVUJ792nAus2xuWwZRAlSQhwXlnbCYiyGwWbZU8y86nZaVI6Z7OFRE6XwBaKtMFl+Roj9ll1\/xh+TRbGJGJ4OHrmIzMaxwcbbeyhSK9r62SclbQ7omoRfxjWhBg9MDkS+OOB8GPsOu4rON8zZXg6a3BZ+k+j+tcRZxr5DgWfLX1fTClryrGkZJBZfKwIEobLH6UCaBb7XHWd98gYH8L9zHGY7YwSem4C4ItLKVsjVFcMUrR0+ogZLYah8Gm9H3dd+ah+1uipg1xnJKcCevWtBrM2gZFRAqrGvxf22PgFQxt1UPLz38bI+X+Gf8ZV7sqSb2HBfLZVcK61Ml+gWGVe9SrraG4h7FmAtlDioJZWJpgV7xhlRFQheTLc4JUwNobe\/MZjlFHomNB3paVDHiswLWFaeHxgrSFOLxKmBI0D36D4gjeytfYTuQQ9aGKKiEDPl9n+ZuZZtJKKWgreDrUmcmZ52W4fKT6AxaC0xcyRMPKHfYdaV9WH0nZjB\/nq5qmu7hRJWLtDp2A3P47eLkCxt00Uv+PPtNHjfnFWWa9A4foJXl\/iW\/TjTTtwQchjGS9a2xvBZDsim8M1AcUSOSiZXcwnF14EDcz\/Ef6K3NnMfP8lSnv9ocLB6NQgurPfQrnoyNzzcPYGah\/RkI6t1ViVBLWPe2wcNqH6xPsVliMMmpmERa3BxwR9hrb7CqutZAT4cIqjy93t\/jJRWj68yfX\/THeMOywpCMpEaCgVYLtAYeuB\/qci6Gw1JlXMrKvgMzZDPTYbeY1nxiMJ6KCov\/r63hHicegk7IhFvjGwr0FTQGRUmxAm0Lsds+YjfRqZJLEKBqyOFhukUDtgdlcd0BWJpmWqoFLlkQem8Qk6KhHC11U6cnQ6wYrPOWV8xWQtz6M7HFRep4EPVTghOaEpEt3Rf+\/tHxulrrAVviGcMIrQlLUW6zhkpLW3mNu\/+6d7E0eyHohSSM+GW9K30ySfMgnMvWz1SKw9sNni5FMleNef+K9PP8kl7FjEbdtkqNYX7A+ImNhKeYYIHAdLd\/\/Mp040ZnGxc9E4fNg9fLXsT\/64fbvC\/DgjZEPur8z+wU2GMYKSnNx4DWo2MESSFepiKpkfXvUHTZkkYKjWPqAYwZ8E5agWw\x3d\x3d\x22,\x22AJ9oCCzolTN3JGRGW0lHYhUuBK3L0dU174yrMj8VERXahd4BAUM\/YgmsHtUKclIIKo9h3FVv18fJAOc3w1Fteh0ILCvVT0+PDXhClHfFQW72\/9oi6UGPS6qMj\/Vc+0D2czNCJhm4KsTa\x22,\x22https:\/\/payments.google.com\/payments\x22,0,0,null,null,null,\x22€11.38\x22,\x22€51.97\x22,\x22€11.38\x22,\x22€51.97\x22\x5d,\x5b1,4\x5d,\x22IE\x22,0\x5d\x5d';</script><link id="favicon-link" rel="shortcut icon" href="https://ssl.gstatic.com/colaboratory-static/common/8f5e77cec26fd9d62b69e2fbca35609b/img%2Ffavicon_error.ico"><meta name="google-site-verification" content="wRgpUU3mIRZPD1GORBPNonaotM72092B_DsqQFWNa4s"><meta name="google-site-verification" content="f5qdvL6RAXlBgHezvCLpPtvx2wU5ZgIzzPULroprlnA"><meta name="google-site-verification" content="-wL8iYJTC7X0zF9qBNDQUAd-P1ZkQUK-OhSgv4Wkf1M"><meta name="google-site-verification" content="o-EECwEDQeUpZv0jTmoGfCDX7dUI8Kul4ESepXmDnO0"><meta name="google-site-verification" content="sNOroO9gXrazN-oMODOm0Bs0_vw1R5QwZ-BfrSHn8Io"><meta name="google-site-verification" content="K1UdZBHJXQYnJGXIK1KuutmVy6dn3vG2sEyV9D1C6dM"><meta name="google-site-verification" content="wdGthzzfu0IjM3qpFqTuQL9poAQZAvAaFKyuzetLpIM"><meta name="google-site-verification" content="qZJ77guHGO0TObHUBRYVdXQlIhXBBuz8dahJVmIlzCo"><meta name="google-site-verification" content="7ahoeOOKT2ZR781GZ5xK4L9t7yO1ZOHc-gaoUALEYgw"><meta name="google-site-verification" content="PHgaSKwdxZELS21aixtLhfpvaHtKen9pnVJ25EI35Zs"><meta name="google-site-verification" content="Ozey1ptWUQW13_lCEhpPMOcmRBLqdyB3WEL-TJUjskU"><meta name="google-site-verification" content="rF5iXzWe9KZXJes1dQNhOUkS4_z_e97IrsVoCx2trek"><meta name="google-site-verification" content="z-WR3zzv8XZ5FFfBLLDbyTiN35UXm01nWUS2Uej5pwg"><meta name="google-site-verification" content="cpB5oulaGwqSxsg4E-9q2MVbK87iE9NAUUVxdveucPw"><meta name="google-site-verification" content="8P-D5fVWgUIhw8X2BxnKJbf5itK0zxX0QhoBjbJFTe8"><meta name="google-site-verification" content="88fgsZDoVRBuRnDPMIEjcHCxsEXzODOqEsJoqtvQsDc"><meta name="google-site-verification" content="sMarhZgb4va_L_7UTdMR43gDZ2gVqc_5GHN4REpQPGY"><meta name="google-site-verification" content="26aKGBCw3XblB5Ou01UhxY5WDtMqHjoTm6P-lvF6AqE"><meta name="google-site-verification" content="DGionF7db9g0dOgeBXwOAN2tmCzWBdo5yOdc_-5UcuE"><meta name="google-site-verification" content="Q9LlidR0toR7UtSyVO23xNeaqJmRp8I6r4ghBQTtntU"><meta name="google-site-verification" content="rQawcZaTEK_UrDG30cz_7nVKOVvBass61QEes0Tm04g"><meta name="google-site-verification" content="8L3ghjzKIj241AYAmEygniTe604tsXFkIrb1v-DBtGo"><meta name="google-site-verification" content="KiunYPvrY5x8umvAWcjhwPrB677xCar2LeT_8yaVrDg"><meta name="google-site-verification" content="b6bOMRzMVX2bJABYDGBPtpGcB_AUZ-o2SOTggQXErkg"><meta name="google-site-verification" content="v2MQvJk6wTiBarKTbe1mdivqYCVtw-5m6w0HDzV5X_4"><meta name="google-site-verification" content="-N1hdkiHJQ6kwJALkHVh2ZzV2fFNER0schZl2AU6zvc"><meta property="og:type" content="article"><meta property="og:image" content="https://colab.research.google.com/img/colab_favicon_256px.png"><meta property="og:title" content="Google Colab"><meta http-equiv="origin-trial" content="AmUpB2+Hlwk73pYiEMbnkef/dprJi1I9rClec33apyFsbVOaCIRN29Rk9M4ht5Otgbp+thCc3MMD73GyCNfEWAkAAAB3eyJvcmlnaW4iOiJodHRwczovL2NvbGFiLnJlc2VhcmNoLmdvb2dsZS5jb206NDQzIiwiZmVhdHVyZSI6IkRpc2FibGVUaGlyZFBhcnR5U3RvcmFnZVBhcnRpdGlvbmluZyIsImV4cGlyeSI6MTcyNTQwNzk5OX0="><script nonce="">window.performance.mark('head_end'); window.performance.measure('head', 'head_start', 'head_end');</script><script async="" src="./yolo5.ipynb - Colab_files/lazy.min.js" nonce=""></script><style id="inert-style">
[inert] {
  pointer-events: none;
  cursor: default;
}

[inert], [inert] * {
  user-select: none;
  -webkit-user-select: none;
  -moz-user-select: none;
  -ms-user-select: none;
}
</style><script async="" type="text/javascript" charset="UTF-8" src="./yolo5.ipynb - Colab_files/rs=AA2YrTv-M5l6PdNQX8IlQjTJG8Ojoq_LfA" nonce=""></script><link type="text/css" href="./yolo5.ipynb - Colab_files/rs=AA2YrTtu68wU8rQSEu1zLoTY_BOBQXibAg" rel="stylesheet"><style type="text/css">.MathJax_Hover_Frame {border-radius: .25em; -webkit-border-radius: .25em; -moz-border-radius: .25em; -khtml-border-radius: .25em; box-shadow: 0px 0px 15px #83A; -webkit-box-shadow: 0px 0px 15px #83A; -moz-box-shadow: 0px 0px 15px #83A; -khtml-box-shadow: 0px 0px 15px #83A; border: 1px solid #A6D ! important; display: inline-block; position: absolute}
.MathJax_Menu_Button .MathJax_Hover_Arrow {position: absolute; cursor: pointer; display: inline-block; border: 2px solid #AAA; border-radius: 4px; -webkit-border-radius: 4px; -moz-border-radius: 4px; -khtml-border-radius: 4px; font-family: 'Courier New',Courier; font-size: 9px; color: #F0F0F0}
.MathJax_Menu_Button .MathJax_Hover_Arrow span {display: block; background-color: #AAA; border: 1px solid; border-radius: 3px; line-height: 0; padding: 4px}
.MathJax_Hover_Arrow:hover {color: white!important; border: 2px solid #CCC!important}
.MathJax_Hover_Arrow:hover span {background-color: #CCC!important}
</style><style type="text/css">#MathJax_About {position: fixed; left: 50%; width: auto; text-align: center; border: 3px outset; padding: 1em 2em; background-color: #DDDDDD; color: black; cursor: default; font-family: message-box; font-size: 120%; font-style: normal; text-indent: 0; text-transform: none; line-height: normal; letter-spacing: normal; word-spacing: normal; word-wrap: normal; white-space: nowrap; float: none; z-index: 201; border-radius: 15px; -webkit-border-radius: 15px; -moz-border-radius: 15px; -khtml-border-radius: 15px; box-shadow: 0px 10px 20px #808080; -webkit-box-shadow: 0px 10px 20px #808080; -moz-box-shadow: 0px 10px 20px #808080; -khtml-box-shadow: 0px 10px 20px #808080; filter: progid:DXImageTransform.Microsoft.dropshadow(OffX=2, OffY=2, Color='gray', Positive='true')}
#MathJax_About.MathJax_MousePost {outline: none}
.MathJax_Menu {position: absolute; background-color: white; color: black; width: auto; padding: 5px 0px; border: 1px solid #CCCCCC; margin: 0; cursor: default; font: menu; text-align: left; text-indent: 0; text-transform: none; line-height: normal; letter-spacing: normal; word-spacing: normal; word-wrap: normal; white-space: nowrap; float: none; z-index: 201; border-radius: 5px; -webkit-border-radius: 5px; -moz-border-radius: 5px; -khtml-border-radius: 5px; box-shadow: 0px 10px 20px #808080; -webkit-box-shadow: 0px 10px 20px #808080; -moz-box-shadow: 0px 10px 20px #808080; -khtml-box-shadow: 0px 10px 20px #808080; filter: progid:DXImageTransform.Microsoft.dropshadow(OffX=2, OffY=2, Color='gray', Positive='true')}
.MathJax_MenuItem {padding: 1px 2em; background: transparent}
.MathJax_MenuArrow {position: absolute; right: .5em; padding-top: .25em; color: #666666; font-size: .75em}
.MathJax_MenuActive .MathJax_MenuArrow {color: white}
.MathJax_MenuArrow.RTL {left: .5em; right: auto}
.MathJax_MenuCheck {position: absolute; left: .7em}
.MathJax_MenuCheck.RTL {right: .7em; left: auto}
.MathJax_MenuRadioCheck {position: absolute; left: .7em}
.MathJax_MenuRadioCheck.RTL {right: .7em; left: auto}
.MathJax_MenuLabel {padding: 1px 2em 3px 1.33em; font-style: italic}
.MathJax_MenuRule {border-top: 1px solid #DDDDDD; margin: 4px 3px}
.MathJax_MenuDisabled {color: GrayText}
.MathJax_MenuActive {background-color: #606872; color: white}
.MathJax_MenuDisabled:focus, .MathJax_MenuLabel:focus {background-color: #E8E8E8}
.MathJax_ContextMenu:focus {outline: none}
.MathJax_ContextMenu .MathJax_MenuItem:focus {outline: none}
#MathJax_AboutClose {top: .2em; right: .2em}
.MathJax_Menu .MathJax_MenuClose {top: -10px; left: -10px}
.MathJax_MenuClose {position: absolute; cursor: pointer; display: inline-block; border: 2px solid #AAA; border-radius: 18px; -webkit-border-radius: 18px; -moz-border-radius: 18px; -khtml-border-radius: 18px; font-family: 'Courier New',Courier; font-size: 24px; color: #F0F0F0}
.MathJax_MenuClose span {display: block; background-color: #AAA; border: 1.5px solid; border-radius: 18px; -webkit-border-radius: 18px; -moz-border-radius: 18px; -khtml-border-radius: 18px; line-height: 0; padding: 8px 0 6px}
.MathJax_MenuClose:hover {color: white!important; border: 2px solid #CCC!important}
.MathJax_MenuClose:hover span {background-color: #CCC!important}
.MathJax_MenuClose:hover:focus {outline: none}
</style><style type="text/css">.MJX_Assistive_MathML {position: absolute!important; top: 0; left: 0; clip: rect(1px, 1px, 1px, 1px); padding: 1px 0 0 0!important; border: 0!important; height: 1px!important; width: 1px!important; overflow: hidden!important; display: block!important; -webkit-touch-callout: none; -webkit-user-select: none; -khtml-user-select: none; -moz-user-select: none; -ms-user-select: none; user-select: none}
.MJX_Assistive_MathML.MJX_Assistive_MathML_Block {width: 100%!important}
</style><style type="text/css">#MathJax_Zoom {position: absolute; background-color: #F0F0F0; overflow: auto; display: block; z-index: 301; padding: .5em; border: 1px solid black; margin: 0; font-weight: normal; font-style: normal; text-align: left; text-indent: 0; text-transform: none; line-height: normal; letter-spacing: normal; word-spacing: normal; word-wrap: normal; white-space: nowrap; float: none; -webkit-box-sizing: content-box; -moz-box-sizing: content-box; box-sizing: content-box; box-shadow: 5px 5px 15px #AAAAAA; -webkit-box-shadow: 5px 5px 15px #AAAAAA; -moz-box-shadow: 5px 5px 15px #AAAAAA; -khtml-box-shadow: 5px 5px 15px #AAAAAA; filter: progid:DXImageTransform.Microsoft.dropshadow(OffX=2, OffY=2, Color='gray', Positive='true')}
#MathJax_ZoomOverlay {position: absolute; left: 0; top: 0; z-index: 300; display: inline-block; width: 100%; height: 100%; border: 0; padding: 0; margin: 0; background-color: white; opacity: 0; filter: alpha(opacity=0)}
#MathJax_ZoomFrame {position: relative; display: inline-block; height: 0; width: 0}
#MathJax_ZoomEventTrap {position: absolute; left: 0; top: 0; z-index: 302; display: inline-block; border: 0; padding: 0; margin: 0; background-color: white; opacity: 0; filter: alpha(opacity=0)}
</style><style type="text/css">.MathJax_Preview {color: #888}
#MathJax_Message {position: fixed; left: 1em; bottom: 1.5em; background-color: #E6E6E6; border: 1px solid #959595; margin: 0px; padding: 2px 8px; z-index: 102; color: black; font-size: 80%; width: auto; white-space: nowrap}
#MathJax_MSIE_Frame {position: absolute; top: 0; left: 0; width: 0px; z-index: 101; border: 0px; margin: 0px; padding: 0px}
.MathJax_Error {color: #CC0000; font-style: italic}
</style><style type="text/css">.MJXp-script {font-size: .8em}
.MJXp-right {-webkit-transform-origin: right; -moz-transform-origin: right; -ms-transform-origin: right; -o-transform-origin: right; transform-origin: right}
.MJXp-bold {font-weight: bold}
.MJXp-italic {font-style: italic}
.MJXp-scr {font-family: MathJax_Script,'Times New Roman',Times,STIXGeneral,serif}
.MJXp-frak {font-family: MathJax_Fraktur,'Times New Roman',Times,STIXGeneral,serif}
.MJXp-sf {font-family: MathJax_SansSerif,'Times New Roman',Times,STIXGeneral,serif}
.MJXp-cal {font-family: MathJax_Caligraphic,'Times New Roman',Times,STIXGeneral,serif}
.MJXp-mono {font-family: MathJax_Typewriter,'Times New Roman',Times,STIXGeneral,serif}
.MJXp-largeop {font-size: 150%}
.MJXp-largeop.MJXp-int {vertical-align: -.2em}
.MJXp-math {display: inline-block; line-height: 1.2; text-indent: 0; font-family: 'Times New Roman',Times,STIXGeneral,serif; white-space: nowrap; border-collapse: collapse}
.MJXp-display {display: block; text-align: center; margin: 1em 0}
.MJXp-math span {display: inline-block}
.MJXp-box {display: block!important; text-align: center}
.MJXp-box:after {content: " "}
.MJXp-rule {display: block!important; margin-top: .1em}
.MJXp-char {display: block!important}
.MJXp-mo {margin: 0 .15em}
.MJXp-mfrac {margin: 0 .125em; vertical-align: .25em}
.MJXp-denom {display: inline-table!important; width: 100%}
.MJXp-denom > * {display: table-row!important}
.MJXp-surd {vertical-align: top}
.MJXp-surd > * {display: block!important}
.MJXp-script-box > *  {display: table!important; height: 50%}
.MJXp-script-box > * > * {display: table-cell!important; vertical-align: top}
.MJXp-script-box > *:last-child > * {vertical-align: bottom}
.MJXp-script-box > * > * > * {display: block!important}
.MJXp-mphantom {visibility: hidden}
.MJXp-munderover, .MJXp-munder {display: inline-table!important}
.MJXp-over {display: inline-block!important; text-align: center}
.MJXp-over > * {display: block!important}
.MJXp-munderover > *, .MJXp-munder > * {display: table-row!important}
.MJXp-mtable {vertical-align: .25em; margin: 0 .125em}
.MJXp-mtable > * {display: inline-table!important; vertical-align: middle}
.MJXp-mtr {display: table-row!important}
.MJXp-mtd {display: table-cell!important; text-align: center; padding: .5em 0 0 .5em}
.MJXp-mtr > .MJXp-mtd:first-child {padding-left: 0}
.MJXp-mtr:first-child > .MJXp-mtd {padding-top: 0}
.MJXp-mlabeledtr {display: table-row!important}
.MJXp-mlabeledtr > .MJXp-mtd:first-child {padding-left: 0}
.MJXp-mlabeledtr:first-child > .MJXp-mtd {padding-top: 0}
.MJXp-merror {background-color: #FFFF88; color: #CC0000; border: 1px solid #CC0000; padding: 1px 3px; font-style: normal; font-size: 90%}
.MJXp-scale0 {-webkit-transform: scaleX(.0); -moz-transform: scaleX(.0); -ms-transform: scaleX(.0); -o-transform: scaleX(.0); transform: scaleX(.0)}
.MJXp-scale1 {-webkit-transform: scaleX(.1); -moz-transform: scaleX(.1); -ms-transform: scaleX(.1); -o-transform: scaleX(.1); transform: scaleX(.1)}
.MJXp-scale2 {-webkit-transform: scaleX(.2); -moz-transform: scaleX(.2); -ms-transform: scaleX(.2); -o-transform: scaleX(.2); transform: scaleX(.2)}
.MJXp-scale3 {-webkit-transform: scaleX(.3); -moz-transform: scaleX(.3); -ms-transform: scaleX(.3); -o-transform: scaleX(.3); transform: scaleX(.3)}
.MJXp-scale4 {-webkit-transform: scaleX(.4); -moz-transform: scaleX(.4); -ms-transform: scaleX(.4); -o-transform: scaleX(.4); transform: scaleX(.4)}
.MJXp-scale5 {-webkit-transform: scaleX(.5); -moz-transform: scaleX(.5); -ms-transform: scaleX(.5); -o-transform: scaleX(.5); transform: scaleX(.5)}
.MJXp-scale6 {-webkit-transform: scaleX(.6); -moz-transform: scaleX(.6); -ms-transform: scaleX(.6); -o-transform: scaleX(.6); transform: scaleX(.6)}
.MJXp-scale7 {-webkit-transform: scaleX(.7); -moz-transform: scaleX(.7); -ms-transform: scaleX(.7); -o-transform: scaleX(.7); transform: scaleX(.7)}
.MJXp-scale8 {-webkit-transform: scaleX(.8); -moz-transform: scaleX(.8); -ms-transform: scaleX(.8); -o-transform: scaleX(.8); transform: scaleX(.8)}
.MJXp-scale9 {-webkit-transform: scaleX(.9); -moz-transform: scaleX(.9); -ms-transform: scaleX(.9); -o-transform: scaleX(.9); transform: scaleX(.9)}
.MathJax_PHTML .noError {vertical-align: ; font-size: 90%; text-align: left; color: black; padding: 1px 3px; border: 1px solid}
</style><style type="text/css">.MathJax_Display {text-align: center; margin: 0; position: relative; display: block!important; text-indent: 0; max-width: none; max-height: none; min-width: 0; min-height: 0; width: 100%}
.MathJax .merror {background-color: #FFFF88; color: #CC0000; border: 1px solid #CC0000; padding: 1px 3px; font-style: normal; font-size: 90%}
.MathJax .MJX-monospace {font-family: monospace}
.MathJax .MJX-sans-serif {font-family: sans-serif}
#MathJax_Tooltip {background-color: InfoBackground; color: InfoText; border: 1px solid black; box-shadow: 2px 2px 5px #AAAAAA; -webkit-box-shadow: 2px 2px 5px #AAAAAA; -moz-box-shadow: 2px 2px 5px #AAAAAA; -khtml-box-shadow: 2px 2px 5px #AAAAAA; filter: progid:DXImageTransform.Microsoft.dropshadow(OffX=2, OffY=2, Color='gray', Positive='true'); padding: 3px 4px; z-index: 401; position: absolute; left: 0; top: 0; width: auto; height: auto; display: none}
.MathJax {display: inline; font-style: normal; font-weight: normal; line-height: normal; font-size: 100%; font-size-adjust: none; text-indent: 0; text-align: left; text-transform: none; letter-spacing: normal; word-spacing: normal; word-wrap: normal; white-space: nowrap; float: none; direction: ltr; max-width: none; max-height: none; min-width: 0; min-height: 0; border: 0; padding: 0; margin: 0}
.MathJax:focus, body :focus .MathJax {display: inline-table}
.MathJax.MathJax_FullWidth {text-align: center; display: table-cell!important; width: 10000em!important}
.MathJax img, .MathJax nobr, .MathJax a {border: 0; padding: 0; margin: 0; max-width: none; max-height: none; min-width: 0; min-height: 0; vertical-align: 0; line-height: normal; text-decoration: none}
img.MathJax_strut {border: 0!important; padding: 0!important; margin: 0!important; vertical-align: 0!important}
.MathJax span {display: inline; position: static; border: 0; padding: 0; margin: 0; vertical-align: 0; line-height: normal; text-decoration: none; box-sizing: content-box}
.MathJax nobr {white-space: nowrap!important}
.MathJax img {display: inline!important; float: none!important}
.MathJax * {transition: none; -webkit-transition: none; -moz-transition: none; -ms-transition: none; -o-transition: none}
.MathJax_Processing {visibility: hidden; position: fixed; width: 0; height: 0; overflow: hidden}
.MathJax_Processed {display: none!important}
.MathJax_test {font-style: normal; font-weight: normal; font-size: 100%; font-size-adjust: none; text-indent: 0; text-transform: none; letter-spacing: normal; word-spacing: normal; overflow: hidden; height: 1px}
.MathJax_test.mjx-test-display {display: table!important}
.MathJax_test.mjx-test-inline {display: inline!important; margin-right: -1px}
.MathJax_test.mjx-test-default {display: block!important; clear: both}
.MathJax_ex_box {display: inline-block!important; position: absolute; overflow: hidden; min-height: 0; max-height: none; padding: 0; border: 0; margin: 0; width: 1px; height: 60ex}
.MathJax_em_box {display: inline-block!important; position: absolute; overflow: hidden; min-height: 0; max-height: none; padding: 0; border: 0; margin: 0; width: 1px; height: 60em}
.mjx-test-inline .MathJax_left_box {display: inline-block; width: 0; float: left}
.mjx-test-inline .MathJax_right_box {display: inline-block; width: 0; float: right}
.mjx-test-display .MathJax_right_box {display: table-cell!important; width: 10000em!important; min-width: 0; max-width: none; padding: 0; border: 0; margin: 0}
.MathJax .MathJax_HitBox {cursor: text; background: white; opacity: 0; filter: alpha(opacity=0)}
.MathJax .MathJax_HitBox * {filter: none; opacity: 1; background: transparent}
#MathJax_Tooltip * {filter: none; opacity: 1; background: transparent}
@font-face {font-family: MathJax_Blank; src: url('about:blank')}
.MathJax .noError {vertical-align: ; font-size: 90%; text-align: left; color: black; padding: 1px 3px; border: 1px solid}
</style><script async="async" type="text/javascript" src="./yolo5.ipynb - Colab_files/editor.main.js"></script><link rel="stylesheet" type="text/css" data-name="vs/editor/editor.main" href="./yolo5.ipynb - Colab_files/editor.main.css"><script async="async" type="text/javascript" src="./yolo5.ipynb - Colab_files/editor.main.nls.js"></script><script src="./yolo5.ipynb - Colab_files/api.js" nonce=""></script><script src="./yolo5.ipynb - Colab_files/api(1).js" nonce=""></script><style type="text/css" media="screen" class="monaco-colors">.codicon-add:before { content: '\ea60'; }
.codicon-plus:before { content: '\ea60'; }
.codicon-gist-new:before { content: '\ea60'; }
.codicon-repo-create:before { content: '\ea60'; }
.codicon-lightbulb:before { content: '\ea61'; }
.codicon-light-bulb:before { content: '\ea61'; }
.codicon-repo:before { content: '\ea62'; }
.codicon-repo-delete:before { content: '\ea62'; }
.codicon-gist-fork:before { content: '\ea63'; }
.codicon-repo-forked:before { content: '\ea63'; }
.codicon-git-pull-request:before { content: '\ea64'; }
.codicon-git-pull-request-abandoned:before { content: '\ea64'; }
.codicon-record-keys:before { content: '\ea65'; }
.codicon-keyboard:before { content: '\ea65'; }
.codicon-tag:before { content: '\ea66'; }
.codicon-tag-add:before { content: '\ea66'; }
.codicon-tag-remove:before { content: '\ea66'; }
.codicon-person:before { content: '\ea67'; }
.codicon-person-follow:before { content: '\ea67'; }
.codicon-person-outline:before { content: '\ea67'; }
.codicon-person-filled:before { content: '\ea67'; }
.codicon-git-branch:before { content: '\ea68'; }
.codicon-git-branch-create:before { content: '\ea68'; }
.codicon-git-branch-delete:before { content: '\ea68'; }
.codicon-source-control:before { content: '\ea68'; }
.codicon-mirror:before { content: '\ea69'; }
.codicon-mirror-public:before { content: '\ea69'; }
.codicon-star:before { content: '\ea6a'; }
.codicon-star-add:before { content: '\ea6a'; }
.codicon-star-delete:before { content: '\ea6a'; }
.codicon-star-empty:before { content: '\ea6a'; }
.codicon-comment:before { content: '\ea6b'; }
.codicon-comment-add:before { content: '\ea6b'; }
.codicon-alert:before { content: '\ea6c'; }
.codicon-warning:before { content: '\ea6c'; }
.codicon-search:before { content: '\ea6d'; }
.codicon-search-save:before { content: '\ea6d'; }
.codicon-log-out:before { content: '\ea6e'; }
.codicon-sign-out:before { content: '\ea6e'; }
.codicon-log-in:before { content: '\ea6f'; }
.codicon-sign-in:before { content: '\ea6f'; }
.codicon-eye:before { content: '\ea70'; }
.codicon-eye-unwatch:before { content: '\ea70'; }
.codicon-eye-watch:before { content: '\ea70'; }
.codicon-circle-filled:before { content: '\ea71'; }
.codicon-primitive-dot:before { content: '\ea71'; }
.codicon-close-dirty:before { content: '\ea71'; }
.codicon-debug-breakpoint:before { content: '\ea71'; }
.codicon-debug-breakpoint-disabled:before { content: '\ea71'; }
.codicon-debug-hint:before { content: '\ea71'; }
.codicon-primitive-square:before { content: '\ea72'; }
.codicon-edit:before { content: '\ea73'; }
.codicon-pencil:before { content: '\ea73'; }
.codicon-info:before { content: '\ea74'; }
.codicon-issue-opened:before { content: '\ea74'; }
.codicon-gist-private:before { content: '\ea75'; }
.codicon-git-fork-private:before { content: '\ea75'; }
.codicon-lock:before { content: '\ea75'; }
.codicon-mirror-private:before { content: '\ea75'; }
.codicon-close:before { content: '\ea76'; }
.codicon-remove-close:before { content: '\ea76'; }
.codicon-x:before { content: '\ea76'; }
.codicon-repo-sync:before { content: '\ea77'; }
.codicon-sync:before { content: '\ea77'; }
.codicon-clone:before { content: '\ea78'; }
.codicon-desktop-download:before { content: '\ea78'; }
.codicon-beaker:before { content: '\ea79'; }
.codicon-microscope:before { content: '\ea79'; }
.codicon-vm:before { content: '\ea7a'; }
.codicon-device-desktop:before { content: '\ea7a'; }
.codicon-file:before { content: '\ea7b'; }
.codicon-file-text:before { content: '\ea7b'; }
.codicon-more:before { content: '\ea7c'; }
.codicon-ellipsis:before { content: '\ea7c'; }
.codicon-kebab-horizontal:before { content: '\ea7c'; }
.codicon-mail-reply:before { content: '\ea7d'; }
.codicon-reply:before { content: '\ea7d'; }
.codicon-organization:before { content: '\ea7e'; }
.codicon-organization-filled:before { content: '\ea7e'; }
.codicon-organization-outline:before { content: '\ea7e'; }
.codicon-new-file:before { content: '\ea7f'; }
.codicon-file-add:before { content: '\ea7f'; }
.codicon-new-folder:before { content: '\ea80'; }
.codicon-file-directory-create:before { content: '\ea80'; }
.codicon-trash:before { content: '\ea81'; }
.codicon-trashcan:before { content: '\ea81'; }
.codicon-history:before { content: '\ea82'; }
.codicon-clock:before { content: '\ea82'; }
.codicon-folder:before { content: '\ea83'; }
.codicon-file-directory:before { content: '\ea83'; }
.codicon-symbol-folder:before { content: '\ea83'; }
.codicon-logo-github:before { content: '\ea84'; }
.codicon-mark-github:before { content: '\ea84'; }
.codicon-github:before { content: '\ea84'; }
.codicon-terminal:before { content: '\ea85'; }
.codicon-console:before { content: '\ea85'; }
.codicon-repl:before { content: '\ea85'; }
.codicon-zap:before { content: '\ea86'; }
.codicon-symbol-event:before { content: '\ea86'; }
.codicon-error:before { content: '\ea87'; }
.codicon-stop:before { content: '\ea87'; }
.codicon-variable:before { content: '\ea88'; }
.codicon-symbol-variable:before { content: '\ea88'; }
.codicon-array:before { content: '\ea8a'; }
.codicon-symbol-array:before { content: '\ea8a'; }
.codicon-symbol-module:before { content: '\ea8b'; }
.codicon-symbol-package:before { content: '\ea8b'; }
.codicon-symbol-namespace:before { content: '\ea8b'; }
.codicon-symbol-object:before { content: '\ea8b'; }
.codicon-symbol-method:before { content: '\ea8c'; }
.codicon-symbol-function:before { content: '\ea8c'; }
.codicon-symbol-constructor:before { content: '\ea8c'; }
.codicon-symbol-boolean:before { content: '\ea8f'; }
.codicon-symbol-null:before { content: '\ea8f'; }
.codicon-symbol-numeric:before { content: '\ea90'; }
.codicon-symbol-number:before { content: '\ea90'; }
.codicon-symbol-structure:before { content: '\ea91'; }
.codicon-symbol-struct:before { content: '\ea91'; }
.codicon-symbol-parameter:before { content: '\ea92'; }
.codicon-symbol-type-parameter:before { content: '\ea92'; }
.codicon-symbol-key:before { content: '\ea93'; }
.codicon-symbol-text:before { content: '\ea93'; }
.codicon-symbol-reference:before { content: '\ea94'; }
.codicon-go-to-file:before { content: '\ea94'; }
.codicon-symbol-enum:before { content: '\ea95'; }
.codicon-symbol-value:before { content: '\ea95'; }
.codicon-symbol-ruler:before { content: '\ea96'; }
.codicon-symbol-unit:before { content: '\ea96'; }
.codicon-activate-breakpoints:before { content: '\ea97'; }
.codicon-archive:before { content: '\ea98'; }
.codicon-arrow-both:before { content: '\ea99'; }
.codicon-arrow-down:before { content: '\ea9a'; }
.codicon-arrow-left:before { content: '\ea9b'; }
.codicon-arrow-right:before { content: '\ea9c'; }
.codicon-arrow-small-down:before { content: '\ea9d'; }
.codicon-arrow-small-left:before { content: '\ea9e'; }
.codicon-arrow-small-right:before { content: '\ea9f'; }
.codicon-arrow-small-up:before { content: '\eaa0'; }
.codicon-arrow-up:before { content: '\eaa1'; }
.codicon-bell:before { content: '\eaa2'; }
.codicon-bold:before { content: '\eaa3'; }
.codicon-book:before { content: '\eaa4'; }
.codicon-bookmark:before { content: '\eaa5'; }
.codicon-debug-breakpoint-conditional-unverified:before { content: '\eaa6'; }
.codicon-debug-breakpoint-conditional:before { content: '\eaa7'; }
.codicon-debug-breakpoint-conditional-disabled:before { content: '\eaa7'; }
.codicon-debug-breakpoint-data-unverified:before { content: '\eaa8'; }
.codicon-debug-breakpoint-data:before { content: '\eaa9'; }
.codicon-debug-breakpoint-data-disabled:before { content: '\eaa9'; }
.codicon-debug-breakpoint-log-unverified:before { content: '\eaaa'; }
.codicon-debug-breakpoint-log:before { content: '\eaab'; }
.codicon-debug-breakpoint-log-disabled:before { content: '\eaab'; }
.codicon-briefcase:before { content: '\eaac'; }
.codicon-broadcast:before { content: '\eaad'; }
.codicon-browser:before { content: '\eaae'; }
.codicon-bug:before { content: '\eaaf'; }
.codicon-calendar:before { content: '\eab0'; }
.codicon-case-sensitive:before { content: '\eab1'; }
.codicon-check:before { content: '\eab2'; }
.codicon-checklist:before { content: '\eab3'; }
.codicon-chevron-down:before { content: '\eab4'; }
.codicon-drop-down-button:before { content: '\eab4'; }
.codicon-chevron-left:before { content: '\eab5'; }
.codicon-chevron-right:before { content: '\eab6'; }
.codicon-chevron-up:before { content: '\eab7'; }
.codicon-chrome-close:before { content: '\eab8'; }
.codicon-chrome-maximize:before { content: '\eab9'; }
.codicon-chrome-minimize:before { content: '\eaba'; }
.codicon-chrome-restore:before { content: '\eabb'; }
.codicon-circle:before { content: '\eabc'; }
.codicon-circle-outline:before { content: '\eabc'; }
.codicon-debug-breakpoint-unverified:before { content: '\eabc'; }
.codicon-circle-slash:before { content: '\eabd'; }
.codicon-circuit-board:before { content: '\eabe'; }
.codicon-clear-all:before { content: '\eabf'; }
.codicon-clippy:before { content: '\eac0'; }
.codicon-close-all:before { content: '\eac1'; }
.codicon-cloud-download:before { content: '\eac2'; }
.codicon-cloud-upload:before { content: '\eac3'; }
.codicon-code:before { content: '\eac4'; }
.codicon-collapse-all:before { content: '\eac5'; }
.codicon-color-mode:before { content: '\eac6'; }
.codicon-comment-discussion:before { content: '\eac7'; }
.codicon-compare-changes:before { content: '\eafd'; }
.codicon-credit-card:before { content: '\eac9'; }
.codicon-dash:before { content: '\eacc'; }
.codicon-dashboard:before { content: '\eacd'; }
.codicon-database:before { content: '\eace'; }
.codicon-debug-continue:before { content: '\eacf'; }
.codicon-debug-disconnect:before { content: '\ead0'; }
.codicon-debug-pause:before { content: '\ead1'; }
.codicon-debug-restart:before { content: '\ead2'; }
.codicon-debug-start:before { content: '\ead3'; }
.codicon-debug-step-into:before { content: '\ead4'; }
.codicon-debug-step-out:before { content: '\ead5'; }
.codicon-debug-step-over:before { content: '\ead6'; }
.codicon-debug-stop:before { content: '\ead7'; }
.codicon-debug:before { content: '\ead8'; }
.codicon-device-camera-video:before { content: '\ead9'; }
.codicon-device-camera:before { content: '\eada'; }
.codicon-device-mobile:before { content: '\eadb'; }
.codicon-diff-added:before { content: '\eadc'; }
.codicon-diff-ignored:before { content: '\eadd'; }
.codicon-diff-modified:before { content: '\eade'; }
.codicon-diff-removed:before { content: '\eadf'; }
.codicon-diff-renamed:before { content: '\eae0'; }
.codicon-diff:before { content: '\eae1'; }
.codicon-discard:before { content: '\eae2'; }
.codicon-editor-layout:before { content: '\eae3'; }
.codicon-empty-window:before { content: '\eae4'; }
.codicon-exclude:before { content: '\eae5'; }
.codicon-extensions:before { content: '\eae6'; }
.codicon-eye-closed:before { content: '\eae7'; }
.codicon-file-binary:before { content: '\eae8'; }
.codicon-file-code:before { content: '\eae9'; }
.codicon-file-media:before { content: '\eaea'; }
.codicon-file-pdf:before { content: '\eaeb'; }
.codicon-file-submodule:before { content: '\eaec'; }
.codicon-file-symlink-directory:before { content: '\eaed'; }
.codicon-file-symlink-file:before { content: '\eaee'; }
.codicon-file-zip:before { content: '\eaef'; }
.codicon-files:before { content: '\eaf0'; }
.codicon-filter:before { content: '\eaf1'; }
.codicon-flame:before { content: '\eaf2'; }
.codicon-fold-down:before { content: '\eaf3'; }
.codicon-fold-up:before { content: '\eaf4'; }
.codicon-fold:before { content: '\eaf5'; }
.codicon-folder-active:before { content: '\eaf6'; }
.codicon-folder-opened:before { content: '\eaf7'; }
.codicon-gear:before { content: '\eaf8'; }
.codicon-gift:before { content: '\eaf9'; }
.codicon-gist-secret:before { content: '\eafa'; }
.codicon-gist:before { content: '\eafb'; }
.codicon-git-commit:before { content: '\eafc'; }
.codicon-git-compare:before { content: '\eafd'; }
.codicon-git-merge:before { content: '\eafe'; }
.codicon-github-action:before { content: '\eaff'; }
.codicon-github-alt:before { content: '\eb00'; }
.codicon-globe:before { content: '\eb01'; }
.codicon-grabber:before { content: '\eb02'; }
.codicon-graph:before { content: '\eb03'; }
.codicon-gripper:before { content: '\eb04'; }
.codicon-heart:before { content: '\eb05'; }
.codicon-home:before { content: '\eb06'; }
.codicon-horizontal-rule:before { content: '\eb07'; }
.codicon-hubot:before { content: '\eb08'; }
.codicon-inbox:before { content: '\eb09'; }
.codicon-issue-closed:before { content: '\eba4'; }
.codicon-issue-reopened:before { content: '\eb0b'; }
.codicon-issues:before { content: '\eb0c'; }
.codicon-italic:before { content: '\eb0d'; }
.codicon-jersey:before { content: '\eb0e'; }
.codicon-json:before { content: '\eb0f'; }
.codicon-bracket:before { content: '\eb0f'; }
.codicon-kebab-vertical:before { content: '\eb10'; }
.codicon-key:before { content: '\eb11'; }
.codicon-law:before { content: '\eb12'; }
.codicon-lightbulb-autofix:before { content: '\eb13'; }
.codicon-link-external:before { content: '\eb14'; }
.codicon-link:before { content: '\eb15'; }
.codicon-list-ordered:before { content: '\eb16'; }
.codicon-list-unordered:before { content: '\eb17'; }
.codicon-live-share:before { content: '\eb18'; }
.codicon-loading:before { content: '\eb19'; }
.codicon-location:before { content: '\eb1a'; }
.codicon-mail-read:before { content: '\eb1b'; }
.codicon-mail:before { content: '\eb1c'; }
.codicon-markdown:before { content: '\eb1d'; }
.codicon-megaphone:before { content: '\eb1e'; }
.codicon-mention:before { content: '\eb1f'; }
.codicon-milestone:before { content: '\eb20'; }
.codicon-mortar-board:before { content: '\eb21'; }
.codicon-move:before { content: '\eb22'; }
.codicon-multiple-windows:before { content: '\eb23'; }
.codicon-mute:before { content: '\eb24'; }
.codicon-no-newline:before { content: '\eb25'; }
.codicon-note:before { content: '\eb26'; }
.codicon-octoface:before { content: '\eb27'; }
.codicon-open-preview:before { content: '\eb28'; }
.codicon-package:before { content: '\eb29'; }
.codicon-paintcan:before { content: '\eb2a'; }
.codicon-pin:before { content: '\eb2b'; }
.codicon-play:before { content: '\eb2c'; }
.codicon-run:before { content: '\eb2c'; }
.codicon-plug:before { content: '\eb2d'; }
.codicon-preserve-case:before { content: '\eb2e'; }
.codicon-preview:before { content: '\eb2f'; }
.codicon-project:before { content: '\eb30'; }
.codicon-pulse:before { content: '\eb31'; }
.codicon-question:before { content: '\eb32'; }
.codicon-quote:before { content: '\eb33'; }
.codicon-radio-tower:before { content: '\eb34'; }
.codicon-reactions:before { content: '\eb35'; }
.codicon-references:before { content: '\eb36'; }
.codicon-refresh:before { content: '\eb37'; }
.codicon-regex:before { content: '\eb38'; }
.codicon-remote-explorer:before { content: '\eb39'; }
.codicon-remote:before { content: '\eb3a'; }
.codicon-remove:before { content: '\eb3b'; }
.codicon-replace-all:before { content: '\eb3c'; }
.codicon-replace:before { content: '\eb3d'; }
.codicon-repo-clone:before { content: '\eb3e'; }
.codicon-repo-force-push:before { content: '\eb3f'; }
.codicon-repo-pull:before { content: '\eb40'; }
.codicon-repo-push:before { content: '\eb41'; }
.codicon-report:before { content: '\eb42'; }
.codicon-request-changes:before { content: '\eb43'; }
.codicon-rocket:before { content: '\eb44'; }
.codicon-root-folder-opened:before { content: '\eb45'; }
.codicon-root-folder:before { content: '\eb46'; }
.codicon-rss:before { content: '\eb47'; }
.codicon-ruby:before { content: '\eb48'; }
.codicon-save-all:before { content: '\eb49'; }
.codicon-save-as:before { content: '\eb4a'; }
.codicon-save:before { content: '\eb4b'; }
.codicon-screen-full:before { content: '\eb4c'; }
.codicon-screen-normal:before { content: '\eb4d'; }
.codicon-search-stop:before { content: '\eb4e'; }
.codicon-server:before { content: '\eb50'; }
.codicon-settings-gear:before { content: '\eb51'; }
.codicon-settings:before { content: '\eb52'; }
.codicon-shield:before { content: '\eb53'; }
.codicon-smiley:before { content: '\eb54'; }
.codicon-sort-precedence:before { content: '\eb55'; }
.codicon-split-horizontal:before { content: '\eb56'; }
.codicon-split-vertical:before { content: '\eb57'; }
.codicon-squirrel:before { content: '\eb58'; }
.codicon-star-full:before { content: '\eb59'; }
.codicon-star-half:before { content: '\eb5a'; }
.codicon-symbol-class:before { content: '\eb5b'; }
.codicon-symbol-color:before { content: '\eb5c'; }
.codicon-symbol-customcolor:before { content: '\eb5c'; }
.codicon-symbol-constant:before { content: '\eb5d'; }
.codicon-symbol-enum-member:before { content: '\eb5e'; }
.codicon-symbol-field:before { content: '\eb5f'; }
.codicon-symbol-file:before { content: '\eb60'; }
.codicon-symbol-interface:before { content: '\eb61'; }
.codicon-symbol-keyword:before { content: '\eb62'; }
.codicon-symbol-misc:before { content: '\eb63'; }
.codicon-symbol-operator:before { content: '\eb64'; }
.codicon-symbol-property:before { content: '\eb65'; }
.codicon-wrench:before { content: '\eb65'; }
.codicon-wrench-subaction:before { content: '\eb65'; }
.codicon-symbol-snippet:before { content: '\eb66'; }
.codicon-tasklist:before { content: '\eb67'; }
.codicon-telescope:before { content: '\eb68'; }
.codicon-text-size:before { content: '\eb69'; }
.codicon-three-bars:before { content: '\eb6a'; }
.codicon-thumbsdown:before { content: '\eb6b'; }
.codicon-thumbsup:before { content: '\eb6c'; }
.codicon-tools:before { content: '\eb6d'; }
.codicon-triangle-down:before { content: '\eb6e'; }
.codicon-triangle-left:before { content: '\eb6f'; }
.codicon-triangle-right:before { content: '\eb70'; }
.codicon-triangle-up:before { content: '\eb71'; }
.codicon-twitter:before { content: '\eb72'; }
.codicon-unfold:before { content: '\eb73'; }
.codicon-unlock:before { content: '\eb74'; }
.codicon-unmute:before { content: '\eb75'; }
.codicon-unverified:before { content: '\eb76'; }
.codicon-verified:before { content: '\eb77'; }
.codicon-versions:before { content: '\eb78'; }
.codicon-vm-active:before { content: '\eb79'; }
.codicon-vm-outline:before { content: '\eb7a'; }
.codicon-vm-running:before { content: '\eb7b'; }
.codicon-watch:before { content: '\eb7c'; }
.codicon-whitespace:before { content: '\eb7d'; }
.codicon-whole-word:before { content: '\eb7e'; }
.codicon-window:before { content: '\eb7f'; }
.codicon-word-wrap:before { content: '\eb80'; }
.codicon-zoom-in:before { content: '\eb81'; }
.codicon-zoom-out:before { content: '\eb82'; }
.codicon-list-filter:before { content: '\eb83'; }
.codicon-list-flat:before { content: '\eb84'; }
.codicon-list-selection:before { content: '\eb85'; }
.codicon-selection:before { content: '\eb85'; }
.codicon-list-tree:before { content: '\eb86'; }
.codicon-debug-breakpoint-function-unverified:before { content: '\eb87'; }
.codicon-debug-breakpoint-function:before { content: '\eb88'; }
.codicon-debug-breakpoint-function-disabled:before { content: '\eb88'; }
.codicon-debug-stackframe-active:before { content: '\eb89'; }
.codicon-circle-small-filled:before { content: '\eb8a'; }
.codicon-debug-stackframe-dot:before { content: '\eb8a'; }
.codicon-debug-stackframe:before { content: '\eb8b'; }
.codicon-debug-stackframe-focused:before { content: '\eb8b'; }
.codicon-debug-breakpoint-unsupported:before { content: '\eb8c'; }
.codicon-symbol-string:before { content: '\eb8d'; }
.codicon-debug-reverse-continue:before { content: '\eb8e'; }
.codicon-debug-step-back:before { content: '\eb8f'; }
.codicon-debug-restart-frame:before { content: '\eb90'; }
.codicon-call-incoming:before { content: '\eb92'; }
.codicon-call-outgoing:before { content: '\eb93'; }
.codicon-menu:before { content: '\eb94'; }
.codicon-expand-all:before { content: '\eb95'; }
.codicon-feedback:before { content: '\eb96'; }
.codicon-group-by-ref-type:before { content: '\eb97'; }
.codicon-ungroup-by-ref-type:before { content: '\eb98'; }
.codicon-account:before { content: '\eb99'; }
.codicon-bell-dot:before { content: '\eb9a'; }
.codicon-debug-console:before { content: '\eb9b'; }
.codicon-library:before { content: '\eb9c'; }
.codicon-output:before { content: '\eb9d'; }
.codicon-run-all:before { content: '\eb9e'; }
.codicon-sync-ignored:before { content: '\eb9f'; }
.codicon-pinned:before { content: '\eba0'; }
.codicon-github-inverted:before { content: '\eba1'; }
.codicon-debug-alt:before { content: '\eb91'; }
.codicon-server-process:before { content: '\eba2'; }
.codicon-server-environment:before { content: '\eba3'; }
.codicon-pass:before { content: '\eba4'; }
.codicon-stop-circle:before { content: '\eba5'; }
.codicon-play-circle:before { content: '\eba6'; }
.codicon-record:before { content: '\eba7'; }
.codicon-debug-alt-small:before { content: '\eba8'; }
.codicon-vm-connect:before { content: '\eba9'; }
.codicon-cloud:before { content: '\ebaa'; }
.codicon-merge:before { content: '\ebab'; }
.codicon-export:before { content: '\ebac'; }
.codicon-graph-left:before { content: '\ebad'; }
.codicon-magnet:before { content: '\ebae'; }
.codicon-notebook:before { content: '\ebaf'; }
.codicon-redo:before { content: '\ebb0'; }
.codicon-check-all:before { content: '\ebb1'; }
.codicon-pinned-dirty:before { content: '\ebb2'; }
.codicon-pass-filled:before { content: '\ebb3'; }
.codicon-circle-large-filled:before { content: '\ebb4'; }
.codicon-circle-large:before { content: '\ebb5'; }
.codicon-circle-large-outline:before { content: '\ebb5'; }
.codicon-combine:before { content: '\ebb6'; }
.codicon-gather:before { content: '\ebb6'; }
.codicon-table:before { content: '\ebb7'; }
.codicon-variable-group:before { content: '\ebb8'; }
.codicon-type-hierarchy:before { content: '\ebb9'; }
.codicon-type-hierarchy-sub:before { content: '\ebba'; }
.codicon-type-hierarchy-super:before { content: '\ebbb'; }
.codicon-git-pull-request-create:before { content: '\ebbc'; }
.codicon-run-above:before { content: '\ebbd'; }
.codicon-run-below:before { content: '\ebbe'; }
.codicon-notebook-template:before { content: '\ebbf'; }
.codicon-debug-rerun:before { content: '\ebc0'; }
.codicon-workspace-trusted:before { content: '\ebc1'; }
.codicon-workspace-untrusted:before { content: '\ebc2'; }
.codicon-workspace-unspecified:before { content: '\ebc3'; }
.codicon-terminal-cmd:before { content: '\ebc4'; }
.codicon-terminal-debian:before { content: '\ebc5'; }
.codicon-terminal-linux:before { content: '\ebc6'; }
.codicon-terminal-powershell:before { content: '\ebc7'; }
.codicon-terminal-tmux:before { content: '\ebc8'; }
.codicon-terminal-ubuntu:before { content: '\ebc9'; }
.codicon-terminal-bash:before { content: '\ebca'; }
.codicon-arrow-swap:before { content: '\ebcb'; }
.codicon-copy:before { content: '\ebcc'; }
.codicon-person-add:before { content: '\ebcd'; }
.codicon-filter-filled:before { content: '\ebce'; }
.codicon-wand:before { content: '\ebcf'; }
.codicon-debug-line-by-line:before { content: '\ebd0'; }
.codicon-inspect:before { content: '\ebd1'; }
.codicon-layers:before { content: '\ebd2'; }
.codicon-layers-dot:before { content: '\ebd3'; }
.codicon-layers-active:before { content: '\ebd4'; }
.codicon-compass:before { content: '\ebd5'; }
.codicon-compass-dot:before { content: '\ebd6'; }
.codicon-compass-active:before { content: '\ebd7'; }
.codicon-azure:before { content: '\ebd8'; }
.codicon-issue-draft:before { content: '\ebd9'; }
.codicon-git-pull-request-closed:before { content: '\ebda'; }
.codicon-git-pull-request-draft:before { content: '\ebdb'; }
.codicon-debug-all:before { content: '\ebdc'; }
.codicon-debug-coverage:before { content: '\ebdd'; }
.codicon-run-errors:before { content: '\ebde'; }
.codicon-folder-library:before { content: '\ebdf'; }
.codicon-debug-continue-small:before { content: '\ebe0'; }
.codicon-beaker-stop:before { content: '\ebe1'; }
.codicon-graph-line:before { content: '\ebe2'; }
.codicon-graph-scatter:before { content: '\ebe3'; }
.codicon-pie-chart:before { content: '\ebe4'; }
.codicon-bracket-dot:before { content: '\ebe5'; }
.codicon-bracket-error:before { content: '\ebe6'; }
.codicon-lock-small:before { content: '\ebe7'; }
.codicon-azure-devops:before { content: '\ebe8'; }
.codicon-verified-filled:before { content: '\ebe9'; }
.codicon-newline:before { content: '\ebea'; }
.codicon-layout:before { content: '\ebeb'; }
.codicon-layout-activitybar-left:before { content: '\ebec'; }
.codicon-layout-activitybar-right:before { content: '\ebed'; }
.codicon-layout-panel-left:before { content: '\ebee'; }
.codicon-layout-panel-center:before { content: '\ebef'; }
.codicon-layout-panel-justify:before { content: '\ebf0'; }
.codicon-layout-panel-right:before { content: '\ebf1'; }
.codicon-layout-panel:before { content: '\ebf2'; }
.codicon-layout-sidebar-left:before { content: '\ebf3'; }
.codicon-layout-sidebar-right:before { content: '\ebf4'; }
.codicon-layout-statusbar:before { content: '\ebf5'; }
.codicon-layout-menubar:before { content: '\ebf6'; }
.codicon-layout-centered:before { content: '\ebf7'; }
.codicon-layout-sidebar-right-off:before { content: '\ec00'; }
.codicon-layout-panel-off:before { content: '\ec01'; }
.codicon-layout-sidebar-left-off:before { content: '\ec02'; }
.codicon-target:before { content: '\ebf8'; }
.codicon-indent:before { content: '\ebf9'; }
.codicon-record-small:before { content: '\ebfa'; }
.codicon-error-small:before { content: '\ebfb'; }
.codicon-arrow-circle-down:before { content: '\ebfc'; }
.codicon-arrow-circle-left:before { content: '\ebfd'; }
.codicon-arrow-circle-right:before { content: '\ebfe'; }
.codicon-arrow-circle-up:before { content: '\ebff'; }
.codicon-heart-filled:before { content: '\ec04'; }
.codicon-map:before { content: '\ec05'; }
.codicon-map-filled:before { content: '\ec06'; }
.codicon-circle-small:before { content: '\ec07'; }
.codicon-bell-slash:before { content: '\ec08'; }
.codicon-bell-slash-dot:before { content: '\ec09'; }
.codicon-comment-unresolved:before { content: '\ec0a'; }
.codicon-git-pull-request-go-to-changes:before { content: '\ec0b'; }
.codicon-git-pull-request-new-changes:before { content: '\ec0c'; }
.codicon-search-fuzzy:before { content: '\ec0d'; }
.codicon-comment-draft:before { content: '\ec0e'; }
.codicon-send:before { content: '\ec0f'; }
.codicon-sparkle:before { content: '\ec10'; }
.codicon-insert:before { content: '\ec11'; }
.codicon-dialog-error:before { content: '\ea87'; }
.codicon-dialog-warning:before { content: '\ea6c'; }
.codicon-dialog-info:before { content: '\ea74'; }
.codicon-dialog-close:before { content: '\ea76'; }
.codicon-tree-item-expanded:before { content: '\eab4'; }
.codicon-tree-filter-on-type-on:before { content: '\eb83'; }
.codicon-tree-filter-on-type-off:before { content: '\eb85'; }
.codicon-tree-filter-clear:before { content: '\ea76'; }
.codicon-tree-item-loading:before { content: '\eb19'; }
.codicon-menu-selection:before { content: '\eab2'; }
.codicon-menu-submenu:before { content: '\eab6'; }
.codicon-menubar-more:before { content: '\ea7c'; }
.codicon-scrollbar-button-left:before { content: '\eb6f'; }
.codicon-scrollbar-button-right:before { content: '\eb70'; }
.codicon-scrollbar-button-up:before { content: '\eb71'; }
.codicon-scrollbar-button-down:before { content: '\eb6e'; }
.codicon-toolbar-more:before { content: '\ea7c'; }
.codicon-quick-input-back:before { content: '\ea9b'; }
.codicon-widget-close:before { content: '\ea76'; }
.codicon-goto-previous-location:before { content: '\eaa1'; }
.codicon-goto-next-location:before { content: '\ea9a'; }
.codicon-diff-review-insert:before { content: '\ea60'; }
.codicon-diff-review-remove:before { content: '\eb3b'; }
.codicon-diff-review-close:before { content: '\ea76'; }
.codicon-parameter-hints-next:before { content: '\eab4'; }
.codicon-parameter-hints-previous:before { content: '\eab7'; }
.codicon-suggest-more-info:before { content: '\eab6'; }
.codicon-inline-suggestion-hints-next:before { content: '\eab6'; }
.codicon-inline-suggestion-hints-previous:before { content: '\eab5'; }
.codicon-diff-insert:before { content: '\ea60'; }
.codicon-diff-remove:before { content: '\eb3b'; }
.codicon-find-selection:before { content: '\eb85'; }
.codicon-find-collapsed:before { content: '\eab6'; }
.codicon-find-expanded:before { content: '\eab4'; }
.codicon-find-replace:before { content: '\eb3d'; }
.codicon-find-replace-all:before { content: '\eb3c'; }
.codicon-find-previous-match:before { content: '\eaa1'; }
.codicon-find-next-match:before { content: '\ea9a'; }
.codicon-folding-expanded:before { content: '\eab4'; }
.codicon-folding-collapsed:before { content: '\eab6'; }
.codicon-folding-manual-collapsed:before { content: '\eab6'; }
.codicon-folding-manual-expanded:before { content: '\eab4'; }
.codicon-marker-navigation-next:before { content: '\ea9a'; }
.codicon-marker-navigation-previous:before { content: '\eaa1'; }
.codicon-extensions-warning-message:before { content: '\ea6c'; }
.monaco-editor .inputarea.ime-input { background-color: #f7f7f7; }
.monaco-editor .view-overlays .current-line { border: 2px solid #eeeeee; }
.monaco-editor .margin-view-overlays .current-line-margin { border: 2px solid #eeeeee; }
.monaco-editor .bracket-indent-guide.lvl-0 { --guide-color: rgba(4, 49, 250, 0.3); --guide-color-active: #0431fa; }
.monaco-editor .bracket-indent-guide.lvl-1 { --guide-color: rgba(49, 147, 49, 0.3); --guide-color-active: #319331; }
.monaco-editor .bracket-indent-guide.lvl-2 { --guide-color: rgba(123, 56, 20, 0.3); --guide-color-active: #7b3814; }
.monaco-editor .bracket-indent-guide.lvl-3 { --guide-color: rgba(4, 49, 250, 0.3); --guide-color-active: #0431fa; }
.monaco-editor .bracket-indent-guide.lvl-4 { --guide-color: rgba(49, 147, 49, 0.3); --guide-color-active: #319331; }
.monaco-editor .bracket-indent-guide.lvl-5 { --guide-color: rgba(123, 56, 20, 0.3); --guide-color-active: #7b3814; }
.monaco-editor .bracket-indent-guide.lvl-6 { --guide-color: rgba(4, 49, 250, 0.3); --guide-color-active: #0431fa; }
.monaco-editor .bracket-indent-guide.lvl-7 { --guide-color: rgba(49, 147, 49, 0.3); --guide-color-active: #319331; }
.monaco-editor .bracket-indent-guide.lvl-8 { --guide-color: rgba(123, 56, 20, 0.3); --guide-color-active: #7b3814; }
.monaco-editor .bracket-indent-guide.lvl-9 { --guide-color: rgba(4, 49, 250, 0.3); --guide-color-active: #0431fa; }
.monaco-editor .bracket-indent-guide.lvl-10 { --guide-color: rgba(49, 147, 49, 0.3); --guide-color-active: #319331; }
.monaco-editor .bracket-indent-guide.lvl-11 { --guide-color: rgba(123, 56, 20, 0.3); --guide-color-active: #7b3814; }
.monaco-editor .bracket-indent-guide.lvl-12 { --guide-color: rgba(4, 49, 250, 0.3); --guide-color-active: #0431fa; }
.monaco-editor .bracket-indent-guide.lvl-13 { --guide-color: rgba(49, 147, 49, 0.3); --guide-color-active: #319331; }
.monaco-editor .bracket-indent-guide.lvl-14 { --guide-color: rgba(123, 56, 20, 0.3); --guide-color-active: #7b3814; }
.monaco-editor .bracket-indent-guide.lvl-15 { --guide-color: rgba(4, 49, 250, 0.3); --guide-color-active: #0431fa; }
.monaco-editor .bracket-indent-guide.lvl-16 { --guide-color: rgba(49, 147, 49, 0.3); --guide-color-active: #319331; }
.monaco-editor .bracket-indent-guide.lvl-17 { --guide-color: rgba(123, 56, 20, 0.3); --guide-color-active: #7b3814; }
.monaco-editor .bracket-indent-guide.lvl-18 { --guide-color: rgba(4, 49, 250, 0.3); --guide-color-active: #0431fa; }
.monaco-editor .bracket-indent-guide.lvl-19 { --guide-color: rgba(49, 147, 49, 0.3); --guide-color-active: #319331; }
.monaco-editor .bracket-indent-guide.lvl-20 { --guide-color: rgba(123, 56, 20, 0.3); --guide-color-active: #7b3814; }
.monaco-editor .bracket-indent-guide.lvl-21 { --guide-color: rgba(4, 49, 250, 0.3); --guide-color-active: #0431fa; }
.monaco-editor .bracket-indent-guide.lvl-22 { --guide-color: rgba(49, 147, 49, 0.3); --guide-color-active: #319331; }
.monaco-editor .bracket-indent-guide.lvl-23 { --guide-color: rgba(123, 56, 20, 0.3); --guide-color-active: #7b3814; }
.monaco-editor .bracket-indent-guide.lvl-24 { --guide-color: rgba(4, 49, 250, 0.3); --guide-color-active: #0431fa; }
.monaco-editor .bracket-indent-guide.lvl-25 { --guide-color: rgba(49, 147, 49, 0.3); --guide-color-active: #319331; }
.monaco-editor .bracket-indent-guide.lvl-26 { --guide-color: rgba(123, 56, 20, 0.3); --guide-color-active: #7b3814; }
.monaco-editor .bracket-indent-guide.lvl-27 { --guide-color: rgba(4, 49, 250, 0.3); --guide-color-active: #0431fa; }
.monaco-editor .bracket-indent-guide.lvl-28 { --guide-color: rgba(49, 147, 49, 0.3); --guide-color-active: #319331; }
.monaco-editor .bracket-indent-guide.lvl-29 { --guide-color: rgba(123, 56, 20, 0.3); --guide-color-active: #7b3814; }
.monaco-editor .vertical { box-shadow: 1px 0 0 0 var(--guide-color) inset; }
.monaco-editor .horizontal-top { border-top: 1px solid var(--guide-color); }
.monaco-editor .horizontal-bottom { border-bottom: 1px solid var(--guide-color); }
.monaco-editor .vertical.indent-active { box-shadow: 1px 0 0 0 var(--guide-color-active) inset; }
.monaco-editor .horizontal-top.indent-active { border-top: 1px solid var(--guide-color-active); }
.monaco-editor .horizontal-bottom.indent-active { border-bottom: 1px solid var(--guide-color-active); }
.monaco-editor .line-numbers.dimmed-line-number { color: rgba(153, 153, 153, 0.4); }
.monaco-editor .cursors-layer .cursor { background-color: #000000; border-color: #000000; color: #ffffff; }
.monaco-editor .unexpected-closing-bracket { color: rgba(255, 18, 18, 0.8); }
.monaco-editor .bracket-highlighting-0 { color: #0431fa; }
.monaco-editor .bracket-highlighting-1 { color: #319331; }
.monaco-editor .bracket-highlighting-2 { color: #7b3814; }
.monaco-editor .bracket-highlighting-3 { color: #0431fa; }
.monaco-editor .bracket-highlighting-4 { color: #319331; }
.monaco-editor .bracket-highlighting-5 { color: #7b3814; }
.monaco-editor .bracket-highlighting-6 { color: #0431fa; }
.monaco-editor .bracket-highlighting-7 { color: #319331; }
.monaco-editor .bracket-highlighting-8 { color: #7b3814; }
.monaco-editor .bracket-highlighting-9 { color: #0431fa; }
.monaco-editor .bracket-highlighting-10 { color: #319331; }
.monaco-editor .bracket-highlighting-11 { color: #7b3814; }
.monaco-editor .bracket-highlighting-12 { color: #0431fa; }
.monaco-editor .bracket-highlighting-13 { color: #319331; }
.monaco-editor .bracket-highlighting-14 { color: #7b3814; }
.monaco-editor .bracket-highlighting-15 { color: #0431fa; }
.monaco-editor .bracket-highlighting-16 { color: #319331; }
.monaco-editor .bracket-highlighting-17 { color: #7b3814; }
.monaco-editor .bracket-highlighting-18 { color: #0431fa; }
.monaco-editor .bracket-highlighting-19 { color: #319331; }
.monaco-editor .bracket-highlighting-20 { color: #7b3814; }
.monaco-editor .bracket-highlighting-21 { color: #0431fa; }
.monaco-editor .bracket-highlighting-22 { color: #319331; }
.monaco-editor .bracket-highlighting-23 { color: #7b3814; }
.monaco-editor .bracket-highlighting-24 { color: #0431fa; }
.monaco-editor .bracket-highlighting-25 { color: #319331; }
.monaco-editor .bracket-highlighting-26 { color: #7b3814; }
.monaco-editor .bracket-highlighting-27 { color: #0431fa; }
.monaco-editor .bracket-highlighting-28 { color: #319331; }
.monaco-editor .bracket-highlighting-29 { color: #7b3814; }
.monaco-editor .squiggly-error { background: url("data:image/svg+xml,%3Csvg%20xmlns%3D'http%3A%2F%2Fwww.w3.org%2F2000%2Fsvg'%20viewBox%3D'0%200%206%203'%20enable-background%3D'new%200%200%206%203'%20height%3D'3'%20width%3D'6'%3E%3Cg%20fill%3D'%23e51400'%3E%3Cpolygon%20points%3D'5.5%2C0%202.5%2C3%201.1%2C3%204.1%2C0'%2F%3E%3Cpolygon%20points%3D'4%2C0%206%2C2%206%2C0.6%205.4%2C0'%2F%3E%3Cpolygon%20points%3D'0%2C2%201%2C3%202.4%2C3%200%2C0.6'%2F%3E%3C%2Fg%3E%3C%2Fsvg%3E") repeat-x bottom left; }
.monaco-editor .squiggly-warning { background: url("data:image/svg+xml,%3Csvg%20xmlns%3D'http%3A%2F%2Fwww.w3.org%2F2000%2Fsvg'%20viewBox%3D'0%200%206%203'%20enable-background%3D'new%200%200%206%203'%20height%3D'3'%20width%3D'6'%3E%3Cg%20fill%3D'%23bf8803'%3E%3Cpolygon%20points%3D'5.5%2C0%202.5%2C3%201.1%2C3%204.1%2C0'%2F%3E%3Cpolygon%20points%3D'4%2C0%206%2C2%206%2C0.6%205.4%2C0'%2F%3E%3Cpolygon%20points%3D'0%2C2%201%2C3%202.4%2C3%200%2C0.6'%2F%3E%3C%2Fg%3E%3C%2Fsvg%3E") repeat-x bottom left; }
.monaco-editor .squiggly-info { background: url("data:image/svg+xml,%3Csvg%20xmlns%3D'http%3A%2F%2Fwww.w3.org%2F2000%2Fsvg'%20viewBox%3D'0%200%206%203'%20enable-background%3D'new%200%200%206%203'%20height%3D'3'%20width%3D'6'%3E%3Cg%20fill%3D'%231a85ff'%3E%3Cpolygon%20points%3D'5.5%2C0%202.5%2C3%201.1%2C3%204.1%2C0'%2F%3E%3Cpolygon%20points%3D'4%2C0%206%2C2%206%2C0.6%205.4%2C0'%2F%3E%3Cpolygon%20points%3D'0%2C2%201%2C3%202.4%2C3%200%2C0.6'%2F%3E%3C%2Fg%3E%3C%2Fsvg%3E") repeat-x bottom left; }
.monaco-editor .squiggly-hint { background: url("data:image/svg+xml,%3Csvg%20xmlns%3D%22http%3A%2F%2Fwww.w3.org%2F2000%2Fsvg%22%20height%3D%223%22%20width%3D%2212%22%3E%3Cg%20fill%3D%22%236c6c6c%22%3E%3Ccircle%20cx%3D%221%22%20cy%3D%221%22%20r%3D%221%22%2F%3E%3Ccircle%20cx%3D%225%22%20cy%3D%221%22%20r%3D%221%22%2F%3E%3Ccircle%20cx%3D%229%22%20cy%3D%221%22%20r%3D%221%22%2F%3E%3C%2Fg%3E%3C%2Fsvg%3E") no-repeat bottom left; }
.monaco-editor.showUnused .squiggly-inline-unnecessary { opacity: 0.467; }
.monaco-editor .selectionHighlight { background-color: rgba(173, 214, 255, 0.15); }

	.monaco-editor .diagonal-fill {
		background-image: linear-gradient(
			-45deg,
			rgba(34, 34, 34, 0.2) 12.5%,
			#0000 12.5%, #0000 50%,
			rgba(34, 34, 34, 0.2) 50%, rgba(34, 34, 34, 0.2) 62.5%,
			#0000 62.5%, #0000 100%
		);
		background-size: 8px 8px;
	}
	
.monaco-editor .findMatch { background-color: rgba(234, 92, 0, 0.33); }
.monaco-editor .currentFindMatch { background-color: #a8ac94; }
.monaco-editor .findScope { background-color: rgba(180, 180, 180, 0.3); }
.monaco-editor .find-widget { background-color: #f3f3f3; }
.monaco-editor .find-widget { box-shadow: 0 0 8px 2px rgba(0, 0, 0, 0.16); }
.monaco-editor .find-widget { color: #616161; }
.monaco-editor .find-widget.no-results .matchesCount { color: #a1260d; }
.monaco-editor .find-widget .monaco-sash { background-color: #c8c8c8; }

		.monaco-editor .find-widget .button:not(.disabled):hover,
		.monaco-editor .find-widget .codicon-find-selection:hover {
			background-color: rgba(184, 184, 184, 0.31) !important;
		}
	
.monaco-editor .find-widget .monaco-inputbox.synthetic-focus { outline-color: #0090f1; }
.monaco-editor .monaco-hover .hover-row:not(:first-child):not(:empty) { border-top: 1px solid rgba(200, 200, 200, 0.5); }
.monaco-editor .monaco-hover hr { border-top: 1px solid rgba(200, 200, 200, 0.5); }
.monaco-editor .monaco-hover hr { border-bottom: 0px solid rgba(200, 200, 200, 0.5); }
.monaco-editor { --vscode-foreground: #616161;
--vscode-disabledForeground: rgba(97, 97, 97, 0.5);
--vscode-errorForeground: #a1260d;
--vscode-descriptionForeground: #717171;
--vscode-icon-foreground: #424242;
--vscode-focusBorder: #0090f1;
--vscode-textSeparator-foreground: rgba(0, 0, 0, 0.18);
--vscode-textLink-foreground: #006ab1;
--vscode-textLink-activeForeground: #006ab1;
--vscode-textPreformat-foreground: #a31515;
--vscode-textBlockQuote-background: rgba(127, 127, 127, 0.1);
--vscode-textBlockQuote-border: rgba(0, 122, 204, 0.5);
--vscode-textCodeBlock-background: rgba(220, 220, 220, 0.4);
--vscode-widget-shadow: rgba(0, 0, 0, 0.16);
--vscode-input-background: #ffffff;
--vscode-input-foreground: #616161;
--vscode-inputOption-activeBorder: #007acc;
--vscode-inputOption-hoverBackground: rgba(184, 184, 184, 0.31);
--vscode-inputOption-activeBackground: rgba(0, 144, 241, 0.2);
--vscode-inputOption-activeForeground: #000000;
--vscode-input-placeholderForeground: rgba(97, 97, 97, 0.5);
--vscode-inputValidation-infoBackground: #d6ecf2;
--vscode-inputValidation-infoBorder: #007acc;
--vscode-inputValidation-warningBackground: #f6f5d2;
--vscode-inputValidation-warningBorder: #b89500;
--vscode-inputValidation-errorBackground: #f2dede;
--vscode-inputValidation-errorBorder: #be1100;
--vscode-dropdown-background: #ffffff;
--vscode-dropdown-foreground: #616161;
--vscode-dropdown-border: #cecece;
--vscode-button-foreground: #ffffff;
--vscode-button-separator: rgba(255, 255, 255, 0.4);
--vscode-button-background: #007acc;
--vscode-button-hoverBackground: #0062a3;
--vscode-button-secondaryForeground: #ffffff;
--vscode-button-secondaryBackground: #5f6a79;
--vscode-button-secondaryHoverBackground: #4c5561;
--vscode-badge-background: #c4c4c4;
--vscode-badge-foreground: #333333;
--vscode-scrollbar-shadow: #dddddd;
--vscode-scrollbarSlider-background: rgba(100, 100, 100, 0.4);
--vscode-scrollbarSlider-hoverBackground: rgba(100, 100, 100, 0.7);
--vscode-scrollbarSlider-activeBackground: rgba(0, 0, 0, 0.6);
--vscode-progressBar-background: #0e70c0;
--vscode-editorError-foreground: #e51400;
--vscode-editorWarning-foreground: #bf8803;
--vscode-editorInfo-foreground: #1a85ff;
--vscode-editorHint-foreground: #6c6c6c;
--vscode-sash-hoverBorder: #0090f1;
--vscode-editor-background: #f7f7f7;
--vscode-editor-foreground: #000000;
--vscode-editorStickyScroll-background: #f7f7f7;
--vscode-editorStickyScrollHover-background: #f0f0f0;
--vscode-editorWidget-background: #f3f3f3;
--vscode-editorWidget-foreground: #616161;
--vscode-editorWidget-border: #c8c8c8;
--vscode-quickInput-background: #f3f3f3;
--vscode-quickInput-foreground: #616161;
--vscode-quickInputTitle-background: rgba(0, 0, 0, 0.06);
--vscode-pickerGroup-foreground: #0066bf;
--vscode-pickerGroup-border: #cccedb;
--vscode-keybindingLabel-background: rgba(221, 221, 221, 0.4);
--vscode-keybindingLabel-foreground: #555555;
--vscode-keybindingLabel-border: rgba(204, 204, 204, 0.4);
--vscode-keybindingLabel-bottomBorder: rgba(187, 187, 187, 0.4);
--vscode-editor-selectionBackground: #add6ff;
--vscode-editor-inactiveSelectionBackground: #e5ebf1;
--vscode-editor-selectionHighlightBackground: rgba(173, 214, 255, 0.3);
--vscode-editor-findMatchBackground: #a8ac94;
--vscode-editor-findMatchHighlightBackground: rgba(234, 92, 0, 0.33);
--vscode-editor-findRangeHighlightBackground: rgba(180, 180, 180, 0.3);
--vscode-searchEditor-findMatchBackground: rgba(234, 92, 0, 0.22);
--vscode-search-resultsInfoForeground: #616161;
--vscode-editor-hoverHighlightBackground: rgba(173, 214, 255, 0.15);
--vscode-editorHoverWidget-background: #f3f3f3;
--vscode-editorHoverWidget-foreground: #616161;
--vscode-editorHoverWidget-border: #c8c8c8;
--vscode-editorHoverWidget-statusBarBackground: #e7e7e7;
--vscode-editorLink-activeForeground: #0000ff;
--vscode-editorInlayHint-foreground: #616161;
--vscode-editorInlayHint-background: rgba(196, 196, 196, 0.3);
--vscode-editorInlayHint-typeForeground: #616161;
--vscode-editorInlayHint-typeBackground: rgba(196, 196, 196, 0.3);
--vscode-editorInlayHint-parameterForeground: #616161;
--vscode-editorInlayHint-parameterBackground: rgba(196, 196, 196, 0.3);
--vscode-editorLightBulb-foreground: #ddb100;
--vscode-editorLightBulbAutoFix-foreground: #007acc;
--vscode-diffEditor-insertedTextBackground: rgba(155, 185, 85, 0.09);
--vscode-diffEditor-removedTextBackground: rgba(255, 0, 0, 0.03);
--vscode-diffEditor-insertedLineBackground: rgba(155, 185, 85, 0.09);
--vscode-diffEditor-removedLineBackground: rgba(255, 0, 0, 0.03);
--vscode-diffEditor-diagonalFill: rgba(34, 34, 34, 0.2);
--vscode-diffEditor-unchangedRegionBackground: #e4e4e4;
--vscode-diffEditor-unchangedRegionForeground: #4d4c4c;
--vscode-diffEditor-unchangedCodeBackground: rgba(184, 184, 184, 0.16);
--vscode-list-focusOutline: #0090f1;
--vscode-list-activeSelectionBackground: #d6ebff;
--vscode-list-activeSelectionForeground: #000000;
--vscode-list-inactiveSelectionBackground: #e4e6f1;
--vscode-list-hoverBackground: #f0f0f0;
--vscode-list-dropBackground: #d6ebff;
--vscode-list-highlightForeground: #0066bf;
--vscode-list-focusHighlightForeground: #0066bf;
--vscode-list-invalidItemForeground: #b89500;
--vscode-list-errorForeground: #b01011;
--vscode-list-warningForeground: #855f00;
--vscode-listFilterWidget-background: #f3f3f3;
--vscode-listFilterWidget-outline: rgba(0, 0, 0, 0);
--vscode-listFilterWidget-noMatchesOutline: #be1100;
--vscode-listFilterWidget-shadow: rgba(0, 0, 0, 0.16);
--vscode-list-filterMatchBackground: rgba(234, 92, 0, 0.33);
--vscode-tree-indentGuidesStroke: #a9a9a9;
--vscode-tree-inactiveIndentGuidesStroke: rgba(169, 169, 169, 0.4);
--vscode-tree-tableColumnsBorder: rgba(97, 97, 97, 0.13);
--vscode-tree-tableOddRowsBackground: rgba(97, 97, 97, 0.04);
--vscode-list-deemphasizedForeground: #8e8e90;
--vscode-checkbox-background: #ffffff;
--vscode-checkbox-selectBackground: #f3f3f3;
--vscode-checkbox-foreground: #616161;
--vscode-checkbox-border: #cecece;
--vscode-checkbox-selectBorder: #424242;
--vscode-quickInputList-focusForeground: #000000;
--vscode-quickInputList-focusBackground: #d6ebff;
--vscode-menu-foreground: #616161;
--vscode-menu-background: #ffffff;
--vscode-menu-selectionForeground: #000000;
--vscode-menu-selectionBackground: #d6ebff;
--vscode-menu-separatorBackground: #d4d4d4;
--vscode-toolbar-hoverBackground: rgba(184, 184, 184, 0.31);
--vscode-toolbar-activeBackground: rgba(166, 166, 166, 0.31);
--vscode-editor-snippetTabstopHighlightBackground: rgba(10, 50, 100, 0.2);
--vscode-editor-snippetFinalTabstopHighlightBorder: rgba(10, 50, 100, 0.5);
--vscode-breadcrumb-foreground: rgba(97, 97, 97, 0.8);
--vscode-breadcrumb-background: #f7f7f7;
--vscode-breadcrumb-focusForeground: #4e4e4e;
--vscode-breadcrumb-activeSelectionForeground: #4e4e4e;
--vscode-breadcrumbPicker-background: #f3f3f3;
--vscode-merge-currentHeaderBackground: rgba(64, 200, 174, 0.5);
--vscode-merge-currentContentBackground: rgba(64, 200, 174, 0.2);
--vscode-merge-incomingHeaderBackground: rgba(64, 166, 255, 0.5);
--vscode-merge-incomingContentBackground: rgba(64, 166, 255, 0.2);
--vscode-merge-commonHeaderBackground: rgba(96, 96, 96, 0.4);
--vscode-merge-commonContentBackground: rgba(96, 96, 96, 0.16);
--vscode-editorOverviewRuler-currentContentForeground: rgba(64, 200, 174, 0.5);
--vscode-editorOverviewRuler-incomingContentForeground: rgba(64, 166, 255, 0.5);
--vscode-editorOverviewRuler-commonContentForeground: rgba(96, 96, 96, 0.4);
--vscode-editorOverviewRuler-findMatchForeground: rgba(209, 134, 22, 0.49);
--vscode-editorOverviewRuler-selectionHighlightForeground: rgba(0, 0, 0, 0);
--vscode-minimap-findMatchHighlight: #d18616;
--vscode-minimap-selectionOccurrenceHighlight: #c9c9c9;
--vscode-minimap-selectionHighlight: #add6ff;
--vscode-minimap-errorHighlight: rgba(255, 18, 18, 0.7);
--vscode-minimap-warningHighlight: #bf8803;
--vscode-minimap-foregroundOpacity: #000000;
--vscode-minimapSlider-background: rgba(100, 100, 100, 0.2);
--vscode-minimapSlider-hoverBackground: rgba(100, 100, 100, 0.35);
--vscode-minimapSlider-activeBackground: rgba(0, 0, 0, 0.3);
--vscode-problemsErrorIcon-foreground: #e51400;
--vscode-problemsWarningIcon-foreground: #bf8803;
--vscode-problemsInfoIcon-foreground: #1a85ff;
--vscode-charts-foreground: #616161;
--vscode-charts-lines: rgba(97, 97, 97, 0.5);
--vscode-charts-red: #e51400;
--vscode-charts-blue: #1a85ff;
--vscode-charts-yellow: #bf8803;
--vscode-charts-orange: #d18616;
--vscode-charts-green: #388a34;
--vscode-charts-purple: #652d90;
--vscode-symbolIcon-arrayForeground: #616161;
--vscode-symbolIcon-booleanForeground: #616161;
--vscode-symbolIcon-classForeground: #d67e00;
--vscode-symbolIcon-colorForeground: #616161;
--vscode-symbolIcon-constantForeground: #616161;
--vscode-symbolIcon-constructorForeground: #652d90;
--vscode-symbolIcon-enumeratorForeground: #d67e00;
--vscode-symbolIcon-enumeratorMemberForeground: #007acc;
--vscode-symbolIcon-eventForeground: #d67e00;
--vscode-symbolIcon-fieldForeground: #007acc;
--vscode-symbolIcon-fileForeground: #616161;
--vscode-symbolIcon-folderForeground: #616161;
--vscode-symbolIcon-functionForeground: #652d90;
--vscode-symbolIcon-interfaceForeground: #007acc;
--vscode-symbolIcon-keyForeground: #616161;
--vscode-symbolIcon-keywordForeground: #616161;
--vscode-symbolIcon-methodForeground: #652d90;
--vscode-symbolIcon-moduleForeground: #616161;
--vscode-symbolIcon-namespaceForeground: #616161;
--vscode-symbolIcon-nullForeground: #616161;
--vscode-symbolIcon-numberForeground: #616161;
--vscode-symbolIcon-objectForeground: #616161;
--vscode-symbolIcon-operatorForeground: #616161;
--vscode-symbolIcon-packageForeground: #616161;
--vscode-symbolIcon-propertyForeground: #616161;
--vscode-symbolIcon-referenceForeground: #616161;
--vscode-symbolIcon-snippetForeground: #616161;
--vscode-symbolIcon-stringForeground: #616161;
--vscode-symbolIcon-structForeground: #616161;
--vscode-symbolIcon-textForeground: #616161;
--vscode-symbolIcon-typeParameterForeground: #616161;
--vscode-symbolIcon-unitForeground: #616161;
--vscode-symbolIcon-variableForeground: #007acc;
--vscode-editor-lineHighlightBorder: #eeeeee;
--vscode-editor-rangeHighlightBackground: rgba(253, 255, 0, 0.2);
--vscode-editor-symbolHighlightBackground: rgba(234, 92, 0, 0.33);
--vscode-editorCursor-foreground: #000000;
--vscode-editorWhitespace-foreground: rgba(51, 51, 51, 0.2);
--vscode-editorIndentGuide-background: #d3d3d3;
--vscode-editorIndentGuide-activeBackground: #939393;
--vscode-editorLineNumber-foreground: #999999;
--vscode-editorActiveLineNumber-foreground: #0b216f;
--vscode-editorLineNumber-activeForeground: #0b216f;
--vscode-editorRuler-foreground: #d3d3d3;
--vscode-editorCodeLens-foreground: #919191;
--vscode-editorBracketMatch-background: rgba(0, 100, 0, 0.1);
--vscode-editorBracketMatch-border: #b9b9b9;
--vscode-editorOverviewRuler-border: rgba(127, 127, 127, 0.3);
--vscode-editorGutter-background: #f7f7f7;
--vscode-editorUnnecessaryCode-opacity: rgba(0, 0, 0, 0.47);
--vscode-editorGhostText-foreground: rgba(0, 0, 0, 0.47);
--vscode-editorOverviewRuler-rangeHighlightForeground: rgba(0, 122, 204, 0.6);
--vscode-editorOverviewRuler-errorForeground: rgba(255, 18, 18, 0.7);
--vscode-editorOverviewRuler-warningForeground: #bf8803;
--vscode-editorOverviewRuler-infoForeground: #1a85ff;
--vscode-editorBracketHighlight-foreground1: #0431fa;
--vscode-editorBracketHighlight-foreground2: #319331;
--vscode-editorBracketHighlight-foreground3: #7b3814;
--vscode-editorBracketHighlight-foreground4: rgba(0, 0, 0, 0);
--vscode-editorBracketHighlight-foreground5: rgba(0, 0, 0, 0);
--vscode-editorBracketHighlight-foreground6: rgba(0, 0, 0, 0);
--vscode-editorBracketHighlight-unexpectedBracket-foreground: rgba(255, 18, 18, 0.8);
--vscode-editorBracketPairGuide-background1: rgba(0, 0, 0, 0);
--vscode-editorBracketPairGuide-background2: rgba(0, 0, 0, 0);
--vscode-editorBracketPairGuide-background3: rgba(0, 0, 0, 0);
--vscode-editorBracketPairGuide-background4: rgba(0, 0, 0, 0);
--vscode-editorBracketPairGuide-background5: rgba(0, 0, 0, 0);
--vscode-editorBracketPairGuide-background6: rgba(0, 0, 0, 0);
--vscode-editorBracketPairGuide-activeBackground1: rgba(0, 0, 0, 0);
--vscode-editorBracketPairGuide-activeBackground2: rgba(0, 0, 0, 0);
--vscode-editorBracketPairGuide-activeBackground3: rgba(0, 0, 0, 0);
--vscode-editorBracketPairGuide-activeBackground4: rgba(0, 0, 0, 0);
--vscode-editorBracketPairGuide-activeBackground5: rgba(0, 0, 0, 0);
--vscode-editorBracketPairGuide-activeBackground6: rgba(0, 0, 0, 0);
--vscode-editorUnicodeHighlight-border: #cea33d;
--vscode-editorUnicodeHighlight-background: rgba(206, 163, 61, 0.08);
--vscode-editorOverviewRuler-bracketMatchForeground: #a0a0a0;
--vscode-editor-linkedEditingBackground: rgba(255, 0, 0, 0.3);
--vscode-editor-wordHighlightBackground: rgba(87, 87, 87, 0.25);
--vscode-editor-wordHighlightStrongBackground: #d6ebff;
--vscode-editor-wordHighlightTextBackground: rgba(173, 214, 255, 0.45);
--vscode-editorOverviewRuler-wordHighlightForeground: rgba(160, 160, 160, 0.8);
--vscode-editorOverviewRuler-wordHighlightStrongForeground: rgba(192, 160, 192, 0.8);
--vscode-editorOverviewRuler-wordHighlightTextForeground: rgba(0, 0, 0, 0);
--vscode-peekViewTitle-background: #f3f3f3;
--vscode-peekViewTitleLabel-foreground: #000000;
--vscode-peekViewTitleDescription-foreground: #616161;
--vscode-peekView-border: #1a85ff;
--vscode-peekViewResult-background: #f3f3f3;
--vscode-peekViewResult-lineForeground: #646465;
--vscode-peekViewResult-fileForeground: #1e1e1e;
--vscode-peekViewResult-selectionBackground: rgba(51, 153, 255, 0.2);
--vscode-peekViewResult-selectionForeground: #6c6c6c;
--vscode-peekViewEditor-background: #f2f8fc;
--vscode-peekViewEditorGutter-background: #f2f8fc;
--vscode-peekViewEditorStickyScroll-background: #f2f8fc;
--vscode-peekViewResult-matchHighlightBackground: rgba(234, 92, 0, 0.3);
--vscode-peekViewEditor-matchHighlightBackground: rgba(245, 216, 2, 0.87);
--vscode-editorMarkerNavigationError-background: #e51400;
--vscode-editorMarkerNavigationError-headerBackground: rgba(229, 20, 0, 0.1);
--vscode-editorMarkerNavigationWarning-background: #bf8803;
--vscode-editorMarkerNavigationWarning-headerBackground: rgba(191, 136, 3, 0.1);
--vscode-editorMarkerNavigationInfo-background: #1a85ff;
--vscode-editorMarkerNavigationInfo-headerBackground: rgba(26, 133, 255, 0.1);
--vscode-editorMarkerNavigation-background: #f7f7f7;
--vscode-editorHoverWidget-highlightForeground: #0066bf;
--vscode-editorSuggestWidget-background: #f3f3f3;
--vscode-editorSuggestWidget-border: #c8c8c8;
--vscode-editorSuggestWidget-foreground: #000000;
--vscode-editorSuggestWidget-selectedForeground: #000000;
--vscode-editorSuggestWidget-selectedBackground: #d6ebff;
--vscode-editorSuggestWidget-highlightForeground: #0066bf;
--vscode-editorSuggestWidget-focusHighlightForeground: #0066bf;
--vscode-editorSuggestWidgetStatus-foreground: rgba(0, 0, 0, 0.5);
--vscode-editor-foldBackground: rgba(173, 214, 255, 0.3);
--vscode-editorGutter-foldingControlForeground: #424242; }

.mtk1 { color: #000000; }
.mtk2 { color: #f7f7f7; }
.mtk3 { color: #808080; }
.mtk4 { color: #ff0000; }
.mtk5 { color: #0451a5; }
.mtk6 { color: #0000ff; }
.mtk7 { color: #098658; }
.mtk8 { color: #008000; }
.mtk9 { color: #dd0000; }
.mtk10 { color: #811f3f; }
.mtk11 { color: #e00000; }
.mtk12 { color: #116644; }
.mtk13 { color: #383838; }
.mtk14 { color: #257693; }
.mtk15 { color: #795e26; }
.mtk16 { color: #001080; }
.mtk17 { color: #cd3131; }
.mtk18 { color: #863b00; }
.mtk19 { color: #af00db; }
.mtk20 { color: #c43b3b; }
.mtk21 { color: #800000; }
.mtk22 { color: #3030c0; }
.mtk23 { color: #666666; }
.mtk24 { color: #778899; }
.mtk25 { color: #c700c7; }
.mtk26 { color: #a31515; }
.mtk27 { color: #4f76ac; }
.mtk28 { color: #008080; }
.mtk29 { color: #001188; }
.mtk30 { color: #4864aa; }
.mtki { font-style: italic; }
.mtkb { font-weight: bold; }
.mtku { text-decoration: underline; text-underline-position: under; }
.mtks { text-decoration: line-through; }
.mtks.mtku { text-decoration: underline line-through; text-underline-position: under; }</style><script async="async" type="text/javascript" src="./yolo5.ipynb - Colab_files/python.js"></script><script async="async" type="text/javascript" src="./yolo5.ipynb - Colab_files/markdown.js"></script></head><body class="" style="overscroll-behavior: contain;"><iframe tabindex="-1" aria-hidden="true" style="position: absolute; width: 9em; height: 9em; top: -99em;" src="./yolo5.ipynb - Colab_files/saved_resource.html"></iframe><iframe tabindex="-1" aria-hidden="true" style="position: absolute; width: 9em; height: 9em; top: -99em;" src="./yolo5.ipynb - Colab_files/saved_resource(1).html"></iframe><iframe tabindex="-1" aria-hidden="true" style="position: absolute; width: 9em; height: 9em; top: -99em;" src="./yolo5.ipynb - Colab_files/saved_resource(2).html"></iframe><iframe tabindex="-1" aria-hidden="true" style="position: absolute; width: 9em; height: 9em; top: -99em;" src="./yolo5.ipynb - Colab_files/saved_resource(3).html"></iframe><div style="visibility: hidden; overflow: hidden; position: absolute; top: 0px; height: 1px; width: auto; padding: 0px; border: 0px; margin: 0px; text-align: left; text-indent: 0px; text-transform: none; line-height: normal; letter-spacing: normal; word-spacing: normal;"><div id="MathJax_Hidden"></div></div><div id="MathJax_Message" style="display: none;"></div><div class="scripts"><script nonce="">window.performance.mark('external_scripts_start');</script><script src="./yolo5.ipynb - Colab_files/gapi_loader.js" nonce=""></script><script src="./yolo5.ipynb - Colab_files/socketio_binary.js" nonce=""></script><script src="./yolo5.ipynb - Colab_files/analytics_binary.js" nonce=""></script><script src="./yolo5.ipynb - Colab_files/MathJax.js" nonce=""></script><script src="./yolo5.ipynb - Colab_files/js_monaco_editor_vs_loader.js" nonce=""></script><script nonce="">window.performance.mark('external_scripts_end'); window.performance.measure('external_scripts', 'external_scripts_start', 'external_scripts_end'); window.performance.mark('colab_load_start');</script><script src="./yolo5.ipynb - Colab_files/external_binary_l10n__zh_cn.js" nonce=""></script><script nonce="">
          window.performance.mark('colab_load_end');
          window.performance.measure('colab_load', 'colab_load_start', 'colab_load_end');
        </script></div><colab-snackbar leading="" labeltext="" id="message-area" class="message-area"><template shadowrootmode="open"><!----><style>
        :host .mdc-snackbar__surface {
          background-color: var(--colab-snackbar-surface-color);
        }
      </style>
      <!--?lit$49254222$-->
      <div class="mdc-snackbar mdc-snackbar--leading">
        <div class="mdc-snackbar__surface">
          <!--?lit$49254222$-->
          <div class="mdc-snackbar__actions">
            <slot name="action"></slot>
            <slot name="dismiss"></slot>
          </div>
        </div>
      </div><!--?--></template>
      <md-icon-button class="close" slot="dismiss" title="关闭" data-aria-label="关闭" value="" style=""><template shadowrootmode="open" shadowrootdelegatesfocus><!----><button id="button" class="icon-button  standard " aria-label="关闭">
        <!--?lit$49254222$--><md-focus-ring part="focus-ring" for="button" aria-hidden="true"><template shadowrootmode="open"><!----></template></md-focus-ring>
        <!--?lit$49254222$--><md-ripple aria-hidden="true"><template shadowrootmode="open"><!----><div class="surface   "></div></template></md-ripple>
        <!--?lit$49254222$--><span class="icon"><slot></slot></span>
        <!--?lit$49254222$-->
        <!--?lit$49254222$--><span class="touch"></span>
        <!--?lit$49254222$-->
  </button></template>
        <md-icon aria-hidden="true"><template shadowrootmode="open"><!----><slot></slot></template>close</md-icon>
      </md-icon-button>
    </colab-snackbar><colab-snackbar leading="" labeltext="" id="message-area-secondary" class="message-area"><template shadowrootmode="open"><!----><style>
        :host .mdc-snackbar__surface {
          background-color: var(--colab-snackbar-surface-color);
        }
      </style>
      <!--?lit$49254222$-->
      <div class="mdc-snackbar mdc-snackbar--leading">
        <div class="mdc-snackbar__surface">
          <!--?lit$49254222$-->
          <div class="mdc-snackbar__actions">
            <slot name="action"></slot>
            <slot name="dismiss"></slot>
          </div>
        </div>
      </div><!--?--></template>
      <md-icon-button class="close" slot="dismiss" title="关闭" data-aria-label="关闭" value=""><template shadowrootmode="open" shadowrootdelegatesfocus><!----><button id="button" class="icon-button  standard " aria-label="关闭">
        <!--?lit$49254222$--><md-focus-ring part="focus-ring" for="button" aria-hidden="true"><template shadowrootmode="open"><!----></template></md-focus-ring>
        <!--?lit$49254222$--><md-ripple aria-hidden="true"><template shadowrootmode="open"><!----><div class="surface   "></div></template></md-ripple>
        <!--?lit$49254222$--><span class="icon"><slot></slot></span>
        <!--?lit$49254222$-->
        <!--?lit$49254222$--><span class="touch"></span>
        <!--?lit$49254222$-->
  </button></template>
        <md-icon aria-hidden="true"><template shadowrootmode="open"><!----><slot></slot></template>close</md-icon>
      </md-icon-button>
    </colab-snackbar><div ng-non-bindable=""></div><div class="gb_s" ng-non-bindable=""><div class="gb_xc"><div>Google 账号</div><div class="gb_xb">Jiale Guo</div><div>jialeguo690@gmail.com</div></div></div><script nonce="">this.gbar_=this.gbar_||{};(function(_){var window=this;
try{
var zd;_.yd=function(a){var b=typeof a;return b=="object"&&a!=null||b=="function"};zd=class extends _.jd{};_.Ad=function(a,b){if(b in a.i)return a.i[b];throw new zd;};_.Bd=function(a){return _.Ad(_.gd.i(),a)};
}catch(e){_._DumpException(e)}
try{
/*

 SPDX-License-Identifier: Apache-2.0
*/
var Hd,Rd,Td;_.Cd=function(a){if(a==null)return a;if(typeof a==="string"){if(!a)return;a=+a}if(typeof a==="number")return Number.isFinite(a)?a|0:void 0};_.Dd=function(a){const b=a.length;if(b>0){const c=Array(b);for(let d=0;d<b;d++)c[d]=a[d];return c}return[]};_.Fd=function(a){if(a instanceof _.Ed)return a.i;throw Error("D");};Hd=function(a){return new Gd(b=>b.substr(0,a.length+1).toLowerCase()===a+":")};
_.Jd=function(a,b=_.Id){if(a instanceof _.Ed)return a;for(let c=0;c<b.length;++c){const d=b[c];if(d instanceof Gd&&d.Vg(a))return new _.Ed(a)}};_.Ld=function(a){if(Kd.test(a))return a};_.Md=function(a){return a instanceof _.Ed?_.Fd(a):_.Ld(a)};_.Nd=function(a,b){var c=Array.prototype.slice.call(arguments,1);return function(){var d=c.slice();d.push.apply(d,arguments);return a.apply(this,d)}};_.Od=function(a,b,c){return _.sb(a,b,c,!1)!==void 0};_.Pd=function(a,b){return _.Cd(_.Dc(a,b))};
_.S=function(a,b){a=_.Dc(a,b);return a==null?a:Number.isFinite(a)?a|0:void 0};_.T=function(a,b,c=0){return _.tb(_.Pd(a,b),c)};_.Qd=function(a,b,c=0){return _.tb(_.S(a,b),c)};Rd=0;_.Sd=function(a){return Object.prototype.hasOwnProperty.call(a,_.Hb)&&a[_.Hb]||(a[_.Hb]=++Rd)};Td=function(a){return a};_.Ud=function(a){var b=null,c=_.t.trustedTypes;if(!c||!c.createPolicy)return b;try{b=c.createPolicy(a,{createHTML:Td,createScript:Td,createScriptURL:Td})}catch(d){_.t.console&&_.t.console.error(d.message)}return b};
_.Vd=function(a,b){return a.lastIndexOf(b,0)==0};_.Wd=function(a,b){return Array.prototype.some.call(a,b,void 0)};try{(new self.OffscreenCanvas(0,0)).getContext("2d")}catch(a){};var Xd;_.Yd=function(){Xd===void 0&&(Xd=_.Ud("ogb-qtm#html"));return Xd};var ae;_.Zd=class{constructor(a){this.i=a}toString(){return this.i+""}};_.$d=function(a){return a instanceof _.Zd&&a.constructor===_.Zd?a.i:"type_error:TrustedResourceUrl"};ae={};_.be=function(a){const b=_.Yd();a=b?b.createScriptURL(a):a;return new _.Zd(a,ae)};_.Ed=class{constructor(a){this.i=a}toString(){return this.i}};_.ce=new _.Ed("about:invalid#zClosurez");var Gd,Kd;Gd=class{constructor(a){this.Vg=a}};_.Id=[Hd("data"),Hd("http"),Hd("https"),Hd("mailto"),Hd("ftp"),new Gd(a=>/^[^:]*([/?#]|$)/.test(a))];Kd=/^\s*(?!javascript:)(?:[\w+.-]+:|[^:/?#]*(?:[/?#]|$))/i;_.de={};_.ee=class{constructor(a){this.i=a}toString(){return this.i.toString()}};_.fe=new _.ee("",_.de);_.ge=RegExp("^[-+,.\"'%_!#/ a-zA-Z0-9\\[\\]]+$");_.he=RegExp("\\b(url\\([ \t\n]*)('[ -&(-\\[\\]-~]*'|\"[ !#-\\[\\]-~]*\"|[!#-&*-\\[\\]-~]*)([ \t\n]*\\))","g");_.ie=RegExp("\\b(calc|cubic-bezier|fit-content|hsl|hsla|linear-gradient|matrix|minmax|radial-gradient|repeat|rgb|rgba|(rotate|scale|translate)(X|Y|Z|3d)?|steps|var)\\([-+*/0-9a-zA-Z.%#\\[\\], ]+\\)","g");_.je={};_.le=function(a){return a instanceof _.ke&&a.constructor===_.ke?a.i:"type_error:SafeHtml"};_.ke=class{constructor(a){this.i=a}toString(){return this.i.toString()}};_.me=new _.ke(_.t.trustedTypes&&_.t.trustedTypes.emptyHTML||"",_.je);_.ne=function(a){let b=!1,c;return function(){b||(c=a(),b=!0);return c}}(function(){var a=document.createElement("div"),b=document.createElement("div");b.appendChild(document.createElement("div"));a.appendChild(b);b=a.firstChild.firstChild;a.innerHTML=_.le(_.me);return!b.parentElement});_.oe=function(a,b){this.width=a;this.height=b};_.n=_.oe.prototype;_.n.aspectRatio=function(){return this.width/this.height};_.n.Eb=function(){return!(this.width*this.height)};_.n.ceil=function(){this.width=Math.ceil(this.width);this.height=Math.ceil(this.height);return this};_.n.floor=function(){this.width=Math.floor(this.width);this.height=Math.floor(this.height);return this};_.n.round=function(){this.width=Math.round(this.width);this.height=Math.round(this.height);return this};_.U=function(a,b){var c=b||document;if(c.getElementsByClassName)a=c.getElementsByClassName(a)[0];else{c=document;var d=b||c;a=d.querySelectorAll&&d.querySelector&&a?d.querySelector(a?"."+a:""):_.pe(c,a,b)[0]||null}return a||null};
_.pe=function(a,b,c){var d;a=c||a;if(a.querySelectorAll&&a.querySelector&&b)return a.querySelectorAll(b?"."+b:"");if(b&&a.getElementsByClassName){var e=a.getElementsByClassName(b);return e}e=a.getElementsByTagName("*");if(b){var f={};for(c=d=0;a=e[c];c++){var g=a.className;typeof g.split=="function"&&_.ta(g.split(/\s+/),b)&&(f[d++]=a)}f.length=d;return f}return e};_.re=function(a){return _.qe(document,a)};
_.qe=function(a,b){b=String(b);a.contentType==="application/xhtml+xml"&&(b=b.toLowerCase());return a.createElement(b)};_.se=function(a){for(var b;b=a.firstChild;)a.removeChild(b)};_.te=function(a){return a.nodeType==9?a:a.ownerDocument||a.document};
}catch(e){_._DumpException(e)}
try{
_.Wi=function(a,b){let c,d;return(b=(d=(c=b.document).querySelector)==null?void 0:d.call(c,`${a}[nonce]`))?b.nonce||b.getAttribute("nonce")||"":""};_.Xi=function(a){const b=_.Wi("script",a.ownerDocument&&a.ownerDocument.defaultView||window);b&&a.setAttribute("nonce",b)};_.Yi=function(a){if(!a)return null;a=_.J(a,4);var b;a===null||a===void 0?b=null:b=_.be(a);return b};_.Zi=class extends _.Q{constructor(a){super(a)}};_.$i=function(a,b){return(b||document).getElementsByTagName(String(a))};
}catch(e){_._DumpException(e)}
try{
var bj=function(a,b,c){a<b?aj(a+1,b):_.Pc.log(Error("ca`"+a+"`"+b),{url:c})},aj=function(a,b){if(cj){const c=_.re("SCRIPT");c.async=!0;c.type="text/javascript";c.charset="UTF-8";c.src=_.$d(cj);_.Xi(c);c.onerror=_.Nd(bj,a,b,c.src);_.$i("HEAD")[0].appendChild(c)}},dj=class extends _.Q{constructor(a){super(a)}};var ej=_.F(_.ad,dj,17)||new dj,fj,cj=(fj=_.F(ej,_.Zi,1))?_.Yi(fj):null,gj,hj=(gj=_.F(ej,_.Zi,2))?_.Yi(gj):null,ij=function(){aj(1,2);if(hj){const a=_.re("LINK");a.setAttribute("type","text/css");a.href=_.$d(hj).toString();a.rel="stylesheet";let b=_.Wi("style",window);b&&a.setAttribute("nonce",b);_.$i("HEAD")[0].appendChild(a)}};(function(){const a=_.bd();if(_.I(a,18))ij();else{const b=_.Pd(a,19)||0;window.addEventListener("load",()=>{window.setTimeout(ij,b)})}})();
}catch(e){_._DumpException(e)}
})(this.gbar_);
// Google Inc.
</script><div style="position: absolute; width: 0px; height: 0px; overflow: hidden; padding: 0px; border: 0px; margin: 0px;"><div id="MathJax_Font_Test" style="position: absolute; visibility: hidden; top: 0px; left: 0px; width: auto; min-width: 0px; max-width: none; padding: 0px; border: 0px; margin: 0px; white-space: nowrap; text-align: left; text-indent: 0px; text-transform: none; line-height: normal; letter-spacing: normal; word-spacing: normal; font-size: 40px; font-weight: normal; font-style: normal; font-family: STIXSizeOneSym, sans-serif;"></div></div><iframe id="hfcr" src="./yolo5.ipynb - Colab_files/RotateCookiesPage.html" style="display: none;"></iframe><div class="notebook-vertical" style="position: relative;">
      <div class="top-floater"><div role="banner">
    <colab-header-skip-button><template shadowrootmode="open"><!----><a id="skiplink" class="skip-link" href="https://colab.research.google.com/drive/16cmchF10eSc34juGi18cGa0pqELLU3Qd?hl=zh-cn#top-toolbar"><!--?lit$49254222$-->跳至主要内容</a></template></colab-header-skip-button>
    <!--?lit$49254222$-->
    <!--?lit$49254222$-->
    <!--?lit$49254222$-->
          <div id="private-outputs-warning" class="header-warning private-outputs-warning hidden">
            <!--?lit$49254222$-->此笔记本是通过不公开输出项打开的。系统将不会保存输出项。您可以在<a href="https://colab.research.google.com/drive/16cmchF10eSc34juGi18cGa0pqELLU3Qd?hl=zh-cn#" id="private-outputs-notebook-info-link" command="notebook-settings" aria-describedby="private-outputs-notebook-info-link-tooltip">笔记本设置</a><colab-tooltip-trigger aria-hidden="true" for="private-outputs-notebook-info-link" id="private-outputs-notebook-info-link-tooltip"><template shadowrootmode="open"><!----><!--?lit$49254222$--><!----><div><!--?lit$49254222$-->打开笔记本设置</div><!----><!--?--></template>
        </colab-tooltip-trigger>中停用此设置。
          <mwc-icon-button class="close" icon="close" title="关闭"><template shadowrootmode="open"><!----><button class="mdc-icon-button mdc-icon-button--display-flex" aria-label="关闭"><!--?lit$49254222$-->
    <!--?lit$49254222$--><i class="material-icons"><!--?lit$49254222$-->close</i>
    <span><slot></slot></span>
  </button></template></mwc-icon-button></div>
        

    <div id="header" class="horizontal layout" style="">
      <div id="header-background"><div></div></div>
      <div id="header-content">
        <!--?lit$49254222$-->
        <!--?lit$49254222$--><div id="header-logo">
              <!--?lit$49254222$--> <!--?lit$49254222$--><a href="https://drive.google.com/drive/search?q=owner%3Ame%20(type%3Aapplication%2Fvnd.google.colaboratory%20%7C%7C%20type%3Aapplication%2Fvnd.google.colab)&amp;authuser=0" aria-label="在 Google 云端硬盘中查看">
        <!--?lit$49254222$--><md-icon class="colab-large-icon" aria-hidden="true"><template shadowrootmode="open"><!----><slot></slot></template><!--?lit$49254222$--><svg viewBox="0 0 24 24"><!--?lit$49254222$-->
      <g id="colab-logo">
        <path d="M4.54,9.46,2.19,7.1a6.93,6.93,0,0,0,0,9.79l2.36-2.36A3.59,3.59,0,0,1,4.54,9.46Z" style="fill:var(--colab-logo-dark)"></path>
        <path d="M2.19,7.1,4.54,9.46a3.59,3.59,0,0,1,5.08,0l1.71-2.93h0l-.1-.08h0A6.93,6.93,0,0,0,2.19,7.1Z" style="fill:var(--colab-logo-light)"></path>
        <path d="M11.34,17.46h0L9.62,14.54a3.59,3.59,0,0,1-5.08,0L2.19,16.9a6.93,6.93,0,0,0,9,.65l.11-.09" style="fill:var(--colab-logo-light)"></path>
        <path d="M12,7.1a6.93,6.93,0,0,0,0,9.79l2.36-2.36a3.59,3.59,0,1,1,5.08-5.08L21.81,7.1A6.93,6.93,0,0,0,12,7.1Z" style="fill:var(--colab-logo-light)"></path>
        <path d="M21.81,7.1,19.46,9.46a3.59,3.59,0,0,1-5.08,5.08L12,16.9A6.93,6.93,0,0,0,21.81,7.1Z" style="fill:var(--colab-logo-dark)"></path>
      </g></svg></md-icon>
      </a><!--?-->
            </div>
        <div id="header-doc-toolbar" class="flex">
          <div id="document-info">
            <!--?lit$49254222$--> <!--?lit$49254222$--><md-icon class="file-location-icon" id="file-type" aria-hidden="true" title="存储在 Google 云端硬盘中的笔记本"><template shadowrootmode="open"><!----><slot></slot></template><!--?lit$49254222$-->
      <svg viewBox="0 0 192 192">
        <path d="M128.33,122l7.59,26.17l19.89,21.42c0,0,0,0,0,0v0c2.69-1.55,4.98-3.8,6.59-6.59l18.48-32 c1.61-2.78,2.41-5.89,2.41-9l-28.38-5.5L128.33,122z" fill="#EA4335"></path>
        <path d="M123.48,18.41c-2.69-1.55-5.78-2.41-9-2.41H77.53c-3.2,0-6.32,0.88-9,2.41l0,0l7.96,26.81l19.44,20.64 L96,66l0,0l19.58-20.89L123.48,18.41C123.48,18.41,123.48,18.41,123.48,18.41C123.48,18.41,123.48,18.41,123.48,18.41z" fill="#188038"></path>
        <path d="M63.67,122l-28.33-6.5L8.72,122c0,3.1,0.8,6.2,2.4,8.99L29.6,163c1.61,2.78,3.9,5.03,6.59,6.59 l19.59-20.18L63.67,122L63.67,122z" fill="#1967D2"></path>
        <path d="M155.47,69l-25.4-44c-1.61-2.79-3.9-5.04-6.59-6.59L96,66l32.33,56h54.95c0-3.11-0.8-6.21-2.41-9 L155.47,69z" fill="#FBBC04"></path><path d="M128.33,122H63.67l-27.48,47.59c2.69,1.55,5.78,2.41,9,2.41h101.61c3.22,0,6.31-0.86,9-2.41L128.33,122z" fill="#4285F4"></path>
        <path d="M96,66L68.53,18.41c-2.69,1.55-4.97,3.79-6.58,6.57l-50.83,88.05c-1.6,2.78-2.4,5.88-2.4,8.97h54.95L96,66 z" fill="#34A853"></path>
      </svg></md-icon>
    <input id="doc-name" class="doc-name" maxlength="259" autocomplete="off" aria-label="笔记本名称" command="rename" aria-describedby="doc-name-tooltip" style="width: 101.648px;"><colab-tooltip-trigger aria-hidden="true" for="doc-name" id="doc-name-tooltip"><template shadowrootmode="open"><!----><!--?lit$49254222$--><!----><div><!--?lit$49254222$-->重命名笔记本</div><!----><!--?--></template>
        </colab-tooltip-trigger><colab-input-sizer aria-hidden="true" style="left: -1000%; position: absolute; font-family: &quot;Google Sans&quot;, Roboto, Noto, sans-serif; font-size: 18px; font-weight: 400; letter-spacing: normal; padding-left: 3px; padding-right: 4px; white-space: pre;">yolo5.ipynb_</colab-input-sizer>
            <!--?lit$49254222$-->
                  <div class="screenreader-only" id="star-status" aria-live="polite">笔记本已加星标</div>
                  <md-icon-button id="star-icon" command="toggle-star" aria-describedby="star-icon-tooltip" value="" class="starred" data-aria-label="移除星标"><template shadowrootmode="open" shadowrootdelegatesfocus><!----><button id="button" class="icon-button  standard " aria-label="移除星标">
        <!--?lit$49254222$--><md-focus-ring part="focus-ring" for="button" aria-hidden="true"><template shadowrootmode="open"><!----></template></md-focus-ring>
        <!--?lit$49254222$--><md-ripple aria-hidden="true"><template shadowrootmode="open"><!----><div class="surface"></div></template></md-ripple>
        <!--?lit$49254222$--><span class="icon"><slot></slot></span>
        <!--?lit$49254222$-->
        <!--?lit$49254222$--><span class="touch"></span>
        <!--?lit$49254222$-->
  </button></template>
                    <md-icon aria-hidden="true"><template shadowrootmode="open"><!----><slot></slot></template>star</md-icon>
                  </md-icon-button><colab-tooltip-trigger aria-hidden="true" for="star-icon" id="star-icon-tooltip"><template shadowrootmode="open"><!----><!--?lit$49254222$--><!----><div><!--?lit$49254222$-->在 Google 云端硬盘中为笔记本移除星标</div><!----><!--?--></template>
        </colab-tooltip-trigger>
                
          </div>
        <div class="menubar-wrapper"><div><!----><div id="top-menubar" class="goog-menubar format-lightborder jsfocus" role="menubar" style="user-select: none;" tabindex="0"><!--?lit$49254222$--><div class="goog-menu-button goog-inline-block" id="file-menu-button" role="button" aria-expanded="false" aria-haspopup="true" style="user-select: none;"><div class="goog-inline-block goog-menu-button-outer-box" style="user-select: none;"><div class="goog-inline-block goog-menu-button-inner-box" style="user-select: none;"><div class="goog-inline-block goog-menu-button-caption" style="user-select: none;"><!--?lit$49254222$-->文件</div><div class="goog-inline-block goog-menu-button-dropdown" style="user-select: none;">&nbsp;</div></div></div></div><div class="goog-menu-button goog-inline-block" id="edit-menu-button" role="button" aria-expanded="false" aria-haspopup="true" style="user-select: none;"><div class="goog-inline-block goog-menu-button-outer-box" style="user-select: none;"><div class="goog-inline-block goog-menu-button-inner-box" style="user-select: none;"><div class="goog-inline-block goog-menu-button-caption" style="user-select: none;"><!--?lit$49254222$-->修改</div><div class="goog-inline-block goog-menu-button-dropdown" style="user-select: none;">&nbsp;</div></div></div></div><div class="goog-menu-button goog-inline-block" id="view-menu-button" role="button" aria-expanded="false" aria-haspopup="true" style="user-select: none;"><div class="goog-inline-block goog-menu-button-outer-box" style="user-select: none;"><div class="goog-inline-block goog-menu-button-inner-box" style="user-select: none;"><div class="goog-inline-block goog-menu-button-caption" style="user-select: none;"><!--?lit$49254222$-->视图</div><div class="goog-inline-block goog-menu-button-dropdown" style="user-select: none;">&nbsp;</div></div></div></div><div class="goog-menu-button goog-inline-block" id="insert-menu-button" role="button" aria-expanded="false" aria-haspopup="true" style="user-select: none;"><div class="goog-inline-block goog-menu-button-outer-box" style="user-select: none;"><div class="goog-inline-block goog-menu-button-inner-box" style="user-select: none;"><div class="goog-inline-block goog-menu-button-caption" style="user-select: none;"><!--?lit$49254222$-->插入</div><div class="goog-inline-block goog-menu-button-dropdown" style="user-select: none;">&nbsp;</div></div></div></div><div class="goog-menu-button goog-inline-block" id="runtime-menu-button" role="button" aria-expanded="false" aria-haspopup="true" style="user-select: none;"><div class="goog-inline-block goog-menu-button-outer-box" style="user-select: none;"><div class="goog-inline-block goog-menu-button-inner-box" style="user-select: none;"><div class="goog-inline-block goog-menu-button-caption" style="user-select: none;"><!--?lit$49254222$-->代码执行程序</div><div class="goog-inline-block goog-menu-button-dropdown" style="user-select: none;">&nbsp;</div></div></div></div><div class="goog-menu-button goog-inline-block" id="tools-menu-button" role="button" aria-expanded="false" aria-haspopup="true" style="user-select: none;"><div class="goog-inline-block goog-menu-button-outer-box" style="user-select: none;"><div class="goog-inline-block goog-menu-button-inner-box" style="user-select: none;"><div class="goog-inline-block goog-menu-button-caption" style="user-select: none;"><!--?lit$49254222$-->工具</div><div class="goog-inline-block goog-menu-button-dropdown" style="user-select: none;">&nbsp;</div></div></div></div><div class="goog-menu-button goog-inline-block" id="help-menu-button" role="button" aria-expanded="false" aria-haspopup="true" style="user-select: none;"><div class="goog-inline-block goog-menu-button-outer-box" style="user-select: none;"><div class="goog-inline-block goog-menu-button-inner-box" style="user-select: none;"><div class="goog-inline-block goog-menu-button-caption" style="user-select: none;"><!--?lit$49254222$-->帮助</div><div class="goog-inline-block goog-menu-button-dropdown" style="user-select: none;">&nbsp;</div></div></div></div></div>
    <div id="colab-menu-cover" style="left: 65px; top: 63px; width: 40px; display: none;"> </div></div><!----><colab-last-saved-indicator aria-live="polite" aria-atomic="true" title="该文件已远程更新或在其他标签页中更新。要强制保存，请覆盖上次更新，然后从“文件”菜单中选择“保存”"><template shadowrootmode="open"><!----><button class="save-message error"><!--?lit$49254222$-->7月31日 之后便无法保存</button></template></colab-last-saved-indicator></div></div>
        <div id="header-right">
          <!--?lit$49254222$-->
    <colab-collaborator-bar id="collaborator-bar"><template shadowrootmode="open"><!----> <div class="collaborator-bar">
      <!--?lit$49254222$-->
      <!--?lit$49254222$-->
    </div></template></colab-collaborator-bar>
  
          <!--?lit$49254222$--> <md-text-button id="comments" command="open-comments-thread" aria-describedby="comments-tooltip" value="" has-icon=""><template shadowrootmode="open" shadowrootdelegatesfocus><!---->
      <!--?lit$49254222$-->
      <div class="background"></div>
      <md-focus-ring part="focus-ring" for="button" aria-hidden="true"><template shadowrootmode="open"><!----></template></md-focus-ring>
      <md-ripple part="ripple" for="button" aria-hidden="true"><template shadowrootmode="open"><!----><div class="surface"></div></template></md-ripple>
      <!--?lit$49254222$--><button id="button" class="button">
      <!--?lit$49254222$-->
      <span class="touch"></span>
      <!--?lit$49254222$--><slot name="icon"></slot>
      <span class="label"><slot></slot></span>
      <!--?lit$49254222$-->
    
    </button>
    </template>
                <md-icon slot="icon" aria-hidden="true"><template shadowrootmode="open"><!----><slot></slot></template>comment</md-icon>
                <!--?lit$49254222$-->评论
              </md-text-button><colab-tooltip-trigger aria-hidden="true" for="comments" id="comments-tooltip"><template shadowrootmode="open"><!----><!--?lit$49254222$--><!----><div><!--?lit$49254222$-->打开注释窗格</div><!----><!--?--></template>
        </colab-tooltip-trigger>
          <!--?lit$49254222$--> <md-text-button id="share-toolbar-button" command="share" aria-describedby="share-toolbar-button-tooltip" value="" has-icon=""><template shadowrootmode="open" shadowrootdelegatesfocus><!---->
      <!--?lit$49254222$-->
      <div class="background"></div>
      <md-focus-ring part="focus-ring" for="button" aria-hidden="true"><template shadowrootmode="open"><!----></template></md-focus-ring>
      <md-ripple part="ripple" for="button" aria-hidden="true"><template shadowrootmode="open"><!----><div class="surface"></div></template></md-ripple>
      <!--?lit$49254222$--><button id="button" class="button">
      <!--?lit$49254222$-->
      <span class="touch"></span>
      <!--?lit$49254222$--><slot name="icon"></slot>
      <span class="label"><slot></slot></span>
      <!--?lit$49254222$-->
    
    </button>
    </template>
                <md-icon slot="icon" aria-hidden="true"><template shadowrootmode="open"><!----><slot></slot></template><!--?lit$49254222$-->people</md-icon>
                <!--?lit$49254222$-->分享
              </md-text-button><colab-tooltip-trigger aria-hidden="true" for="share-toolbar-button" id="share-toolbar-button-tooltip"><template shadowrootmode="open"><!----><!--?lit$49254222$--><!----><div><!--?lit$49254222$-->分享笔记本</div><!----><!--?--></template>
        </colab-tooltip-trigger>
          <!--?lit$49254222$--> <md-icon-button id="settings-cog" command="preferences" title="打开设置" data-aria-label="打开设置" value=""><template shadowrootmode="open" shadowrootdelegatesfocus><!----><button id="button" class="icon-button  standard " aria-label="打开设置">
        <!--?lit$49254222$--><md-focus-ring part="focus-ring" for="button" aria-hidden="true"><template shadowrootmode="open"><!----></template></md-focus-ring>
        <!--?lit$49254222$--><md-ripple aria-hidden="true"><template shadowrootmode="open"><!----><div class="surface"></div></template></md-ripple>
        <!--?lit$49254222$--><span class="icon"><slot></slot></span>
        <!--?lit$49254222$-->
        <!--?lit$49254222$--><span class="touch"></span>
        <!--?lit$49254222$-->
  </button></template>
                <md-icon aria-hidden="true"><template shadowrootmode="open"><!----><slot></slot></template>settings</md-icon>
              </md-icon-button>
          <div class="header-onegoogle-container"><div class="onegoogle"><div class="gb_ha gb_dd gb_9a gb_Sc" id="gb"><div class="gb_ud gb_7a gb_id" ng-non-bindable="" data-ogsr-up="" style="padding:0;height:auto;display:block"><div class="gb_Ld" style="display:block"><div class="gb_Zc"></div><div class="gb_b gb_Fd gb_Pf gb_A"><div class="gb_f gb_6a gb_Pf gb_A"><a class="gb_d gb_za gb_A" aria-label="Google 账号： Jiale Guo  
(jialeguo690@gmail.com)" href="https://accounts.google.com/SignOutOptions?hl=zh-CN&amp;continue=https://colab.research.google.com/%3Fhl%3Dzh-cn&amp;ec=GBRAqQM" tabindex="0" role="button" aria-expanded="false"><img class="gb_q gbii" src="./yolo5.ipynb - Colab_files/unnamed.png" srcset="https://lh3.google.com/u/0/ogw/AF2bZygE3qnaWjsyi7Cqqvxa5cHmO3pOIQfCJjwQmqBz-5rhmQ=s32-c-mo 1x, https://lh3.google.com/u/0/ogw/AF2bZygE3qnaWjsyi7Cqqvxa5cHmO3pOIQfCJjwQmqBz-5rhmQ=s64-c-mo 2x " alt="" aria-hidden="true" data-noaft=""></a></div></div></div><div style="overflow: hidden; position: absolute; top: 0px; visibility: hidden; width: 436px; z-index: 991; height: 0px; margin-top: 57px; right: 0px; margin-right: 4px;" aria-hidden="true"><iframe role="presentation" frameborder="0" scrolling="no" name="account" src="./yolo5.ipynb - Colab_files/saved_resource(4).html" style="height: 100%; width: 100%; color-scheme: light; visibility: hidden;"></iframe></div><div style="overflow: hidden; position: absolute; top: 0px; visibility: hidden; width: 420px; z-index: 991; height: 280px; margin-top: 70px; right: 0px; margin-right: 25px;"></div></div></div><script nonce="">this.gbar_=this.gbar_||{};(function(_){var window=this;
try{
_.vd=function(a,b,c){if(!a.j)if(c instanceof Array)for(var d of c)_.vd(a,b,d);else{d=(0,_.z)(a.C,a,b);const e=a.v+c;a.v++;b.dataset.eqid=e;a.B[e]=d;b&&b.addEventListener?b.addEventListener(c,d,!1):b&&b.attachEvent?b.attachEvent("on"+c,d):a.o.log(Error("z`"+b))}};
}catch(e){_._DumpException(e)}
try{
var wd=document.querySelector(".gb_k .gb_d"),xd=document.querySelector("#gb.gb_Pc");wd&&!xd&&_.vd(_.fd,wd,"click");
}catch(e){_._DumpException(e)}
try{
_.uh=function(a){const b=[];let c=0;for(const d in a)b[c++]=a[d];return b};_.vh=function(a){if(a.v)return a.v;for(const b in a.i)if(a.i[b].qa()&&a.i[b].B())return a.i[b];return null};_.wh=function(a,b){a.i[b.K()]=b};var xh=new class extends _.R{constructor(){var a=_.Pc;super();this.B=a;this.v=null;this.o={};this.C={};this.i={};this.j=null}A(a){this.i[a]&&(_.vh(this)&&_.vh(this).K()==a||this.i[a].P(!0))}Xa(a){this.j=a;for(const b in this.i)this.i[b].qa()&&this.i[b].Xa(a)}nc(a){return a in this.i?this.i[a]:null}};_.id("dd",xh);
}catch(e){_._DumpException(e)}
try{
_.Pi=function(a,b){return _.M(a,36,b)};
}catch(e){_._DumpException(e)}
try{
var Qi=document.querySelector(".gb_b .gb_d"),Ri=document.querySelector("#gb.gb_Pc");Qi&&!Ri&&_.vd(_.fd,Qi,"click");
}catch(e){_._DumpException(e)}
})(this.gbar_);
// Google Inc.
</script></div></div>
        </div>
      </div>
    </div>
  </div></div><div class="notebook-horizontal">
        <!--?lit$49254222$--><colab-left-pane role="complementary" aria-label="left pane" class=""><!----><div class="colab-left-pane-nib layout vertical" role="toolbar" aria-orientation="vertical">
        <div class="left-pane-top"><!----><div class="left-pane-button">
        <!--?lit$49254222$--><md-icon-button toggle="" command="show-toc-pane" data-aria-label="目录" title="目录" value="" tabindex="-1"><template shadowrootmode="open" shadowrootdelegatesfocus><!----><button id="button" class="icon-button standard" aria-label="目录" aria-pressed="false">
        <!--?lit$49254222$--><md-focus-ring part="focus-ring" for="button" aria-hidden="true"><template shadowrootmode="open"><!----></template></md-focus-ring>
        <!--?lit$49254222$--><md-ripple aria-hidden="true"><template shadowrootmode="open"><!----><div class="surface"></div></template></md-ripple>
        <!--?lit$49254222$--><span class="icon"><slot></slot></span>
        <!--?lit$49254222$-->
        <!--?lit$49254222$--><span class="touch"></span>
        <!--?lit$49254222$-->
  </button></template>
      <md-icon aria-hidden="true"><template shadowrootmode="open"><!----><slot></slot></template><!--?lit$49254222$-->format_list_bulleted</md-icon>
    </md-icon-button> <!--?lit$49254222$-->
      </div><!----><div class="left-pane-button">
        <!--?lit$49254222$--><md-icon-button toggle="" command="find" data-aria-label="查找和替换" title="查找和替换" value="" tabindex="-1"><template shadowrootmode="open" shadowrootdelegatesfocus><!----><button id="button" class="icon-button standard" aria-label="查找和替换" aria-pressed="false">
        <!--?lit$49254222$--><md-focus-ring part="focus-ring" for="button" aria-hidden="true"><template shadowrootmode="open"><!----></template></md-focus-ring>
        <!--?lit$49254222$--><md-ripple aria-hidden="true"><template shadowrootmode="open"><!----><div class="surface"></div></template></md-ripple>
        <!--?lit$49254222$--><span class="icon"><slot></slot></span>
        <!--?lit$49254222$-->
        <!--?lit$49254222$--><span class="touch"></span>
        <!--?lit$49254222$-->
  </button></template>
      <md-icon aria-hidden="true"><template shadowrootmode="open"><!----><slot></slot></template><!--?lit$49254222$-->search</md-icon>
    </md-icon-button> <!--?lit$49254222$-->
      </div><!----><div class="left-pane-button">
        <!--?lit$49254222$--><md-icon-button toggle="" command="show-variables" data-aria-label="变量" title="变量" value="" tabindex="-1"><template shadowrootmode="open" shadowrootdelegatesfocus><!----><button id="button" class="icon-button  standard " aria-label="变量" aria-pressed="false">
        <!--?lit$49254222$--><md-focus-ring part="focus-ring" for="button" aria-hidden="true"><template shadowrootmode="open"><!----></template></md-focus-ring>
        <!--?lit$49254222$--><md-ripple aria-hidden="true"><template shadowrootmode="open"><!----><div class="surface"></div></template></md-ripple>
        <!--?lit$49254222$--><span class="icon"><slot></slot></span>
        <!--?lit$49254222$-->
        <!--?lit$49254222$--><span class="touch"></span>
        <!--?lit$49254222$-->
  </button></template>
      <md-icon aria-hidden="true"><template shadowrootmode="open"><!----><slot></slot></template><!--?lit$49254222$--><svg viewBox="0 0 24 24"><!--?lit$49254222$-->
      <path d="M4.51,9.44V6.08c0-1.34.37-1.85,1.6-2.17l.22-.06V3.13l-.27,0-.44,0a4.46,4.46,0,0,0-2.2.59,2.78,2.78,0,0,0-1,2.51V9.74c0,1.26-.26,1.61-1.49,2L0,12l.94.29c1.21.38,1.49.75,1.49,2v3.5a2.94,2.94,0,0,0,1,2.6,4.39,4.39,0,0,0,2.14.56l.46,0,.27,0v-.72l-.22-.06c-1.24-.32-1.6-.81-1.6-2.17V14.58c0-1.43-.3-2.13-1.25-2.57C4.2,11.57,4.51,10.87,4.51,9.44Z"></path>
      <path d="M23.06,11.71c-1.22-.36-1.49-.71-1.49-2l0-3.5a3,3,0,0,0-1-2.6,4.38,4.38,0,0,0-2.14-.56l-.46,0-.27,0v.72l.22.06c1.24.32,1.6.81,1.6,2.17V9.44c0,1.44.3,2.13,1.25,2.57-1,.44-1.25,1.14-1.25,2.57v3.36c0,1.34-.37,1.85-1.6,2.17l-.22.06v.72l.27,0,.44,0a4.47,4.47,0,0,0,2.2-.59,2.82,2.82,0,0,0,1-2.51V14.28c0-1.26.26-1.61,1.49-2L24,12Z"></path>
      <path d="M15.16,8.22a.88.88,0,0,1,.46.16,1.25,1.25,0,0,0,.69.2h0A1,1,0,0,0,17,8.23a1.06,1.06,0,0,0,.24-.8,1.1,1.1,0,0,0-1.15-1h0c-1,0-1.73.64-3,2.57l-.12-.51c-.28-1.36-.56-2-1.39-2h0A8,8,0,0,0,9,7.08l-.47.16.16.91L9.41,8a3.22,3.22,0,0,1,.73-.14c.34,0,.43,0,.71,1.2l.56,2.47L9.76,13.82a3.6,3.6,0,0,1-.8.88.9.9,0,0,1-.38-.13,1.83,1.83,0,0,0-.88-.28,1,1,0,0,0-1,1.06A1.15,1.15,0,0,0,8,16.53c.85,0,1.35-.35,2.24-1.55l1.49-2,.46,1.88c.23,1,.46,1.66,1.53,1.66s1.66-.75,2.81-2.53l.17-.26-.81-.48-.16.2-.25.34-.19.25c-.45.57-.62.73-.76.73s-.28-.4-.34-.63l-.67-2.83a4.2,4.2,0,0,1-.15-.79C13.84,9.78,14.74,8.22,15.16,8.22Z"></path></svg></md-icon>
    </md-icon-button> <!--?lit$49254222$-->
      </div><!----><div class="left-pane-button">
        <!--?lit$49254222$--><md-icon-button toggle="" command="open-user-secrets" data-aria-label="Secret" title="Secret" value="" tabindex="-1"><template shadowrootmode="open" shadowrootdelegatesfocus><!----><button id="button" class="icon-button  standard " aria-label="Secret" aria-pressed="false">
        <!--?lit$49254222$--><md-focus-ring part="focus-ring" for="button" aria-hidden="true"><template shadowrootmode="open"><!----></template></md-focus-ring>
        <!--?lit$49254222$--><md-ripple aria-hidden="true"><template shadowrootmode="open"><!----><div class="surface"></div></template></md-ripple>
        <!--?lit$49254222$--><span class="icon"><slot></slot></span>
        <!--?lit$49254222$-->
        <!--?lit$49254222$--><span class="touch"></span>
        <!--?lit$49254222$-->
  </button></template>
      <md-icon aria-hidden="true"><template shadowrootmode="open"><!----><slot></slot></template><!--?lit$49254222$-->vpn_key</md-icon>
    </md-icon-button> <!--?lit$49254222$-->
      </div><!----><div class="left-pane-button">
        <!--?lit$49254222$--><md-icon-button toggle="" command="show-files" data-aria-label="文件" title="文件" value="" selected=""><template shadowrootmode="open" shadowrootdelegatesfocus><!----><button id="button" class="icon-button standard selected" aria-label="文件" aria-pressed="true">
        <!--?lit$49254222$--><md-focus-ring part="focus-ring" for="button" aria-hidden="true"><template shadowrootmode="open"><!----></template></md-focus-ring>
        <!--?lit$49254222$--><md-ripple aria-hidden="true"><template shadowrootmode="open"><!----><div class="surface"></div></template></md-ripple>
        <!--?lit$49254222$-->
        <!--?lit$49254222$--><span class="icon icon--selected"><slot name="selected"><slot></slot></slot></span>
        <!--?lit$49254222$--><span class="touch"></span>
        <!--?lit$49254222$-->
  </button></template>
      <md-icon aria-hidden="true"><template shadowrootmode="open"><!----><slot></slot></template><!--?lit$49254222$-->folder</md-icon>
    </md-icon-button> <!--?lit$49254222$-->
      </div></div>
        <div class="left-pane-bottom"><!----><div class="left-pane-button">
        <!--?lit$49254222$--><md-icon-button command="snippets" data-aria-label="代码段" title="代码段" value="" tabindex="-1"><template shadowrootmode="open" shadowrootdelegatesfocus><!----><button id="button" class="icon-button  standard " aria-label="代码段">
        <!--?lit$49254222$--><md-focus-ring part="focus-ring" for="button" aria-hidden="true"><template shadowrootmode="open"><!----></template></md-focus-ring>
        <!--?lit$49254222$--><md-ripple aria-hidden="true"><template shadowrootmode="open"><!----><div class="surface   "></div></template></md-ripple>
        <!--?lit$49254222$--><span class="icon"><slot></slot></span>
        <!--?lit$49254222$-->
        <!--?lit$49254222$--><span class="touch"></span>
        <!--?lit$49254222$-->
  </button></template>
      <md-icon aria-hidden="true"><template shadowrootmode="open"><!----><slot></slot></template><!--?lit$49254222$-->code</md-icon>
    </md-icon-button> <!--?lit$49254222$-->
      </div><!----><div class="left-pane-button">
        <!--?lit$49254222$--><md-icon-button command="show-command-palette" data-aria-label="命令面板" title="命令面板" value="" tabindex="-1"><template shadowrootmode="open" shadowrootdelegatesfocus><!----><button id="button" class="icon-button  standard " aria-label="命令面板">
        <!--?lit$49254222$--><md-focus-ring part="focus-ring" for="button" aria-hidden="true"><template shadowrootmode="open"><!----></template></md-focus-ring>
        <!--?lit$49254222$--><md-ripple aria-hidden="true"><template shadowrootmode="open"><!----><div class="surface"></div></template></md-ripple>
        <!--?lit$49254222$--><span class="icon"><slot></slot></span>
        <!--?lit$49254222$-->
        <!--?lit$49254222$--><span class="touch"></span>
        <!--?lit$49254222$-->
  </button></template>
      <md-icon aria-hidden="true"><template shadowrootmode="open"><!----><slot></slot></template><!--?lit$49254222$--><svg viewBox="0 0 24 24"><!--?lit$49254222$-->
      <path d="M21,3H3A2,2,0,0,0,1,5V17a2,2,0,0,0,2,2H21a2,2,0,0,0,2-2V5A2,2,0,0,0,21,3Zm0,2V17H3V5"></path>
      <rect x="5" y="12" width="11" height="2"></rect>
      <rect x="5" y="8" width="11" height="2"></rect>
      <rect x="17" y="8" width="2" height="2"></rect>
      <rect x="17" y="12" width="2" height="2"></rect></svg></md-icon>
    </md-icon-button> <!--?lit$49254222$-->
      </div><!----><div class="left-pane-button">
        <!--?lit$49254222$--><md-icon-button command="show-terminal" data-aria-label="终端" title="终端" value="" tabindex="-1"><template shadowrootmode="open" shadowrootdelegatesfocus><!----><button id="button" class="icon-button  standard " aria-label="终端">
        <!--?lit$49254222$--><md-focus-ring part="focus-ring" for="button" aria-hidden="true"><template shadowrootmode="open"><!----></template></md-focus-ring>
        <!--?lit$49254222$--><md-ripple aria-hidden="true"><template shadowrootmode="open"><!----><div class="surface"></div></template></md-ripple>
        <!--?lit$49254222$--><span class="icon"><slot></slot></span>
        <!--?lit$49254222$-->
        <!--?lit$49254222$--><span class="touch"></span>
        <!--?lit$49254222$-->
  </button></template>
      <md-icon aria-hidden="true"><template shadowrootmode="open"><!----><slot></slot></template><!--?lit$49254222$-->terminal</md-icon>
    </md-icon-button> <!--?lit$49254222$-->
      </div></div>
      </div></colab-left-pane>
        <div class="layout vertical grow">
          <colab-notebook-toolbar id="top-toolbar" class="horizontal layout center noshrink"><!----> <!--?lit$49254222$-->
          <colab-toolbar-button command="insert-cell-below" icon="add" id="toolbar-add-code"><template shadowrootmode="open"><!----><md-text-button id="button" data-aria-disabled="false" value="" has-icon=""><template shadowrootmode="open" shadowrootdelegatesfocus><!---->
      <!--?lit$49254222$-->
      <div class="background"></div>
      <md-focus-ring part="focus-ring" for="button" aria-hidden="true"><template shadowrootmode="open"><!----></template></md-focus-ring>
      <md-ripple part="ripple" for="button" aria-hidden="true"><template shadowrootmode="open"><!----><div class="surface"></div></template></md-ripple>
      <!--?lit$49254222$--><button id="button" class="button">
      <!--?lit$49254222$-->
      <span class="touch"></span>
      <!--?lit$49254222$--><slot name="icon"></slot>
      <span class="label"><slot></slot></span>
      <!--?lit$49254222$-->
    
    </button>
    </template>
        <!--?lit$49254222$--><md-icon slot="icon" aria-hidden="true"><template shadowrootmode="open"><!----><slot></slot></template><!--?lit$49254222$-->add</md-icon>
        <span class="button-content"><slot></slot></span>
        <!--?lit$49254222$--><span class="screenreader-only"><!--?lit$49254222$-->插入下方的代码单元格 <!--?lit$49254222$-->⌘/Ctrl+M B</span>
      </md-text-button>
      <!--?lit$49254222$--> <colab-tooltip-trigger for="button" aria-hidden="true" id="tooltip" message="插入下方的代码单元格" shortcut="⌘/Ctrl+M B"><template shadowrootmode="open"><!----><!--?lit$49254222$--><!----><div><!--?lit$49254222$-->插入下方的代码单元格 (⌘/Ctrl+M B)</div><!----><!--?--></template>
          </colab-tooltip-trigger><!--?--></template>
            <!--?lit$49254222$-->代码
          </colab-toolbar-button>
          <colab-toolbar-button command="add-text" icon="add" id="toolbar-add-text"><template shadowrootmode="open"><!----><md-text-button id="button" data-aria-disabled="false" value="" has-icon=""><template shadowrootmode="open" shadowrootdelegatesfocus><!---->
      <!--?lit$49254222$-->
      <div class="background"></div>
      <md-focus-ring part="focus-ring" for="button" aria-hidden="true"><template shadowrootmode="open"><!----></template></md-focus-ring>
      <md-ripple part="ripple" for="button" aria-hidden="true"><template shadowrootmode="open"><!----><div class="surface"></div></template></md-ripple>
      <!--?lit$49254222$--><button id="button" class="button">
      <!--?lit$49254222$-->
      <span class="touch"></span>
      <!--?lit$49254222$--><slot name="icon"></slot>
      <span class="label"><slot></slot></span>
      <!--?lit$49254222$-->
    
    </button>
    </template>
        <!--?lit$49254222$--><md-icon slot="icon" aria-hidden="true"><template shadowrootmode="open"><!----><slot></slot></template><!--?lit$49254222$-->add</md-icon>
        <span class="button-content"><slot></slot></span>
        <!--?lit$49254222$--><span class="screenreader-only"><!--?lit$49254222$-->添加文本单元格 <!--?lit$49254222$--></span>
      </md-text-button>
      <!--?lit$49254222$--> <colab-tooltip-trigger for="button" aria-hidden="true" id="tooltip" message="添加文本单元格" shortcut=""><template shadowrootmode="open"><!----><!--?lit$49254222$--><!----><div><!--?lit$49254222$-->添加文本单元格</div><!----><!--?--></template>
          </colab-tooltip-trigger><!--?--></template>
            <!--?lit$49254222$-->文本
          </colab-toolbar-button>
          <!--?lit$49254222$-->
        
    <!--?lit$49254222$-->
    <!--?lit$49254222$-->
    <!--?lit$49254222$-->
    <!--?lit$49254222$-->
    <!--?lit$49254222$--> <span class="collapsed-options">
          <colab-last-saved-indicator aria-live="polite" aria-atomic="true" title="该文件已远程更新或在其他标签页中更新。要强制保存，请覆盖上次更新，然后从“文件”菜单中选择“保存”"><template shadowrootmode="open"><!----><button class="save-message error"><!--?lit$49254222$-->7月31日 之后便无法保存</button></template></colab-last-saved-indicator>
        </span>

    <span class="flex"></span>
    <!--?lit$49254222$--><colab-connect-warning-button><template shadowrootmode="open"><!----><!--?lit$49254222$--><!--?--><!--?--></template></colab-connect-warning-button>
    <!--?lit$49254222$--><!--?lit$49254222$--><colab-connect-button><template shadowrootmode="open"><!----> <!--?lit$49254222$--><md-icon-button id="connect-icon" class="icon-okay" data-aria-label="将光标放在上次运行的单元格上" value=""><template shadowrootmode="open" shadowrootdelegatesfocus><!----><button id="button" class="icon-button  standard " aria-label="将光标放在上次运行的单元格上">
        <!--?lit$49254222$--><md-focus-ring part="focus-ring" for="button" aria-hidden="true"><template shadowrootmode="open"><!----></template></md-focus-ring>
        <!--?lit$49254222$--><md-ripple aria-hidden="true"><template shadowrootmode="open"><!----><div class="surface   "></div></template></md-ripple>
        <!--?lit$49254222$--><span class="icon"><slot></slot></span>
        <!--?lit$49254222$-->
        <!--?lit$49254222$--><span class="touch"></span>
        <!--?lit$49254222$-->
  </button></template>
            <md-icon aria-hidden="true"><template shadowrootmode="open"><!----><slot></slot></template><!--?lit$49254222$-->done</md-icon>
          </md-icon-button>
          <colab-tooltip-trigger for="connect-icon" id="connect-icon-tooltip" aria-hidden="true" message="将光标放在上次运行的单元格上"><template shadowrootmode="open"><!----><!--?lit$49254222$--><!----><div><!--?lit$49254222$-->将光标放在上次运行的单元格上</div><!----><!--?--></template>
          </colab-tooltip-trigger>
      <colab-toolbar-button id="connect" tooltipid="colab-connect-tooltip" tooltiptext="已连接到

          Python 3 Google Compute Engine 后端

          

RAM：0.94 GB/12.67 GB
磁盘：27.17 GB/107.72 GB"><template shadowrootmode="open"><!----><md-text-button id="button" value="" data-aria-disabled="false"><template shadowrootmode="open" shadowrootdelegatesfocus><!---->
      <!--?lit$49254222$-->
      <div class="background"></div>
      <md-focus-ring part="focus-ring" for="button" aria-hidden="true"><template shadowrootmode="open"><!----></template></md-focus-ring>
      <md-ripple part="ripple" for="button" aria-hidden="true"><template shadowrootmode="open"><!----><div class="surface"></div></template></md-ripple>
      <!--?lit$49254222$--><button id="button" class="button">
      <!--?lit$49254222$-->
      <span class="touch"></span>
      <!--?lit$49254222$--><slot name="icon"></slot>
      <span class="label"><slot></slot></span>
      <!--?lit$49254222$-->
    
    </button>
    </template>
        <!--?lit$49254222$-->
        <span class="button-content"><slot></slot></span>
        <!--?lit$49254222$--><span class="screenreader-only"><!--?lit$49254222$-->已连接到

          Python 3 Google Compute Engine 后端

          

RAM：0.94 GB/12.67 GB
磁盘：27.17 GB/107.72 GB <!--?lit$49254222$--></span>
      </md-text-button>
      <!--?lit$49254222$--> <colab-tooltip-trigger for="button" aria-hidden="true" id="colab-connect-tooltip" message="已连接到

          Python 3 Google Compute Engine 后端

          

RAM：0.94 GB/12.67 GB
磁盘：27.17 GB/107.72 GB" shortcut=""><template shadowrootmode="open"><!----><!--?lit$49254222$--><!----><div><!--?lit$49254222$-->已连接到</div><!----><!----><div><!--?lit$49254222$--></div><!----><!----><div><!--?lit$49254222$-->          Python 3 Google Compute Engine 后端</div><!----><!----><div><!--?lit$49254222$--></div><!----><!----><div><!--?lit$49254222$-->          </div><!----><!----><div><!--?lit$49254222$--></div><!----><!----><div><!--?lit$49254222$-->RAM：0.94 GB/12.67 GB</div><!----><!----><div><!--?lit$49254222$-->磁盘：27.17 GB/107.72 GB</div><!----><!--?--></template>
          </colab-tooltip-trigger><!--?--></template>
        <!--?lit$49254222$--> <div id="connect-button-resource-display">
        <!--?lit$49254222$--><colab-usage-sparkline class="ram" label="RAM"><template shadowrootmode="open"><!---->
      <div class="label"><!--?lit$49254222$-->RAM</div>
      <!--?lit$49254222$-->
      <canvas height="14" width="20"></canvas>
    </template></colab-usage-sparkline>
        <!--?lit$49254222$--><colab-usage-sparkline class="disks" label="磁盘"><template shadowrootmode="open"><!---->
      <div class="label"><!--?lit$49254222$-->磁盘</div>
      <!--?lit$49254222$-->
      <canvas height="14" width="20"></canvas>
    </template></colab-usage-sparkline>
      </div>
      </colab-toolbar-button>
      <!--?lit$49254222$--> <md-icon-button id="connect-dropdown" data-aria-label="其他连接选项" value=""><template shadowrootmode="open" shadowrootdelegatesfocus><!----><button id="button" class="icon-button  standard " aria-label="其他连接选项">
        <!--?lit$49254222$--><md-focus-ring part="focus-ring" for="button" aria-hidden="true"><template shadowrootmode="open"><!----></template></md-focus-ring>
        <!--?lit$49254222$--><md-ripple aria-hidden="true"><template shadowrootmode="open"><!----><div class="surface"></div></template></md-ripple>
        <!--?lit$49254222$--><span class="icon"><slot></slot></span>
        <!--?lit$49254222$-->
        <!--?lit$49254222$--><span class="touch"></span>
        <!--?lit$49254222$-->
  </button></template>
        <md-icon aria-hidden="true"><template shadowrootmode="open"><!----><slot></slot></template>arrow_drop_down</md-icon>
      </md-icon-button>
      <colab-tooltip-trigger for="connect-dropdown" id="connect-dropdown-tooltip" aria-hidden="true" message="其他连接选项"><template shadowrootmode="open"><!----><!--?lit$49254222$--><!----><div><!--?lit$49254222$-->其他连接选项</div><!----><!--?--></template>
      </colab-tooltip-trigger><!--?--></template></colab-connect-button><!--?-->
    <!--?lit$49254222$--> <span class="colab-separator"></span>
          <colab-toolbar-button command="show-chat" icon="spark"><template shadowrootmode="open"><!----><md-text-button id="button" data-aria-disabled="false" value="" has-icon=""><template shadowrootmode="open" shadowrootdelegatesfocus><!---->
      <!--?lit$49254222$-->
      <div class="background"></div>
      <md-focus-ring part="focus-ring" for="button" aria-hidden="true"><template shadowrootmode="open"><!----></template></md-focus-ring>
      <md-ripple part="ripple" for="button" aria-hidden="true"><template shadowrootmode="open"><!----><div class="surface"></div></template></md-ripple>
      <!--?lit$49254222$--><button id="button" class="button">
      <!--?lit$49254222$-->
      <span class="touch"></span>
      <!--?lit$49254222$--><slot name="icon"></slot>
      <span class="label"><slot></slot></span>
      <!--?lit$49254222$-->
    
    </button>
    </template>
        <!--?lit$49254222$--><md-icon slot="icon" aria-hidden="true"><template shadowrootmode="open"><!----><slot></slot></template><!--?lit$49254222$-->spark</md-icon>
        <span class="button-content"><slot></slot></span>
        <!--?lit$49254222$--><span class="screenreader-only"><!--?lit$49254222$--> <!--?lit$49254222$--></span>
      </md-text-button>
      <!--?lit$49254222$--><!--?--></template>
            <!--?lit$49254222$-->Gemini
          </colab-toolbar-button>
    <!--?lit$49254222$-->
    <span class="collapsed-options">
      <!--?lit$49254222$--><span class="colab-separator"></span>
      <!--?lit$49254222$--> <md-icon-button command="share" title="分享笔记本" data-aria-label="分享笔记本" value=""><template shadowrootmode="open" shadowrootdelegatesfocus><!----><button id="button" class="icon-button  standard " aria-label="分享笔记本">
        <!--?lit$49254222$--><md-focus-ring part="focus-ring" for="button" aria-hidden="true"><template shadowrootmode="open"><!----></template></md-focus-ring>
        <!--?lit$49254222$--><md-ripple aria-hidden="true"><template shadowrootmode="open"><!----><div class="surface   "></div></template></md-ripple>
        <!--?lit$49254222$--><span class="icon"><slot></slot></span>
        <!--?lit$49254222$-->
        <!--?lit$49254222$--><span class="touch"></span>
        <!--?lit$49254222$-->
  </button></template>
            <md-icon filled="" aria-hidden="true"><template shadowrootmode="open"><!----><slot></slot></template><!--?lit$49254222$-->people</md-icon>
          </md-icon-button><md-icon-button command="preferences" data-aria-label="打开设置" title="打开设置" value=""><template shadowrootmode="open" shadowrootdelegatesfocus><!----><button id="button" class="icon-button  standard " aria-label="打开设置">
        <!--?lit$49254222$--><md-focus-ring part="focus-ring" for="button" aria-hidden="true"><template shadowrootmode="open"><!----></template></md-focus-ring>
        <!--?lit$49254222$--><md-ripple aria-hidden="true"><template shadowrootmode="open"><!----><div class="surface   "></div></template></md-ripple>
        <!--?lit$49254222$--><span class="icon"><slot></slot></span>
        <!--?lit$49254222$-->
        <!--?lit$49254222$--><span class="touch"></span>
        <!--?lit$49254222$-->
  </button></template>
        <md-icon filled="" aria-hidden="true"><template shadowrootmode="open"><!----><slot></slot></template>settings</md-icon>
      </md-icon-button>
    </span>
    <span class="colab-separator"></span>
    <!--?lit$49254222$--><md-icon-button toggle="" command="toggle-header" id="toggle-header-button" data-aria-label="显示/隐藏标题" aria-describedby="toggle-header-button-tooltip" value=""><template shadowrootmode="open" shadowrootdelegatesfocus><!----><button id="button" class="icon-button standard" aria-label="显示/隐藏标题" aria-pressed="false">
        <!--?lit$49254222$--><md-focus-ring part="focus-ring" for="button" aria-hidden="true"><template shadowrootmode="open"><!----></template></md-focus-ring>
        <!--?lit$49254222$--><md-ripple aria-hidden="true"><template shadowrootmode="open"><!----><div class="surface"></div></template></md-ripple>
        <!--?lit$49254222$--><span class="icon"><slot></slot></span>
        <!--?lit$49254222$-->
        <!--?lit$49254222$--><span class="touch"></span>
        <!--?lit$49254222$-->
  </button></template>
    <md-icon aria-hidden="true"><template shadowrootmode="open"><!----><slot></slot></template>expand_less</md-icon>
    <md-icon slot="selected" aria-hidden="true"><template shadowrootmode="open"><!----><slot></slot></template>expand_more</md-icon>
  </md-icon-button><colab-tooltip-trigger aria-hidden="true" for="toggle-header-button" id="toggle-header-button-tooltip"><template shadowrootmode="open"><!----><!--?lit$49254222$--><!----><div><!--?lit$49254222$-->显示/隐藏标题</div><!----><!--?--></template>
        </colab-tooltip-trigger><!--?--></colab-notebook-toolbar><colab-tab-layout-container class="layout horizontal grow flexible-tabs"><!----> <div class="layout horizontal tab-pane-parent">
      <!--?lit$49254222$--> <div class="layout vertical tab-pane-parent">
      <!--?lit$49254222$--><colab-tab-pane class="layout vertical grow no-header focused" align="horizontal"><!----> <div class="layout vertical grow">
    <div class="tab-pane-header layout horizontal noshrink">
      <md-tabs><template shadowrootmode="open"><!---->
      <div class="tabs">
        <slot></slot>
      </div>
      <md-divider part="divider"><template shadowrootmode="open"><!----></template></md-divider>
    </template><md-primary-tab noink="" title="" aria-labelledby="tab-title-qKDKqZgkzhkZ" class="selected-tab" md-tab="" active="" tabindex="0"><template shadowrootmode="open"><!----><div class="button" role="presentation">
      <md-focus-ring part="focus-ring" inward="" aria-hidden="true"><template shadowrootmode="open"><!----></template></md-focus-ring>
      <md-elevation part="elevation" aria-hidden="true"><template shadowrootmode="open"><!----><span class="shadow"></span></template></md-elevation>
      <md-ripple aria-hidden="true"><template shadowrootmode="open"><!----><div class="surface   "></div></template></md-ripple>
      <div role="presentation" class="content  has-label stacked ">
        <slot name="icon"></slot>
        <slot></slot>
        <!--?lit$49254222$--><div class="indicator"></div>
      </div>
      <!--?lit$49254222$-->
    </div></template>
          <div class="colab-tab-header">
            <span class="colab-tab-title" id="tab-title-qKDKqZgkzhkZ"><!--?lit$49254222$--><!--?lit$49254222$-->笔记本<!--?--></span>
            <!--?lit$49254222$-->
          </div>
        </md-primary-tab></md-tabs>
      <div class="layout grow"></div>
      <!--?lit$49254222$--> <md-icon-button title="展开" data-aria-label="展开" value=""><template shadowrootmode="open" shadowrootdelegatesfocus><!----><button id="button" class="icon-button  standard " aria-label="展开">
        <!--?lit$49254222$--><md-focus-ring part="focus-ring" for="button" aria-hidden="true"><template shadowrootmode="open"><!----></template></md-focus-ring>
        <!--?lit$49254222$--><md-ripple aria-hidden="true"><template shadowrootmode="open"><!----><div class="surface   "></div></template></md-ripple>
        <!--?lit$49254222$--><span class="icon"><slot></slot></span>
        <!--?lit$49254222$-->
        <!--?lit$49254222$--><span class="touch"></span>
        <!--?lit$49254222$-->
  </button></template>
    <md-icon aria-hidden="true"><template shadowrootmode="open"><!----><slot></slot></template>more_horiz</md-icon>
  </md-icon-button>
    </div>
    <div class="layout vertical grow tab-pane-container"> <colab-tab class="layout vertical grow notebook-tab-content selected-tab"><!----> <div class="overflow-flexbox-workaround">
      <colab-shaded-scroller ignore-dom-changes="" role="main" class="notebook-container" aria-label="笔记本" tabindex="-1">
        <div class="notebook-scrolling-horizontal-container">
          <div class="notebook-scrolling-horizontal">
            <div class="notebook-content-background">
              <!--?lit$49254222$-->
              <div class="notebook-content ">
                <!--?lit$49254222$--><div class="add-cell">
      <div class="add-cell-buttons">
        <md-outlined-button class="add-code add-button" data-aria-label="添加代码单元格
⌘/Ctrl+M B" title="添加代码单元格
⌘/Ctrl+M B" value="" has-icon=""><template shadowrootmode="open" shadowrootdelegatesfocus><!---->
      <!--?lit$49254222$--><div class="outline"></div>
      <div class="background"></div>
      <md-focus-ring part="focus-ring" for="button" aria-hidden="true"><template shadowrootmode="open"><!----></template></md-focus-ring>
      <md-ripple part="ripple" for="button" aria-hidden="true"><template shadowrootmode="open"><!----><div class="surface"></div></template></md-ripple>
      <!--?lit$49254222$--><button id="button" class="button" aria-label="添加代码单元格
⌘/Ctrl+M B">
      <!--?lit$49254222$-->
      <span class="touch"></span>
      <!--?lit$49254222$--><slot name="icon"></slot>
      <span class="label"><slot></slot></span>
      <!--?lit$49254222$-->
    
    </button>
    </template>
          <md-icon slot="icon" aria-hidden="true"><template shadowrootmode="open"><!----><slot></slot></template>add</md-icon>
          <!--?lit$49254222$-->代码
        </md-outlined-button>
        <md-outlined-button class="add-text add-button" data-aria-label="添加文本单元格" title="添加文本单元格" value="" has-icon=""><template shadowrootmode="open" shadowrootdelegatesfocus><!---->
      <!--?lit$49254222$--><div class="outline"></div>
      <div class="background"></div>
      <md-focus-ring part="focus-ring" for="button" aria-hidden="true"><template shadowrootmode="open"><!----></template></md-focus-ring>
      <md-ripple part="ripple" for="button" aria-hidden="true"><template shadowrootmode="open"><!----><div class="surface"></div></template></md-ripple>
      <!--?lit$49254222$--><button id="button" class="button" aria-label="添加文本单元格">
      <!--?lit$49254222$-->
      <span class="touch"></span>
      <!--?lit$49254222$--><slot name="icon"></slot>
      <span class="label"><slot></slot></span>
      <!--?lit$49254222$-->
    
    </button>
    </template>
          <md-icon slot="icon" aria-hidden="true"><template shadowrootmode="open"><!----><slot></slot></template>add</md-icon>
          <!--?lit$49254222$-->文本
        </md-outlined-button>
        <!--?lit$49254222$-->
      </div><hr>
    </div>
                <div class="notebook-cell-list"><div class="cell code icon-scrolling focused" id="cell-QQDl0jmjzhkH" role="region" aria-label="单元格 0：代码单元格：" style="" tabindex="-1"><div class="cell-tag-editor sticky"></div><div class="cell-toolbar sticky"><colab-cell-toolbar><template shadowrootmode="open"><!----><!--?lit$49254222$--><!----> <md-icon-button class="colab-icon" title="上移单元格
⌘/Ctrl+M K" data-aria-label="上移单元格
⌘/Ctrl+M K" command="move-cell-up" disabled="" value="" style=""><template shadowrootmode="open" shadowrootdelegatesfocus><!----><button id="button" class="icon-button  standard " aria-label="上移单元格
⌘/Ctrl+M K" disabled="">
        <!--?lit$49254222$--><md-focus-ring part="focus-ring" for="button" aria-hidden="true"><template shadowrootmode="open"><!----></template></md-focus-ring>
        <!--?lit$49254222$--><md-ripple disabled="" aria-hidden="true"><template shadowrootmode="open"><!----><div class="surface   "></div></template></md-ripple>
        <!--?lit$49254222$--><span class="icon"><slot></slot></span>
        <!--?lit$49254222$-->
        <!--?lit$49254222$--><span class="touch"></span>
        <!--?lit$49254222$-->
  </button></template>
          <md-icon aria-hidden="true"><template shadowrootmode="open"><!----><slot></slot></template><!--?lit$49254222$-->arrow_upward</md-icon>
          <!--?lit$49254222$-->
        </md-icon-button><!----><!----> <md-icon-button class="colab-icon" title="下移单元格
⌘/Ctrl+M J" data-aria-label="下移单元格
⌘/Ctrl+M J" command="move-cell-down" value="" style=""><template shadowrootmode="open" shadowrootdelegatesfocus><!----><button id="button" class="icon-button  standard " aria-label="下移单元格
⌘/Ctrl+M J">
        <!--?lit$49254222$--><md-focus-ring part="focus-ring" for="button" aria-hidden="true"><template shadowrootmode="open"><!----></template></md-focus-ring>
        <!--?lit$49254222$--><md-ripple aria-hidden="true"><template shadowrootmode="open"><!----><div class="surface"></div></template></md-ripple>
        <!--?lit$49254222$--><span class="icon"><slot></slot></span>
        <!--?lit$49254222$-->
        <!--?lit$49254222$--><span class="touch"></span>
        <!--?lit$49254222$-->
  </button></template>
          <md-icon aria-hidden="true"><template shadowrootmode="open"><!----><slot></slot></template><!--?lit$49254222$-->arrow_downward</md-icon>
          <!--?lit$49254222$-->
        </md-icon-button><!----><!----> <md-icon-button class="colab-icon" title="将链接复制到单元格" data-aria-label="将链接复制到单元格" command="copy-link-to-cell" value=""><template shadowrootmode="open" shadowrootdelegatesfocus><!----><button id="button" class="icon-button  standard " aria-label="将链接复制到单元格">
        <!--?lit$49254222$--><md-focus-ring part="focus-ring" for="button" aria-hidden="true"><template shadowrootmode="open"><!----></template></md-focus-ring>
        <!--?lit$49254222$--><md-ripple aria-hidden="true"><template shadowrootmode="open"><!----><div class="surface"></div></template></md-ripple>
        <!--?lit$49254222$--><span class="icon"><slot></slot></span>
        <!--?lit$49254222$-->
        <!--?lit$49254222$--><span class="touch"></span>
        <!--?lit$49254222$-->
  </button></template>
          <md-icon aria-hidden="true"><template shadowrootmode="open"><!----><slot></slot></template><!--?lit$49254222$-->link</md-icon>
          <!--?lit$49254222$-->
        </md-icon-button><!----><!----> <md-icon-button class="colab-icon" title="添加注释
⌘/Ctrl+Alt+M" data-aria-label="添加注释
⌘/Ctrl+Alt+M" command="add-comment" value="" style=""><template shadowrootmode="open" shadowrootdelegatesfocus><!----><button id="button" class="icon-button  standard " aria-label="添加注释
⌘/Ctrl+Alt+M">
        <!--?lit$49254222$--><md-focus-ring part="focus-ring" for="button" aria-hidden="true"><template shadowrootmode="open"><!----></template></md-focus-ring>
        <!--?lit$49254222$--><md-ripple aria-hidden="true"><template shadowrootmode="open"><!----><div class="surface"></div></template></md-ripple>
        <!--?lit$49254222$--><span class="icon"><slot></slot></span>
        <!--?lit$49254222$-->
        <!--?lit$49254222$--><span class="touch"></span>
        <!--?lit$49254222$-->
  </button></template>
          <md-icon aria-hidden="true"><template shadowrootmode="open"><!----><slot></slot></template><!--?lit$49254222$-->comment</md-icon>
          <!--?lit$49254222$-->
        </md-icon-button><!----><!----> <md-icon-button class="colab-icon" title="打开编辑器设置" data-aria-label="打开编辑器设置" command="editor-preferences" value=""><template shadowrootmode="open" shadowrootdelegatesfocus><!----><button id="button" class="icon-button  standard " aria-label="打开编辑器设置">
        <!--?lit$49254222$--><md-focus-ring part="focus-ring" for="button" aria-hidden="true"><template shadowrootmode="open"><!----></template></md-focus-ring>
        <!--?lit$49254222$--><md-ripple aria-hidden="true"><template shadowrootmode="open"><!----><div class="surface"></div></template></md-ripple>
        <!--?lit$49254222$--><span class="icon"><slot></slot></span>
        <!--?lit$49254222$-->
        <!--?lit$49254222$--><span class="touch"></span>
        <!--?lit$49254222$-->
  </button></template>
          <md-icon filled="" aria-hidden="true"><template shadowrootmode="open"><!----><slot></slot></template><!--?lit$49254222$-->settings</md-icon>
          <!--?lit$49254222$-->
        </md-icon-button><!----><!----> <md-icon-button class="colab-icon" title="修改" data-aria-label="修改" command="toggle-edit-markdown" toggle="" style="display: none;" value=""><template shadowrootmode="open" shadowrootdelegatesfocus><!----><button id="button" class="icon-button  standard " aria-label="修改" aria-pressed="false">
        <!--?lit$49254222$--><md-focus-ring part="focus-ring" for="button" aria-hidden="true"><template shadowrootmode="open"><!----></template></md-focus-ring>
        <!--?lit$49254222$--><md-ripple aria-hidden="true"><template shadowrootmode="open"><!----><div class="surface   "></div></template></md-ripple>
        <!--?lit$49254222$--><span class="icon"><slot></slot></span>
        <!--?lit$49254222$-->
        <!--?lit$49254222$--><span class="touch"></span>
        <!--?lit$49254222$-->
  </button></template>
          <md-icon aria-hidden="true"><template shadowrootmode="open"><!----><slot></slot></template><!--?lit$49254222$-->edit</md-icon>
          <!--?lit$49254222$--><md-icon slot="selected" aria-hidden="true"><template shadowrootmode="open"><!----><slot></slot></template><!--?lit$49254222$-->edit_off</md-icon>
        </md-icon-button><!----><!----> <md-icon-button class="colab-icon" title="在标签页中镜像单元格" data-aria-label="在标签页中镜像单元格" command="mirror-cell-in-tab" value="" style=""><template shadowrootmode="open" shadowrootdelegatesfocus><!----><button id="button" class="icon-button  standard " aria-label="在标签页中镜像单元格">
        <!--?lit$49254222$--><md-focus-ring part="focus-ring" for="button" aria-hidden="true"><template shadowrootmode="open"><!----></template></md-focus-ring>
        <!--?lit$49254222$--><md-ripple aria-hidden="true"><template shadowrootmode="open"><!----><div class="surface"></div></template></md-ripple>
        <!--?lit$49254222$--><span class="icon"><slot></slot></span>
        <!--?lit$49254222$-->
        <!--?lit$49254222$--><span class="touch"></span>
        <!--?lit$49254222$-->
  </button></template>
          <md-icon aria-hidden="true"><template shadowrootmode="open"><!----><slot></slot></template><!--?lit$49254222$--><svg viewBox="0 0 24 24"><!--?lit$49254222$-->
      <g id="mirror-cell">
        <path d="M4,21V7H2V21a2,2,0,0,0,2,2H18V21Z"></path>
        <path d="M6,13v2H8.6L5,18.6,6.4,20,10,16.4V19h2V13Z"></path>
        <path d="M19,1H8A2,2,0,0,0,6,3v8H8V3H19V17H14v2h5a2,2,0,0,0,2-2V3A2,2,0,0,0,19,1Z"></path>
      </g></svg></md-icon>
          <!--?lit$49254222$-->
        </md-icon-button><!----><!----> <md-icon-button class="colab-icon" title="删除单元格
⌘/Ctrl+M D" data-aria-label="删除单元格
⌘/Ctrl+M D" command="delete-cell-or-selection" value=""><template shadowrootmode="open" shadowrootdelegatesfocus><!----><button id="button" class="icon-button  standard " aria-label="删除单元格
⌘/Ctrl+M D">
        <!--?lit$49254222$--><md-focus-ring part="focus-ring" for="button" aria-hidden="true"><template shadowrootmode="open"><!----></template></md-focus-ring>
        <!--?lit$49254222$--><md-ripple aria-hidden="true"><template shadowrootmode="open"><!----><div class="surface"></div></template></md-ripple>
        <!--?lit$49254222$--><span class="icon"><slot></slot></span>
        <!--?lit$49254222$-->
        <!--?lit$49254222$--><span class="touch"></span>
        <!--?lit$49254222$-->
  </button></template>
          <md-icon aria-hidden="true"><template shadowrootmode="open"><!----><slot></slot></template><!--?lit$49254222$-->delete</md-icon>
          <!--?lit$49254222$-->
        </md-icon-button><!----><!--?lit$49254222$--><md-icon-button title="更多单元格操作" data-aria-label="更多单元格操作" class="colab-icon cell-toolbar-more" value=""><template shadowrootmode="open" shadowrootdelegatesfocus><!----><button id="button" class="icon-button  standard " aria-label="更多单元格操作">
        <!--?lit$49254222$--><md-focus-ring part="focus-ring" for="button" aria-hidden="true"><template shadowrootmode="open"><!----></template></md-focus-ring>
        <!--?lit$49254222$--><md-ripple aria-hidden="true"><template shadowrootmode="open"><!----><div class="surface"></div></template></md-ripple>
        <!--?lit$49254222$--><span class="icon"><slot></slot></span>
        <!--?lit$49254222$-->
        <!--?lit$49254222$--><span class="touch"></span>
        <!--?lit$49254222$-->
  </button></template><md-icon aria-hidden="true"><template shadowrootmode="open"><!----><slot></slot></template>more_vert</md-icon>
    </md-icon-button><!--?--></template></colab-cell-toolbar></div><div class="main-content" elevation="2"><div class="cell-contents"><colab-cell-assist-input class="showing" style="max-height: 0px;"><template shadowrootmode="open"><!----><div class="top">
        <mwc-button class="generate" disabled=""><template shadowrootmode="open"><!---->
      <button id="button" class="mdc-button   " disabled="" aria-label="">
        <!--?lit$49254222$--><!--?-->
        <!--?lit$49254222$-->
        <span class="leading-icon">
          <slot name="icon">
            <!--?lit$49254222$-->
          </slot>
        </span>
        <span class="mdc-button__label"><!--?lit$49254222$--></span>
        <span class="slot-container   ">
          <slot></slot>
        </span>
        <span class="trailing-icon">
          <slot name="trailingIcon">
            <!--?lit$49254222$-->
          </slot>
        </span>
      </button></template>
          <md-icon aria-hidden="true"><template shadowrootmode="open"><!----><slot></slot></template>pen_spark</md-icon><!--?lit$49254222$-->生成</mwc-button>
        <!--?lit$49254222$--><!--?-->
        <div class="input-container   ">
          <label class="cell-assist-input-label" aria-hidden="true" for="cell-assist-input-QQDl0jmjzhkH"><!--?lit$49254222$-->a slider using jupyter widgets</label>
          <md-outlined-text-field class="cell-assist-input" type="textarea" autofocus="" rows="1" maxlength="400" id="cell-assist-input-QQDl0jmjzhkH" data-aria-label="与生成代码有关的提示" inputmode="" autocomplete=""><template shadowrootmode="open" shadowrootdelegatesfocus><!---->
      <span class="text-field  textarea ">
        <!--?lit$49254222$--><md-outlined-field class="field" count="0" error-text="" label="" max="400" resizable="" supporting-text="" has-end=""><template shadowrootmode="open"><!---->
      <div class="field resizable no-label with-end">
        <div class="container-overflow">
          <!--?lit$49254222$--> <!--?lit$49254222$--> <!--?lit$49254222$-->
      <div class="outline">
        <div class="outline-start"></div>
        <div class="outline-notch">
          <div class="outline-panel-inactive"></div>
          <div class="outline-panel-active"></div>
          <div class="outline-label"><!--?lit$49254222$--></div>
        </div>
        <div class="outline-end"></div>
      </div>
    
          <div class="container">
            <div class="start">
              <slot name="start"></slot>
            </div>
            <div class="middle">
              <div class="label-wrapper">
                <!--?lit$49254222$--> <!--?lit$49254222$-->
              </div>
              <div class="content">
                <slot></slot>
              </div>
            </div>
            <div class="end">
              <slot name="end"></slot>
            </div>
          </div>
        </div>
        <!--?lit$49254222$-->
      <div class="supporting-text"><!--?lit$49254222$--><span><!--?lit$49254222$--></span><!--?lit$49254222$--><span class="counter"><!--?lit$49254222$-->0 / 400</span></div>
      <slot name="aria-describedby"></slot>
    
      </div>
    </template>
      <!--?lit$49254222$-->
      <span class="icon leading" slot="start">
        <slot name="leading-icon"></slot>
      </span>
    
      <!--?lit$49254222$-->
        <textarea class="input" aria-describedby="description" aria-invalid="false" aria-label="与生成代码有关的提示" maxlength="400" rows="1" cols="20"></textarea>
      
      <!--?lit$49254222$-->
      <span class="icon trailing" slot="end">
        <slot name="trailing-icon"></slot>
      </span>
    
      <div id="description" slot="aria-describedby" hidden=""><!----><!--?lit$49254222$--> <!--?lit$49254222$-->0 / 400<!--?--></div>
    </md-outlined-field>
      </span>
    </template>
            <md-icon slot="trailing-icon" class="search" title="搜索" aria-hidden="true"><template shadowrootmode="open"><!----><slot></slot></template>search</md-icon>
          </md-outlined-text-field>
        </div>
        <md-outlined-button class="close" value=""><template shadowrootmode="open" shadowrootdelegatesfocus><!---->
      <!--?lit$49254222$--><div class="outline"></div>
      <div class="background"></div>
      <md-focus-ring part="focus-ring" for="button" aria-hidden="true"><template shadowrootmode="open"><!----></template></md-focus-ring>
      <md-ripple part="ripple" for="button" aria-hidden="true"><template shadowrootmode="open"><!----><div class="surface"></div></template></md-ripple>
      <!--?lit$49254222$--><button id="button" class="button">
      <!--?lit$49254222$-->
      <span class="touch"></span>
      <!--?lit$49254222$--><slot name="icon"></slot>
      <span class="label"><slot></slot></span>
      <!--?lit$49254222$-->
    
    </button>
    </template><!--?lit$49254222$-->关闭</md-outlined-button>
      </div>
      <md-linear-progress indeterminate="" class="  "><template shadowrootmode="open"><!---->
      <div role="progressbar" aria-valuemin="0" class="progress  indeterminate " aria-valuemax="1"><!--?lit$49254222$-->
      <div class="dots" hidden=""></div>
      <div class="inactive-track" style="transform: scaleX(1);"></div>
      <div class="bar primary-bar" style="transform: scaleX(1);">
        <div class="bar-inner"></div>
      </div>
      <div class="bar secondary-bar">
        <div class="bar-inner"></div>
      </div>
    </div>
    </template></md-linear-progress>
      <!--?lit$49254222$--><!--?lit$49254222$--><!--?lit$49254222$--><!--?--><!--?--></template></colab-cell-assist-input><div class="cell-mask"></div><span class="imported-info-area"></span><div class="codecell-input-output">
      <div class="inputarea horizontal layout code">
        <div class="cell-gutter">
          <!-- Bounding range for vertical scrolling of icons -->
          <div class="cell-execution-container">
            <colab-run-button title="运行单元格 (⌘/Ctrl+Enter)
单元格尚未在此会话中执行

执行者：Jiale Guo
2024年7月31日星期三 (1天前)
执行时长：2.31 秒"><template shadowrootmode="open"><!----> <div class="cell-execution stale focused">
      <button aria-label="运行单元格">
        <span class="execution-count"><!--?lit$49254222$-->[ ]</span>
        <span aria-hidden="true" class="cell-execution-indicator"><!--?lit$49254222$-->
<svg xmlns="http://www.w3.org/2000/svg" viewBox="0 0 24 24">
  <!--?lit$49254222$-->
  <mask id="playSymbolMask">
    <rect width="100%" height="100%" fill="white"></rect>
    <polygon points="10,8 17,12 10,16" fill="black"></polygon>
  </mask>
  <circle cx="12" cy="12" r="7.8" mask="url(#playSymbolMask)" id="filledCircle"></circle>
</svg></span>
      </button>
      <!--?lit$49254222$--><!--?-->
    </div></template></colab-run-button>
          </div>
        </div>
      <div class="editor flex lazy-editor" style=""><div class="editor flex monaco" data-keybinding-context="69" data-mode-id="notebook-python" style="height: 102px; --vscode-editorCodeLens-lineHeight: 16px; --vscode-editorCodeLens-fontSize: 12px; --vscode-editorCodeLens-fontFeatureSettings: &quot;liga&quot; off, &quot;calt&quot; off;"><div class="monaco-editor no-user-select mac  showUnused showDeprecated vs" role="code" data-uri="inmemory://model/3" style="width: 1164px; height: 102px;"><div data-mprt="3" class="overflow-guard" style="width: 1164px; height: 102px; overflow: clip;"><div class="margin" role="presentation" aria-hidden="true" style="position: absolute; contain: strict; will-change: unset; top: 0px; height: 102px; width: 47px;"><div class="glyph-margin" style="left: 0px; width: 0px; height: 102px;"></div><div class="margin-view-zones" role="presentation" aria-hidden="true" style="position: absolute; width: 47px;"></div><div class="margin-view-overlays" role="presentation" aria-hidden="true" style="position: absolute; font-family: monospace, Menlo, Monaco, &quot;Courier New&quot;, monospace; font-weight: normal; font-size: 14px; font-feature-settings: &quot;liga&quot; 0, &quot;calt&quot; 0; font-variation-settings: normal; line-height: 19px; letter-spacing: 0px; width: 47px; height: 102px;"><div style="position:absolute;top:16px;width:100%;height:19px;"><div class="line-numbers" style="left:0px;width:25px;">1</div></div><div style="position:absolute;top:35px;width:100%;height:19px;"><div class="line-numbers" style="left:0px;width:25px;">2</div></div><div style="position:absolute;top:54px;width:100%;height:19px;"><div class="current-line current-line-margin-both" style="width:47px; height:19px;"></div><div class="line-numbers active-line-number" style="left:0px;width:25px;">3</div></div><div style="position:absolute;top:73px;width:100%;height:19px;"><div class="line-numbers" style="left:0px;width:25px;">4</div></div></div><div class="glyph-margin-widgets" style="position: absolute; top: 0px;"></div></div><div class="monaco-scrollable-element editor-scrollable vs mac" role="presentation" data-mprt="5" style="position: absolute; overflow: hidden; left: 47px; width: 1117px; height: 102px;"><div class="lines-content monaco-editor-background" style="position: absolute; overflow: hidden; width: 1e+06px; height: 102px; contain: strict; will-change: unset; top: 0px; left: 0px;"><div class="view-overlays" role="presentation" aria-hidden="true" style="position: absolute; font-family: monospace, Menlo, Monaco, &quot;Courier New&quot;, monospace; font-weight: normal; font-size: 14px; font-feature-settings: &quot;liga&quot; 0, &quot;calt&quot; 0; font-variation-settings: normal; line-height: 19px; letter-spacing: 0px; height: 0px; width: 1117px;"><div style="position:absolute;top:16px;width:100%;height:19px;"></div><div style="position:absolute;top:35px;width:100%;height:19px;"></div><div style="position:absolute;top:54px;width:100%;height:19px;"><div class="current-line" style="width:1117px; height:19px;"></div><div class="cdr wordHighlightText" style="left:236px;width:25px;height:19px;"></div></div><div style="position:absolute;top:73px;width:100%;height:19px;"></div></div><div role="presentation" aria-hidden="true" class="view-rulers"></div><div class="view-zones" role="presentation" aria-hidden="true" style="position: absolute; width: 1117px;"><div monaco-view-zone="m1" monaco-visible-view-zone="true" style="position: absolute; width: 100%; display: block; top: 0px; height: 16px;"></div></div><div class="view-lines monaco-mouse-cursor-text" role="presentation" aria-hidden="true" data-mprt="7" style="position: absolute; font-family: monospace, Menlo, Monaco, &quot;Courier New&quot;, monospace; font-weight: normal; font-size: 14px; font-feature-settings: &quot;liga&quot; 0, &quot;calt&quot; 0; font-variation-settings: normal; line-height: 19px; letter-spacing: 0px; width: 1117px; height: 102px;"><div style="top:16px;height:19px;" class="view-line"><span><span class="mtk19">import</span><span class="mtk1">&nbsp;numpy&nbsp;</span><span class="mtk19">as</span><span class="mtk1">&nbsp;np</span></span></div><div style="top:35px;height:19px;" class="view-line"><span><span class="mtk19">import</span><span class="mtk1">&nbsp;pandas&nbsp;</span><span class="mtk19">as</span><span class="mtk1">&nbsp;pd</span></span></div><div style="top:54px;height:19px;" class="view-line"><span><span class="mtk19">import</span><span class="mtk1">&nbsp;matplotlib.pyplot&nbsp;</span><span class="mtk19">as</span><span class="mtk1">&nbsp;plt</span></span></div><div style="top:73px;height:19px;" class="view-line"><span><span class="mtk19">import</span><span class="mtk1">&nbsp;seaborn&nbsp;</span><span class="mtk19">as</span><span class="mtk1">&nbsp;sns</span></span></div></div><div data-mprt="1" class="contentWidgets" style="position: absolute; top: 0px;"><span class="codelens-decoration" widgetid="codelens.widget-6" monaco-visible-content-widget="true" style="position: absolute; display: block; visibility: inherit; max-width: 1117px; top: -3px; left: 0px;"><span>可能需要获得许可，才能使用建议的代码</span><span>&nbsp;|&nbsp;</span><a id="1" role="button">Divyanshi0402/TSF_Data-_Science_And_Analytics</a></span><div class="lightBulbWidget codicon-light-bulb codicon" widgetid="LightBulbWidget" title="Show Code Actions (⌘.)" style="position: absolute; display: none; visibility: hidden; max-width: 886px;"></div></div><div role="presentation" aria-hidden="true" class="cursors-layer cursor-line-style cursor-solid"><div class="cursor monaco-mouse-cursor-text " style="height: 19px; top: 54px; left: 260px; font-family: monospace, Menlo, Monaco, &quot;Courier New&quot;, monospace; font-weight: normal; font-size: 14px; font-feature-settings: &quot;liga&quot; 0, &quot;calt&quot; 0; font-variation-settings: normal; line-height: 19px; letter-spacing: 0px; display: block; visibility: hidden; padding-left: 1px; width: 2px;"></div></div></div><div role="presentation" aria-hidden="true" class="invisible scrollbar horizontal" style="position: absolute; width: 1103px; height: 10px; left: 0px; bottom: 0px;"><div class="slider" style="position: absolute; top: 0px; left: 0px; height: 10px; transform: translate3d(0px, 0px, 0px); contain: strict; will-change: unset; width: 1103px;"></div></div><canvas class="decorationsOverviewRuler" aria-hidden="true" width="28" height="204" style="position: absolute; transform: translate3d(0px, 0px, 0px); contain: strict; top: 0px; right: 0px; width: 14px; height: 102px; will-change: unset; display: block;"></canvas><div role="presentation" aria-hidden="true" class="invisible scrollbar vertical" style="position: absolute; width: 14px; height: 102px; right: 0px; top: 0px;"><div class="slider" style="position: absolute; top: 0px; left: 0px; width: 14px; transform: translate3d(0px, 0px, 0px); contain: strict; will-change: unset; height: 102px;"></div></div></div><div role="presentation" aria-hidden="true" style="width: 1164px;"></div><textarea data-mprt="6" class="inputarea monaco-mouse-cursor-text" wrap="on" autocorrect="off" autocapitalize="off" autocomplete="off" spellcheck="false" aria-label="Editor content;Press Alt+F1 for Accessibility Options." tabindex="0" role="textbox" aria-roledescription="editor" aria-multiline="true" aria-haspopup="false" aria-autocomplete="both" style="tab-size: 16.8594px; font-family: monospace, Menlo, Monaco, &quot;Courier New&quot;, monospace; font-weight: normal; font-size: 14px; font-feature-settings: &quot;liga&quot; 0, &quot;calt&quot; 0; font-variation-settings: normal; line-height: 19px; letter-spacing: 0px; top: 54px; left: 47px; width: 674px; height: 19px;"></textarea><div class="monaco-editor-background textAreaCover line-numbers" style="position: absolute; top: 0px; left: 0px; width: 0px; height: 0px;"></div><div data-mprt="4" class="overlayWidgets" style="width: 1164px;"></div><div data-mprt="8" class="minimap slider-mouseover" role="presentation" aria-hidden="true" style="position: absolute; left: 0px; width: 0px; height: 102px;"><div class="minimap-shadow-hidden" style="height: 102px;"></div><canvas width="0" height="204" style="position: absolute; left: 0px; width: 0px; height: 102px;"></canvas><canvas class="minimap-decorations-layer" width="0" height="204" style="position: absolute; left: 0px; width: 0px; height: 102px;"></canvas><div class="minimap-slider" style="position: absolute; transform: translate3d(0px, 0px, 0px); contain: strict; width: 0px; will-change: unset;"><div class="minimap-slider-horizontal" style="position: absolute; width: 0px; height: 0px;"></div></div></div><div role="presentation" aria-hidden="true" class="blockDecorations-container"></div></div><div data-mprt="2" class="overflowingContentWidgets" style="display: none;"><div widgetid="editor.contrib.resizableContentHoverWidget" style="position: fixed; height: 10px; width: 10px; z-index: 50; display: none; visibility: hidden; max-width: 1290px;"><div class="monaco-sash mac vertical" style="left: 8px;"></div><div class="monaco-sash mac vertical" style="left: -2px;"></div><div class="monaco-sash orthogonal-edge-north mac horizontal" style="top: -2px;"><div class="orthogonal-drag-handle start"></div><div class="orthogonal-drag-handle end"></div></div><div class="monaco-sash orthogonal-edge-south mac horizontal" style="top: 8px;"><div class="orthogonal-drag-handle start"></div><div class="orthogonal-drag-handle end"></div></div><div class="monaco-hover hidden" role="tooltip" tabindex="0"><div class="monaco-scrollable-element  mac" role="presentation" style="position: relative; overflow: hidden;"><div class="monaco-hover-content" style="overflow: hidden; font-size: 14px; line-height: 1.35714; max-width: 768.24px; max-height: 250px;"></div><div role="presentation" aria-hidden="true" class="invisible scrollbar horizontal" style="position: absolute;"><div class="slider" style="position: absolute; top: 0px; left: 0px; height: 10px; transform: translate3d(0px, 0px, 0px); contain: strict;"></div></div><div role="presentation" aria-hidden="true" class="invisible scrollbar vertical" style="position: absolute;"><div class="slider" style="position: absolute; top: 0px; left: 0px; width: 10px; transform: translate3d(0px, 0px, 0px); contain: strict;"></div></div><div class="shadow"></div><div class="shadow"></div><div class="shadow"></div></div></div></div></div><div class=".in-cell-overflowing"><div widgetid="editor.contrib.quickInputWidget" style="position: absolute; top: 0px; right: 50%;"></div></div></div></div></div><colab-form class="formview vertical layout flex"><div class="widget-area vertical layout"></div></colab-form></div>
    <div class="output" aria-label="单元格 0 的输出" role="region"><!----> <div class="output-header"> </div>
        <div class="output-content" hidden="">
          <div class="output-info"><colab-output-info><template shadowrootmode="open"><!----><md-icon-button title="代码单元格输出项操作" data-aria-label="代码单元格输出项操作" value=""><template shadowrootmode="open" shadowrootdelegatesfocus><!----><button id="button" class="icon-button  standard " aria-label="代码单元格输出项操作">
        <!--?lit$49254222$--><md-focus-ring part="focus-ring" for="button" aria-hidden="true"><template shadowrootmode="open"><!----></template></md-focus-ring>
        <!--?lit$49254222$--><md-ripple aria-hidden="true"><template shadowrootmode="open"><!----><div class="surface   "></div></template></md-ripple>
        <!--?lit$49254222$--><span class="icon"><slot></slot></span>
        <!--?lit$49254222$-->
        <!--?lit$49254222$--><span class="touch"></span>
        <!--?lit$49254222$-->
  </button></template>
      <md-icon aria-hidden="true"><template shadowrootmode="open"><!----><slot></slot></template><!--?lit$49254222$--><svg viewBox="0 0 24 24"><!--?lit$49254222$--><path d="m15.9 3.07c-4.32 0.0742-8.64-0.0355-13 0.0568-1.37 0.307-1.74 2.1-1.41 3.26 0.469 0.606 1.86 0.384 1.66-0.525 0.0448-0.329-0.183-0.93 0.354-0.766h13.3v1.53h1.71c0.0709-1.13 0.141-2.62-0.968-3.3-0.511-0.264-1.11-0.252-1.67-0.259zm2.94 6.84v4.87c1.62-1.62 3.24-3.24 4.87-4.87h-4.87zm0 0h-1.71v3.43l1.57 1.57c0.32-1.65 0.0556-3.34 0.135-5zm-1.71 3.43v-3.43h-3.43c1.14 1.14 2.29 2.29 3.43 3.43zm1.4 4.27h-1.71v1.48h-13.6v-1.48h-1.71c-0.0473 1.15-0.16 2.72 1.09 3.29 1.47 0.506 3.02 0.0265 4.53 0.192 3.34-0.0051 6.68 0.0336 10-0.0245 1.49-0.366 1.56-2.22 1.42-3.45zm-10.1-1.12c-0.398-0.483-0.796-0.967-1.19-1.45 0.59-0.683 1.18-1.37 1.77-2.05h-8.67v-2h8.67c-0.59-0.683-1.18-1.37-1.77-2.05 0.398-0.483 0.796-0.967 1.19-1.45 1.28 1.5 2.56 3 3.84 4.5-1.28 1.5-2.56 3-3.84 4.5z"></path></svg></md-icon>
    </md-icon-button></template></colab-output-info></div>
          <div class="output-iframe-container" hidden="">
            <div class="output-iframe-sizer" style="min-height: 0px;"> <div><div><colab-static-output-renderer role="group" tabindex="0"><div></div><div></div></colab-static-output-renderer></div></div><div><div></div></div></div>
          </div>
        </div></div></div><colab-cell-next-steps><template shadowrootmode="open"><!----></template></colab-cell-next-steps></div></div><div class="add-cell">
      <div class="add-cell-buttons">
        <md-outlined-button class="add-code add-button" data-aria-label="添加代码单元格
⌘/Ctrl+M B" title="添加代码单元格
⌘/Ctrl+M B" value="" has-icon=""><template shadowrootmode="open" shadowrootdelegatesfocus><!---->
      <!--?lit$49254222$--><div class="outline"></div>
      <div class="background"></div>
      <md-focus-ring part="focus-ring" for="button" aria-hidden="true"><template shadowrootmode="open"><!----></template></md-focus-ring>
      <md-ripple part="ripple" for="button" aria-hidden="true"><template shadowrootmode="open"><!----><div class="surface"></div></template></md-ripple>
      <!--?lit$49254222$--><button id="button" class="button" aria-label="添加代码单元格
⌘/Ctrl+M B">
      <!--?lit$49254222$-->
      <span class="touch"></span>
      <!--?lit$49254222$--><slot name="icon"></slot>
      <span class="label"><slot></slot></span>
      <!--?lit$49254222$-->
    
    </button>
    </template>
          <md-icon slot="icon" aria-hidden="true"><template shadowrootmode="open"><!----><slot></slot></template>add</md-icon>
          <!--?lit$49254222$-->代码
        </md-outlined-button>
        <md-outlined-button class="add-text add-button" data-aria-label="添加文本单元格" title="添加文本单元格" value="" has-icon=""><template shadowrootmode="open" shadowrootdelegatesfocus><!---->
      <!--?lit$49254222$--><div class="outline"></div>
      <div class="background"></div>
      <md-focus-ring part="focus-ring" for="button" aria-hidden="true"><template shadowrootmode="open"><!----></template></md-focus-ring>
      <md-ripple part="ripple" for="button" aria-hidden="true"><template shadowrootmode="open"><!----><div class="surface"></div></template></md-ripple>
      <!--?lit$49254222$--><button id="button" class="button" aria-label="添加文本单元格">
      <!--?lit$49254222$-->
      <span class="touch"></span>
      <!--?lit$49254222$--><slot name="icon"></slot>
      <span class="label"><slot></slot></span>
      <!--?lit$49254222$-->
    
    </button>
    </template>
          <md-icon slot="icon" aria-hidden="true"><template shadowrootmode="open"><!----><slot></slot></template>add</md-icon>
          <!--?lit$49254222$-->文本
        </md-outlined-button>
        <!--?lit$49254222$-->
      </div><hr>
    </div></div><div class="cell code icon-scrolling code-has-output" id="cell-jRHpTCLi0SGk" role="region" aria-label="单元格 1：代码单元格：" style="opacity: 1;" tabindex="-1"><div class="cell-tag-editor sticky"></div><div class="cell-toolbar sticky"></div><div class="main-content" elevation="0"><div class="cell-contents"><div class="cell-mask"></div><span class="imported-info-area"></span><div class="codecell-input-output">
      <div class="inputarea horizontal layout code">
        <div class="cell-gutter">
          <!-- Bounding range for vertical scrolling of icons -->
          <div class="cell-execution-container">
            <colab-run-button title="运行单元格 (⌘/Ctrl+Enter)
单元格尚未在此会话中执行

执行者：Jiale Guo
14:26 (32分钟前)
执行时长：85.461 秒"><template shadowrootmode="open"><!----> <div class="cell-execution stale hovered">
      <button aria-label="运行单元格">
        <span class="execution-count"><!--?lit$49254222$-->[ ]</span>
        <span aria-hidden="true" class="cell-execution-indicator"><!--?lit$49254222$-->
<svg xmlns="http://www.w3.org/2000/svg" viewBox="0 0 24 24">
  <!--?lit$49254222$-->
  <mask id="playSymbolMask">
    <rect width="100%" height="100%" fill="white"></rect>
    <polygon points="10,8 17,12 10,16" fill="black"></polygon>
  </mask>
  <circle cx="12" cy="12" r="7.8" mask="url(#playSymbolMask)" id="filledCircle"></circle>
</svg></span>
      </button>
      <!--?lit$49254222$--><!--?-->
    </div></template></colab-run-button>
          </div>
        </div>
      <div class="editor flex lazy-editor" style=""><div class="editor flex monaco" data-keybinding-context="90" data-mode-id="notebook-python" style="height: 86px; --vscode-editorCodeLens-lineHeight: 16px; --vscode-editorCodeLens-fontSize: 12px; --vscode-editorCodeLens-fontFeatureSettings: &quot;liga&quot; off, &quot;calt&quot; off;"><div class="monaco-editor no-user-select mac  showUnused showDeprecated vs" role="code" data-uri="inmemory://model/5" style="width: 1164px; height: 86px;"><div data-mprt="3" class="overflow-guard" style="width: 1164px; height: 86px; overflow: clip;"><div class="margin" role="presentation" aria-hidden="true" style="position: absolute; contain: strict; will-change: unset; top: 0px; height: 86px; width: 47px;"><div class="glyph-margin" style="left: 0px; width: 0px; height: 86px;"></div><div class="margin-view-zones" role="presentation" aria-hidden="true" style="position: absolute;"></div><div class="margin-view-overlays" role="presentation" aria-hidden="true" style="position: absolute; font-family: monospace, Menlo, Monaco, &quot;Courier New&quot;, monospace; font-weight: normal; font-size: 14px; font-feature-settings: &quot;liga&quot; 0, &quot;calt&quot; 0; font-variation-settings: normal; line-height: 19px; letter-spacing: 0px; width: 47px; height: 86px;"><div style="position:absolute;top:0px;width:100%;height:19px;"><div class="current-line current-line-margin-both" style="width:47px; height:19px;"></div><div class="line-numbers active-line-number" style="left:0px;width:25px;">1</div></div><div style="position:absolute;top:19px;width:100%;height:19px;"><div class="line-numbers" style="left:0px;width:25px;">2</div></div><div style="position:absolute;top:38px;width:100%;height:19px;"><div class="line-numbers" style="left:0px;width:25px;">3</div></div><div style="position:absolute;top:57px;width:100%;height:19px;"><div class="line-numbers" style="left:0px;width:25px;">4</div></div></div><div class="glyph-margin-widgets" style="position: absolute; top: 0px;"></div></div><div class="monaco-scrollable-element editor-scrollable vs mac" role="presentation" data-mprt="5" style="position: absolute; overflow: hidden; left: 47px; width: 1117px; height: 86px;"><div class="lines-content monaco-editor-background" style="position: absolute; overflow: hidden; width: 1e+06px; height: 86px; contain: strict; will-change: unset; top: 0px; left: 0px;"><div class="view-overlays" role="presentation" aria-hidden="true" style="position: absolute; font-family: monospace, Menlo, Monaco, &quot;Courier New&quot;, monospace; font-weight: normal; font-size: 14px; font-feature-settings: &quot;liga&quot; 0, &quot;calt&quot; 0; font-variation-settings: normal; line-height: 19px; letter-spacing: 0px; height: 0px; width: 1117px;"><div style="position:absolute;top:0px;width:100%;height:19px;"><div class="current-line" style="width:1117px; height:19px;"></div></div><div style="position:absolute;top:19px;width:100%;height:19px;"></div><div style="position:absolute;top:38px;width:100%;height:19px;"></div><div style="position:absolute;top:57px;width:100%;height:19px;"></div></div><div role="presentation" aria-hidden="true" class="view-rulers"></div><div class="view-zones" role="presentation" aria-hidden="true" style="position: absolute;"></div><div class="view-lines monaco-mouse-cursor-text" role="presentation" aria-hidden="true" data-mprt="7" style="position: absolute; font-family: monospace, Menlo, Monaco, &quot;Courier New&quot;, monospace; font-weight: normal; font-size: 14px; font-feature-settings: &quot;liga&quot; 0, &quot;calt&quot; 0; font-variation-settings: normal; line-height: 19px; letter-spacing: 0px; width: 1117px; height: 86px;"><div style="top:0px;height:19px;" class="view-line"><span><span class="mtk6">!</span><span class="mtk1">pip&nbsp;install&nbsp;torch&nbsp;torchvision</span></span></div><div style="top:19px;height:19px;" class="view-line"><span><span class="mtk6">!</span><span class="mtk1">pip&nbsp;install&nbsp;opencv-python</span></span></div><div style="top:38px;height:19px;" class="view-line"><span><span class="mtk6">!</span><span class="mtk1">git&nbsp;clone&nbsp;</span><span class="mtk1 detected-link">https://github.com/eriklindernoren/PyTorch-YOLOv3</span></span></div><div style="top:57px;height:19px;" class="view-line"><span><span class="mtk6">!</span><span class="mtk1">pip&nbsp;install&nbsp;-r&nbsp;PyTorch-YOLOv3/requirements.txt</span></span></div></div><div data-mprt="1" class="contentWidgets" style="position: absolute; top: 0px;"></div><div role="presentation" aria-hidden="true" class="cursors-layer cursor-line-style cursor-solid"><div class="cursor monaco-mouse-cursor-text " style="height: 19px; top: 0px; left: 0px; font-family: monospace, Menlo, Monaco, &quot;Courier New&quot;, monospace; font-weight: normal; font-size: 14px; font-feature-settings: &quot;liga&quot; 0, &quot;calt&quot; 0; font-variation-settings: normal; line-height: 19px; letter-spacing: 0px; display: block; visibility: hidden; padding-left: 0px; width: 2px;"></div></div></div><div role="presentation" aria-hidden="true" class="invisible scrollbar horizontal" style="position: absolute; width: 1103px; height: 10px; left: 0px; bottom: 0px;"><div class="slider" style="position: absolute; top: 0px; left: 0px; height: 10px; transform: translate3d(0px, 0px, 0px); contain: strict; will-change: unset; width: 1103px;"></div></div><canvas class="decorationsOverviewRuler" aria-hidden="true" width="28" height="172" style="position: absolute; transform: translate3d(0px, 0px, 0px); contain: strict; top: 0px; right: 0px; width: 14px; height: 86px; will-change: unset; display: block;"></canvas><div role="presentation" aria-hidden="true" class="invisible scrollbar vertical" style="position: absolute; width: 14px; height: 86px; right: 0px; top: 0px;"><div class="slider" style="position: absolute; top: 0px; left: 0px; width: 14px; transform: translate3d(0px, 0px, 0px); contain: strict; will-change: unset; height: 86px;"></div></div></div><div role="presentation" aria-hidden="true" style="width: 1164px;"></div><textarea data-mprt="6" class="inputarea monaco-mouse-cursor-text" wrap="on" autocorrect="off" autocapitalize="off" autocomplete="off" spellcheck="false" aria-label="Editor content;Press Alt+F1 for Accessibility Options." tabindex="0" role="textbox" aria-roledescription="editor" aria-multiline="true" aria-haspopup="false" aria-autocomplete="both" style="tab-size: 16.8594px; font-family: monospace, Menlo, Monaco, &quot;Courier New&quot;, monospace; font-weight: normal; font-size: 14px; font-feature-settings: &quot;liga&quot; 0, &quot;calt&quot; 0; font-variation-settings: normal; line-height: 19px; letter-spacing: 0px; top: 0px; left: 47px; width: 674px; height: 19px;"></textarea><div class="monaco-editor-background textAreaCover line-numbers" style="position: absolute; top: 0px; left: 0px; width: 0px; height: 0px;"></div><div data-mprt="4" class="overlayWidgets" style="width: 1164px;"><div widgetid="editor.contrib.quickInputWidget" style="position: absolute; top: 0px; right: 50%;"></div></div><div data-mprt="8" class="minimap slider-mouseover" role="presentation" aria-hidden="true" style="position: absolute; left: 0px; width: 0px; height: 86px;"><div class="minimap-shadow-hidden" style="height: 86px;"></div><canvas width="0" height="172" style="position: absolute; left: 0px; width: 0px; height: 86px;"></canvas><canvas class="minimap-decorations-layer" width="0" height="172" style="position: absolute; left: 0px; width: 0px; height: 86px;"></canvas><div class="minimap-slider" style="position: absolute; transform: translate3d(0px, 0px, 0px); contain: strict; width: 0px; will-change: unset;"><div class="minimap-slider-horizontal" style="position: absolute; width: 0px; height: 0px;"></div></div></div><div role="presentation" aria-hidden="true" class="blockDecorations-container"></div></div><div data-mprt="2" class="overflowingContentWidgets"><div widgetid="editor.contrib.resizableContentHoverWidget" style="position: fixed; height: 10px; width: 10px; z-index: 50; display: none; visibility: hidden; max-width: 1290px;"><div class="monaco-sash mac vertical" style="left: 8px;"></div><div class="monaco-sash mac vertical" style="left: -2px;"></div><div class="monaco-sash orthogonal-edge-north mac horizontal" style="top: -2px;"><div class="orthogonal-drag-handle start"></div><div class="orthogonal-drag-handle end"></div></div><div class="monaco-sash orthogonal-edge-south mac horizontal" style="top: 8px;"><div class="orthogonal-drag-handle start"></div><div class="orthogonal-drag-handle end"></div></div><div class="monaco-hover hidden" role="tooltip" tabindex="0"><div class="monaco-scrollable-element  mac" role="presentation" style="position: relative; overflow: hidden;"><div class="monaco-hover-content" style="overflow: hidden; font-size: 14px; line-height: 1.35714; max-width: 768.24px; max-height: 250px;"></div><div role="presentation" aria-hidden="true" class="invisible scrollbar horizontal" style="position: absolute;"><div class="slider" style="position: absolute; top: 0px; left: 0px; height: 10px; transform: translate3d(0px, 0px, 0px); contain: strict;"></div></div><div role="presentation" aria-hidden="true" class="invisible scrollbar vertical" style="position: absolute;"><div class="slider" style="position: absolute; top: 0px; left: 0px; width: 10px; transform: translate3d(0px, 0px, 0px); contain: strict;"></div></div><div class="shadow"></div><div class="shadow"></div><div class="shadow"></div></div></div></div></div><div class=".in-cell-overflowing"></div></div></div></div><colab-form class="formview vertical layout flex"><div class="widget-area vertical layout"></div></colab-form></div>
    <div class="output" aria-label="单元格 1 的输出" role="region"><!----> <div class="output-header"> </div>
        <div class="output-content">
          <div class="output-info"><colab-output-info><template shadowrootmode="open"><!----><md-icon-button title="代码单元格输出项操作" data-aria-label="代码单元格输出项操作" value=""><template shadowrootmode="open" shadowrootdelegatesfocus><!----><button id="button" class="icon-button  standard " aria-label="代码单元格输出项操作">
        <!--?lit$49254222$--><md-focus-ring part="focus-ring" for="button" aria-hidden="true"><template shadowrootmode="open"><!----></template></md-focus-ring>
        <!--?lit$49254222$--><md-ripple aria-hidden="true"><template shadowrootmode="open"><!----><div class="surface   "></div></template></md-ripple>
        <!--?lit$49254222$--><span class="icon"><slot></slot></span>
        <!--?lit$49254222$-->
        <!--?lit$49254222$--><span class="touch"></span>
        <!--?lit$49254222$-->
  </button></template>
      <md-icon aria-hidden="true"><template shadowrootmode="open"><!----><slot></slot></template><!--?lit$49254222$--><svg viewBox="0 0 24 24"><!--?lit$49254222$--><path d="m15.9 3.07c-4.32 0.0742-8.64-0.0355-13 0.0568-1.37 0.307-1.74 2.1-1.41 3.26 0.469 0.606 1.86 0.384 1.66-0.525 0.0448-0.329-0.183-0.93 0.354-0.766h13.3v1.53h1.71c0.0709-1.13 0.141-2.62-0.968-3.3-0.511-0.264-1.11-0.252-1.67-0.259zm2.94 6.84v4.87c1.62-1.62 3.24-3.24 4.87-4.87h-4.87zm0 0h-1.71v3.43l1.57 1.57c0.32-1.65 0.0556-3.34 0.135-5zm-1.71 3.43v-3.43h-3.43c1.14 1.14 2.29 2.29 3.43 3.43zm1.4 4.27h-1.71v1.48h-13.6v-1.48h-1.71c-0.0473 1.15-0.16 2.72 1.09 3.29 1.47 0.506 3.02 0.0265 4.53 0.192 3.34-0.0051 6.68 0.0336 10-0.0245 1.49-0.366 1.56-2.22 1.42-3.45zm-10.1-1.12c-0.398-0.483-0.796-0.967-1.19-1.45 0.59-0.683 1.18-1.37 1.77-2.05h-8.67v-2h8.67c-0.59-0.683-1.18-1.37-1.77-2.05 0.398-0.483 0.796-0.967 1.19-1.45 1.28 1.5 2.56 3 3.84 4.5-1.28 1.5-2.56 3-3.84 4.5z"></path></svg></md-icon>
    </md-icon-button></template></colab-output-info></div>
          <div class="output-iframe-container">
            <div class="output-iframe-sizer" style="min-height: 0px;"> <div><div><colab-static-output-renderer role="group" tabindex="0"><div><div class="stream output-id-23 output_text"><pre>Requirement already satisfied: torch in /usr/local/lib/python3.10/dist-packages (2.3.1+cu121)
Requirement already satisfied: torchvision in /usr/local/lib/python3.10/dist-packages (0.18.1+cu121)
Requirement already satisfied: filelock in /usr/local/lib/python3.10/dist-packages (from torch) (3.15.4)
Requirement already satisfied: typing-extensions&gt;=4.8.0 in /usr/local/lib/python3.10/dist-packages (from torch) (4.12.2)
Requirement already satisfied: sympy in /usr/local/lib/python3.10/dist-packages (from torch) (1.13.1)
Requirement already satisfied: networkx in /usr/local/lib/python3.10/dist-packages (from torch) (3.3)
Requirement already satisfied: jinja2 in /usr/local/lib/python3.10/dist-packages (from torch) (3.1.4)
Requirement already satisfied: fsspec in /usr/local/lib/python3.10/dist-packages (from torch) (2024.6.1)
Collecting nvidia-cuda-nvrtc-cu12==12.1.105 (from torch)
  Using cached nvidia_cuda_nvrtc_cu12-12.1.105-py3-none-manylinux1_x86_64.whl.metadata (1.5 kB)
Collecting nvidia-cuda-runtime-cu12==12.1.105 (from torch)
  Using cached nvidia_cuda_runtime_cu12-12.1.105-py3-none-manylinux1_x86_64.whl.metadata (1.5 kB)
Collecting nvidia-cuda-cupti-cu12==12.1.105 (from torch)
  Using cached nvidia_cuda_cupti_cu12-12.1.105-py3-none-manylinux1_x86_64.whl.metadata (1.6 kB)
Collecting nvidia-cudnn-cu12==8.9.2.26 (from torch)
  Using cached nvidia_cudnn_cu12-8.9.2.26-py3-none-manylinux1_x86_64.whl.metadata (1.6 kB)
Collecting nvidia-cublas-cu12==12.1.3.1 (from torch)
  Using cached nvidia_cublas_cu12-12.1.3.1-py3-none-manylinux1_x86_64.whl.metadata (1.5 kB)
Collecting nvidia-cufft-cu12==11.0.2.54 (from torch)
  Using cached nvidia_cufft_cu12-11.0.2.54-py3-none-manylinux1_x86_64.whl.metadata (1.5 kB)
Collecting nvidia-curand-cu12==10.3.2.106 (from torch)
  Using cached nvidia_curand_cu12-10.3.2.106-py3-none-manylinux1_x86_64.whl.metadata (1.5 kB)
Collecting nvidia-cusolver-cu12==11.4.5.107 (from torch)
  Using cached nvidia_cusolver_cu12-11.4.5.107-py3-none-manylinux1_x86_64.whl.metadata (1.6 kB)
Collecting nvidia-cusparse-cu12==12.1.0.106 (from torch)
  Using cached nvidia_cusparse_cu12-12.1.0.106-py3-none-manylinux1_x86_64.whl.metadata (1.6 kB)
Collecting nvidia-nccl-cu12==2.20.5 (from torch)
  Using cached nvidia_nccl_cu12-2.20.5-py3-none-manylinux2014_x86_64.whl.metadata (1.8 kB)
Collecting nvidia-nvtx-cu12==12.1.105 (from torch)
  Using cached nvidia_nvtx_cu12-12.1.105-py3-none-manylinux1_x86_64.whl.metadata (1.7 kB)
Requirement already satisfied: triton==2.3.1 in /usr/local/lib/python3.10/dist-packages (from torch) (2.3.1)
Collecting nvidia-nvjitlink-cu12 (from nvidia-cusolver-cu12==11.4.5.107-&gt;torch)
  Downloading nvidia_nvjitlink_cu12-12.5.82-py3-none-manylinux2014_x86_64.whl.metadata (1.5 kB)
Requirement already satisfied: numpy in /usr/local/lib/python3.10/dist-packages (from torchvision) (1.26.4)
Requirement already satisfied: pillow!=8.3.*,&gt;=5.3.0 in /usr/local/lib/python3.10/dist-packages (from torchvision) (9.4.0)
Requirement already satisfied: MarkupSafe&gt;=2.0 in /usr/local/lib/python3.10/dist-packages (from jinja2-&gt;torch) (2.1.5)
Requirement already satisfied: mpmath&lt;1.4,&gt;=1.1.0 in /usr/local/lib/python3.10/dist-packages (from sympy-&gt;torch) (1.3.0)
Using cached nvidia_cublas_cu12-12.1.3.1-py3-none-manylinux1_x86_64.whl (410.6 MB)
Using cached nvidia_cuda_cupti_cu12-12.1.105-py3-none-manylinux1_x86_64.whl (14.1 MB)
Using cached nvidia_cuda_nvrtc_cu12-12.1.105-py3-none-manylinux1_x86_64.whl (23.7 MB)
Using cached nvidia_cuda_runtime_cu12-12.1.105-py3-none-manylinux1_x86_64.whl (823 kB)
Using cached nvidia_cudnn_cu12-8.9.2.26-py3-none-manylinux1_x86_64.whl (731.7 MB)
Using cached nvidia_cufft_cu12-11.0.2.54-py3-none-manylinux1_x86_64.whl (121.6 MB)
Using cached nvidia_curand_cu12-10.3.2.106-py3-none-manylinux1_x86_64.whl (56.5 MB)
Using cached nvidia_cusolver_cu12-11.4.5.107-py3-none-manylinux1_x86_64.whl (124.2 MB)
Using cached nvidia_cusparse_cu12-12.1.0.106-py3-none-manylinux1_x86_64.whl (196.0 MB)
Using cached nvidia_nccl_cu12-2.20.5-py3-none-manylinux2014_x86_64.whl (176.2 MB)
Using cached nvidia_nvtx_cu12-12.1.105-py3-none-manylinux1_x86_64.whl (99 kB)
Downloading nvidia_nvjitlink_cu12-12.5.82-py3-none-manylinux2014_x86_64.whl (21.3 MB)
   <span style="color: var(--ansi-bright-black);">━━━━━━━━━━━━━━━━━━━━━━━━━━━━━━━━━━━━━━━━</span><span> </span><span style="color: var(--ansi-green);">21.3/21.3 MB</span><span> </span><span style="color: var(--ansi-red);">63.9 MB/s</span><span> eta </span><span style="color: var(--ansi-cyan);">0:00:00</span><span>
</span>Installing collected packages: nvidia-nvtx-cu12, nvidia-nvjitlink-cu12, nvidia-nccl-cu12, nvidia-curand-cu12, nvidia-cufft-cu12, nvidia-cuda-runtime-cu12, nvidia-cuda-nvrtc-cu12, nvidia-cuda-cupti-cu12, nvidia-cublas-cu12, nvidia-cusparse-cu12, nvidia-cudnn-cu12, nvidia-cusolver-cu12
Successfully installed nvidia-cublas-cu12-12.1.3.1 nvidia-cuda-cupti-cu12-12.1.105 nvidia-cuda-nvrtc-cu12-12.1.105 nvidia-cuda-runtime-cu12-12.1.105 nvidia-cudnn-cu12-8.9.2.26 nvidia-cufft-cu12-11.0.2.54 nvidia-curand-cu12-10.3.2.106 nvidia-cusolver-cu12-11.4.5.107 nvidia-cusparse-cu12-12.1.0.106 nvidia-nccl-cu12-2.20.5 nvidia-nvjitlink-cu12-12.5.82 nvidia-nvtx-cu12-12.1.105
Requirement already satisfied: opencv-python in /usr/local/lib/python3.10/dist-packages (4.10.0.84)
Requirement already satisfied: numpy&gt;=1.21.2 in /usr/local/lib/python3.10/dist-packages (from opencv-python) (1.26.4)
Cloning into 'PyTorch-YOLOv3'...
remote: Enumerating objects: 2006, done.
remote: Counting objects: 100% (36/36), done.
remote: Compressing objects: 100% (35/35), done.
remote: Total 2006 (delta 17), reused 10 (delta 1), pack-reused 1970
Receiving objects: 100% (2006/2006), 16.73 MiB | 13.95 MiB/s, done.
Resolving deltas: 100% (1201/1201), done.
<span style="color: var(--ansi-red);">ERROR: Could not open requirements file: [Errno 2] No such file or directory: 'PyTorch-YOLOv3/requirements.txt'</span><span style="color: var(--ansi-red);">
</span></pre></div></div><div></div></colab-static-output-renderer></div></div><div><div></div></div></div>
          </div>
        </div></div></div><colab-cell-next-steps><template shadowrootmode="open"><!----></template></colab-cell-next-steps></div></div><div class="add-cell">
      <div class="add-cell-buttons">
        <md-outlined-button class="add-code add-button" data-aria-label="添加代码单元格
⌘/Ctrl+M B" title="添加代码单元格
⌘/Ctrl+M B" value="" has-icon=""><template shadowrootmode="open" shadowrootdelegatesfocus><!---->
      <!--?lit$49254222$--><div class="outline"></div>
      <div class="background"></div>
      <md-focus-ring part="focus-ring" for="button" aria-hidden="true"><template shadowrootmode="open"><!----></template></md-focus-ring>
      <md-ripple part="ripple" for="button" aria-hidden="true"><template shadowrootmode="open"><!----><div class="surface"></div></template></md-ripple>
      <!--?lit$49254222$--><button id="button" class="button" aria-label="添加代码单元格
⌘/Ctrl+M B">
      <!--?lit$49254222$-->
      <span class="touch"></span>
      <!--?lit$49254222$--><slot name="icon"></slot>
      <span class="label"><slot></slot></span>
      <!--?lit$49254222$-->
    
    </button>
    </template>
          <md-icon slot="icon" aria-hidden="true"><template shadowrootmode="open"><!----><slot></slot></template>add</md-icon>
          <!--?lit$49254222$-->代码
        </md-outlined-button>
        <md-outlined-button class="add-text add-button" data-aria-label="添加文本单元格" title="添加文本单元格" value="" has-icon=""><template shadowrootmode="open" shadowrootdelegatesfocus><!---->
      <!--?lit$49254222$--><div class="outline"></div>
      <div class="background"></div>
      <md-focus-ring part="focus-ring" for="button" aria-hidden="true"><template shadowrootmode="open"><!----></template></md-focus-ring>
      <md-ripple part="ripple" for="button" aria-hidden="true"><template shadowrootmode="open"><!----><div class="surface"></div></template></md-ripple>
      <!--?lit$49254222$--><button id="button" class="button" aria-label="添加文本单元格">
      <!--?lit$49254222$-->
      <span class="touch"></span>
      <!--?lit$49254222$--><slot name="icon"></slot>
      <span class="label"><slot></slot></span>
      <!--?lit$49254222$-->
    
    </button>
    </template>
          <md-icon slot="icon" aria-hidden="true"><template shadowrootmode="open"><!----><slot></slot></template>add</md-icon>
          <!--?lit$49254222$-->文本
        </md-outlined-button>
        <!--?lit$49254222$-->
      </div><hr>
    </div></div><div class="cell code icon-scrolling code-has-output" id="cell-oqdcV50q9zzi" role="region" aria-label="单元格 2：代码单元格：" style="opacity: 1;" tabindex="-1"><div class="cell-tag-editor sticky"></div><div class="cell-toolbar sticky"></div><div class="main-content" elevation="0"><div class="cell-contents"><colab-cell-assist-input class="showing" style="max-height: 0px;"><template shadowrootmode="open"><!----><div class="top">
        <mwc-button class="generate" disabled=""><template shadowrootmode="open"><!---->
      <button id="button" class="mdc-button   " disabled="" aria-label="">
        <!--?lit$49254222$--><!--?-->
        <!--?lit$49254222$-->
        <span class="leading-icon">
          <slot name="icon">
            <!--?lit$49254222$-->
          </slot>
        </span>
        <span class="mdc-button__label"><!--?lit$49254222$--></span>
        <span class="slot-container   ">
          <slot></slot>
        </span>
        <span class="trailing-icon">
          <slot name="trailingIcon">
            <!--?lit$49254222$-->
          </slot>
        </span>
      </button></template>
          <md-icon aria-hidden="true"><template shadowrootmode="open"><!----><slot></slot></template>pen_spark</md-icon><!--?lit$49254222$-->生成</mwc-button>
        <!--?lit$49254222$--><!--?-->
        <div class="input-container   ">
          <label class="cell-assist-input-label" aria-hidden="true" for="cell-assist-input-oqdcV50q9zzi"><!--?lit$49254222$-->10 random numbers using numpy</label>
          <md-outlined-text-field class="cell-assist-input" type="textarea" autofocus="" rows="1" maxlength="400" id="cell-assist-input-oqdcV50q9zzi" data-aria-label="与生成代码有关的提示" inputmode="" autocomplete=""><template shadowrootmode="open" shadowrootdelegatesfocus><!---->
      <span class="text-field  textarea ">
        <!--?lit$49254222$--><md-outlined-field class="field" count="0" error-text="" label="" max="400" resizable="" supporting-text="" has-end=""><template shadowrootmode="open"><!---->
      <div class="field resizable no-label with-end">
        <div class="container-overflow">
          <!--?lit$49254222$--> <!--?lit$49254222$--> <!--?lit$49254222$-->
      <div class="outline">
        <div class="outline-start"></div>
        <div class="outline-notch">
          <div class="outline-panel-inactive"></div>
          <div class="outline-panel-active"></div>
          <div class="outline-label"><!--?lit$49254222$--></div>
        </div>
        <div class="outline-end"></div>
      </div>
    
          <div class="container">
            <div class="start">
              <slot name="start"></slot>
            </div>
            <div class="middle">
              <div class="label-wrapper">
                <!--?lit$49254222$--> <!--?lit$49254222$-->
              </div>
              <div class="content">
                <slot></slot>
              </div>
            </div>
            <div class="end">
              <slot name="end"></slot>
            </div>
          </div>
        </div>
        <!--?lit$49254222$-->
      <div class="supporting-text"><!--?lit$49254222$--><span><!--?lit$49254222$--></span><!--?lit$49254222$--><span class="counter"><!--?lit$49254222$-->0 / 400</span></div>
      <slot name="aria-describedby"></slot>
    
      </div>
    </template>
      <!--?lit$49254222$-->
      <span class="icon leading" slot="start">
        <slot name="leading-icon"></slot>
      </span>
    
      <!--?lit$49254222$-->
        <textarea class="input" aria-describedby="description" aria-invalid="false" aria-label="与生成代码有关的提示" maxlength="400" rows="1" cols="20"></textarea>
      
      <!--?lit$49254222$-->
      <span class="icon trailing" slot="end">
        <slot name="trailing-icon"></slot>
      </span>
    
      <div id="description" slot="aria-describedby" hidden=""><!----><!--?lit$49254222$--> <!--?lit$49254222$-->0 / 400<!--?--></div>
    </md-outlined-field>
      </span>
    </template>
            <md-icon slot="trailing-icon" class="search" title="搜索" aria-hidden="true"><template shadowrootmode="open"><!----><slot></slot></template>search</md-icon>
          </md-outlined-text-field>
        </div>
        <md-outlined-button class="close" value=""><template shadowrootmode="open" shadowrootdelegatesfocus><!---->
      <!--?lit$49254222$--><div class="outline"></div>
      <div class="background"></div>
      <md-focus-ring part="focus-ring" for="button" aria-hidden="true"><template shadowrootmode="open"><!----></template></md-focus-ring>
      <md-ripple part="ripple" for="button" aria-hidden="true"><template shadowrootmode="open"><!----><div class="surface"></div></template></md-ripple>
      <!--?lit$49254222$--><button id="button" class="button">
      <!--?lit$49254222$-->
      <span class="touch"></span>
      <!--?lit$49254222$--><slot name="icon"></slot>
      <span class="label"><slot></slot></span>
      <!--?lit$49254222$-->
    
    </button>
    </template><!--?lit$49254222$-->关闭</md-outlined-button>
      </div>
      <md-linear-progress indeterminate="" class="  "><template shadowrootmode="open"><!---->
      <div role="progressbar" aria-valuemin="0" class="progress  indeterminate " aria-valuemax="1"><!--?lit$49254222$-->
      <div class="dots" hidden=""></div>
      <div class="inactive-track" style="transform: scaleX(1);"></div>
      <div class="bar primary-bar" style="transform: scaleX(1);">
        <div class="bar-inner"></div>
      </div>
      <div class="bar secondary-bar">
        <div class="bar-inner"></div>
      </div>
    </div>
    </template></md-linear-progress>
      <!--?lit$49254222$--><!--?lit$49254222$--><!--?lit$49254222$--><!--?--><!--?--></template></colab-cell-assist-input><div class="cell-mask"></div><span class="imported-info-area"></span><div class="codecell-input-output">
      <div class="inputarea horizontal layout code">
        <div class="cell-gutter">
          <!-- Bounding range for vertical scrolling of icons -->
          <div class="cell-execution-container">
            <colab-run-button title="运行单元格 (⌘/Ctrl+Enter)
单元格尚未在此会话中执行

执行者：Jiale Guo
14:28 (30分钟前)
执行时长：4.017 秒"><template shadowrootmode="open"><!----> <div class="cell-execution stale">
      <button aria-label="运行单元格">
        <span class="execution-count"><!--?lit$49254222$-->[ ]</span>
        <span aria-hidden="true" class="cell-execution-indicator"><!--?lit$49254222$-->
<svg xmlns="http://www.w3.org/2000/svg" viewBox="0 0 24 24">
  <!--?lit$49254222$-->
  <mask id="playSymbolMask">
    <rect width="100%" height="100%" fill="white"></rect>
    <polygon points="10,8 17,12 10,16" fill="black"></polygon>
  </mask>
  <circle cx="12" cy="12" r="7.8" mask="url(#playSymbolMask)" id="filledCircle"></circle>
</svg></span>
      </button>
      <!--?lit$49254222$--><!--?-->
    </div></template></colab-run-button>
          </div>
        </div>
      <div class="editor flex lazy-editor" style="height: 29px; overflow: hidden;"><pre class="lazy-virtualized" style="font-size: 14px; line-height: 19px;"><pre class="lazy-gutter">  1
</pre><pre class="monaco-colorized colab colab colab colab colab colab colab colab colab colab colab colab colab colab colab colab colab colab colab" data-lang="notebook-python"><span><span class="mtk6">!</span><span class="mtk1">pip&nbsp;install&nbsp;torch&nbsp;torchvision&nbsp;opencv-python&nbsp;matplo</span><span class="mtk1">tlib</span></span><br></pre><colab-read-only-cell-placeholder style="display: none;"><template shadowrootmode="open"><!----><div><!--?lit$49254222$-->开始借助 AI 编写或<span role="button" class="link" tabindex="0">生成</span>代码。</div></template></colab-read-only-cell-placeholder></pre></div><colab-form class="formview vertical layout flex"><div class="widget-area vertical layout"></div></colab-form></div>
    <div class="output" aria-label="单元格 2 的输出" role="region"><!----> <div class="output-header"> </div>
        <div class="output-content">
          <div class="output-info"><colab-output-info><template shadowrootmode="open"><!----><md-icon-button title="代码单元格输出项操作" data-aria-label="代码单元格输出项操作" value=""><template shadowrootmode="open" shadowrootdelegatesfocus><!----><button id="button" class="icon-button  standard " aria-label="代码单元格输出项操作">
        <!--?lit$49254222$--><md-focus-ring part="focus-ring" for="button" aria-hidden="true"><template shadowrootmode="open"><!----></template></md-focus-ring>
        <!--?lit$49254222$--><md-ripple aria-hidden="true"><template shadowrootmode="open"><!----><div class="surface"></div></template></md-ripple>
        <!--?lit$49254222$--><span class="icon"><slot></slot></span>
        <!--?lit$49254222$-->
        <!--?lit$49254222$--><span class="touch"></span>
        <!--?lit$49254222$-->
  </button></template>
      <md-icon aria-hidden="true"><template shadowrootmode="open"><!----><slot></slot></template><!--?lit$49254222$--><svg viewBox="0 0 24 24"><!--?lit$49254222$--><path d="m15.9 3.07c-4.32 0.0742-8.64-0.0355-13 0.0568-1.37 0.307-1.74 2.1-1.41 3.26 0.469 0.606 1.86 0.384 1.66-0.525 0.0448-0.329-0.183-0.93 0.354-0.766h13.3v1.53h1.71c0.0709-1.13 0.141-2.62-0.968-3.3-0.511-0.264-1.11-0.252-1.67-0.259zm2.94 6.84v4.87c1.62-1.62 3.24-3.24 4.87-4.87h-4.87zm0 0h-1.71v3.43l1.57 1.57c0.32-1.65 0.0556-3.34 0.135-5zm-1.71 3.43v-3.43h-3.43c1.14 1.14 2.29 2.29 3.43 3.43zm1.4 4.27h-1.71v1.48h-13.6v-1.48h-1.71c-0.0473 1.15-0.16 2.72 1.09 3.29 1.47 0.506 3.02 0.0265 4.53 0.192 3.34-0.0051 6.68 0.0336 10-0.0245 1.49-0.366 1.56-2.22 1.42-3.45zm-10.1-1.12c-0.398-0.483-0.796-0.967-1.19-1.45 0.59-0.683 1.18-1.37 1.77-2.05h-8.67v-2h8.67c-0.59-0.683-1.18-1.37-1.77-2.05 0.398-0.483 0.796-0.967 1.19-1.45 1.28 1.5 2.56 3 3.84 4.5-1.28 1.5-2.56 3-3.84 4.5z"></path></svg></md-icon>
    </md-icon-button></template></colab-output-info></div>
          <div class="output-iframe-container">
            <div class="output-iframe-sizer" style="min-height: 0px;"> <div><div><colab-static-output-renderer role="group" tabindex="0"><div><div class="stream output-id-1 output_text"><pre>Requirement already satisfied: torch in /usr/local/lib/python3.10/dist-packages (2.3.1+cu121)
Requirement already satisfied: torchvision in /usr/local/lib/python3.10/dist-packages (0.18.1+cu121)
Requirement already satisfied: opencv-python in /usr/local/lib/python3.10/dist-packages (4.10.0.84)
Requirement already satisfied: matplotlib in /usr/local/lib/python3.10/dist-packages (3.7.1)
Requirement already satisfied: filelock in /usr/local/lib/python3.10/dist-packages (from torch) (3.15.4)
Requirement already satisfied: typing-extensions&gt;=4.8.0 in /usr/local/lib/python3.10/dist-packages (from torch) (4.12.2)
Requirement already satisfied: sympy in /usr/local/lib/python3.10/dist-packages (from torch) (1.13.1)
Requirement already satisfied: networkx in /usr/local/lib/python3.10/dist-packages (from torch) (3.3)
Requirement already satisfied: jinja2 in /usr/local/lib/python3.10/dist-packages (from torch) (3.1.4)
Requirement already satisfied: fsspec in /usr/local/lib/python3.10/dist-packages (from torch) (2024.6.1)
Requirement already satisfied: nvidia-cuda-nvrtc-cu12==12.1.105 in /usr/local/lib/python3.10/dist-packages (from torch) (12.1.105)
Requirement already satisfied: nvidia-cuda-runtime-cu12==12.1.105 in /usr/local/lib/python3.10/dist-packages (from torch) (12.1.105)
Requirement already satisfied: nvidia-cuda-cupti-cu12==12.1.105 in /usr/local/lib/python3.10/dist-packages (from torch) (12.1.105)
Requirement already satisfied: nvidia-cudnn-cu12==8.9.2.26 in /usr/local/lib/python3.10/dist-packages (from torch) (8.9.2.26)
Requirement already satisfied: nvidia-cublas-cu12==12.1.3.1 in /usr/local/lib/python3.10/dist-packages (from torch) (12.1.3.1)
Requirement already satisfied: nvidia-cufft-cu12==11.0.2.54 in /usr/local/lib/python3.10/dist-packages (from torch) (11.0.2.54)
Requirement already satisfied: nvidia-curand-cu12==10.3.2.106 in /usr/local/lib/python3.10/dist-packages (from torch) (10.3.2.106)
Requirement already satisfied: nvidia-cusolver-cu12==11.4.5.107 in /usr/local/lib/python3.10/dist-packages (from torch) (11.4.5.107)
Requirement already satisfied: nvidia-cusparse-cu12==12.1.0.106 in /usr/local/lib/python3.10/dist-packages (from torch) (12.1.0.106)
Requirement already satisfied: nvidia-nccl-cu12==2.20.5 in /usr/local/lib/python3.10/dist-packages (from torch) (2.20.5)
Requirement already satisfied: nvidia-nvtx-cu12==12.1.105 in /usr/local/lib/python3.10/dist-packages (from torch) (12.1.105)
Requirement already satisfied: triton==2.3.1 in /usr/local/lib/python3.10/dist-packages (from torch) (2.3.1)
Requirement already satisfied: nvidia-nvjitlink-cu12 in /usr/local/lib/python3.10/dist-packages (from nvidia-cusolver-cu12==11.4.5.107-&gt;torch) (12.5.82)
Requirement already satisfied: numpy in /usr/local/lib/python3.10/dist-packages (from torchvision) (1.26.4)
Requirement already satisfied: pillow!=8.3.*,&gt;=5.3.0 in /usr/local/lib/python3.10/dist-packages (from torchvision) (9.4.0)
Requirement already satisfied: contourpy&gt;=1.0.1 in /usr/local/lib/python3.10/dist-packages (from matplotlib) (1.2.1)
Requirement already satisfied: cycler&gt;=0.10 in /usr/local/lib/python3.10/dist-packages (from matplotlib) (0.12.1)
Requirement already satisfied: fonttools&gt;=4.22.0 in /usr/local/lib/python3.10/dist-packages (from matplotlib) (4.53.1)
Requirement already satisfied: kiwisolver&gt;=1.0.1 in /usr/local/lib/python3.10/dist-packages (from matplotlib) (1.4.5)
Requirement already satisfied: packaging&gt;=20.0 in /usr/local/lib/python3.10/dist-packages (from matplotlib) (24.1)
Requirement already satisfied: pyparsing&gt;=2.3.1 in /usr/local/lib/python3.10/dist-packages (from matplotlib) (3.1.2)
Requirement already satisfied: python-dateutil&gt;=2.7 in /usr/local/lib/python3.10/dist-packages (from matplotlib) (2.8.2)
Requirement already satisfied: six&gt;=1.5 in /usr/local/lib/python3.10/dist-packages (from python-dateutil&gt;=2.7-&gt;matplotlib) (1.16.0)
Requirement already satisfied: MarkupSafe&gt;=2.0 in /usr/local/lib/python3.10/dist-packages (from jinja2-&gt;torch) (2.1.5)
Requirement already satisfied: mpmath&lt;1.4,&gt;=1.1.0 in /usr/local/lib/python3.10/dist-packages (from sympy-&gt;torch) (1.3.0)
</pre></div></div><div></div></colab-static-output-renderer></div></div><div><div></div></div></div>
          </div>
        </div></div></div><colab-cell-next-steps><template shadowrootmode="open"><!----></template></colab-cell-next-steps></div></div><div class="add-cell">
      <div class="add-cell-buttons">
        <md-outlined-button class="add-code add-button" data-aria-label="添加代码单元格
⌘/Ctrl+M B" title="添加代码单元格
⌘/Ctrl+M B" value="" has-icon=""><template shadowrootmode="open" shadowrootdelegatesfocus><!---->
      <!--?lit$49254222$--><div class="outline"></div>
      <div class="background"></div>
      <md-focus-ring part="focus-ring" for="button" aria-hidden="true"><template shadowrootmode="open"><!----></template></md-focus-ring>
      <md-ripple part="ripple" for="button" aria-hidden="true"><template shadowrootmode="open"><!----><div class="surface"></div></template></md-ripple>
      <!--?lit$49254222$--><button id="button" class="button" aria-label="添加代码单元格
⌘/Ctrl+M B">
      <!--?lit$49254222$-->
      <span class="touch"></span>
      <!--?lit$49254222$--><slot name="icon"></slot>
      <span class="label"><slot></slot></span>
      <!--?lit$49254222$-->
    
    </button>
    </template>
          <md-icon slot="icon" aria-hidden="true"><template shadowrootmode="open"><!----><slot></slot></template>add</md-icon>
          <!--?lit$49254222$-->代码
        </md-outlined-button>
        <md-outlined-button class="add-text add-button" data-aria-label="添加文本单元格" title="添加文本单元格" value="" has-icon=""><template shadowrootmode="open" shadowrootdelegatesfocus><!---->
      <!--?lit$49254222$--><div class="outline"></div>
      <div class="background"></div>
      <md-focus-ring part="focus-ring" for="button" aria-hidden="true"><template shadowrootmode="open"><!----></template></md-focus-ring>
      <md-ripple part="ripple" for="button" aria-hidden="true"><template shadowrootmode="open"><!----><div class="surface"></div></template></md-ripple>
      <!--?lit$49254222$--><button id="button" class="button" aria-label="添加文本单元格">
      <!--?lit$49254222$-->
      <span class="touch"></span>
      <!--?lit$49254222$--><slot name="icon"></slot>
      <span class="label"><slot></slot></span>
      <!--?lit$49254222$-->
    
    </button>
    </template>
          <md-icon slot="icon" aria-hidden="true"><template shadowrootmode="open"><!----><slot></slot></template>add</md-icon>
          <!--?lit$49254222$-->文本
        </md-outlined-button>
        <!--?lit$49254222$-->
      </div><hr>
    </div></div><div class="cell code icon-scrolling code-has-output" id="cell-Qvpy6sQGCe1J" role="region" aria-label="单元格 3：代码单元格：" style="opacity: 1;" tabindex="-1"><div class="cell-tag-editor sticky"></div><div class="cell-toolbar sticky"></div><div class="main-content" elevation="0"><div class="cell-contents"><div class="cell-mask"></div><span class="imported-info-area"></span><div class="codecell-input-output">
      <div class="inputarea horizontal layout code">
        <div class="cell-gutter">
          <!-- Bounding range for vertical scrolling of icons -->
          <div class="cell-execution-container">
            <colab-run-button title="运行单元格 (⌘/Ctrl+Enter)
单元格尚未在此会话中执行
之前的执行操作失败了

执行者：Jiale Guo
14:45 (13分钟前)
执行时长：0.395 秒"><template shadowrootmode="open"><!----> <div class="cell-execution error stale">
      <button aria-label="运行单元格">
        <span class="execution-count"><!--?lit$49254222$-->[ ]</span>
        <span aria-hidden="true" class="cell-execution-indicator"><!--?lit$49254222$-->
<svg xmlns="http://www.w3.org/2000/svg" viewBox="0 0 24 24">
  <!--?lit$49254222$-->
  <mask id="playSymbolMask">
    <rect width="100%" height="100%" fill="white"></rect>
    <polygon points="10,8 17,12 10,16" fill="black"></polygon>
  </mask>
  <circle cx="12" cy="12" r="7.8" mask="url(#playSymbolMask)" id="filledCircle"></circle>
</svg></span>
      </button>
      <!--?lit$49254222$--><!--?-->
    </div></template></colab-run-button>
          </div>
        </div>
      <div class="editor flex lazy-editor" style="height: 29px; overflow: hidden;"><pre class="lazy-virtualized" style="font-size: 14px; line-height: 19px;"><pre class="lazy-gutter">  1
</pre><pre class="monaco-colorized colab colab colab colab colab colab" data-lang="notebook-python"><span><span class="mtk19">from</span><span class="mtk1">&nbsp;models&nbsp;</span><span class="mtk19">import</span><span class="mtk1">&nbsp;Darknet&nbsp;</span></span><br></pre><colab-read-only-cell-placeholder style="display: none;"><template shadowrootmode="open"><!----><div><!--?lit$49254222$-->开始借助 AI 编写或<span role="button" class="link" tabindex="0">生成</span>代码。</div></template></colab-read-only-cell-placeholder></pre></div><colab-form class="formview vertical layout flex"><div class="widget-area vertical layout"></div></colab-form></div>
    <div class="output" aria-label="单元格 3 的输出" role="region"><!----> <div class="output-header"> </div>
        <div class="output-content">
          <div class="output-info"><colab-output-info><template shadowrootmode="open"><!----><md-icon-button title="代码单元格输出项操作" data-aria-label="代码单元格输出项操作" value=""><template shadowrootmode="open" shadowrootdelegatesfocus><!----><button id="button" class="icon-button  standard " aria-label="代码单元格输出项操作">
        <!--?lit$49254222$--><md-focus-ring part="focus-ring" for="button" aria-hidden="true"><template shadowrootmode="open"><!----></template></md-focus-ring>
        <!--?lit$49254222$--><md-ripple aria-hidden="true"><template shadowrootmode="open"><!----><div class="surface"></div></template></md-ripple>
        <!--?lit$49254222$--><span class="icon"><slot></slot></span>
        <!--?lit$49254222$-->
        <!--?lit$49254222$--><span class="touch"></span>
        <!--?lit$49254222$-->
  </button></template>
      <md-icon aria-hidden="true"><template shadowrootmode="open"><!----><slot></slot></template><!--?lit$49254222$--><svg viewBox="0 0 24 24"><!--?lit$49254222$--><path d="m15.9 3.07c-4.32 0.0742-8.64-0.0355-13 0.0568-1.37 0.307-1.74 2.1-1.41 3.26 0.469 0.606 1.86 0.384 1.66-0.525 0.0448-0.329-0.183-0.93 0.354-0.766h13.3v1.53h1.71c0.0709-1.13 0.141-2.62-0.968-3.3-0.511-0.264-1.11-0.252-1.67-0.259zm2.94 6.84v4.87c1.62-1.62 3.24-3.24 4.87-4.87h-4.87zm0 0h-1.71v3.43l1.57 1.57c0.32-1.65 0.0556-3.34 0.135-5zm-1.71 3.43v-3.43h-3.43c1.14 1.14 2.29 2.29 3.43 3.43zm1.4 4.27h-1.71v1.48h-13.6v-1.48h-1.71c-0.0473 1.15-0.16 2.72 1.09 3.29 1.47 0.506 3.02 0.0265 4.53 0.192 3.34-0.0051 6.68 0.0336 10-0.0245 1.49-0.366 1.56-2.22 1.42-3.45zm-10.1-1.12c-0.398-0.483-0.796-0.967-1.19-1.45 0.59-0.683 1.18-1.37 1.77-2.05h-8.67v-2h8.67c-0.59-0.683-1.18-1.37-1.77-2.05 0.398-0.483 0.796-0.967 1.19-1.45 1.28 1.5 2.56 3 3.84 4.5-1.28 1.5-2.56 3-3.84 4.5z"></path></svg></md-icon>
    </md-icon-button></template></colab-output-info></div>
          <div class="output-iframe-container">
            <div class="output-iframe-sizer" style="min-height: 0px;"> <div><div class="outputview" style="height: 324px;"><colab-dom-lifecycle-events style="display: none;"></colab-dom-lifecycle-events><iframe allow="accelerometer; autoplay; gyroscope; magnetometer; xr-spatial-tracking; clipboard-write" sandbox="allow-downloads allow-forms allow-pointer-lock allow-popups allow-same-origin allow-scripts allow-storage-access-by-user-activation allow-modals allow-popups-to-escape-sandbox" src="./yolo5.ipynb - Colab_files/outputframe.html" class="" style="height: 324px;"></iframe></div></div><div><div></div></div></div>
          </div>
        </div></div></div><colab-cell-next-steps hascontent=""><template shadowrootmode="open"><!----> <div class="root">
        <span class="next-steps-title">
          <!--?lit$49254222$-->后续步骤： </span><!--?lit$49254222$--><!----><mwc-button outlined="" dense="" class="fix"><template shadowrootmode="open"><!---->
      <button id="button" class="mdc-button  mdc-button--outlined mdc-button--dense " aria-label="">
        <!--?lit$49254222$--><!--?-->
        <!--?lit$49254222$-->
        <span class="leading-icon">
          <slot name="icon">
            <!--?lit$49254222$-->
          </slot>
        </span>
        <span class="mdc-button__label"><!--?lit$49254222$--></span>
        <span class="slot-container   ">
          <slot></slot>
        </span>
        <span class="trailing-icon">
          <slot name="trailingIcon">
            <!--?lit$49254222$-->
          </slot>
        </span>
      </button></template><!--?lit$49254222$-->说明错误</mwc-button><!---->
      </div>
      <div class="content"><!--?lit$49254222$--></div></template></colab-cell-next-steps></div></div><div class="add-cell">
      <div class="add-cell-buttons">
        <md-outlined-button class="add-code add-button" data-aria-label="添加代码单元格
⌘/Ctrl+M B" title="添加代码单元格
⌘/Ctrl+M B" value="" has-icon=""><template shadowrootmode="open" shadowrootdelegatesfocus><!---->
      <!--?lit$49254222$--><div class="outline"></div>
      <div class="background"></div>
      <md-focus-ring part="focus-ring" for="button" aria-hidden="true"><template shadowrootmode="open"><!----></template></md-focus-ring>
      <md-ripple part="ripple" for="button" aria-hidden="true"><template shadowrootmode="open"><!----><div class="surface   "></div></template></md-ripple>
      <!--?lit$49254222$--><button id="button" class="button" aria-label="添加代码单元格
⌘/Ctrl+M B">
      <!--?lit$49254222$-->
      <span class="touch"></span>
      <!--?lit$49254222$--><slot name="icon"></slot>
      <span class="label"><slot></slot></span>
      <!--?lit$49254222$-->
    
    </button>
    </template>
          <md-icon slot="icon" aria-hidden="true"><template shadowrootmode="open"><!----><slot></slot></template>add</md-icon>
          <!--?lit$49254222$-->代码
        </md-outlined-button>
        <md-outlined-button class="add-text add-button" data-aria-label="添加文本单元格" title="添加文本单元格" value="" has-icon=""><template shadowrootmode="open" shadowrootdelegatesfocus><!---->
      <!--?lit$49254222$--><div class="outline"></div>
      <div class="background"></div>
      <md-focus-ring part="focus-ring" for="button" aria-hidden="true"><template shadowrootmode="open"><!----></template></md-focus-ring>
      <md-ripple part="ripple" for="button" aria-hidden="true"><template shadowrootmode="open"><!----><div class="surface   "></div></template></md-ripple>
      <!--?lit$49254222$--><button id="button" class="button" aria-label="添加文本单元格">
      <!--?lit$49254222$-->
      <span class="touch"></span>
      <!--?lit$49254222$--><slot name="icon"></slot>
      <span class="label"><slot></slot></span>
      <!--?lit$49254222$-->
    
    </button>
    </template>
          <md-icon slot="icon" aria-hidden="true"><template shadowrootmode="open"><!----><slot></slot></template>add</md-icon>
          <!--?lit$49254222$-->文本
        </md-outlined-button>
        <!--?lit$49254222$-->
      </div><hr>
    </div></div><div class="cell text" id="cell-3lUwcZIKCo0I" role="region" aria-label="单元格 4：文本单元格：新段落" style="opacity: 1;" tabindex="-1"><div class="cell-tag-editor sticky"></div><div class="cell-toolbar sticky"></div><div class="main-content" elevation="0"><div class="cell-contents"><div class="cell-mask"></div><span class="imported-info-area"></span><!----> <div class="toolbar-root"></div>
      <div class="editor-container horizontal">
        <div class="editor-root"></div>
        <div class="text-top-div">
          <div class="markdown"><span><div class="text-cell-section-header layout horizontal center"><md-icon-button class="header-section-toggle" title="收起“新段落”下的 4 个子单元（按 &lt;Shift&gt; 还可同时收起同级的小节）" data-aria-label="收起“新段落”下的 4 个子单元（按 &lt;Shift&gt; 还可同时收起同级的小节）" value=""><template shadowrootmode="open" shadowrootdelegatesfocus><!----><button id="button" class="icon-button  standard " aria-label="收起“新段落”下的 4 个子单元（按 &lt;Shift&gt; 还可同时收起同级的小节）">
        <!--?lit$49254222$--><md-focus-ring part="focus-ring" for="button" aria-hidden="true"><template shadowrootmode="open"><!----></template></md-focus-ring>
        <!--?lit$49254222$--><md-ripple aria-hidden="true"><template shadowrootmode="open"><!----><div class="surface   "></div></template></md-ripple>
        <!--?lit$49254222$--><span class="icon"><slot></slot></span>
        <!--?lit$49254222$-->
        <!--?lit$49254222$--><span class="touch"></span>
        <!--?lit$49254222$-->
  </button></template><md-icon aria-hidden="true"><template shadowrootmode="open"><!----><slot></slot></template>keyboard_arrow_down</md-icon></md-icon-button><h1>新段落</h1></div>
</span></div>
        </div>
      </div>

      <div class="section-header" style="display: none;">
        <colab-run-button><template shadowrootmode="open"><!----> <div class="cell-execution">
      <button aria-label="运行单元格">
        <span class="execution-count"><!--?lit$49254222$-->[ ]</span>
        <span aria-hidden="true" class="cell-execution-indicator"><!--?lit$49254222$-->
<svg xmlns="http://www.w3.org/2000/svg" viewBox="0 0 24 24">
  <!--?lit$49254222$-->
  <mask id="playSymbolMask">
    <rect width="100%" height="100%" fill="white"></rect>
    <polygon points="10,8 17,12 10,16" fill="black"></polygon>
  </mask>
  <circle cx="12" cy="12" r="7.8" mask="url(#playSymbolMask)" id="filledCircle"></circle>
</svg></span>
      </button>
      <!--?lit$49254222$--><!--?-->
    </div></template></colab-run-button>
        <div class="section-header-container" title="点击即可展开">↳ 已隐藏 4 个单元格</div>
      </div></div></div><div class="add-cell">
      <hr>
    </div></div><div class="cell code icon-scrolling code-has-output" id="cell-C_Tsb6Mp-j-m" role="region" aria-label="单元格 5：代码单元格：" style="opacity: 1;" tabindex="-1"><div class="cell-tag-editor sticky"></div><div class="cell-toolbar sticky"></div><div class="main-content" elevation="0"><div class="cell-contents"><div class="cell-mask"></div><span class="imported-info-area"></span><div class="codecell-input-output">
      <div class="inputarea horizontal layout code">
        <div class="cell-gutter">
          <!-- Bounding range for vertical scrolling of icons -->
          <div class="cell-execution-container">
            <colab-run-button title="运行单元格 (⌘/Ctrl+Enter)
单元格尚未在此会话中执行
之前的执行操作失败了

执行者：Jiale Guo
14:45 (14分钟前)
执行时长：23.043 秒"><template shadowrootmode="open"><!----> <div class="cell-execution error stale">
      <button aria-label="运行单元格">
        <span class="execution-count"><!--?lit$49254222$-->[ ]</span>
        <span aria-hidden="true" class="cell-execution-indicator"><!--?lit$49254222$-->
<svg xmlns="http://www.w3.org/2000/svg" viewBox="0 0 24 24">
  <!--?lit$49254222$-->
  <mask id="playSymbolMask">
    <rect width="100%" height="100%" fill="white"></rect>
    <polygon points="10,8 17,12 10,16" fill="black"></polygon>
  </mask>
  <circle cx="12" cy="12" r="7.8" mask="url(#playSymbolMask)" id="filledCircle"></circle>
</svg></span>
      </button>
      <!--?lit$49254222$--><!--?-->
    </div></template></colab-run-button>
          </div>
        </div>
      <div class="editor flex lazy-editor" style="height: 1435px; overflow: hidden;"><pre class="lazy-virtualized" style="font-size: 14px; line-height: 19px;"><pre class="lazy-gutter">  1
  2
  3
  4
  5
  6
  7
  8
  9
 10
 11
 12
 13
 14
 15
 16
 17
 18
 19
 20
 21
 22
 23
 24
 25
 26
 27
 28
 29
 30
 31
 32
 33
 34
 35
 36
 37
 38
 39
 40
 41
 42
 43
 44
 45
 46
 47
 48
 49
 50
 51
 52
 53
 54
 55
 56
 57
 58
 59
 60
 61
 62
 63
 64
 65
 66
 67
 68
 69
 70
 71
 72
 73
</pre><pre class="monaco-colorized colab colab colab colab colab colab colab colab colab colab colab colab colab" data-lang="notebook-python"><span><span class="mtk8">#&nbsp;1.&nbsp;确保安装必要的包</span></span><br><span><span class="mtk6">!</span><span class="mtk1">pip&nbsp;install&nbsp;torch&nbsp;torchvision&nbsp;opencv-python&nbsp;matplo</span><span class="mtk1">tlib</span></span><br><span><span></span></span><br><span><span class="mtk8">#&nbsp;2.&nbsp;克隆&nbsp;PyTorch-YOLOv3&nbsp;项目</span></span><br><span><span class="mtk6">!</span><span class="mtk1">git&nbsp;clone&nbsp;https://github.com/eriklindernoren/PyTor</span><span class="mtk1">ch-YOLOv3.git</span></span><br><span><span></span></span><br><span><span class="mtk8">#&nbsp;3.&nbsp;下载预训练权重</span></span><br><span><span class="mtk6">!</span><span class="mtk1">wget&nbsp;https://pjreddie.com/media/files/yolov3.weigh</span><span class="mtk1">ts&nbsp;-P&nbsp;PyTorch-YOLOv3/weights</span></span><br><span><span></span></span><br><span><span class="mtk8">#&nbsp;4.&nbsp;导入必要的库并设置路径</span></span><br><span><span class="mtk19">import</span><span class="mtk1">&nbsp;sys</span></span><br><span><span class="mtk1">sys.path.append(</span><span class="mtk26">'/content/PyTorch-YOLOv3'</span><span class="mtk1">)</span></span><br><span><span></span></span><br><span><span class="mtk19">import</span><span class="mtk1">&nbsp;torch</span></span><br><span><span class="mtk19">import</span><span class="mtk1">&nbsp;cv2</span></span><br><span><span class="mtk19">import</span><span class="mtk1">&nbsp;numpy&nbsp;</span><span class="mtk19">as</span><span class="mtk1">&nbsp;np</span></span><br><span><span class="mtk19">from</span><span class="mtk1">&nbsp;models&nbsp;</span><span class="mtk19">import</span><span class="mtk1">&nbsp;Darknet</span></span><br><span><span class="mtk19">from</span><span class="mtk1">&nbsp;utils.utils&nbsp;</span><span class="mtk19">import</span><span class="mtk1">&nbsp;non_max_suppression,&nbsp;load_classes,&nbsp;rescale_boxes</span></span><br><span><span class="mtk19">from</span><span class="mtk1">&nbsp;utils.datasets&nbsp;</span><span class="mtk19">import</span><span class="mtk1">&nbsp;pad_to_square,&nbsp;resize</span></span><br><span><span class="mtk19">import</span><span class="mtk1">&nbsp;matplotlib.pyplot&nbsp;</span><span class="mtk19">as</span><span class="mtk1">&nbsp;plt</span></span><br><span><span></span></span><br><span><span class="mtk8">#&nbsp;5.&nbsp;设置参数</span></span><br><span><span class="mtk1">config_path&nbsp;=&nbsp;</span><span class="mtk26">"PyTorch-YOLOv3/config/yolov3.cfg"</span></span><br><span><span class="mtk1">weights_path&nbsp;=&nbsp;</span><span class="mtk26">"PyTorch-YOLOv3/weights/yolov3.weights"</span></span><br><span><span class="mtk1">class_path&nbsp;=&nbsp;</span><span class="mtk26">"PyTorch-YOLOv3/data/coco.names"</span></span><br><span><span class="mtk1">img_size&nbsp;=&nbsp;</span><span class="mtk12">416</span></span><br><span><span class="mtk1">conf_thres&nbsp;=&nbsp;</span><span class="mtk12">0.8</span></span><br><span><span class="mtk1">nms_thres&nbsp;=&nbsp;</span><span class="mtk12">0.4</span></span><br><span><span></span></span><br><span><span class="mtk8">#&nbsp;6.&nbsp;加载模型</span></span><br><span><span class="mtk1">model&nbsp;=&nbsp;Darknet(config_path,&nbsp;img_size=img_size)</span></span><br><span><span class="mtk1">model.load_weights(weights_path)</span></span><br><span><span class="mtk1">model.</span><span class="mtk15">eval</span><span class="mtk1">()</span></span><br><span><span></span></span><br><span><span class="mtk8">#&nbsp;7.&nbsp;加载类别</span></span><br><span><span class="mtk1">classes&nbsp;=&nbsp;load_classes(class_path)</span></span><br><span><span></span></span><br><span><span class="mtk8">#&nbsp;8.&nbsp;检测函数</span></span><br><span><span class="mtk6">def</span><span class="mtk1">&nbsp;</span><span class="mtk15">detect_image</span><span class="mtk1">(</span><span class="mtk16">img</span><span class="mtk1">):</span></span><br><span><span class="mtk1">&nbsp;&nbsp;&nbsp;&nbsp;img&nbsp;=&nbsp;resize(img,&nbsp;img_size)</span></span><br><span><span class="mtk1">&nbsp;&nbsp;&nbsp;&nbsp;img,&nbsp;_&nbsp;=&nbsp;pad_to_square(img,&nbsp;</span><span class="mtk12">0</span><span class="mtk1">)</span></span><br><span><span class="mtk1">&nbsp;&nbsp;&nbsp;&nbsp;img&nbsp;=&nbsp;img.transpose((</span><span class="mtk12">2</span><span class="mtk1">,&nbsp;</span><span class="mtk12">0</span><span class="mtk1">,&nbsp;</span><span class="mtk12">1</span><span class="mtk1">))</span></span><br><span><span class="mtk1">&nbsp;&nbsp;&nbsp;&nbsp;img&nbsp;=&nbsp;np.expand_dims(img,&nbsp;</span><span class="mtk12">0</span><span class="mtk1">)</span></span><br><span><span class="mtk1">&nbsp;&nbsp;&nbsp;&nbsp;img&nbsp;=&nbsp;torch.from_numpy(img).</span><span class="mtk14">float</span><span class="mtk1">().div(</span><span class="mtk12">255.0</span><span class="mtk1">)</span></span><br><span><span class="mtk1">&nbsp;&nbsp;&nbsp;&nbsp;</span></span><br><span><span class="mtk1">&nbsp;&nbsp;&nbsp;&nbsp;</span><span class="mtk19">with</span><span class="mtk1">&nbsp;torch.no_grad():</span></span><br><span><span class="mtk1">&nbsp;&nbsp;&nbsp;&nbsp;&nbsp;&nbsp;&nbsp;&nbsp;detections&nbsp;=&nbsp;model(img)</span></span><br><span><span class="mtk1">&nbsp;&nbsp;&nbsp;&nbsp;&nbsp;&nbsp;&nbsp;&nbsp;detections&nbsp;=&nbsp;non_max_suppression(detection</span><span class="mtk1">s,&nbsp;conf_thres,&nbsp;nms_thres)</span></span><br><span><span class="mtk1">&nbsp;&nbsp;&nbsp;&nbsp;</span></span><br><span><span class="mtk1">&nbsp;&nbsp;&nbsp;&nbsp;</span><span class="mtk19">return</span><span class="mtk1">&nbsp;detections[</span><span class="mtk12">0</span><span class="mtk1">]</span></span><br><span><span></span></span><br><span><span class="mtk8">#&nbsp;9.&nbsp;上传并测试图像</span></span><br><span><span class="mtk19">from</span><span class="mtk1">&nbsp;google.colab&nbsp;</span><span class="mtk19">import</span><span class="mtk1">&nbsp;files</span></span><br><span><span class="mtk1">uploaded&nbsp;=&nbsp;files.upload()</span></span><br><span><span></span></span><br><span><span class="mtk19">for</span><span class="mtk1">&nbsp;img_name&nbsp;</span><span class="mtk6">in</span><span class="mtk1">&nbsp;uploaded.keys():</span></span><br><span><span class="mtk1">&nbsp;&nbsp;&nbsp;&nbsp;img&nbsp;=&nbsp;cv2.imread(img_name)</span></span><br><span><span class="mtk1">&nbsp;&nbsp;&nbsp;&nbsp;detections&nbsp;=&nbsp;detect_image(img)</span></span><br><span><span></span></span><br><span><span class="mtk1">&nbsp;&nbsp;&nbsp;&nbsp;</span><span class="mtk19">if</span><span class="mtk1">&nbsp;detections&nbsp;</span><span class="mtk6">is</span><span class="mtk1">&nbsp;</span><span class="mtk6">not</span><span class="mtk1">&nbsp;</span><span class="mtk6">None</span><span class="mtk1">:</span></span><br><span><span class="mtk1">&nbsp;&nbsp;&nbsp;&nbsp;&nbsp;&nbsp;&nbsp;&nbsp;detections&nbsp;=&nbsp;rescale_boxes(detections,&nbsp;img</span><span class="mtk1">_size,&nbsp;img.shape[:</span><span class="mtk12">2</span><span class="mtk1">])</span></span><br><span><span class="mtk1">&nbsp;&nbsp;&nbsp;&nbsp;&nbsp;&nbsp;&nbsp;&nbsp;</span><span class="mtk19">for</span><span class="mtk1">&nbsp;x1,&nbsp;y1,&nbsp;x2,&nbsp;y2,&nbsp;conf,&nbsp;cls_conf,&nbsp;cls_pred&nbsp;</span><span class="mtk6">in</span><span class="mtk1">&nbsp;detections:</span></span><br><span><span class="mtk1">&nbsp;&nbsp;&nbsp;&nbsp;&nbsp;&nbsp;&nbsp;&nbsp;&nbsp;&nbsp;&nbsp;&nbsp;</span><span class="mtk15">print</span><span class="mtk1">(</span><span class="mtk6">f</span><span class="mtk26">"Label:&nbsp;</span><span class="mtk1">{classes[</span><span class="mtk14">int</span><span class="mtk1">(cls_pred)]}</span><span class="mtk26">,&nbsp;Confidence:&nbsp;</span><span class="mtk1">{cls_conf.item()</span><span class="mtk12">:.4f</span><span class="mtk1">}</span><span class="mtk26">"</span><span class="mtk1">)</span></span><br><span><span class="mtk1">&nbsp;&nbsp;&nbsp;&nbsp;&nbsp;&nbsp;&nbsp;&nbsp;&nbsp;&nbsp;&nbsp;&nbsp;box_w&nbsp;=&nbsp;x2&nbsp;-&nbsp;x1</span></span><br><span><span class="mtk1">&nbsp;&nbsp;&nbsp;&nbsp;&nbsp;&nbsp;&nbsp;&nbsp;&nbsp;&nbsp;&nbsp;&nbsp;box_h&nbsp;=&nbsp;y2&nbsp;-&nbsp;y1</span></span><br><span><span class="mtk1">&nbsp;&nbsp;&nbsp;&nbsp;&nbsp;&nbsp;&nbsp;&nbsp;&nbsp;&nbsp;&nbsp;&nbsp;color&nbsp;=&nbsp;(</span><span class="mtk12">0</span><span class="mtk1">,&nbsp;</span><span class="mtk12">255</span><span class="mtk1">,&nbsp;</span><span class="mtk12">0</span><span class="mtk1">)</span></span><br><span><span class="mtk1">&nbsp;&nbsp;&nbsp;&nbsp;&nbsp;&nbsp;&nbsp;&nbsp;&nbsp;&nbsp;&nbsp;&nbsp;cv2.rectangle(img,&nbsp;(x1,&nbsp;y1),&nbsp;(x1&nbsp;+&nbsp;box</span><span class="mtk1">_w,&nbsp;y1&nbsp;+&nbsp;box_h),&nbsp;color,&nbsp;</span><span class="mtk12">2</span><span class="mtk1">)</span></span><br><span><span class="mtk1">&nbsp;&nbsp;&nbsp;&nbsp;&nbsp;&nbsp;&nbsp;&nbsp;&nbsp;&nbsp;&nbsp;&nbsp;cv2.putText(img,&nbsp;classes[</span><span class="mtk14">int</span><span class="mtk1">(cls_pred)],&nbsp;(x1,&nbsp;y1&nbsp;-&nbsp;</span><span class="mtk12">10</span><span class="mtk1">),&nbsp;cv2.FONT_HERSHEY_SIMPLEX,&nbsp;</span><span class="mtk12">0.9</span><span class="mtk1">,&nbsp;color,&nbsp;</span><span class="mtk12">2</span><span class="mtk1">)</span></span><br><span><span></span></span><br><span><span class="mtk1">&nbsp;&nbsp;&nbsp;&nbsp;img&nbsp;=&nbsp;cv2.cvtColor(img,&nbsp;cv2.COLOR_BGR2RGB)</span></span><br><span><span class="mtk1">&nbsp;&nbsp;&nbsp;&nbsp;plt.imshow(img)</span></span><br><span><span class="mtk1">&nbsp;&nbsp;&nbsp;&nbsp;plt.axis(</span><span class="mtk26">"off"</span><span class="mtk1">)</span></span><br><span><span class="mtk1">&nbsp;&nbsp;&nbsp;&nbsp;plt.show()</span></span><br></pre><colab-read-only-cell-placeholder style="display: none;"><template shadowrootmode="open"><!----><div><!--?lit$49254222$-->开始借助 AI 编写或<span role="button" class="link" tabindex="0">生成</span>代码。</div></template></colab-read-only-cell-placeholder></pre></div><colab-form class="formview vertical layout flex"><div class="widget-area vertical layout"></div></colab-form></div>
    <div class="output" aria-label="单元格 5 的输出" role="region"><!----> <div class="output-header"> </div>
        <div class="output-content">
          <div class="output-info"><colab-output-info><template shadowrootmode="open"><!----><md-icon-button title="代码单元格输出项操作" data-aria-label="代码单元格输出项操作" value=""><template shadowrootmode="open" shadowrootdelegatesfocus><!----><button id="button" class="icon-button  standard " aria-label="代码单元格输出项操作">
        <!--?lit$49254222$--><md-focus-ring part="focus-ring" for="button" aria-hidden="true"><template shadowrootmode="open"><!----></template></md-focus-ring>
        <!--?lit$49254222$--><md-ripple aria-hidden="true"><template shadowrootmode="open"><!----><div class="surface   "></div></template></md-ripple>
        <!--?lit$49254222$--><span class="icon"><slot></slot></span>
        <!--?lit$49254222$-->
        <!--?lit$49254222$--><span class="touch"></span>
        <!--?lit$49254222$-->
  </button></template>
      <md-icon aria-hidden="true"><template shadowrootmode="open"><!----><slot></slot></template><!--?lit$49254222$--><svg viewBox="0 0 24 24"><!--?lit$49254222$--><path d="m15.9 3.07c-4.32 0.0742-8.64-0.0355-13 0.0568-1.37 0.307-1.74 2.1-1.41 3.26 0.469 0.606 1.86 0.384 1.66-0.525 0.0448-0.329-0.183-0.93 0.354-0.766h13.3v1.53h1.71c0.0709-1.13 0.141-2.62-0.968-3.3-0.511-0.264-1.11-0.252-1.67-0.259zm2.94 6.84v4.87c1.62-1.62 3.24-3.24 4.87-4.87h-4.87zm0 0h-1.71v3.43l1.57 1.57c0.32-1.65 0.0556-3.34 0.135-5zm-1.71 3.43v-3.43h-3.43c1.14 1.14 2.29 2.29 3.43 3.43zm1.4 4.27h-1.71v1.48h-13.6v-1.48h-1.71c-0.0473 1.15-0.16 2.72 1.09 3.29 1.47 0.506 3.02 0.0265 4.53 0.192 3.34-0.0051 6.68 0.0336 10-0.0245 1.49-0.366 1.56-2.22 1.42-3.45zm-10.1-1.12c-0.398-0.483-0.796-0.967-1.19-1.45 0.59-0.683 1.18-1.37 1.77-2.05h-8.67v-2h8.67c-0.59-0.683-1.18-1.37-1.77-2.05 0.398-0.483 0.796-0.967 1.19-1.45 1.28 1.5 2.56 3 3.84 4.5-1.28 1.5-2.56 3-3.84 4.5z"></path></svg></md-icon>
    </md-icon-button></template></colab-output-info></div>
          <div class="output-iframe-container">
            <div class="output-iframe-sizer" style="min-height: 0px;"> <div><div class="outputview" style="height: 1000px;"><colab-dom-lifecycle-events style="display: none;"></colab-dom-lifecycle-events><iframe allow="accelerometer; autoplay; gyroscope; magnetometer; xr-spatial-tracking; clipboard-write" sandbox="allow-downloads allow-forms allow-pointer-lock allow-popups allow-same-origin allow-scripts allow-storage-access-by-user-activation allow-modals allow-popups-to-escape-sandbox" src="./yolo5.ipynb - Colab_files/outputframe(1).html" class="" style="height: 1000px;"></iframe></div></div><div><div></div></div></div>
          </div>
        </div></div></div><colab-cell-next-steps hascontent=""><template shadowrootmode="open"><!----> <div class="root">
        <span class="next-steps-title">
          <!--?lit$49254222$-->后续步骤： </span><!--?lit$49254222$--><!----><mwc-button outlined="" dense="" class="fix"><template shadowrootmode="open"><!---->
      <button id="button" class="mdc-button  mdc-button--outlined mdc-button--dense " aria-label="">
        <!--?lit$49254222$--><!--?-->
        <!--?lit$49254222$--><mwc-ripple class="ripple"><template shadowrootmode="open"><!---->
        <div class="mdc-ripple-surface mdc-ripple-upgraded mdc-ripple-surface--primary"></div></template></mwc-ripple>
        <span class="leading-icon">
          <slot name="icon">
            <!--?lit$49254222$-->
          </slot>
        </span>
        <span class="mdc-button__label"><!--?lit$49254222$--></span>
        <span class="slot-container   ">
          <slot></slot>
        </span>
        <span class="trailing-icon">
          <slot name="trailingIcon">
            <!--?lit$49254222$-->
          </slot>
        </span>
      </button></template><!--?lit$49254222$-->说明错误</mwc-button><!---->
      </div>
      <div class="content"><!--?lit$49254222$--></div></template></colab-cell-next-steps></div></div><div class="add-cell">
      <div class="add-cell-buttons">
        <md-outlined-button class="add-code add-button" data-aria-label="添加代码单元格
⌘/Ctrl+M B" title="添加代码单元格
⌘/Ctrl+M B" value="" has-icon=""><template shadowrootmode="open" shadowrootdelegatesfocus><!---->
      <!--?lit$49254222$--><div class="outline"></div>
      <div class="background"></div>
      <md-focus-ring part="focus-ring" for="button" aria-hidden="true"><template shadowrootmode="open"><!----></template></md-focus-ring>
      <md-ripple part="ripple" for="button" aria-hidden="true"><template shadowrootmode="open"><!----><div class="surface"></div></template></md-ripple>
      <!--?lit$49254222$--><button id="button" class="button" aria-label="添加代码单元格
⌘/Ctrl+M B">
      <!--?lit$49254222$-->
      <span class="touch"></span>
      <!--?lit$49254222$--><slot name="icon"></slot>
      <span class="label"><slot></slot></span>
      <!--?lit$49254222$-->
    
    </button>
    </template>
          <md-icon slot="icon" aria-hidden="true"><template shadowrootmode="open"><!----><slot></slot></template>add</md-icon>
          <!--?lit$49254222$-->代码
        </md-outlined-button>
        <md-outlined-button class="add-text add-button" data-aria-label="添加文本单元格" title="添加文本单元格" value="" has-icon=""><template shadowrootmode="open" shadowrootdelegatesfocus><!---->
      <!--?lit$49254222$--><div class="outline"></div>
      <div class="background"></div>
      <md-focus-ring part="focus-ring" for="button" aria-hidden="true"><template shadowrootmode="open"><!----></template></md-focus-ring>
      <md-ripple part="ripple" for="button" aria-hidden="true"><template shadowrootmode="open"><!----><div class="surface"></div></template></md-ripple>
      <!--?lit$49254222$--><button id="button" class="button" aria-label="添加文本单元格">
      <!--?lit$49254222$-->
      <span class="touch"></span>
      <!--?lit$49254222$--><slot name="icon"></slot>
      <span class="label"><slot></slot></span>
      <!--?lit$49254222$-->
    
    </button>
    </template>
          <md-icon slot="icon" aria-hidden="true"><template shadowrootmode="open"><!----><slot></slot></template>add</md-icon>
          <!--?lit$49254222$-->文本
        </md-outlined-button>
        <!--?lit$49254222$-->
      </div><hr>
    </div></div><div class="cell code icon-scrolling code-has-output" id="cell-vsLM-C9gD9ed" role="region" aria-label="单元格 6：代码单元格：" style="opacity: 1;" tabindex="-1"><div class="cell-tag-editor sticky"></div><div class="cell-toolbar sticky"></div><div class="main-content" elevation="0"><div class="cell-contents"><div class="cell-mask"></div><span class="imported-info-area"></span><div class="codecell-input-output">
      <div class="inputarea horizontal layout code">
        <div class="cell-gutter">
          <!-- Bounding range for vertical scrolling of icons -->
          <div class="cell-execution-container">
            <colab-run-button title="运行单元格 (⌘/Ctrl+Enter)
单元格尚未在此会话中执行

执行者：Jiale Guo
14:58 (0分钟前)
执行时长：4.264 秒"><template shadowrootmode="open"><!----> <div class="cell-execution stale">
      <button aria-label="运行单元格">
        <span class="execution-count"><!--?lit$49254222$-->[ ]</span>
        <span aria-hidden="true" class="cell-execution-indicator"><!--?lit$49254222$-->
<svg xmlns="http://www.w3.org/2000/svg" viewBox="0 0 24 24">
  <!--?lit$49254222$-->
  <mask id="playSymbolMask">
    <rect width="100%" height="100%" fill="white"></rect>
    <polygon points="10,8 17,12 10,16" fill="black"></polygon>
  </mask>
  <circle cx="12" cy="12" r="7.8" mask="url(#playSymbolMask)" id="filledCircle"></circle>
</svg></span>
      </button>
      <!--?lit$49254222$--><!--?-->
    </div></template></colab-run-button>
          </div>
        </div>
      <div class="editor flex lazy-editor" style="height: 29px; overflow: hidden;"><pre class="lazy-virtualized" style="font-size: 14px; line-height: 19px;"><pre class="lazy-gutter">  1
</pre><pre class="monaco-colorized colab colab colab colab colab" data-lang="notebook-python"><span><span class="mtk6">!</span><span class="mtk1">pip&nbsp;install&nbsp;torch&nbsp;torchvision&nbsp;matplotlib&nbsp;opencv-py</span><span class="mtk1">thon</span></span><br></pre><colab-read-only-cell-placeholder style="display: none;"><template shadowrootmode="open"><!----><div><!--?lit$49254222$-->开始借助 AI 编写或<span role="button" class="link" tabindex="0">生成</span>代码。</div></template></colab-read-only-cell-placeholder></pre></div><colab-form class="formview vertical layout flex"><div class="widget-area vertical layout"></div></colab-form></div>
    <div class="output" aria-label="单元格 6 的输出" role="region"><!----> <div class="output-header"> </div>
        <div class="output-content">
          <div class="output-info"><colab-output-info><template shadowrootmode="open"><!----><md-icon-button title="代码单元格输出项操作" data-aria-label="代码单元格输出项操作" value=""><template shadowrootmode="open" shadowrootdelegatesfocus><!----><button id="button" class="icon-button  standard " aria-label="代码单元格输出项操作">
        <!--?lit$49254222$--><md-focus-ring part="focus-ring" for="button" aria-hidden="true"><template shadowrootmode="open"><!----></template></md-focus-ring>
        <!--?lit$49254222$--><md-ripple aria-hidden="true"><template shadowrootmode="open"><!----><div class="surface"></div></template></md-ripple>
        <!--?lit$49254222$--><span class="icon"><slot></slot></span>
        <!--?lit$49254222$-->
        <!--?lit$49254222$--><span class="touch"></span>
        <!--?lit$49254222$-->
  </button></template>
      <md-icon aria-hidden="true"><template shadowrootmode="open"><!----><slot></slot></template><!--?lit$49254222$--><svg viewBox="0 0 24 24"><!--?lit$49254222$--><path d="m15.9 3.07c-4.32 0.0742-8.64-0.0355-13 0.0568-1.37 0.307-1.74 2.1-1.41 3.26 0.469 0.606 1.86 0.384 1.66-0.525 0.0448-0.329-0.183-0.93 0.354-0.766h13.3v1.53h1.71c0.0709-1.13 0.141-2.62-0.968-3.3-0.511-0.264-1.11-0.252-1.67-0.259zm2.94 6.84v4.87c1.62-1.62 3.24-3.24 4.87-4.87h-4.87zm0 0h-1.71v3.43l1.57 1.57c0.32-1.65 0.0556-3.34 0.135-5zm-1.71 3.43v-3.43h-3.43c1.14 1.14 2.29 2.29 3.43 3.43zm1.4 4.27h-1.71v1.48h-13.6v-1.48h-1.71c-0.0473 1.15-0.16 2.72 1.09 3.29 1.47 0.506 3.02 0.0265 4.53 0.192 3.34-0.0051 6.68 0.0336 10-0.0245 1.49-0.366 1.56-2.22 1.42-3.45zm-10.1-1.12c-0.398-0.483-0.796-0.967-1.19-1.45 0.59-0.683 1.18-1.37 1.77-2.05h-8.67v-2h8.67c-0.59-0.683-1.18-1.37-1.77-2.05 0.398-0.483 0.796-0.967 1.19-1.45 1.28 1.5 2.56 3 3.84 4.5-1.28 1.5-2.56 3-3.84 4.5z"></path></svg></md-icon>
    </md-icon-button></template></colab-output-info></div>
          <div class="output-iframe-container">
            <div class="output-iframe-sizer" style="min-height: 0px;"> <div><div><colab-static-output-renderer role="group" tabindex="0"><div><div class="stream output-id-1 output_text"><pre>Requirement already satisfied: torch in /usr/local/lib/python3.10/dist-packages (2.3.1+cu121)
Requirement already satisfied: torchvision in /usr/local/lib/python3.10/dist-packages (0.18.1+cu121)
Requirement already satisfied: matplotlib in /usr/local/lib/python3.10/dist-packages (3.7.1)
Requirement already satisfied: opencv-python in /usr/local/lib/python3.10/dist-packages (4.10.0.84)
Requirement already satisfied: filelock in /usr/local/lib/python3.10/dist-packages (from torch) (3.15.4)
Requirement already satisfied: typing-extensions&gt;=4.8.0 in /usr/local/lib/python3.10/dist-packages (from torch) (4.12.2)
Requirement already satisfied: sympy in /usr/local/lib/python3.10/dist-packages (from torch) (1.13.1)
Requirement already satisfied: networkx in /usr/local/lib/python3.10/dist-packages (from torch) (3.3)
Requirement already satisfied: jinja2 in /usr/local/lib/python3.10/dist-packages (from torch) (3.1.4)
Requirement already satisfied: fsspec in /usr/local/lib/python3.10/dist-packages (from torch) (2024.6.1)
Requirement already satisfied: nvidia-cuda-nvrtc-cu12==12.1.105 in /usr/local/lib/python3.10/dist-packages (from torch) (12.1.105)
Requirement already satisfied: nvidia-cuda-runtime-cu12==12.1.105 in /usr/local/lib/python3.10/dist-packages (from torch) (12.1.105)
Requirement already satisfied: nvidia-cuda-cupti-cu12==12.1.105 in /usr/local/lib/python3.10/dist-packages (from torch) (12.1.105)
Requirement already satisfied: nvidia-cudnn-cu12==8.9.2.26 in /usr/local/lib/python3.10/dist-packages (from torch) (8.9.2.26)
Requirement already satisfied: nvidia-cublas-cu12==12.1.3.1 in /usr/local/lib/python3.10/dist-packages (from torch) (12.1.3.1)
Requirement already satisfied: nvidia-cufft-cu12==11.0.2.54 in /usr/local/lib/python3.10/dist-packages (from torch) (11.0.2.54)
Requirement already satisfied: nvidia-curand-cu12==10.3.2.106 in /usr/local/lib/python3.10/dist-packages (from torch) (10.3.2.106)
Requirement already satisfied: nvidia-cusolver-cu12==11.4.5.107 in /usr/local/lib/python3.10/dist-packages (from torch) (11.4.5.107)
Requirement already satisfied: nvidia-cusparse-cu12==12.1.0.106 in /usr/local/lib/python3.10/dist-packages (from torch) (12.1.0.106)
Requirement already satisfied: nvidia-nccl-cu12==2.20.5 in /usr/local/lib/python3.10/dist-packages (from torch) (2.20.5)
Requirement already satisfied: nvidia-nvtx-cu12==12.1.105 in /usr/local/lib/python3.10/dist-packages (from torch) (12.1.105)
Requirement already satisfied: triton==2.3.1 in /usr/local/lib/python3.10/dist-packages (from torch) (2.3.1)
Requirement already satisfied: nvidia-nvjitlink-cu12 in /usr/local/lib/python3.10/dist-packages (from nvidia-cusolver-cu12==11.4.5.107-&gt;torch) (12.5.82)
Requirement already satisfied: numpy in /usr/local/lib/python3.10/dist-packages (from torchvision) (1.26.4)
Requirement already satisfied: pillow!=8.3.*,&gt;=5.3.0 in /usr/local/lib/python3.10/dist-packages (from torchvision) (9.4.0)
Requirement already satisfied: contourpy&gt;=1.0.1 in /usr/local/lib/python3.10/dist-packages (from matplotlib) (1.2.1)
Requirement already satisfied: cycler&gt;=0.10 in /usr/local/lib/python3.10/dist-packages (from matplotlib) (0.12.1)
Requirement already satisfied: fonttools&gt;=4.22.0 in /usr/local/lib/python3.10/dist-packages (from matplotlib) (4.53.1)
Requirement already satisfied: kiwisolver&gt;=1.0.1 in /usr/local/lib/python3.10/dist-packages (from matplotlib) (1.4.5)
Requirement already satisfied: packaging&gt;=20.0 in /usr/local/lib/python3.10/dist-packages (from matplotlib) (24.1)
Requirement already satisfied: pyparsing&gt;=2.3.1 in /usr/local/lib/python3.10/dist-packages (from matplotlib) (3.1.2)
Requirement already satisfied: python-dateutil&gt;=2.7 in /usr/local/lib/python3.10/dist-packages (from matplotlib) (2.8.2)
Requirement already satisfied: six&gt;=1.5 in /usr/local/lib/python3.10/dist-packages (from python-dateutil&gt;=2.7-&gt;matplotlib) (1.16.0)
Requirement already satisfied: MarkupSafe&gt;=2.0 in /usr/local/lib/python3.10/dist-packages (from jinja2-&gt;torch) (2.1.5)
Requirement already satisfied: mpmath&lt;1.4,&gt;=1.1.0 in /usr/local/lib/python3.10/dist-packages (from sympy-&gt;torch) (1.3.0)
</pre></div></div><div></div></colab-static-output-renderer></div></div></div>
          </div>
        </div></div></div><colab-cell-next-steps><template shadowrootmode="open"><!----></template></colab-cell-next-steps></div></div><div class="add-cell">
      <div class="add-cell-buttons">
        <md-outlined-button class="add-code add-button" data-aria-label="添加代码单元格
⌘/Ctrl+M B" title="添加代码单元格
⌘/Ctrl+M B" value="" has-icon=""><template shadowrootmode="open" shadowrootdelegatesfocus><!---->
      <!--?lit$49254222$--><div class="outline"></div>
      <div class="background"></div>
      <md-focus-ring part="focus-ring" for="button" aria-hidden="true"><template shadowrootmode="open"><!----></template></md-focus-ring>
      <md-ripple part="ripple" for="button" aria-hidden="true"><template shadowrootmode="open"><!----><div class="surface   "></div></template></md-ripple>
      <!--?lit$49254222$--><button id="button" class="button" aria-label="添加代码单元格
⌘/Ctrl+M B">
      <!--?lit$49254222$-->
      <span class="touch"></span>
      <!--?lit$49254222$--><slot name="icon"></slot>
      <span class="label"><slot></slot></span>
      <!--?lit$49254222$-->
    
    </button>
    </template>
          <md-icon slot="icon" aria-hidden="true"><template shadowrootmode="open"><!----><slot></slot></template>add</md-icon>
          <!--?lit$49254222$-->代码
        </md-outlined-button>
        <md-outlined-button class="add-text add-button" data-aria-label="添加文本单元格" title="添加文本单元格" value="" has-icon=""><template shadowrootmode="open" shadowrootdelegatesfocus><!---->
      <!--?lit$49254222$--><div class="outline"></div>
      <div class="background"></div>
      <md-focus-ring part="focus-ring" for="button" aria-hidden="true"><template shadowrootmode="open"><!----></template></md-focus-ring>
      <md-ripple part="ripple" for="button" aria-hidden="true"><template shadowrootmode="open"><!----><div class="surface   "></div></template></md-ripple>
      <!--?lit$49254222$--><button id="button" class="button" aria-label="添加文本单元格">
      <!--?lit$49254222$-->
      <span class="touch"></span>
      <!--?lit$49254222$--><slot name="icon"></slot>
      <span class="label"><slot></slot></span>
      <!--?lit$49254222$-->
    
    </button>
    </template>
          <md-icon slot="icon" aria-hidden="true"><template shadowrootmode="open"><!----><slot></slot></template>add</md-icon>
          <!--?lit$49254222$-->文本
        </md-outlined-button>
        <!--?lit$49254222$-->
      </div><hr>
    </div></div><div class="cell code icon-scrolling code-has-output" id="cell-SOjrFvltFhT8" role="region" aria-label="单元格 7：代码单元格：" style="opacity: 1;" tabindex="-1"><div class="cell-tag-editor sticky"></div><div class="cell-toolbar sticky"></div><div class="main-content" elevation="0"><div class="cell-contents"><div class="cell-mask"></div><span class="imported-info-area"></span><div class="codecell-input-output">
      <div class="inputarea horizontal layout code">
        <div class="cell-gutter">
          <!-- Bounding range for vertical scrolling of icons -->
          <div class="cell-execution-container">
            <colab-run-button title="运行单元格 (⌘/Ctrl+Enter)
单元格尚未在此会话中执行

执行者：Jiale Guo
15:00 (50分钟前)
执行时长：4.49 秒"><template shadowrootmode="open"><!----> <div class="cell-execution stale">
      <button aria-label="运行单元格">
        <span class="execution-count"><!--?lit$49254222$-->[ ]</span>
        <span aria-hidden="true" class="cell-execution-indicator"><!--?lit$49254222$-->
<svg xmlns="http://www.w3.org/2000/svg" viewBox="0 0 24 24">
  <!--?lit$49254222$-->
  <mask id="playSymbolMask">
    <rect width="100%" height="100%" fill="white"></rect>
    <polygon points="10,8 17,12 10,16" fill="black"></polygon>
  </mask>
  <circle cx="12" cy="12" r="7.8" mask="url(#playSymbolMask)" id="filledCircle"></circle>
</svg></span>
      </button>
      <!--?lit$49254222$--><!--?-->
    </div></template></colab-run-button>
          </div>
        </div>
      <div class="editor flex lazy-editor" style="height: 86px; overflow: hidden;"><pre class="lazy-virtualized" style="font-size: 14px; line-height: 19px;"><pre class="lazy-gutter">  1
  2
  3
  4
</pre><pre class="monaco-colorized colab colab colab colab colab colab" data-lang="notebook-python"><span><span class="mtk6">!</span><span class="mtk1">git&nbsp;clone&nbsp;https://github.com/ultralytics/yolov5.gi</span><span class="mtk1">t</span></span><br><span><span class="mtk6">%cd&nbsp;</span><span class="mtk1">yolov5</span></span><br><span><span class="mtk6">!</span><span class="mtk1">pip&nbsp;install&nbsp;-r&nbsp;requirements.txt</span></span><br><span><span></span></span><br></pre><colab-read-only-cell-placeholder style="display: none;"><template shadowrootmode="open"><!----><div><!--?lit$49254222$-->开始借助 AI 编写或<span role="button" class="link" tabindex="0">生成</span>代码。</div></template></colab-read-only-cell-placeholder></pre></div><colab-form class="formview vertical layout flex"><div class="widget-area vertical layout"></div></colab-form></div>
    <div class="output" aria-label="单元格 7 的输出" role="region"><!----> <div class="output-header"> </div>
        <div class="output-content">
          <div class="output-info"><colab-output-info><template shadowrootmode="open"><!----><md-icon-button title="代码单元格输出项操作" data-aria-label="代码单元格输出项操作" value=""><template shadowrootmode="open" shadowrootdelegatesfocus><!----><button id="button" class="icon-button  standard " aria-label="代码单元格输出项操作">
        <!--?lit$49254222$--><md-focus-ring part="focus-ring" for="button" aria-hidden="true"><template shadowrootmode="open"><!----></template></md-focus-ring>
        <!--?lit$49254222$--><md-ripple aria-hidden="true"><template shadowrootmode="open"><!----><div class="surface   "></div></template></md-ripple>
        <!--?lit$49254222$--><span class="icon"><slot></slot></span>
        <!--?lit$49254222$-->
        <!--?lit$49254222$--><span class="touch"></span>
        <!--?lit$49254222$-->
  </button></template>
      <md-icon aria-hidden="true"><template shadowrootmode="open"><!----><slot></slot></template><!--?lit$49254222$--><svg viewBox="0 0 24 24"><!--?lit$49254222$--><path d="m15.9 3.07c-4.32 0.0742-8.64-0.0355-13 0.0568-1.37 0.307-1.74 2.1-1.41 3.26 0.469 0.606 1.86 0.384 1.66-0.525 0.0448-0.329-0.183-0.93 0.354-0.766h13.3v1.53h1.71c0.0709-1.13 0.141-2.62-0.968-3.3-0.511-0.264-1.11-0.252-1.67-0.259zm2.94 6.84v4.87c1.62-1.62 3.24-3.24 4.87-4.87h-4.87zm0 0h-1.71v3.43l1.57 1.57c0.32-1.65 0.0556-3.34 0.135-5zm-1.71 3.43v-3.43h-3.43c1.14 1.14 2.29 2.29 3.43 3.43zm1.4 4.27h-1.71v1.48h-13.6v-1.48h-1.71c-0.0473 1.15-0.16 2.72 1.09 3.29 1.47 0.506 3.02 0.0265 4.53 0.192 3.34-0.0051 6.68 0.0336 10-0.0245 1.49-0.366 1.56-2.22 1.42-3.45zm-10.1-1.12c-0.398-0.483-0.796-0.967-1.19-1.45 0.59-0.683 1.18-1.37 1.77-2.05h-8.67v-2h8.67c-0.59-0.683-1.18-1.37-1.77-2.05 0.398-0.483 0.796-0.967 1.19-1.45 1.28 1.5 2.56 3 3.84 4.5-1.28 1.5-2.56 3-3.84 4.5z"></path></svg></md-icon>
    </md-icon-button></template></colab-output-info></div>
          <div class="output-iframe-container">
            <div class="output-iframe-sizer" style="min-height: 0px;"> <div><div><colab-static-output-renderer role="group" tabindex="0"><div><div class="stream output-id-4 output_text"><pre>fatal: destination path 'yolov5' already exists and is not an empty directory.
/content/yolov5
Requirement already satisfied: gitpython&gt;=3.1.30 in /usr/local/lib/python3.10/dist-packages (from -r requirements.txt (line 5)) (3.1.43)
Requirement already satisfied: matplotlib&gt;=3.3 in /usr/local/lib/python3.10/dist-packages (from -r requirements.txt (line 6)) (3.7.1)
Requirement already satisfied: numpy&gt;=1.23.5 in /usr/local/lib/python3.10/dist-packages (from -r requirements.txt (line 7)) (1.26.4)
Requirement already satisfied: opencv-python&gt;=4.1.1 in /usr/local/lib/python3.10/dist-packages (from -r requirements.txt (line 8)) (4.10.0.84)
Requirement already satisfied: pillow&gt;=10.3.0 in /usr/local/lib/python3.10/dist-packages (from -r requirements.txt (line 9)) (10.4.0)
Requirement already satisfied: psutil in /usr/local/lib/python3.10/dist-packages (from -r requirements.txt (line 10)) (5.9.5)
Requirement already satisfied: PyYAML&gt;=5.3.1 in /usr/local/lib/python3.10/dist-packages (from -r requirements.txt (line 11)) (6.0.1)
Requirement already satisfied: requests&gt;=2.32.0 in /usr/local/lib/python3.10/dist-packages (from -r requirements.txt (line 12)) (2.32.3)
Requirement already satisfied: scipy&gt;=1.4.1 in /usr/local/lib/python3.10/dist-packages (from -r requirements.txt (line 13)) (1.13.1)
Requirement already satisfied: thop&gt;=0.1.1 in /usr/local/lib/python3.10/dist-packages (from -r requirements.txt (line 14)) (0.1.1.post2209072238)
Requirement already satisfied: torch&gt;=1.8.0 in /usr/local/lib/python3.10/dist-packages (from -r requirements.txt (line 15)) (2.3.1+cu121)
Requirement already satisfied: torchvision&gt;=0.9.0 in /usr/local/lib/python3.10/dist-packages (from -r requirements.txt (line 16)) (0.18.1+cu121)
Requirement already satisfied: tqdm&gt;=4.64.0 in /usr/local/lib/python3.10/dist-packages (from -r requirements.txt (line 17)) (4.66.4)
Requirement already satisfied: ultralytics&gt;=8.2.34 in /usr/local/lib/python3.10/dist-packages (from -r requirements.txt (line 18)) (8.2.70)
Requirement already satisfied: pandas&gt;=1.1.4 in /usr/local/lib/python3.10/dist-packages (from -r requirements.txt (line 27)) (2.1.4)
Requirement already satisfied: seaborn&gt;=0.11.0 in /usr/local/lib/python3.10/dist-packages (from -r requirements.txt (line 28)) (0.13.1)
Requirement already satisfied: setuptools&gt;=70.0.0 in /usr/local/lib/python3.10/dist-packages (from -r requirements.txt (line 42)) (71.0.4)
Requirement already satisfied: gitdb&lt;5,&gt;=4.0.1 in /usr/local/lib/python3.10/dist-packages (from gitpython&gt;=3.1.30-&gt;-r requirements.txt (line 5)) (4.0.11)
Requirement already satisfied: contourpy&gt;=1.0.1 in /usr/local/lib/python3.10/dist-packages (from matplotlib&gt;=3.3-&gt;-r requirements.txt (line 6)) (1.2.1)
Requirement already satisfied: cycler&gt;=0.10 in /usr/local/lib/python3.10/dist-packages (from matplotlib&gt;=3.3-&gt;-r requirements.txt (line 6)) (0.12.1)
Requirement already satisfied: fonttools&gt;=4.22.0 in /usr/local/lib/python3.10/dist-packages (from matplotlib&gt;=3.3-&gt;-r requirements.txt (line 6)) (4.53.1)
Requirement already satisfied: kiwisolver&gt;=1.0.1 in /usr/local/lib/python3.10/dist-packages (from matplotlib&gt;=3.3-&gt;-r requirements.txt (line 6)) (1.4.5)
Requirement already satisfied: packaging&gt;=20.0 in /usr/local/lib/python3.10/dist-packages (from matplotlib&gt;=3.3-&gt;-r requirements.txt (line 6)) (24.1)
Requirement already satisfied: pyparsing&gt;=2.3.1 in /usr/local/lib/python3.10/dist-packages (from matplotlib&gt;=3.3-&gt;-r requirements.txt (line 6)) (3.1.2)
Requirement already satisfied: python-dateutil&gt;=2.7 in /usr/local/lib/python3.10/dist-packages (from matplotlib&gt;=3.3-&gt;-r requirements.txt (line 6)) (2.8.2)
Requirement already satisfied: charset-normalizer&lt;4,&gt;=2 in /usr/local/lib/python3.10/dist-packages (from requests&gt;=2.32.0-&gt;-r requirements.txt (line 12)) (3.3.2)
Requirement already satisfied: idna&lt;4,&gt;=2.5 in /usr/local/lib/python3.10/dist-packages (from requests&gt;=2.32.0-&gt;-r requirements.txt (line 12)) (3.7)
Requirement already satisfied: urllib3&lt;3,&gt;=1.21.1 in /usr/local/lib/python3.10/dist-packages (from requests&gt;=2.32.0-&gt;-r requirements.txt (line 12)) (2.0.7)
Requirement already satisfied: certifi&gt;=2017.4.17 in /usr/local/lib/python3.10/dist-packages (from requests&gt;=2.32.0-&gt;-r requirements.txt (line 12)) (2024.7.4)
Requirement already satisfied: filelock in /usr/local/lib/python3.10/dist-packages (from torch&gt;=1.8.0-&gt;-r requirements.txt (line 15)) (3.15.4)
Requirement already satisfied: typing-extensions&gt;=4.8.0 in /usr/local/lib/python3.10/dist-packages (from torch&gt;=1.8.0-&gt;-r requirements.txt (line 15)) (4.12.2)
Requirement already satisfied: sympy in /usr/local/lib/python3.10/dist-packages (from torch&gt;=1.8.0-&gt;-r requirements.txt (line 15)) (1.13.1)
Requirement already satisfied: networkx in /usr/local/lib/python3.10/dist-packages (from torch&gt;=1.8.0-&gt;-r requirements.txt (line 15)) (3.3)
Requirement already satisfied: jinja2 in /usr/local/lib/python3.10/dist-packages (from torch&gt;=1.8.0-&gt;-r requirements.txt (line 15)) (3.1.4)
Requirement already satisfied: fsspec in /usr/local/lib/python3.10/dist-packages (from torch&gt;=1.8.0-&gt;-r requirements.txt (line 15)) (2024.6.1)
Requirement already satisfied: nvidia-cuda-nvrtc-cu12==12.1.105 in /usr/local/lib/python3.10/dist-packages (from torch&gt;=1.8.0-&gt;-r requirements.txt (line 15)) (12.1.105)
Requirement already satisfied: nvidia-cuda-runtime-cu12==12.1.105 in /usr/local/lib/python3.10/dist-packages (from torch&gt;=1.8.0-&gt;-r requirements.txt (line 15)) (12.1.105)
Requirement already satisfied: nvidia-cuda-cupti-cu12==12.1.105 in /usr/local/lib/python3.10/dist-packages (from torch&gt;=1.8.0-&gt;-r requirements.txt (line 15)) (12.1.105)
Requirement already satisfied: nvidia-cudnn-cu12==8.9.2.26 in /usr/local/lib/python3.10/dist-packages (from torch&gt;=1.8.0-&gt;-r requirements.txt (line 15)) (8.9.2.26)
Requirement already satisfied: nvidia-cublas-cu12==12.1.3.1 in /usr/local/lib/python3.10/dist-packages (from torch&gt;=1.8.0-&gt;-r requirements.txt (line 15)) (12.1.3.1)
Requirement already satisfied: nvidia-cufft-cu12==11.0.2.54 in /usr/local/lib/python3.10/dist-packages (from torch&gt;=1.8.0-&gt;-r requirements.txt (line 15)) (11.0.2.54)
Requirement already satisfied: nvidia-curand-cu12==10.3.2.106 in /usr/local/lib/python3.10/dist-packages (from torch&gt;=1.8.0-&gt;-r requirements.txt (line 15)) (10.3.2.106)
Requirement already satisfied: nvidia-cusolver-cu12==11.4.5.107 in /usr/local/lib/python3.10/dist-packages (from torch&gt;=1.8.0-&gt;-r requirements.txt (line 15)) (11.4.5.107)
Requirement already satisfied: nvidia-cusparse-cu12==12.1.0.106 in /usr/local/lib/python3.10/dist-packages (from torch&gt;=1.8.0-&gt;-r requirements.txt (line 15)) (12.1.0.106)
Requirement already satisfied: nvidia-nccl-cu12==2.20.5 in /usr/local/lib/python3.10/dist-packages (from torch&gt;=1.8.0-&gt;-r requirements.txt (line 15)) (2.20.5)
Requirement already satisfied: nvidia-nvtx-cu12==12.1.105 in /usr/local/lib/python3.10/dist-packages (from torch&gt;=1.8.0-&gt;-r requirements.txt (line 15)) (12.1.105)
Requirement already satisfied: triton==2.3.1 in /usr/local/lib/python3.10/dist-packages (from torch&gt;=1.8.0-&gt;-r requirements.txt (line 15)) (2.3.1)
Requirement already satisfied: nvidia-nvjitlink-cu12 in /usr/local/lib/python3.10/dist-packages (from nvidia-cusolver-cu12==11.4.5.107-&gt;torch&gt;=1.8.0-&gt;-r requirements.txt (line 15)) (12.5.82)
Requirement already satisfied: py-cpuinfo in /usr/local/lib/python3.10/dist-packages (from ultralytics&gt;=8.2.34-&gt;-r requirements.txt (line 18)) (9.0.0)
Requirement already satisfied: ultralytics-thop&gt;=2.0.0 in /usr/local/lib/python3.10/dist-packages (from ultralytics&gt;=8.2.34-&gt;-r requirements.txt (line 18)) (2.0.0)
Requirement already satisfied: pytz&gt;=2020.1 in /usr/local/lib/python3.10/dist-packages (from pandas&gt;=1.1.4-&gt;-r requirements.txt (line 27)) (2024.1)
Requirement already satisfied: tzdata&gt;=2022.1 in /usr/local/lib/python3.10/dist-packages (from pandas&gt;=1.1.4-&gt;-r requirements.txt (line 27)) (2024.1)
Requirement already satisfied: smmap&lt;6,&gt;=3.0.1 in /usr/local/lib/python3.10/dist-packages (from gitdb&lt;5,&gt;=4.0.1-&gt;gitpython&gt;=3.1.30-&gt;-r requirements.txt (line 5)) (5.0.1)
Requirement already satisfied: six&gt;=1.5 in /usr/local/lib/python3.10/dist-packages (from python-dateutil&gt;=2.7-&gt;matplotlib&gt;=3.3-&gt;-r requirements.txt (line 6)) (1.16.0)
Requirement already satisfied: MarkupSafe&gt;=2.0 in /usr/local/lib/python3.10/dist-packages (from jinja2-&gt;torch&gt;=1.8.0-&gt;-r requirements.txt (line 15)) (2.1.5)
Requirement already satisfied: mpmath&lt;1.4,&gt;=1.1.0 in /usr/local/lib/python3.10/dist-packages (from sympy-&gt;torch&gt;=1.8.0-&gt;-r requirements.txt (line 15)) (1.3.0)
</pre></div></div><div></div></colab-static-output-renderer></div></div></div>
          </div>
        </div></div></div><colab-cell-next-steps><template shadowrootmode="open"><!----></template></colab-cell-next-steps></div></div><div class="add-cell">
      <div class="add-cell-buttons">
        <md-outlined-button class="add-code add-button" data-aria-label="添加代码单元格
⌘/Ctrl+M B" title="添加代码单元格
⌘/Ctrl+M B" value="" has-icon=""><template shadowrootmode="open" shadowrootdelegatesfocus><!---->
      <!--?lit$49254222$--><div class="outline"></div>
      <div class="background"></div>
      <md-focus-ring part="focus-ring" for="button" aria-hidden="true"><template shadowrootmode="open"><!----></template></md-focus-ring>
      <md-ripple part="ripple" for="button" aria-hidden="true"><template shadowrootmode="open"><!----><div class="surface"></div></template></md-ripple>
      <!--?lit$49254222$--><button id="button" class="button" aria-label="添加代码单元格
⌘/Ctrl+M B">
      <!--?lit$49254222$-->
      <span class="touch"></span>
      <!--?lit$49254222$--><slot name="icon"></slot>
      <span class="label"><slot></slot></span>
      <!--?lit$49254222$-->
    
    </button>
    </template>
          <md-icon slot="icon" aria-hidden="true"><template shadowrootmode="open"><!----><slot></slot></template>add</md-icon>
          <!--?lit$49254222$-->代码
        </md-outlined-button>
        <md-outlined-button class="add-text add-button" data-aria-label="添加文本单元格" title="添加文本单元格" value="" has-icon=""><template shadowrootmode="open" shadowrootdelegatesfocus><!---->
      <!--?lit$49254222$--><div class="outline"></div>
      <div class="background"></div>
      <md-focus-ring part="focus-ring" for="button" aria-hidden="true"><template shadowrootmode="open"><!----></template></md-focus-ring>
      <md-ripple part="ripple" for="button" aria-hidden="true"><template shadowrootmode="open"><!----><div class="surface   "></div></template></md-ripple>
      <!--?lit$49254222$--><button id="button" class="button" aria-label="添加文本单元格">
      <!--?lit$49254222$-->
      <span class="touch"></span>
      <!--?lit$49254222$--><slot name="icon"></slot>
      <span class="label"><slot></slot></span>
      <!--?lit$49254222$-->
    
    </button>
    </template>
          <md-icon slot="icon" aria-hidden="true"><template shadowrootmode="open"><!----><slot></slot></template>add</md-icon>
          <!--?lit$49254222$-->文本
        </md-outlined-button>
        <!--?lit$49254222$-->
      </div><hr>
    </div></div><div class="cell code icon-scrolling code-has-output" id="cell-1MUFuVFcFios" role="region" aria-label="单元格 8：代码单元格：" style="opacity: 1;" tabindex="-1"><div class="cell-tag-editor sticky"></div><div class="cell-toolbar sticky"></div><div class="main-content" elevation="0"><div class="cell-contents"><div class="cell-mask"></div><span class="imported-info-area"></span><div class="codecell-input-output">
      <div class="inputarea horizontal layout code">
        <div class="cell-gutter">
          <!-- Bounding range for vertical scrolling of icons -->
          <div class="cell-execution-container">
            <colab-run-button title="运行单元格 (⌘/Ctrl+Enter)
单元格尚未在此会话中执行
之前的执行操作失败了

执行者：Jiale Guo
15:01 (48分钟前)
执行时长：78.519 秒"><template shadowrootmode="open"><!----> <div class="cell-execution error stale">
      <button aria-label="运行单元格">
        <span class="execution-count"><!--?lit$49254222$-->[ ]</span>
        <span aria-hidden="true" class="cell-execution-indicator"><!--?lit$49254222$-->
<svg xmlns="http://www.w3.org/2000/svg" viewBox="0 0 24 24">
  <!--?lit$49254222$-->
  <mask id="playSymbolMask">
    <rect width="100%" height="100%" fill="white"></rect>
    <polygon points="10,8 17,12 10,16" fill="black"></polygon>
  </mask>
  <circle cx="12" cy="12" r="7.8" mask="url(#playSymbolMask)" id="filledCircle"></circle>
</svg></span>
      </button>
      <!--?lit$49254222$--><!--?-->
    </div></template></colab-run-button>
          </div>
        </div>
      <div class="editor flex lazy-editor" style="height: 751px; overflow: hidden;"><pre class="lazy-virtualized" style="font-size: 14px; line-height: 19px;"><pre class="lazy-gutter">  1
  2
  3
  4
  5
  6
  7
  8
  9
 10
 11
 12
 13
 14
 15
 16
 17
 18
 19
 20
 21
 22
 23
 24
 25
 26
 27
 28
 29
 30
 31
 32
 33
 34
 35
 36
 37
 38
</pre><pre class="monaco-colorized colab colab colab" data-lang="notebook-python"><span><span class="mtk19">import</span><span class="mtk1">&nbsp;torch</span></span><br><span><span class="mtk19">from</span><span class="mtk1">&nbsp;matplotlib&nbsp;</span><span class="mtk19">import</span><span class="mtk1">&nbsp;pyplot&nbsp;</span><span class="mtk19">as</span><span class="mtk1">&nbsp;plt</span></span><br><span><span class="mtk19">from</span><span class="mtk1">&nbsp;PIL&nbsp;</span><span class="mtk19">import</span><span class="mtk1">&nbsp;Image</span></span><br><span><span class="mtk19">import</span><span class="mtk1">&nbsp;cv2</span></span><br><span><span class="mtk19">import</span><span class="mtk1">&nbsp;numpy&nbsp;</span><span class="mtk19">as</span><span class="mtk1">&nbsp;np</span></span><br><span><span class="mtk19">from</span><span class="mtk1">&nbsp;google.colab&nbsp;</span><span class="mtk19">import</span><span class="mtk1">&nbsp;files</span></span><br><span><span></span></span><br><span><span class="mtk8">#&nbsp;上传图像</span></span><br><span><span class="mtk1">uploaded&nbsp;=&nbsp;files.upload()</span></span><br><span><span></span></span><br><span><span class="mtk8">#&nbsp;加载&nbsp;YOLOv5&nbsp;模型</span></span><br><span><span class="mtk1">model&nbsp;=&nbsp;torch.hub.load(</span><span class="mtk26">'ultralytics/yolov5'</span><span class="mtk1">,&nbsp;</span><span class="mtk26">'yolov5s'</span><span class="mtk1">)&nbsp;&nbsp;</span><span class="mtk8">#&nbsp;使用预训练的&nbsp;YOLOv5s&nbsp;模型</span></span><br><span><span></span></span><br><span><span class="mtk8">#&nbsp;对每张上传的图像进行目标检测</span></span><br><span><span class="mtk19">for</span><span class="mtk1">&nbsp;img_name&nbsp;</span><span class="mtk6">in</span><span class="mtk1">&nbsp;uploaded.keys():</span></span><br><span><span class="mtk1">&nbsp;&nbsp;&nbsp;&nbsp;</span><span class="mtk8">#&nbsp;读取图像</span></span><br><span><span class="mtk1">&nbsp;&nbsp;&nbsp;&nbsp;img&nbsp;=&nbsp;Image.</span><span class="mtk15">open</span><span class="mtk1">(img_name)</span></span><br><span><span class="mtk1">&nbsp;&nbsp;&nbsp;&nbsp;</span></span><br><span><span class="mtk1">&nbsp;&nbsp;&nbsp;&nbsp;</span><span class="mtk8">#&nbsp;进行检测</span></span><br><span><span class="mtk1">&nbsp;&nbsp;&nbsp;&nbsp;results&nbsp;=&nbsp;model(img)</span></span><br><span><span class="mtk1">&nbsp;&nbsp;&nbsp;&nbsp;</span></span><br><span><span class="mtk1">&nbsp;&nbsp;&nbsp;&nbsp;</span><span class="mtk8">#&nbsp;打印结果</span></span><br><span><span class="mtk1">&nbsp;&nbsp;&nbsp;&nbsp;results.</span><span class="mtk15">print</span><span class="mtk1">()</span></span><br><span><span class="mtk1">&nbsp;&nbsp;&nbsp;&nbsp;</span></span><br><span><span class="mtk1">&nbsp;&nbsp;&nbsp;&nbsp;</span><span class="mtk8">#&nbsp;显示结果</span></span><br><span><span class="mtk1">&nbsp;&nbsp;&nbsp;&nbsp;results.show()</span></span><br><span><span class="mtk1">&nbsp;&nbsp;&nbsp;&nbsp;</span></span><br><span><span class="mtk1">&nbsp;&nbsp;&nbsp;&nbsp;</span><span class="mtk8">#&nbsp;如果你需要将结果保存为图像文件</span></span><br><span><span class="mtk1">&nbsp;&nbsp;&nbsp;&nbsp;output_path&nbsp;=&nbsp;</span><span class="mtk6">f</span><span class="mtk26">'/content/</span><span class="mtk1">{img_name}</span><span class="mtk26">'</span></span><br><span><span class="mtk1">&nbsp;&nbsp;&nbsp;&nbsp;results.save(save_dir=</span><span class="mtk26">'/content'</span><span class="mtk1">)&nbsp;&nbsp;</span><span class="mtk8">#&nbsp;结果保存到&nbsp;/content&nbsp;目录</span></span><br><span><span class="mtk1">&nbsp;&nbsp;&nbsp;&nbsp;</span><span class="mtk15">print</span><span class="mtk1">(</span><span class="mtk6">f</span><span class="mtk26">'Results&nbsp;saved&nbsp;to&nbsp;</span><span class="mtk1">{output_path}</span><span class="mtk26">'</span><span class="mtk1">)</span></span><br><span><span class="mtk1">&nbsp;&nbsp;&nbsp;&nbsp;</span></span><br><span><span class="mtk1">&nbsp;&nbsp;&nbsp;&nbsp;</span><span class="mtk8">#&nbsp;显示保存的图像</span></span><br><span><span class="mtk1">&nbsp;&nbsp;&nbsp;&nbsp;result_img&nbsp;=&nbsp;cv2.imread(output_path)</span></span><br><span><span class="mtk1">&nbsp;&nbsp;&nbsp;&nbsp;result_img&nbsp;=&nbsp;cv2.cvtColor(result_img,&nbsp;cv2.COLO</span><span class="mtk1">R_BGR2RGB)</span></span><br><span><span class="mtk1">&nbsp;&nbsp;&nbsp;&nbsp;plt.imshow(result_img)</span></span><br><span><span class="mtk1">&nbsp;&nbsp;&nbsp;&nbsp;plt.axis(</span><span class="mtk26">'off'</span><span class="mtk1">)</span></span><br><span><span class="mtk1">&nbsp;&nbsp;&nbsp;&nbsp;plt.show()</span></span><br></pre><colab-read-only-cell-placeholder style="display: none;"><template shadowrootmode="open"><!----><div><!--?lit$49254222$-->开始借助 AI 编写或<span role="button" class="link" tabindex="0">生成</span>代码。</div></template></colab-read-only-cell-placeholder></pre></div><colab-form class="formview vertical layout flex"><div class="widget-area vertical layout"></div></colab-form></div>
    <div class="output" aria-label="单元格 8 的输出" role="region"><!----> <div class="output-header"> </div>
        <div class="output-content">
          <div class="output-info"><colab-output-info><template shadowrootmode="open"><!----><md-icon-button title="代码单元格输出项操作" data-aria-label="代码单元格输出项操作" value=""><template shadowrootmode="open" shadowrootdelegatesfocus><!----><button id="button" class="icon-button  standard " aria-label="代码单元格输出项操作">
        <!--?lit$49254222$--><md-focus-ring part="focus-ring" for="button" aria-hidden="true"><template shadowrootmode="open"><!----></template></md-focus-ring>
        <!--?lit$49254222$--><md-ripple aria-hidden="true"><template shadowrootmode="open"><!----><div class="surface"></div></template></md-ripple>
        <!--?lit$49254222$--><span class="icon"><slot></slot></span>
        <!--?lit$49254222$-->
        <!--?lit$49254222$--><span class="touch"></span>
        <!--?lit$49254222$-->
  </button></template>
      <md-icon aria-hidden="true"><template shadowrootmode="open"><!----><slot></slot></template><!--?lit$49254222$--><svg viewBox="0 0 24 24"><!--?lit$49254222$--><path d="m15.9 3.07c-4.32 0.0742-8.64-0.0355-13 0.0568-1.37 0.307-1.74 2.1-1.41 3.26 0.469 0.606 1.86 0.384 1.66-0.525 0.0448-0.329-0.183-0.93 0.354-0.766h13.3v1.53h1.71c0.0709-1.13 0.141-2.62-0.968-3.3-0.511-0.264-1.11-0.252-1.67-0.259zm2.94 6.84v4.87c1.62-1.62 3.24-3.24 4.87-4.87h-4.87zm0 0h-1.71v3.43l1.57 1.57c0.32-1.65 0.0556-3.34 0.135-5zm-1.71 3.43v-3.43h-3.43c1.14 1.14 2.29 2.29 3.43 3.43zm1.4 4.27h-1.71v1.48h-13.6v-1.48h-1.71c-0.0473 1.15-0.16 2.72 1.09 3.29 1.47 0.506 3.02 0.0265 4.53 0.192 3.34-0.0051 6.68 0.0336 10-0.0245 1.49-0.366 1.56-2.22 1.42-3.45zm-10.1-1.12c-0.398-0.483-0.796-0.967-1.19-1.45 0.59-0.683 1.18-1.37 1.77-2.05h-8.67v-2h8.67c-0.59-0.683-1.18-1.37-1.77-2.05 0.398-0.483 0.796-0.967 1.19-1.45 1.28 1.5 2.56 3 3.84 4.5-1.28 1.5-2.56 3-3.84 4.5z"></path></svg></md-icon>
    </md-icon-button></template></colab-output-info></div>
          <div class="output-iframe-container">
            <div class="output-iframe-sizer" style="min-height: 0px;"> <div><div class="outputview" style="height: 1000px;"><colab-dom-lifecycle-events style="display: none;"></colab-dom-lifecycle-events><iframe allow="accelerometer; autoplay; gyroscope; magnetometer; xr-spatial-tracking; clipboard-write" sandbox="allow-downloads allow-forms allow-pointer-lock allow-popups allow-same-origin allow-scripts allow-storage-access-by-user-activation allow-modals allow-popups-to-escape-sandbox" src="./yolo5.ipynb - Colab_files/outputframe(2).html" class="" style="height: 1000px;"></iframe></div></div></div>
          </div>
        </div></div></div><colab-cell-next-steps hascontent=""><template shadowrootmode="open"><!----> <div class="root">
        <span class="next-steps-title">
          <!--?lit$49254222$-->后续步骤： </span><!--?lit$49254222$--><!----><mwc-button outlined="" dense="" class="fix"><template shadowrootmode="open"><!---->
      <button id="button" class="mdc-button  mdc-button--outlined mdc-button--dense " aria-label="">
        <!--?lit$49254222$--><!--?-->
        <!--?lit$49254222$-->
        <span class="leading-icon">
          <slot name="icon">
            <!--?lit$49254222$-->
          </slot>
        </span>
        <span class="mdc-button__label"><!--?lit$49254222$--></span>
        <span class="slot-container   ">
          <slot></slot>
        </span>
        <span class="trailing-icon">
          <slot name="trailingIcon">
            <!--?lit$49254222$-->
          </slot>
        </span>
      </button></template><!--?lit$49254222$-->说明错误</mwc-button><!---->
      </div>
      <div class="content"><!--?lit$49254222$--></div></template></colab-cell-next-steps></div></div><div class="add-cell">
      <div class="add-cell-buttons">
        <md-outlined-button class="add-code add-button" data-aria-label="添加代码单元格
⌘/Ctrl+M B" title="添加代码单元格
⌘/Ctrl+M B" value="" has-icon=""><template shadowrootmode="open" shadowrootdelegatesfocus><!---->
      <!--?lit$49254222$--><div class="outline"></div>
      <div class="background"></div>
      <md-focus-ring part="focus-ring" for="button" aria-hidden="true"><template shadowrootmode="open"><!----></template></md-focus-ring>
      <md-ripple part="ripple" for="button" aria-hidden="true"><template shadowrootmode="open"><!----><div class="surface"></div></template></md-ripple>
      <!--?lit$49254222$--><button id="button" class="button" aria-label="添加代码单元格
⌘/Ctrl+M B">
      <!--?lit$49254222$-->
      <span class="touch"></span>
      <!--?lit$49254222$--><slot name="icon"></slot>
      <span class="label"><slot></slot></span>
      <!--?lit$49254222$-->
    
    </button>
    </template>
          <md-icon slot="icon" aria-hidden="true"><template shadowrootmode="open"><!----><slot></slot></template>add</md-icon>
          <!--?lit$49254222$-->代码
        </md-outlined-button>
        <md-outlined-button class="add-text add-button" data-aria-label="添加文本单元格" title="添加文本单元格" value="" has-icon=""><template shadowrootmode="open" shadowrootdelegatesfocus><!---->
      <!--?lit$49254222$--><div class="outline"></div>
      <div class="background"></div>
      <md-focus-ring part="focus-ring" for="button" aria-hidden="true"><template shadowrootmode="open"><!----></template></md-focus-ring>
      <md-ripple part="ripple" for="button" aria-hidden="true"><template shadowrootmode="open"><!----><div class="surface   "></div></template></md-ripple>
      <!--?lit$49254222$--><button id="button" class="button" aria-label="添加文本单元格">
      <!--?lit$49254222$-->
      <span class="touch"></span>
      <!--?lit$49254222$--><slot name="icon"></slot>
      <span class="label"><slot></slot></span>
      <!--?lit$49254222$-->
    
    </button>
    </template>
          <md-icon slot="icon" aria-hidden="true"><template shadowrootmode="open"><!----><slot></slot></template>add</md-icon>
          <!--?lit$49254222$-->文本
        </md-outlined-button>
        <!--?lit$49254222$-->
      </div><hr>
    </div></div></div>
              </div>
            </div>
          <section class="sidebar" aria-label="评论" style="display: none;"></section></div>
          <!--?lit$49254222$--> <div class="footer-links">
      <a target="_blank" href="https://colab.research.google.com/signup?utm_source=footer&amp;utm_medium=link&amp;utm_campaign=footer_links">
        <!--?lit$49254222$-->Colab 付费产品
      </a>
      -
      <a href="https://colab.research.google.com/cancel-subscription" target="_blank">
        <!--?lit$49254222$-->在此处取消合同
      </a>
    </div>
        </div>
      </colab-shaded-scroller>
      <div class="notebook-scroll-shadow" style="box-shadow: rgba(0, 0, 0, 0.15) 0px 4px 4px -2px inset;"></div>
    </div></colab-tab></div>
  </div></colab-tab-pane>
      <colab-resizer style="height: 33.3%" class="sn-resize no-tabs"><div class="resizer-thumb"></div>
        <!--?lit$49254222$--><colab-tab-pane class="layout vertical grow no-tabs" align="horizontal"><!----> <div class="layout vertical grow">
    <div class="tab-pane-header layout horizontal noshrink">
      <md-tabs><template shadowrootmode="open"><!---->
      <div class="tabs">
        <slot></slot>
      </div>
      <md-divider part="divider"><template shadowrootmode="open"><!----></template></md-divider>
    </template></md-tabs>
      <div class="layout grow"></div>
      <!--?lit$49254222$--> <md-icon-button title="展开" data-aria-label="展开" value=""><template shadowrootmode="open" shadowrootdelegatesfocus><!----><button id="button" class="icon-button  standard " aria-label="展开">
        <!--?lit$49254222$--><md-focus-ring part="focus-ring" for="button" aria-hidden="true"><template shadowrootmode="open"><!----></template></md-focus-ring>
        <!--?lit$49254222$--><md-ripple aria-hidden="true"><template shadowrootmode="open"><!----><div class="surface   "></div></template></md-ripple>
        <!--?lit$49254222$--><span class="icon"><slot></slot></span>
        <!--?lit$49254222$-->
        <!--?lit$49254222$--><span class="touch"></span>
        <!--?lit$49254222$-->
  </button></template>
    <md-icon aria-hidden="true"><template shadowrootmode="open"><!----><slot></slot></template>more_horiz</md-icon>
  </md-icon-button>
    </div>
    <div class="layout vertical grow tab-pane-container"> </div>
  </div></colab-tab-pane>
      </colab-resizer>
    </div>
      <colab-resizer style="width: 37%" class="we-resize no-tabs"><div class="resizer-thumb"></div>
        <!--?lit$49254222$--> <div class="layout vertical tab-pane-parent">
      <!--?lit$49254222$--><colab-tab-pane class="layout vertical grow no-tabs" align="horizontal"><!----> <div class="layout vertical grow">
    <div class="tab-pane-header layout horizontal noshrink">
      <md-tabs><template shadowrootmode="open"><!---->
      <div class="tabs">
        <slot></slot>
      </div>
      <md-divider part="divider"><template shadowrootmode="open"><!----></template></md-divider>
    </template></md-tabs>
      <div class="layout grow"></div>
      <!--?lit$49254222$--> <md-icon-button title="展开" data-aria-label="展开" value=""><template shadowrootmode="open" shadowrootdelegatesfocus><!----><button id="button" class="icon-button  standard " aria-label="展开">
        <!--?lit$49254222$--><md-focus-ring part="focus-ring" for="button" aria-hidden="true"><template shadowrootmode="open"><!----></template></md-focus-ring>
        <!--?lit$49254222$--><md-ripple aria-hidden="true"><template shadowrootmode="open"><!----><div class="surface   "></div></template></md-ripple>
        <!--?lit$49254222$--><span class="icon"><slot></slot></span>
        <!--?lit$49254222$-->
        <!--?lit$49254222$--><span class="touch"></span>
        <!--?lit$49254222$-->
  </button></template>
    <md-icon aria-hidden="true"><template shadowrootmode="open"><!----><slot></slot></template>more_horiz</md-icon>
  </md-icon-button>
    </div>
    <div class="layout vertical grow tab-pane-container"> </div>
  </div></colab-tab-pane>
      <colab-resizer style="height: 33.3%" class="sn-resize no-tabs"><div class="resizer-thumb"></div>
        <!--?lit$49254222$--><colab-tab-pane class="layout vertical grow no-tabs" align="horizontal"><!----> <div class="layout vertical grow">
    <div class="tab-pane-header layout horizontal noshrink">
      <md-tabs><template shadowrootmode="open"><!---->
      <div class="tabs">
        <slot></slot>
      </div>
      <md-divider part="divider"><template shadowrootmode="open"><!----></template></md-divider>
    </template></md-tabs>
      <div class="layout grow"></div>
      <!--?lit$49254222$--> <md-icon-button title="展开" data-aria-label="展开" value=""><template shadowrootmode="open" shadowrootdelegatesfocus><!----><button id="button" class="icon-button  standard " aria-label="展开">
        <!--?lit$49254222$--><md-focus-ring part="focus-ring" for="button" aria-hidden="true"><template shadowrootmode="open"><!----></template></md-focus-ring>
        <!--?lit$49254222$--><md-ripple aria-hidden="true"><template shadowrootmode="open"><!----><div class="surface   "></div></template></md-ripple>
        <!--?lit$49254222$--><span class="icon"><slot></slot></span>
        <!--?lit$49254222$-->
        <!--?lit$49254222$--><span class="touch"></span>
        <!--?lit$49254222$-->
  </button></template>
    <md-icon aria-hidden="true"><template shadowrootmode="open"><!----><slot></slot></template>more_horiz</md-icon>
  </md-icon-button>
    </div>
    <div class="layout vertical grow tab-pane-container"> </div>
  </div></colab-tab-pane>
      </colab-resizer>
    </div>
      </colab-resizer>
    </div></colab-tab-layout-container>
        </div>
        <div class="proxies"><div><colab-dom-lifecycle-events style="display: none;"></colab-dom-lifecycle-events><iframe allow="" sandbox="allow-downloads allow-forms allow-pointer-lock allow-popups allow-same-origin allow-scripts allow-storage-access-by-user-activation allow-popups-to-escape-sandbox" src="./yolo5.ipynb - Colab_files/outputframe(3).html" style="width: 1px; height: 1px; position: absolute; top: -100px;"></iframe></div><div><colab-dom-lifecycle-events style="display: none;"></colab-dom-lifecycle-events><iframe allow="accelerometer; autoplay; gyroscope; magnetometer; xr-spatial-tracking; clipboard-write" sandbox="allow-downloads allow-forms allow-pointer-lock allow-popups allow-same-origin allow-scripts allow-storage-access-by-user-activation allow-modals allow-popups-to-escape-sandbox" src="./yolo5.ipynb - Colab_files/outputframe(4).html" style="width: 1px; height: 1px; position: absolute; top: -100px;"></iframe></div></div>
      <colab-file-viewer-manager></colab-file-viewer-manager></div>
    <colab-status-bar role="region" aria-label="代码执行程序状态栏" style="min-height: inherit;"><template shadowrootmode="open"><!----> <!--?lit$49254222$--> <div class="connect-status">
        <md-icon status="icon-okay" aria-hidden="true"><template shadowrootmode="open"><!----><slot></slot></template><!--?lit$49254222$--><svg viewBox="0 0 24 24"><!--?lit$49254222$--><path d="M9 16.17L4.83 12l-1.42 1.41L9 19 21 7l-1.41-1.41z"></path></svg></md-icon>
        <div aria-atomic="true" aria-live="polite"><!--?lit$49254222$-->已连接到“Python 3 Google Compute Engine 后端”</div>
      </div>
      <md-icon-button class="visible-on-closed" title="已连接" disabled="" value="" data-aria-label="已连接"><template shadowrootmode="open" shadowrootdelegatesfocus><!----><button id="button" class="icon-button  standard " aria-label="已连接" disabled="">
        <!--?lit$49254222$--><md-focus-ring part="focus-ring" for="button" aria-hidden="true"><template shadowrootmode="open"><!----></template></md-focus-ring>
        <!--?lit$49254222$--><md-ripple disabled="" aria-hidden="true"><template shadowrootmode="open"><!----><div class="surface   "></div></template></md-ripple>
        <!--?lit$49254222$--><span class="icon"><slot></slot></span>
        <!--?lit$49254222$-->
        <!--?lit$49254222$--><span class="touch"></span>
        <!--?lit$49254222$-->
  </button></template>
        <md-icon filled="" class="visible-on-closed" status="icon-okay" aria-hidden="true"><template shadowrootmode="open"><!----><slot></slot></template><!--?lit$49254222$-->fiber_manual_record</md-icon>
      </md-icon-button>
      <!--?lit$49254222$-->
      <md-icon-button title="关闭" data-aria-label="关闭" value=""><template shadowrootmode="open" shadowrootdelegatesfocus><!----><button id="button" class="icon-button  standard " aria-label="关闭">
        <!--?lit$49254222$--><md-focus-ring part="focus-ring" for="button" aria-hidden="true"><template shadowrootmode="open"><!----></template></md-focus-ring>
        <!--?lit$49254222$--><md-ripple aria-hidden="true"><template shadowrootmode="open"><!----><div class="surface   "></div></template></md-ripple>
        <!--?lit$49254222$--><span class="icon"><slot></slot></span>
        <!--?lit$49254222$-->
        <!--?lit$49254222$--><span class="touch"></span>
        <!--?lit$49254222$-->
  </button></template>
        <md-icon aria-hidden="true"><template shadowrootmode="open"><!----><slot></slot></template>close</md-icon>
      </md-icon-button></template></colab-status-bar></div><div class="goog-menu colab-styled-scroller" id="file-menu" role="menu" aria-haspopup="true" style="user-select: none; max-height: 696px; visibility: visible; left: 64px; top: 64px; display: none;"><!--?lit$49254222$--><div command="locate-in-drive" class="goog-menuitem" role="menuitem" id=":2" style="user-select: none;"><div class="goog-menuitem-content" style="user-select: none;"><!--?lit$49254222$-->打开云端硬盘中所在位置<!--?lit$49254222$--></div></div><div command="open-in-playground" class="goog-menuitem" role="menuitem" id=":3" style="user-select: none;"><div class="goog-menuitem-content" style="user-select: none;"><!--?lit$49254222$-->在 Playground 模式下打开<!--?lit$49254222$--></div></div><div class="goog-menuseparator goog-menuitem-disabled" aria-disabled="true" role="separator" id=":4" style="user-select: none;"></div><div command="new" class="goog-menuitem" role="menuitem" id=":5" style="user-select: none;"><div class="goog-menuitem-content" style="user-select: none;"><!--?lit$49254222$-->在云端硬盘中新建笔记本<!--?lit$49254222$--></div></div><div command="open" class="goog-menuitem" role="menuitem" id=":6" style="user-select: none;"><div class="goog-menuitem-content" style="user-select: none;"><!--?lit$49254222$-->打开笔记本<!--?lit$49254222$--><span class="goog-menuitem-accel">⌘/Ctrl+O</span></div></div><div command="import-notebook" class="goog-menuitem" role="menuitem" id=":7" style="user-select: none;"><div class="goog-menuitem-content" style="user-select: none;"><!--?lit$49254222$-->上传笔记本<!--?lit$49254222$--></div></div><div class="goog-menuseparator goog-menuitem-disabled" aria-disabled="true" role="separator" id=":8" style="user-select: none;"></div><div command="rename" class="goog-menuitem" role="menuitem" id=":9" style="user-select: none;"><div class="goog-menuitem-content" style="user-select: none;"><!--?lit$49254222$-->重命名<!--?lit$49254222$--></div></div><div command="move-notebook" class="goog-menuitem" role="menuitem" id=":a" style="user-select: none;"><div class="goog-menuitem-content" style="user-select: none;"><!--?lit$49254222$-->移动<!--?lit$49254222$--></div></div><div command="trash" class="goog-menuitem" role="menuitem" id=":b" style="user-select: none;"><div class="goog-menuitem-content" style="user-select: none;"><!--?lit$49254222$-->移至回收站<!--?lit$49254222$--></div></div><div class="goog-menuseparator goog-menuitem-disabled" aria-disabled="true" role="separator" id=":c" style="user-select: none;"></div><div command="clone" class="goog-menuitem" role="menuitem" id=":d" style="user-select: none;"><div class="goog-menuitem-content" style="user-select: none;"><!--?lit$49254222$-->在云端硬盘中保存一份副本<!--?lit$49254222$--></div></div><div command="copy-to-gist" class="goog-menuitem" role="menuitem" id=":e" style="user-select: none;"><div class="goog-menuitem-content" style="user-select: none;"><!--?lit$49254222$-->将副本另存为 GitHub Gist<!--?lit$49254222$--></div></div><div command="copy-to-github" class="goog-menuitem" role="menuitem" id=":f" style="user-select: none;"><div class="goog-menuitem-content" style="user-select: none;"><!--?lit$49254222$-->在 GitHub 中保存一份副本<!--?lit$49254222$--></div></div><div class="goog-menuseparator goog-menuitem-disabled" aria-disabled="true" role="separator" id=":g" style="user-select: none;"></div><div command="save" class="goog-menuitem" role="menuitem" id=":h" style="user-select: none;"><div class="goog-menuitem-content" style="user-select: none;"><!--?lit$49254222$-->保存<!--?lit$49254222$--><span class="goog-menuitem-accel">⌘/Ctrl+S</span></div></div><div command="save-and-checkpoint" class="goog-menuitem" role="menuitem" id=":i" style="user-select: none;"><div class="goog-menuitem-content" style="user-select: none;"><!--?lit$49254222$-->保存并标记修订版本<!--?lit$49254222$--><span class="goog-menuitem-accel">⌘/Ctrl+M S</span></div></div><div command="show-history" class="goog-menuitem" role="menuitem" id=":j" style="user-select: none;"><div class="goog-menuitem-content" style="user-select: none;"><!--?lit$49254222$-->修订历史记录<!--?lit$49254222$--></div></div><div class="goog-menuseparator goog-menuitem-disabled" aria-disabled="true" role="separator" id=":k" style="user-select: none;"></div><div class="goog-submenu goog-menuitem" id="download-submenu-menu-button" role="menuitem" aria-haspopup="true" style="user-select: none;"><div class="goog-menuitem-content" style="user-select: none;">
      <!--?lit$49254222$-->下载
    <span class="goog-submenu-arrow" style="user-select: none;">►</span></div></div><div command="print" class="goog-menuitem " role="menuitem" id=":o" style="user-select: none;"><div class="goog-menuitem-content" style="user-select: none;"><!--?lit$49254222$-->打印<!--?lit$49254222$--><span class="goog-menuitem-accel">⌘/Ctrl+P</span></div></div></div><div class="goog-menu" id="download-submenu-menu" role="menu" aria-haspopup="true" style="display: none; user-select: none;"><!--?lit$49254222$--><div command="download-ipynb" class="goog-menuitem " role="menuitem" id=":m" style="user-select: none;"><div class="goog-menuitem-content" style="user-select: none;"><!--?lit$49254222$-->下载 .ipynb<!--?lit$49254222$--></div></div><div command="download-python" class="goog-menuitem " role="menuitem" id=":n" style="user-select: none;"><div class="goog-menuitem-content" style="user-select: none;"><!--?lit$49254222$-->下载 .py<!--?lit$49254222$--></div></div></div><div class="goog-menu colab-styled-scroller" id="edit-menu" role="menu" aria-haspopup="true" style="user-select: none; max-height: 696px; visibility: visible; left: 106px; top: 64px; display: none;"><!--?lit$49254222$--><div command="undo" class="goog-menuitem" role="menuitem" id=":q" style="user-select: none;"><div class="goog-menuitem-content" style="user-select: none;">撤消单元格插入操作<span class="goog-menuitem-accel">⌘/Ctrl+M Z</span></div></div><div command="redo" class="goog-menuitem goog-menuitem-disabled" role="menuitem" id=":r" aria-disabled="true" style="user-select: none;"><div class="goog-menuitem-content" style="user-select: none;">重做<span class="goog-menuitem-accel">⌘/Ctrl+Shift+Y</span></div></div><div class="goog-menuseparator goog-menuitem-disabled" aria-disabled="true" role="separator" id=":s" style="user-select: none;"></div><div command="select-all" class="goog-menuitem" role="menuitem" id=":t" style="user-select: none;"><div class="goog-menuitem-content" style="user-select: none;"><!--?lit$49254222$-->选择所有单元格<!--?lit$49254222$--><span class="goog-menuitem-accel">⌘/Ctrl+Shift+A</span></div></div><div command="cut" class="goog-menuitem " role="menuitem" id=":u" style="user-select: none;"><div class="goog-menuitem-content" style="user-select: none;"><!--?lit$49254222$-->剪切单元格或所选内容<!--?lit$49254222$--></div></div><div command="copy" class="goog-menuitem " role="menuitem" id=":v" style="user-select: none;"><div class="goog-menuitem-content" style="user-select: none;"><!--?lit$49254222$-->复制单元格或所选内容<!--?lit$49254222$--></div></div><div command="paste" class="goog-menuitem " role="menuitem" id=":w" style="user-select: none;"><div class="goog-menuitem-content" style="user-select: none;"><!--?lit$49254222$-->粘贴<!--?lit$49254222$--></div></div><div command="delete-cell-or-selection" class="goog-menuitem " role="menuitem" id=":x" style="user-select: none;"><div class="goog-menuitem-content" style="user-select: none;"><!--?lit$49254222$-->删除所选单元格<!--?lit$49254222$--><span class="goog-menuitem-accel">⌘/Ctrl+M D</span></div></div><div class="goog-menuseparator goog-menuitem-disabled" aria-disabled="true" role="separator" id=":y" style="user-select: none;"></div><div command="find" class="goog-menuitem " role="menuitem" id=":z" style="user-select: none;"><div class="goog-menuitem-content" style="user-select: none;"><!--?lit$49254222$-->查找和替换<!--?lit$49254222$--><span class="goog-menuitem-accel">⌘/Ctrl+H</span></div></div><div command="find-next" class="goog-menuitem " role="menuitem" id=":10" style="user-select: none;"><div class="goog-menuitem-content" style="user-select: none;"><!--?lit$49254222$-->查找下一个<!--?lit$49254222$--><span class="goog-menuitem-accel">⌘/Ctrl+G</span></div></div><div command="find-previous" class="goog-menuitem " role="menuitem" id=":11" style="user-select: none;"><div class="goog-menuitem-content" style="user-select: none;"><!--?lit$49254222$-->查找上一个<!--?lit$49254222$--><span class="goog-menuitem-accel">⌘/Ctrl+Shift+G</span></div></div><div class="goog-menuseparator goog-menuitem-disabled" aria-disabled="true" role="separator" id=":12" style="user-select: none;"></div><div command="notebook-settings" class="goog-menuitem " role="menuitem" id=":13" style="user-select: none;"><div class="goog-menuitem-content" style="user-select: none;"><!--?lit$49254222$-->笔记本设置<!--?lit$49254222$--></div></div><div class="goog-menuseparator goog-menuitem-disabled" aria-disabled="true" role="separator" id=":14" style="user-select: none;"></div><div command="clear-outputs" class="goog-menuitem " role="menuitem" id=":15" style="user-select: none;"><div class="goog-menuitem-content" style="user-select: none;"><!--?lit$49254222$-->清除所有输出项<!--?lit$49254222$--></div></div></div><div class="goog-menu colab-styled-scroller" id="view-menu" role="menu" aria-haspopup="true" style="user-select: none; max-height: 696px; visibility: visible; left: 148px; top: 64px; display: none;"><!--?lit$49254222$--><div command="show-toc-pane" class="goog-menuitem goog-option" role="menuitemcheckbox" aria-checked="false" id=":17" style="user-select: none;"><div class="goog-menuitem-content" style="user-select: none;"><div class="goog-menuitem-checkbox" style="user-select: none;"><!----><md-icon aria-hidden="true"><template shadowrootmode="open"><!----><slot></slot></template>check</md-icon> </div><!--?lit$49254222$-->目录<!--?lit$49254222$--></div></div><div command="show-fileinfo" class="goog-menuitem " role="menuitem" id=":18" style="user-select: none;"><div class="goog-menuitem-content" style="user-select: none;"><!--?lit$49254222$-->笔记本信息<!--?lit$49254222$--></div></div><div command="show-executedcode" class="goog-menuitem " role="menuitem" id=":19" style="user-select: none;"><div class="goog-menuitem-content" style="user-select: none;"><!--?lit$49254222$-->代码执行历史记录<!--?lit$49254222$--></div></div><div command="toggle-comments-visibility" class="goog-menuitem goog-option goog-option-selected" role="menuitemcheckbox" aria-checked="true" id=":1a" style="user-select: none;"><div class="goog-menuitem-content" style="user-select: none;"><div class="goog-menuitem-checkbox" style="user-select: none;"><!----><md-icon aria-hidden="true"><template shadowrootmode="open"><!----><slot></slot></template>check</md-icon> </div><!--?lit$49254222$-->注释边栏<!--?lit$49254222$--></div></div><div class="goog-menuseparator goog-menuitem-disabled" aria-disabled="true" role="separator" id=":1b" style="user-select: none;"></div><div command="collapse-sections" class="goog-menuitem goog-menuitem-disabled" role="menuitem" id=":1c" aria-disabled="true" style="user-select: none;"><div class="goog-menuitem-content" style="user-select: none;"><!--?lit$49254222$-->收起段落<!--?lit$49254222$--><span class="goog-menuitem-accel">⌘/Ctrl+]</span></div></div><div command="expand-sections" class="goog-menuitem goog-menuitem-disabled" role="menuitem" id=":1d" aria-disabled="true" style="user-select: none;"><div class="goog-menuitem-content" style="user-select: none;"><!--?lit$49254222$-->展开段落<!--?lit$49254222$--><span class="goog-menuitem-accel">⌘/Ctrl+[</span></div></div><div command="save-section-layout" class="goog-menuitem " role="menuitem" id=":1e" style="user-select: none; display: none;"><div class="goog-menuitem-content" style="user-select: none;"><!--?lit$49254222$-->保存收起的段落布局<!--?lit$49254222$--></div></div><div class="goog-menuseparator goog-menuitem-disabled" aria-disabled="true" role="separator" id=":1f" style="user-select: none;"></div><div command="hide-code" class="goog-menuitem " role="menuitem" id=":1g" style="user-select: none;"><div class="goog-menuitem-content" style="user-select: none;"><!--?lit$49254222$-->显示/隐藏代码<!--?lit$49254222$--></div></div><div command="toggle-output" class="goog-menuitem " role="menuitem" id=":1h" style="user-select: none;"><div class="goog-menuitem-content" style="user-select: none;"><!--?lit$49254222$-->显示/隐藏输出项<!--?lit$49254222$--><span class="goog-menuitem-accel">⌘/Ctrl+M O</span></div></div><div class="goog-menuseparator goog-menuitem-disabled" aria-disabled="true" role="separator" id=":1i" style="user-select: none;"></div><div command="focus-next-tab" class="goog-menuitem goog-menuitem-disabled" role="menuitem" id=":1j" aria-disabled="true" style="user-select: none;"><div class="goog-menuitem-content" style="user-select: none;"><!--?lit$49254222$-->将焦点放在下个标签页上<!--?lit$49254222$--><span class="goog-menuitem-accel">⌘/Ctrl+Shift+]</span></div></div><div command="focus-previous-tab" class="goog-menuitem goog-menuitem-disabled" role="menuitem" id=":1k" aria-disabled="true" style="user-select: none;"><div class="goog-menuitem-content" style="user-select: none;"><!--?lit$49254222$-->将焦点放在上个标签页上<!--?lit$49254222$--><span class="goog-menuitem-accel">⌘/Ctrl+Shift+[</span></div></div><div command="move-tab-to-next" class="goog-menuitem goog-menuitem-disabled" role="menuitem" id=":1l" aria-disabled="true" style="user-select: none;"><div class="goog-menuitem-content" style="user-select: none;"><!--?lit$49254222$-->将标签页移到下一个窗格<!--?lit$49254222$--></div></div><div command="move-tab-to-prev" class="goog-menuitem goog-menuitem-disabled" role="menuitem" id=":1m" aria-disabled="true" style="user-select: none;"><div class="goog-menuitem-content" style="user-select: none;"><!--?lit$49254222$-->将标签页移到上一个窗格<!--?lit$49254222$--></div></div></div><div class="goog-menu colab-styled-scroller" id="insert-menu" role="menu" aria-haspopup="true" style="user-select: none; max-height: 696px; visibility: visible; left: 190px; top: 64px; display: none;"><!--?lit$49254222$--><div command="insert-cell-below" class="goog-menuitem " role="menuitem" id=":1o" style="user-select: none;"><div class="goog-menuitem-content" style="user-select: none;"><!--?lit$49254222$-->代码单元格<!--?lit$49254222$--><span class="goog-menuitem-accel">⌘/Ctrl+M B</span></div></div><div command="add-text" class="goog-menuitem " role="menuitem" id=":1p" style="user-select: none;"><div class="goog-menuitem-content" style="user-select: none;"><!--?lit$49254222$-->文本单元格<!--?lit$49254222$--></div></div><div command="add-section-header" class="goog-menuitem " role="menuitem" id=":1q" style="user-select: none;"><div class="goog-menuitem-content" style="user-select: none;"><!--?lit$49254222$-->段落标题单元格<!--?lit$49254222$--></div></div><div class="goog-menuseparator goog-menuitem-disabled" aria-disabled="true" role="separator" id=":1r" style="user-select: none;"></div><div command="open-scratch-code-cell" class="goog-menuitem " role="menuitem" id=":1s" style="user-select: none;"><div class="goog-menuitem-content" style="user-select: none;"><!--?lit$49254222$-->暂存代码单元格<!--?lit$49254222$--><span class="goog-menuitem-accel">⌘/Ctrl+Alt+N</span></div></div><div command="snippets" class="goog-menuitem " role="menuitem" id=":1t" style="user-select: none;"><div class="goog-menuitem-content" style="user-select: none;"><!--?lit$49254222$-->代码段<!--?lit$49254222$--><span class="goog-menuitem-accel">⌘/Ctrl+Alt+P</span></div></div><div class="goog-menuseparator goog-menuitem-disabled" aria-disabled="true" role="separator" id=":1u" style="user-select: none;"></div><div command="add-form-field" class="goog-menuitem " role="menuitem" id=":1v" style="user-select: none;"><div class="goog-menuitem-content" style="user-select: none;"><!--?lit$49254222$-->添加表单字段<!--?lit$49254222$--></div></div></div><div class="goog-menu colab-styled-scroller" id="runtime-menu" role="menu" aria-haspopup="true" style="user-select: none; max-height: 696px; visibility: visible; left: 232px; top: 64px; display: none;"><!--?lit$49254222$--><div command="runall" class="goog-menuitem " role="menuitem" id=":1x" style="user-select: none;"><div class="goog-menuitem-content" style="user-select: none;"><!--?lit$49254222$-->全部运行<!--?lit$49254222$--><span class="goog-menuitem-accel">⌘/Ctrl+F9</span></div></div><div command="runbefore" class="goog-menuitem " role="menuitem" id=":1y" style="user-select: none;"><div class="goog-menuitem-content" style="user-select: none;"><!--?lit$49254222$-->运行当前单元格之前的所有单元格<!--?lit$49254222$--><span class="goog-menuitem-accel">⌘/Ctrl+F8</span></div></div><div command="runfocused" class="goog-menuitem " role="menuitem" id=":1z" style="user-select: none;"><div class="goog-menuitem-content" style="user-select: none;"><!--?lit$49254222$-->运行光标所在的单元格<!--?lit$49254222$--><span class="goog-menuitem-accel">⌘/Ctrl+Enter</span></div></div><div command="runselected" class="goog-menuitem " role="menuitem" id=":20" style="user-select: none;"><div class="goog-menuitem-content" style="user-select: none;"><!--?lit$49254222$-->运行所选单元格的内容<!--?lit$49254222$--><span class="goog-menuitem-accel">⌘/Ctrl+Shift+Enter</span></div></div><div command="runafter" class="goog-menuitem " role="menuitem" id=":21" style="user-select: none;"><div class="goog-menuitem-content" style="user-select: none;"><!--?lit$49254222$-->运行当前单元格以及其后的所有单元格<!--?lit$49254222$--><span class="goog-menuitem-accel">⌘/Ctrl+F10</span></div></div><div class="goog-menuseparator goog-menuitem-disabled" aria-disabled="true" role="separator" id=":22" style="user-select: none;"></div><div command="interrupt" class="goog-menuitem" role="menuitem" id=":23" aria-disabled="false" style="user-select: none;"><div class="goog-menuitem-content" style="user-select: none;"><!--?lit$49254222$-->中断执行<!--?lit$49254222$--><span class="goog-menuitem-accel">⌘/Ctrl+M I</span></div></div><div command="restart" class="goog-menuitem" role="menuitem" id=":24" aria-disabled="false" style="user-select: none;"><div class="goog-menuitem-content" style="user-select: none;"><!--?lit$49254222$-->重启会话<!--?lit$49254222$--><span class="goog-menuitem-accel">⌘/Ctrl+M .</span></div></div><div command="restart-and-run-all" class="goog-menuitem" role="menuitem" id=":25" aria-disabled="false" style="user-select: none;"><div class="goog-menuitem-content" style="user-select: none;"><!--?lit$49254222$-->重启会话并运行所有单元<!--?lit$49254222$--></div></div><div command="powerwash-current-vm" class="goog-menuitem " role="menuitem" id=":26" style="user-select: none;"><div class="goog-menuitem-content" style="user-select: none;"><!--?lit$49254222$-->断开连接并删除运行时<!--?lit$49254222$--></div></div><div class="goog-menuseparator goog-menuitem-disabled" aria-disabled="true" role="separator" id=":27" style="user-select: none;"></div><div command="change-runtime-type" class="goog-menuitem " role="menuitem" id=":28" style="user-select: none;"><div class="goog-menuitem-content" style="user-select: none;"><!--?lit$49254222$-->更改运行时类型<!--?lit$49254222$--></div></div><div class="goog-menuseparator goog-menuitem-disabled" aria-disabled="true" role="separator" id=":29" style="user-select: none;"></div><div command="manage-sessions" class="goog-menuitem " role="menuitem" id=":2a" style="user-select: none;"><div class="goog-menuitem-content" style="user-select: none;"><!--?lit$49254222$-->管理会话<!--?lit$49254222$--></div></div><div command="open-resource-viewer" class="goog-menuitem " role="menuitem" id=":2b" style="user-select: none;"><div class="goog-menuitem-content" style="user-select: none;"><!--?lit$49254222$-->查看资源<!--?lit$49254222$--></div></div><div command="view-runtime-logs" class="goog-menuitem" role="menuitem" id=":2c" aria-disabled="false" style="user-select: none;"><div class="goog-menuitem-content" style="user-select: none;"><!--?lit$49254222$-->查看运行时日志<!--?lit$49254222$--></div></div></div><div class="goog-menu colab-styled-scroller" id="tools-menu" role="menu" aria-haspopup="true" style="user-select: none; max-height: 696px; visibility: visible; left: 330px; top: 64px; display: none;"><!--?lit$49254222$--><div command="show-command-palette" class="goog-menuitem " role="menuitem" id=":2e" style="user-select: none;"><div class="goog-menuitem-content" style="user-select: none;"><!--?lit$49254222$-->命令面板<!--?lit$49254222$--><span class="goog-menuitem-accel">⌘/Ctrl+Shift+P</span></div></div><div class="goog-menuseparator goog-menuitem-disabled" aria-disabled="true" role="separator" id=":2f" style="user-select: none;"></div><div command="preferences" class="goog-menuitem " role="menuitem" id=":2g" style="user-select: none;"><div class="goog-menuitem-content" style="user-select: none;"><!--?lit$49254222$-->设置<!--?lit$49254222$--></div></div><div command="shortcuts" class="goog-menuitem " role="menuitem" id=":2h" style="user-select: none;"><div class="goog-menuitem-content" style="user-select: none;"><!--?lit$49254222$-->键盘快捷键<!--?lit$49254222$--><span class="goog-menuitem-accel">⌘/Ctrl+M H</span></div></div><div class="goog-menuseparator goog-menuitem-disabled" aria-disabled="true" role="separator" id=":2i" style="user-select: none;"></div><div command="open-differ" class="goog-menuitem " role="menuitem" id=":2j" style="user-select: none;"><div class="goog-menuitem-content" style="user-select: none;"><!--?lit$49254222$-->差异笔记本<!--?lit$49254222$--> <span class="screenreader-only" style="user-select: none;"><!--?lit$49254222$-->（在新标签页中打开）</span></div></div></div><div class="goog-menu colab-styled-scroller" id="help-menu" role="menu" aria-haspopup="true" style="user-select: none; max-height: 696px; visibility: visible; left: 372px; top: 64px; display: none;"><!--?lit$49254222$--><div command="faq" class="goog-menuitem " role="menuitem" id=":2l" style="user-select: none;"><div class="goog-menuitem-content" style="user-select: none;"><!--?lit$49254222$-->常见问题解答<!--?lit$49254222$--></div></div><div command="view-relnotes" class="goog-menuitem " role="menuitem" id=":2m" style="user-select: none;"><div class="goog-menuitem-content" style="user-select: none;"><!--?lit$49254222$-->查看版本说明<!--?lit$49254222$--></div></div><div command="snippets" class="goog-menuitem " role="menuitem" id=":2n" style="user-select: none;"><div class="goog-menuitem-content" style="user-select: none;"><!--?lit$49254222$-->搜索代码段<!--?lit$49254222$--><span class="goog-menuitem-accel">⌘/Ctrl+Alt+P</span></div></div><div class="goog-menuseparator goog-menuitem-disabled" aria-disabled="true" role="separator" id=":2o" style="user-select: none;"></div><div command="report-bug" class="goog-menuitem " role="menuitem" id=":2p" style="user-select: none;"><div class="goog-menuitem-content" style="user-select: none;"><!--?lit$49254222$-->报告错误<!--?lit$49254222$--></div></div><div command="report-abuse" class="goog-menuitem goog-menuitem-disabled" role="menuitem" id=":2q" aria-disabled="true" style="user-select: none;"><div class="goog-menuitem-content" style="user-select: none;"><!--?lit$49254222$-->举报云端硬盘滥用行为<!--?lit$49254222$--></div></div><div command="send-feedback" class="goog-menuitem " role="menuitem" id=":2r" style="user-select: none;"><div class="goog-menuitem-content" style="user-select: none;"><!--?lit$49254222$-->发送反馈<!--?lit$49254222$--></div></div><div command="view-tos" class="goog-menuitem " role="menuitem" id=":2s" style="user-select: none;"><div class="goog-menuitem-content" style="user-select: none;"><!--?lit$49254222$-->查看服务条款<!--?lit$49254222$--></div></div><div command="view-in-english" class="goog-menuitem " role="menuitem" id=":2t" style="user-select: none;"><div class="goog-menuitem-content" style="user-select: none;"><!--?lit$49254222$-->查看英文版<!--?lit$49254222$--></div></div></div><dialog class="doc-comments-area" aria-label="评论"><!----><div class="doc-comments-buttons">
        <md-text-button command="add-comment" value="" has-icon=""><template shadowrootmode="open" shadowrootdelegatesfocus><!---->
      <!--?lit$49254222$-->
      <div class="background"></div>
      <md-focus-ring part="focus-ring" for="button" aria-hidden="true"><template shadowrootmode="open"><!----></template></md-focus-ring>
      <md-ripple part="ripple" for="button" aria-hidden="true"><template shadowrootmode="open"><!----><div class="surface   "></div></template></md-ripple>
      <!--?lit$49254222$--><button id="button" class="button">
      <!--?lit$49254222$-->
      <span class="touch"></span>
      <!--?lit$49254222$--><slot name="icon"></slot>
      <span class="label"><slot></slot></span>
      <!--?lit$49254222$-->
    
    </button>
    </template>
          <md-icon slot="icon" filled="" aria-hidden="true"><template shadowrootmode="open"><!----><slot></slot></template>comment</md-icon>
          <!--?lit$49254222$-->添加注释
        </md-text-button>
      </div></dialog><div class="thumbnail"></div><div class="monaco-aria-container"><div class="monaco-alert" role="alert" aria-atomic="true" style="visibility: visible;">/models.py</div><div class="monaco-alert" role="alert" aria-atomic="true"></div><div class="monaco-status" role="complementary" aria-live="polite" aria-atomic="true"></div><div class="monaco-status" role="complementary" aria-live="polite" aria-atomic="true"></div></div><iframe id="apiproxy59b2073d82bfa5c564f0ce0efec1e606d5c893d10.1400156338" name="apiproxy59b2073d82bfa5c564f0ce0efec1e606d5c893d10.1400156338" src="./yolo5.ipynb - Colab_files/proxy.html" tabindex="-1" aria-hidden="true" style="width: 1px; height: 1px; position: absolute; top: -100px; display: none;"></iframe><div><div class="grecaptcha-badge" data-style="bottomright" style="width: 256px; height: 60px; position: fixed; visibility: hidden; display: block; transition: right 0.3s ease 0s; bottom: 14px; right: -186px; box-shadow: gray 0px 0px 5px; border-radius: 2px; overflow: hidden;"><div class="grecaptcha-logo"><iframe title="reCAPTCHA" width="256" height="60" role="presentation" name="a-1fq2e8ww6ozw" frameborder="0" scrolling="no" sandbox="allow-forms allow-popups allow-same-origin allow-scripts allow-top-navigation allow-modals allow-popups-to-escape-sandbox allow-storage-access-by-user-activation" src="./yolo5.ipynb - Colab_files/anchor.html"></iframe></div><div class="grecaptcha-error"></div><textarea id="g-recaptcha-response-100000" name="g-recaptcha-response" class="g-recaptcha-response" style="width: 250px; height: 40px; border: 1px solid rgb(193, 193, 193); margin: 10px 25px; padding: 0px; resize: none; display: none;"></textarea></div><iframe style="display: none;" src="./yolo5.ipynb - Colab_files/saved_resource(5).html"></iframe></div><iframe src="./yolo5.ipynb - Colab_files/bscframe.html" style="display: none;"></iframe><iframe frameborder="0" src="./yolo5.ipynb - Colab_files/saved_resource(6).html" class="modal-dialog-bg" style="border: 0px; vertical-align: bottom; opacity: 0; width: 1290px; height: 765px; display: none;"></iframe><div class="modal-dialog-bg" style="opacity: 0.5; width: 1290px; height: 765px; display: none;"></div><div class="modal-dialog share-client-loading-dialog" role="dialog" aria-labelledby=":ad" style="left: 409px; top: 308px; display: none;" tabindex="0"><div class="modal-dialog-title modal-dialog-title-draggable"><span class="modal-dialog-title-text" id=":ad" role="heading">正在加载…</span><span class="modal-dialog-title-close" role="button" aria-label="关闭" tabindex="0"></span></div><div class="modal-dialog-content" id=":ad.contentEl"><div class="share-client-loading-contents"><div class="share-client-spinner"> </div></div></div><div class="modal-dialog-buttons" style="display: none;"></div></div><span style="position: absolute; left: 409px; top: 308px; display: none;" tabindex="0"></span><div class="modal-dialog share-client-dialog full-screen-share-client-dialog team-drive-share-client-dialog share-client-offscreen" role="dialog" aria-labelledby=":ae" guidedhelpid="drive_share_dialog" aria-hidden="true" style="" tabindex="-1"><div class="modal-dialog-title modal-dialog-title-draggable"><span class="modal-dialog-title-text" id=":ae" role="heading"></span><span class="modal-dialog-title-close" role="button" aria-label="关闭" aria-hidden="true" style="display: none;" tabindex="0"></span></div><div class="modal-dialog-content" id=":ae.contentEl"><iframe frameborder="0" src="./yolo5.ipynb - Colab_files/driveshare.html" class="share-client-content-iframe" title="内容" tabindex="-1"></iframe></div><div class="modal-dialog-buttons" style="display: none;"></div><div class="share-client-debug"></div></div><span style="position: absolute; left: 0px; top: 0px;" tabindex="-1"></span><iframe frameborder="0" src="./yolo5.ipynb - Colab_files/saved_resource(7).html" class="modal-dialog-bg" style="border: 0px; vertical-align: bottom; opacity: 0; width: 1290px; height: 765px; display: none;"></iframe><div class="modal-dialog-bg" style="opacity: 0.5; width: 1290px; height: 765px; display: none;"></div><div class="modal-dialog share-client-loading-dialog" role="dialog" aria-labelledby=":b0" style="left: 409px; top: 308px; display: none;" tabindex="0"><div class="modal-dialog-title modal-dialog-title-draggable"><span class="modal-dialog-title-text" id=":b0" role="heading">正在加载…</span><span class="modal-dialog-title-close" role="button" aria-label="关闭" tabindex="0"></span></div><div class="modal-dialog-content" id=":b0.contentEl"><div class="share-client-loading-contents"><div class="share-client-spinner"> </div></div></div><div class="modal-dialog-buttons" style="display: none;"></div></div><span style="position: absolute; left: 409px; top: 308px; display: none;" tabindex="0"></span><div class="modal-dialog share-client-dialog full-screen-share-client-dialog team-drive-share-client-dialog share-client-offscreen" role="dialog" aria-labelledby=":b1" guidedhelpid="drive_share_dialog" aria-hidden="true" style="" tabindex="-1"><div class="modal-dialog-title modal-dialog-title-draggable"><span class="modal-dialog-title-text" id=":b1" role="heading"></span><span class="modal-dialog-title-close" role="button" aria-label="关闭" aria-hidden="true" style="display: none;" tabindex="0"></span></div><div class="modal-dialog-content" id=":b1.contentEl"><iframe frameborder="0" src="./yolo5.ipynb - Colab_files/driveshare(1).html" class="share-client-content-iframe" title="内容" tabindex="-1"></iframe></div><div class="modal-dialog-buttons" style="display: none;"></div><div class="share-client-debug"></div></div><span style="position: absolute; left: 0px; top: 0px;" tabindex="-1"></span><iframe frameborder="0" src="./yolo5.ipynb - Colab_files/saved_resource(8).html" class="modal-dialog-bg" style="border: 0px; vertical-align: bottom; opacity: 0; width: 1290px; height: 765px; display: none;"></iframe><div class="modal-dialog-bg" style="opacity: 0.5; width: 1290px; height: 765px; display: none;"></div><div class="modal-dialog share-client-loading-dialog" role="dialog" aria-labelledby=":bg" style="left: 409px; top: 308px; display: none;" tabindex="0"><div class="modal-dialog-title modal-dialog-title-draggable"><span class="modal-dialog-title-text" id=":bg" role="heading">正在加载…</span><span class="modal-dialog-title-close" role="button" aria-label="关闭" tabindex="0"></span></div><div class="modal-dialog-content" id=":bg.contentEl"><div class="share-client-loading-contents"><div class="share-client-spinner"> </div></div></div><div class="modal-dialog-buttons" style="display: none;"></div></div><span style="position: absolute; left: 409px; top: 308px; display: none;" tabindex="0"></span><div class="modal-dialog share-client-dialog full-screen-share-client-dialog team-drive-share-client-dialog share-client-offscreen" role="dialog" aria-labelledby=":bh" guidedhelpid="drive_share_dialog" aria-hidden="true" style="" tabindex="-1"><div class="modal-dialog-title modal-dialog-title-draggable"><span class="modal-dialog-title-text" id=":bh" role="heading"></span><span class="modal-dialog-title-close" role="button" aria-label="关闭" aria-hidden="true" style="display: none;" tabindex="0"></span></div><div class="modal-dialog-content" id=":bh.contentEl"><iframe frameborder="0" src="./yolo5.ipynb - Colab_files/driveshare(2).html" class="share-client-content-iframe" title="内容" tabindex="-1"></iframe></div><div class="modal-dialog-buttons" style="display: none;"></div><div class="share-client-debug"></div></div><span style="position: absolute; left: 0px; top: 0px;" tabindex="-1"></span><iframe frameborder="0" src="./yolo5.ipynb - Colab_files/saved_resource(9).html" class="modal-dialog-bg" style="border: 0px; vertical-align: bottom; opacity: 0; width: 1290px; height: 765px; display: none;"></iframe><div class="modal-dialog-bg" style="opacity: 0.5; width: 1290px; height: 765px; display: none;"></div><div class="modal-dialog share-client-loading-dialog" role="dialog" aria-labelledby=":c5" style="left: 409px; top: 308px; display: none;" tabindex="0"><div class="modal-dialog-title modal-dialog-title-draggable"><span class="modal-dialog-title-text" id=":c5" role="heading">正在加载…</span><span class="modal-dialog-title-close" role="button" aria-label="关闭" tabindex="0"></span></div><div class="modal-dialog-content" id=":c5.contentEl"><div class="share-client-loading-contents"><div class="share-client-spinner"> </div></div></div><div class="modal-dialog-buttons" style="display: none;"></div></div><span style="position: absolute; left: 409px; top: 308px; display: none;" tabindex="0"></span><div class="modal-dialog share-client-dialog full-screen-share-client-dialog team-drive-share-client-dialog share-client-offscreen" role="dialog" aria-labelledby=":c6" guidedhelpid="drive_share_dialog" aria-hidden="true" style="" tabindex="-1"><div class="modal-dialog-title modal-dialog-title-draggable"><span class="modal-dialog-title-text" id=":c6" role="heading"></span><span class="modal-dialog-title-close" role="button" aria-label="关闭" aria-hidden="true" style="display: none;" tabindex="0"></span></div><div class="modal-dialog-content" id=":c6.contentEl"><iframe frameborder="0" src="./yolo5.ipynb - Colab_files/driveshare(3).html" class="share-client-content-iframe" title="内容" tabindex="-1"></iframe></div><div class="modal-dialog-buttons" style="display: none;"></div><div class="share-client-debug"></div></div><span style="position: absolute; left: 0px; top: 0px;" tabindex="-1"></span></body></html>
